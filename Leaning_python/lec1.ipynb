{
 "cells": [
  {
   "cell_type": "code",
   "execution_count": 7,
   "id": "0bfacca8",
   "metadata": {},
   "outputs": [
    {
     "name": "stdout",
     "output_type": "stream",
     "text": [
      "Now, i will buy a choswadi carari\n"
     ]
    }
   ],
   "source": [
    "\n",
    "number =int(input(\"Enter a number: \"))\n",
    "\n",
    "if number > 10:\n",
    "    print(\"Now, i will buy chocho\")\n",
    "elif number < 10 and number > 5:\n",
    "    print(\"Now, i will buy ice cream\")\n",
    "else:\n",
    "    print(\"Now, i will buy a choswadi carari\")\n"
   ]
  },
  {
   "cell_type": "code",
   "execution_count": null,
   "id": "0dba2982",
   "metadata": {},
   "outputs": [
    {
     "name": "stdout",
     "output_type": "stream",
     "text": [
      "2015 is not a leap year.\n"
     ]
    }
   ],
   "source": [
    "year= int(input(\"Enter a year: \"))\n",
    "\n",
    "if year % 4 == 0 and (year % 100 != 0 or year % 400 == 0):\n",
    "    print(year, \"is a leap year.\")\n",
    "else:\n",
    "    print(year, \"is not a leap year.\")"
   ]
  },
  {
   "cell_type": "code",
   "execution_count": 13,
   "id": "27dd3c93",
   "metadata": {},
   "outputs": [
    {
     "name": "stdout",
     "output_type": "stream",
     "text": [
      "15\n",
      "11\n",
      "7\n",
      "3\n"
     ]
    }
   ],
   "source": [
    "for i in range(15,2, -4):\n",
    "    print(i)"
   ]
  },
  {
   "cell_type": "code",
   "execution_count": 25,
   "id": "1dc2f4bd",
   "metadata": {},
   "outputs": [
    {
     "name": "stdout",
     "output_type": "stream",
     "text": [
      "I\n",
      "am\n",
      "the\n",
      "a\n",
      "student\n",
      "&\n",
      "web\n",
      "developer\n"
     ]
    }
   ],
   "source": [
    "string=\"I am the a student  & web developer\"\n",
    "\n",
    "\n",
    "for i in range(len(string.split())):\n",
    "    # print(string.split()[i])\n",
    "    print(string.split()[i])"
   ]
  }
 ],
 "metadata": {
  "kernelspec": {
   "display_name": "pandas_tip_env",
   "language": "python",
   "name": "python3"
  },
  "language_info": {
   "codemirror_mode": {
    "name": "ipython",
    "version": 3
   },
   "file_extension": ".py",
   "mimetype": "text/x-python",
   "name": "python",
   "nbconvert_exporter": "python",
   "pygments_lexer": "ipython3",
   "version": "3.13.5"
  }
 },
 "nbformat": 4,
 "nbformat_minor": 5
}
