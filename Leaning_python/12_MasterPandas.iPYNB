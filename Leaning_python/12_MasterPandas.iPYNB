{
 "cells": [
  {
   "cell_type": "markdown",
   "id": "f98a82be",
   "metadata": {},
   "source": [
    "# Pakistani Population Analysis"
   ]
  },
  {
   "cell_type": "markdown",
   "id": "c5f7b343",
   "metadata": {},
   "source": [
    "Author Name : Tayyab\\\n",
    "Email : tayyab@tayyab.com\\\n",
    "website: [www.tayyab.com](www/tayyab/com)"
   ]
  },
  {
   "cell_type": "markdown",
   "id": "a1c8e22a",
   "metadata": {},
   "source": [
    "The Data was collected for the [link](www.kaggle.com) \n",
    "\n",
    "**Years of Data:**\n",
    "1. 2017\n",
    "2. 1998"
   ]
  },
  {
   "cell_type": "markdown",
   "id": "bb26d365",
   "metadata": {},
   "source": []
  },
  {
   "cell_type": "markdown",
   "id": "f68847dd",
   "metadata": {},
   "source": [
    "## purpose of this Data Analysis\n",
    "\n",
    "we will fill it at the end of this process"
   ]
  },
  {
   "cell_type": "code",
   "execution_count": 1,
   "id": "7d6030ab",
   "metadata": {},
   "outputs": [],
   "source": [
    "import pandas as pd\n",
    "import numpy as np\n",
    "import matplotlib.pyplot as plt\n",
    "import seaborn as sns"
   ]
  },
  {
   "cell_type": "markdown",
   "id": "372020f6",
   "metadata": {},
   "source": [
    "## Import the date first"
   ]
  },
  {
   "cell_type": "code",
   "execution_count": 2,
   "id": "db74860c",
   "metadata": {},
   "outputs": [],
   "source": [
    "df = pd.read_csv('../pandas_tips_tricks/pakistan_data.csv')\n"
   ]
  },
  {
   "cell_type": "code",
   "execution_count": 3,
   "id": "daf6e190",
   "metadata": {},
   "outputs": [
    {
     "name": "stdout",
     "output_type": "stream",
     "text": [
      "<class 'pandas.core.frame.DataFrame'>\n",
      "RangeIndex: 528 entries, 0 to 527\n",
      "Data columns (total 21 columns):\n",
      " #   Column                      Non-Null Count  Dtype  \n",
      "---  ------                      --------------  -----  \n",
      " 0   PROVINCE                    528 non-null    object \n",
      " 1   DIVISION                    528 non-null    object \n",
      " 2   DISTRICT                    528 non-null    object \n",
      " 3   SUB DIVISION                528 non-null    object \n",
      " 4   AREA (sq.km)                528 non-null    float64\n",
      " 5   ALL SEXES (RURAL)           528 non-null    int64  \n",
      " 6   MALE (RURAL)                528 non-null    int64  \n",
      " 7   FEMALE (RURAL)              528 non-null    int64  \n",
      " 8   TRANSGENDER (RURAL)         528 non-null    int64  \n",
      " 9   SEX RATIO (RURAL)           528 non-null    float64\n",
      " 10  AVG HOUSEHOLD SIZE (RURAL)  528 non-null    float64\n",
      " 11  POPULATION 1998 (RURAL)     528 non-null    int64  \n",
      " 12  ANNUAL GROWTH RATE (RURAL)  528 non-null    float64\n",
      " 13  ALL SEXES (URBAN)           528 non-null    int64  \n",
      " 14  MALE (URBAN)                528 non-null    int64  \n",
      " 15  FEMALE (URBAN)              528 non-null    int64  \n",
      " 16  TRANSGENDER (URBAN)         528 non-null    int64  \n",
      " 17  SEX RATIO (URBAN)           528 non-null    float64\n",
      " 18  AVG HOUSEHOLD SIZE (URBAN)  528 non-null    float64\n",
      " 19  POPULATION 1998 (URBAN)     528 non-null    int64  \n",
      " 20  ANNUAL GROWTH RATE (URBAN)  528 non-null    float64\n",
      "dtypes: float64(7), int64(10), object(4)\n",
      "memory usage: 86.8+ KB\n"
     ]
    }
   ],
   "source": [
    "df.info()"
   ]
  },
  {
   "cell_type": "code",
   "execution_count": 4,
   "id": "2991aaea",
   "metadata": {},
   "outputs": [
    {
     "data": {
      "application/vnd.microsoft.datawrangler.viewer.v0+json": {
       "columns": [
        {
         "name": "index",
         "rawType": "int64",
         "type": "integer"
        },
        {
         "name": "PROVINCE",
         "rawType": "object",
         "type": "string"
        },
        {
         "name": "DIVISION",
         "rawType": "object",
         "type": "string"
        },
        {
         "name": "DISTRICT",
         "rawType": "object",
         "type": "string"
        },
        {
         "name": "SUB DIVISION",
         "rawType": "object",
         "type": "string"
        },
        {
         "name": "AREA (sq.km)",
         "rawType": "float64",
         "type": "float"
        },
        {
         "name": "ALL SEXES (RURAL)",
         "rawType": "int64",
         "type": "integer"
        },
        {
         "name": "MALE (RURAL)",
         "rawType": "int64",
         "type": "integer"
        },
        {
         "name": "FEMALE (RURAL)",
         "rawType": "int64",
         "type": "integer"
        },
        {
         "name": "TRANSGENDER (RURAL)",
         "rawType": "int64",
         "type": "integer"
        },
        {
         "name": "SEX RATIO (RURAL)",
         "rawType": "float64",
         "type": "float"
        },
        {
         "name": "AVG HOUSEHOLD SIZE (RURAL)",
         "rawType": "float64",
         "type": "float"
        },
        {
         "name": "POPULATION 1998 (RURAL)",
         "rawType": "int64",
         "type": "integer"
        },
        {
         "name": "ANNUAL GROWTH RATE (RURAL)",
         "rawType": "float64",
         "type": "float"
        },
        {
         "name": "ALL SEXES (URBAN)",
         "rawType": "int64",
         "type": "integer"
        },
        {
         "name": "MALE (URBAN)",
         "rawType": "int64",
         "type": "integer"
        },
        {
         "name": "FEMALE (URBAN)",
         "rawType": "int64",
         "type": "integer"
        },
        {
         "name": "TRANSGENDER (URBAN)",
         "rawType": "int64",
         "type": "integer"
        },
        {
         "name": "SEX RATIO (URBAN)",
         "rawType": "float64",
         "type": "float"
        },
        {
         "name": "AVG HOUSEHOLD SIZE (URBAN)",
         "rawType": "float64",
         "type": "float"
        },
        {
         "name": "POPULATION 1998 (URBAN)",
         "rawType": "int64",
         "type": "integer"
        },
        {
         "name": "ANNUAL GROWTH RATE (URBAN)",
         "rawType": "float64",
         "type": "float"
        }
       ],
       "ref": "587ff68c-defe-4c83-adf5-dd88c53d7b7c",
       "rows": [
        [
         "0",
         "PUNJAB",
         "BAHAWALPUR DIVISION",
         "BAHAWALNAGAR DISTRICT",
         "BAHAWALNAGAR TEHSIL",
         "1729.0",
         "619550",
         "316864",
         "302644",
         "42",
         "104.7",
         "6.1",
         "407768",
         "2.22",
         "193840",
         "98391",
         "95402",
         "47",
         "103.13",
         "6.02",
         "133785",
         "1.97"
        ],
        [
         "1",
         "PUNJAB",
         "BAHAWALPUR DIVISION",
         "BAHAWALNAGAR DISTRICT",
         "CHISHTIAN TEHSIL",
         "1500.0",
         "540342",
         "273788",
         "266500",
         "54",
         "102.73",
         "6.15",
         "395983",
         "1.65",
         "149424",
         "75546",
         "73851",
         "27",
         "102.3",
         "6.01",
         "102287",
         "2.01"
        ],
        [
         "2",
         "PUNJAB",
         "BAHAWALPUR DIVISION",
         "BAHAWALNAGAR DISTRICT",
         "FORT ABBAS TEHSIL",
         "2536.0",
         "361240",
         "182655",
         "178541",
         "44",
         "102.3",
         "6.32",
         "250959",
         "1.93",
         "61528",
         "31360",
         "30150",
         "18",
         "104.01",
         "6.0",
         "34637",
         "3.06"
        ],
        [
         "3",
         "PUNJAB",
         "BAHAWALPUR DIVISION",
         "BAHAWALNAGAR DISTRICT",
         "HAROONABAD TEHSIL",
         "1295.0",
         "382115",
         "192278",
         "189808",
         "29",
         "101.3",
         "6.15",
         "297343",
         "1.33",
         "142600",
         "71345",
         "71236",
         "19",
         "100.15",
         "6.02",
         "84424",
         "2.79"
        ],
        [
         "4",
         "PUNJAB",
         "BAHAWALPUR DIVISION",
         "BAHAWALNAGAR DISTRICT",
         "MINCHINABAD TEHSIL",
         "1818.0",
         "452723",
         "231506",
         "221178",
         "39",
         "104.67",
         "6.29",
         "316593",
         "1.9",
         "72294",
         "36694",
         "35590",
         "10",
         "103.1",
         "6.34",
         "37668",
         "3.48"
        ]
       ],
       "shape": {
        "columns": 21,
        "rows": 5
       }
      },
      "text/html": [
       "<div>\n",
       "<style scoped>\n",
       "    .dataframe tbody tr th:only-of-type {\n",
       "        vertical-align: middle;\n",
       "    }\n",
       "\n",
       "    .dataframe tbody tr th {\n",
       "        vertical-align: top;\n",
       "    }\n",
       "\n",
       "    .dataframe thead th {\n",
       "        text-align: right;\n",
       "    }\n",
       "</style>\n",
       "<table border=\"1\" class=\"dataframe\">\n",
       "  <thead>\n",
       "    <tr style=\"text-align: right;\">\n",
       "      <th></th>\n",
       "      <th>PROVINCE</th>\n",
       "      <th>DIVISION</th>\n",
       "      <th>DISTRICT</th>\n",
       "      <th>SUB DIVISION</th>\n",
       "      <th>AREA (sq.km)</th>\n",
       "      <th>ALL SEXES (RURAL)</th>\n",
       "      <th>MALE (RURAL)</th>\n",
       "      <th>FEMALE (RURAL)</th>\n",
       "      <th>TRANSGENDER (RURAL)</th>\n",
       "      <th>SEX RATIO (RURAL)</th>\n",
       "      <th>...</th>\n",
       "      <th>POPULATION 1998 (RURAL)</th>\n",
       "      <th>ANNUAL GROWTH RATE (RURAL)</th>\n",
       "      <th>ALL SEXES (URBAN)</th>\n",
       "      <th>MALE (URBAN)</th>\n",
       "      <th>FEMALE (URBAN)</th>\n",
       "      <th>TRANSGENDER (URBAN)</th>\n",
       "      <th>SEX RATIO (URBAN)</th>\n",
       "      <th>AVG HOUSEHOLD SIZE (URBAN)</th>\n",
       "      <th>POPULATION 1998 (URBAN)</th>\n",
       "      <th>ANNUAL GROWTH RATE (URBAN)</th>\n",
       "    </tr>\n",
       "  </thead>\n",
       "  <tbody>\n",
       "    <tr>\n",
       "      <th>0</th>\n",
       "      <td>PUNJAB</td>\n",
       "      <td>BAHAWALPUR DIVISION</td>\n",
       "      <td>BAHAWALNAGAR DISTRICT</td>\n",
       "      <td>BAHAWALNAGAR TEHSIL</td>\n",
       "      <td>1729.0</td>\n",
       "      <td>619550</td>\n",
       "      <td>316864</td>\n",
       "      <td>302644</td>\n",
       "      <td>42</td>\n",
       "      <td>104.70</td>\n",
       "      <td>...</td>\n",
       "      <td>407768</td>\n",
       "      <td>2.22</td>\n",
       "      <td>193840</td>\n",
       "      <td>98391</td>\n",
       "      <td>95402</td>\n",
       "      <td>47</td>\n",
       "      <td>103.13</td>\n",
       "      <td>6.02</td>\n",
       "      <td>133785</td>\n",
       "      <td>1.97</td>\n",
       "    </tr>\n",
       "    <tr>\n",
       "      <th>1</th>\n",
       "      <td>PUNJAB</td>\n",
       "      <td>BAHAWALPUR DIVISION</td>\n",
       "      <td>BAHAWALNAGAR DISTRICT</td>\n",
       "      <td>CHISHTIAN TEHSIL</td>\n",
       "      <td>1500.0</td>\n",
       "      <td>540342</td>\n",
       "      <td>273788</td>\n",
       "      <td>266500</td>\n",
       "      <td>54</td>\n",
       "      <td>102.73</td>\n",
       "      <td>...</td>\n",
       "      <td>395983</td>\n",
       "      <td>1.65</td>\n",
       "      <td>149424</td>\n",
       "      <td>75546</td>\n",
       "      <td>73851</td>\n",
       "      <td>27</td>\n",
       "      <td>102.30</td>\n",
       "      <td>6.01</td>\n",
       "      <td>102287</td>\n",
       "      <td>2.01</td>\n",
       "    </tr>\n",
       "    <tr>\n",
       "      <th>2</th>\n",
       "      <td>PUNJAB</td>\n",
       "      <td>BAHAWALPUR DIVISION</td>\n",
       "      <td>BAHAWALNAGAR DISTRICT</td>\n",
       "      <td>FORT ABBAS TEHSIL</td>\n",
       "      <td>2536.0</td>\n",
       "      <td>361240</td>\n",
       "      <td>182655</td>\n",
       "      <td>178541</td>\n",
       "      <td>44</td>\n",
       "      <td>102.30</td>\n",
       "      <td>...</td>\n",
       "      <td>250959</td>\n",
       "      <td>1.93</td>\n",
       "      <td>61528</td>\n",
       "      <td>31360</td>\n",
       "      <td>30150</td>\n",
       "      <td>18</td>\n",
       "      <td>104.01</td>\n",
       "      <td>6.00</td>\n",
       "      <td>34637</td>\n",
       "      <td>3.06</td>\n",
       "    </tr>\n",
       "    <tr>\n",
       "      <th>3</th>\n",
       "      <td>PUNJAB</td>\n",
       "      <td>BAHAWALPUR DIVISION</td>\n",
       "      <td>BAHAWALNAGAR DISTRICT</td>\n",
       "      <td>HAROONABAD TEHSIL</td>\n",
       "      <td>1295.0</td>\n",
       "      <td>382115</td>\n",
       "      <td>192278</td>\n",
       "      <td>189808</td>\n",
       "      <td>29</td>\n",
       "      <td>101.30</td>\n",
       "      <td>...</td>\n",
       "      <td>297343</td>\n",
       "      <td>1.33</td>\n",
       "      <td>142600</td>\n",
       "      <td>71345</td>\n",
       "      <td>71236</td>\n",
       "      <td>19</td>\n",
       "      <td>100.15</td>\n",
       "      <td>6.02</td>\n",
       "      <td>84424</td>\n",
       "      <td>2.79</td>\n",
       "    </tr>\n",
       "    <tr>\n",
       "      <th>4</th>\n",
       "      <td>PUNJAB</td>\n",
       "      <td>BAHAWALPUR DIVISION</td>\n",
       "      <td>BAHAWALNAGAR DISTRICT</td>\n",
       "      <td>MINCHINABAD TEHSIL</td>\n",
       "      <td>1818.0</td>\n",
       "      <td>452723</td>\n",
       "      <td>231506</td>\n",
       "      <td>221178</td>\n",
       "      <td>39</td>\n",
       "      <td>104.67</td>\n",
       "      <td>...</td>\n",
       "      <td>316593</td>\n",
       "      <td>1.90</td>\n",
       "      <td>72294</td>\n",
       "      <td>36694</td>\n",
       "      <td>35590</td>\n",
       "      <td>10</td>\n",
       "      <td>103.10</td>\n",
       "      <td>6.34</td>\n",
       "      <td>37668</td>\n",
       "      <td>3.48</td>\n",
       "    </tr>\n",
       "  </tbody>\n",
       "</table>\n",
       "<p>5 rows × 21 columns</p>\n",
       "</div>"
      ],
      "text/plain": [
       "  PROVINCE             DIVISION               DISTRICT         SUB DIVISION  \\\n",
       "0   PUNJAB  BAHAWALPUR DIVISION  BAHAWALNAGAR DISTRICT  BAHAWALNAGAR TEHSIL   \n",
       "1   PUNJAB  BAHAWALPUR DIVISION  BAHAWALNAGAR DISTRICT     CHISHTIAN TEHSIL   \n",
       "2   PUNJAB  BAHAWALPUR DIVISION  BAHAWALNAGAR DISTRICT    FORT ABBAS TEHSIL   \n",
       "3   PUNJAB  BAHAWALPUR DIVISION  BAHAWALNAGAR DISTRICT    HAROONABAD TEHSIL   \n",
       "4   PUNJAB  BAHAWALPUR DIVISION  BAHAWALNAGAR DISTRICT   MINCHINABAD TEHSIL   \n",
       "\n",
       "   AREA (sq.km)  ALL SEXES (RURAL)  MALE (RURAL)  FEMALE (RURAL)  \\\n",
       "0        1729.0             619550        316864          302644   \n",
       "1        1500.0             540342        273788          266500   \n",
       "2        2536.0             361240        182655          178541   \n",
       "3        1295.0             382115        192278          189808   \n",
       "4        1818.0             452723        231506          221178   \n",
       "\n",
       "   TRANSGENDER (RURAL)  SEX RATIO (RURAL)  ...  POPULATION 1998 (RURAL)  \\\n",
       "0                   42             104.70  ...                   407768   \n",
       "1                   54             102.73  ...                   395983   \n",
       "2                   44             102.30  ...                   250959   \n",
       "3                   29             101.30  ...                   297343   \n",
       "4                   39             104.67  ...                   316593   \n",
       "\n",
       "   ANNUAL GROWTH RATE (RURAL)  ALL SEXES (URBAN)  MALE (URBAN)  \\\n",
       "0                        2.22             193840         98391   \n",
       "1                        1.65             149424         75546   \n",
       "2                        1.93              61528         31360   \n",
       "3                        1.33             142600         71345   \n",
       "4                        1.90              72294         36694   \n",
       "\n",
       "   FEMALE (URBAN)  TRANSGENDER (URBAN)  SEX RATIO (URBAN)  \\\n",
       "0           95402                   47             103.13   \n",
       "1           73851                   27             102.30   \n",
       "2           30150                   18             104.01   \n",
       "3           71236                   19             100.15   \n",
       "4           35590                   10             103.10   \n",
       "\n",
       "   AVG HOUSEHOLD SIZE (URBAN)  POPULATION 1998 (URBAN)  \\\n",
       "0                        6.02                   133785   \n",
       "1                        6.01                   102287   \n",
       "2                        6.00                    34637   \n",
       "3                        6.02                    84424   \n",
       "4                        6.34                    37668   \n",
       "\n",
       "   ANNUAL GROWTH RATE (URBAN)  \n",
       "0                        1.97  \n",
       "1                        2.01  \n",
       "2                        3.06  \n",
       "3                        2.79  \n",
       "4                        3.48  \n",
       "\n",
       "[5 rows x 21 columns]"
      ]
     },
     "execution_count": 4,
     "metadata": {},
     "output_type": "execute_result"
    }
   ],
   "source": [
    "df.head()"
   ]
  },
  {
   "cell_type": "markdown",
   "id": "fad37045",
   "metadata": {},
   "source": [
    "# Maximum Column printin option"
   ]
  },
  {
   "cell_type": "markdown",
   "id": "810130cd",
   "metadata": {},
   "source": [
    "if you are not able to get the full columns of the data set... like in many cases when you will have large number of column's data set and after some columns you are\n",
    "getting .... then to see the full date set run the below command"
   ]
  },
  {
   "cell_type": "code",
   "execution_count": 5,
   "id": "941c161a",
   "metadata": {},
   "outputs": [],
   "source": [
    "# Maximum Column printin option\n",
    "\n",
    "pd.set_option('display.max_columns', None)\n",
    "\n",
    "pd.set_option('display.max_rows', None)"
   ]
  },
  {
   "cell_type": "code",
   "execution_count": 6,
   "id": "47341f4a",
   "metadata": {},
   "outputs": [
    {
     "data": {
      "application/vnd.microsoft.datawrangler.viewer.v0+json": {
       "columns": [
        {
         "name": "index",
         "rawType": "int64",
         "type": "integer"
        },
        {
         "name": "PROVINCE",
         "rawType": "object",
         "type": "string"
        },
        {
         "name": "DIVISION",
         "rawType": "object",
         "type": "string"
        },
        {
         "name": "DISTRICT",
         "rawType": "object",
         "type": "string"
        },
        {
         "name": "SUB DIVISION",
         "rawType": "object",
         "type": "string"
        },
        {
         "name": "AREA (sq.km)",
         "rawType": "float64",
         "type": "float"
        },
        {
         "name": "ALL SEXES (RURAL)",
         "rawType": "int64",
         "type": "integer"
        },
        {
         "name": "MALE (RURAL)",
         "rawType": "int64",
         "type": "integer"
        },
        {
         "name": "FEMALE (RURAL)",
         "rawType": "int64",
         "type": "integer"
        },
        {
         "name": "TRANSGENDER (RURAL)",
         "rawType": "int64",
         "type": "integer"
        },
        {
         "name": "SEX RATIO (RURAL)",
         "rawType": "float64",
         "type": "float"
        },
        {
         "name": "AVG HOUSEHOLD SIZE (RURAL)",
         "rawType": "float64",
         "type": "float"
        },
        {
         "name": "POPULATION 1998 (RURAL)",
         "rawType": "int64",
         "type": "integer"
        },
        {
         "name": "ANNUAL GROWTH RATE (RURAL)",
         "rawType": "float64",
         "type": "float"
        },
        {
         "name": "ALL SEXES (URBAN)",
         "rawType": "int64",
         "type": "integer"
        },
        {
         "name": "MALE (URBAN)",
         "rawType": "int64",
         "type": "integer"
        },
        {
         "name": "FEMALE (URBAN)",
         "rawType": "int64",
         "type": "integer"
        },
        {
         "name": "TRANSGENDER (URBAN)",
         "rawType": "int64",
         "type": "integer"
        },
        {
         "name": "SEX RATIO (URBAN)",
         "rawType": "float64",
         "type": "float"
        },
        {
         "name": "AVG HOUSEHOLD SIZE (URBAN)",
         "rawType": "float64",
         "type": "float"
        },
        {
         "name": "POPULATION 1998 (URBAN)",
         "rawType": "int64",
         "type": "integer"
        },
        {
         "name": "ANNUAL GROWTH RATE (URBAN)",
         "rawType": "float64",
         "type": "float"
        }
       ],
       "ref": "5b65e944-a7b3-4fb1-a158-b9a87079d546",
       "rows": [
        [
         "0",
         "PUNJAB",
         "BAHAWALPUR DIVISION",
         "BAHAWALNAGAR DISTRICT",
         "BAHAWALNAGAR TEHSIL",
         "1729.0",
         "619550",
         "316864",
         "302644",
         "42",
         "104.7",
         "6.1",
         "407768",
         "2.22",
         "193840",
         "98391",
         "95402",
         "47",
         "103.13",
         "6.02",
         "133785",
         "1.97"
        ],
        [
         "1",
         "PUNJAB",
         "BAHAWALPUR DIVISION",
         "BAHAWALNAGAR DISTRICT",
         "CHISHTIAN TEHSIL",
         "1500.0",
         "540342",
         "273788",
         "266500",
         "54",
         "102.73",
         "6.15",
         "395983",
         "1.65",
         "149424",
         "75546",
         "73851",
         "27",
         "102.3",
         "6.01",
         "102287",
         "2.01"
        ],
        [
         "2",
         "PUNJAB",
         "BAHAWALPUR DIVISION",
         "BAHAWALNAGAR DISTRICT",
         "FORT ABBAS TEHSIL",
         "2536.0",
         "361240",
         "182655",
         "178541",
         "44",
         "102.3",
         "6.32",
         "250959",
         "1.93",
         "61528",
         "31360",
         "30150",
         "18",
         "104.01",
         "6.0",
         "34637",
         "3.06"
        ],
        [
         "3",
         "PUNJAB",
         "BAHAWALPUR DIVISION",
         "BAHAWALNAGAR DISTRICT",
         "HAROONABAD TEHSIL",
         "1295.0",
         "382115",
         "192278",
         "189808",
         "29",
         "101.3",
         "6.15",
         "297343",
         "1.33",
         "142600",
         "71345",
         "71236",
         "19",
         "100.15",
         "6.02",
         "84424",
         "2.79"
        ],
        [
         "4",
         "PUNJAB",
         "BAHAWALPUR DIVISION",
         "BAHAWALNAGAR DISTRICT",
         "MINCHINABAD TEHSIL",
         "1818.0",
         "452723",
         "231506",
         "221178",
         "39",
         "104.67",
         "6.29",
         "316593",
         "1.9",
         "72294",
         "36694",
         "35590",
         "10",
         "103.1",
         "6.34",
         "37668",
         "3.48"
        ]
       ],
       "shape": {
        "columns": 21,
        "rows": 5
       }
      },
      "text/html": [
       "<div>\n",
       "<style scoped>\n",
       "    .dataframe tbody tr th:only-of-type {\n",
       "        vertical-align: middle;\n",
       "    }\n",
       "\n",
       "    .dataframe tbody tr th {\n",
       "        vertical-align: top;\n",
       "    }\n",
       "\n",
       "    .dataframe thead th {\n",
       "        text-align: right;\n",
       "    }\n",
       "</style>\n",
       "<table border=\"1\" class=\"dataframe\">\n",
       "  <thead>\n",
       "    <tr style=\"text-align: right;\">\n",
       "      <th></th>\n",
       "      <th>PROVINCE</th>\n",
       "      <th>DIVISION</th>\n",
       "      <th>DISTRICT</th>\n",
       "      <th>SUB DIVISION</th>\n",
       "      <th>AREA (sq.km)</th>\n",
       "      <th>ALL SEXES (RURAL)</th>\n",
       "      <th>MALE (RURAL)</th>\n",
       "      <th>FEMALE (RURAL)</th>\n",
       "      <th>TRANSGENDER (RURAL)</th>\n",
       "      <th>SEX RATIO (RURAL)</th>\n",
       "      <th>AVG HOUSEHOLD SIZE (RURAL)</th>\n",
       "      <th>POPULATION 1998 (RURAL)</th>\n",
       "      <th>ANNUAL GROWTH RATE (RURAL)</th>\n",
       "      <th>ALL SEXES (URBAN)</th>\n",
       "      <th>MALE (URBAN)</th>\n",
       "      <th>FEMALE (URBAN)</th>\n",
       "      <th>TRANSGENDER (URBAN)</th>\n",
       "      <th>SEX RATIO (URBAN)</th>\n",
       "      <th>AVG HOUSEHOLD SIZE (URBAN)</th>\n",
       "      <th>POPULATION 1998 (URBAN)</th>\n",
       "      <th>ANNUAL GROWTH RATE (URBAN)</th>\n",
       "    </tr>\n",
       "  </thead>\n",
       "  <tbody>\n",
       "    <tr>\n",
       "      <th>0</th>\n",
       "      <td>PUNJAB</td>\n",
       "      <td>BAHAWALPUR DIVISION</td>\n",
       "      <td>BAHAWALNAGAR DISTRICT</td>\n",
       "      <td>BAHAWALNAGAR TEHSIL</td>\n",
       "      <td>1729.0</td>\n",
       "      <td>619550</td>\n",
       "      <td>316864</td>\n",
       "      <td>302644</td>\n",
       "      <td>42</td>\n",
       "      <td>104.70</td>\n",
       "      <td>6.10</td>\n",
       "      <td>407768</td>\n",
       "      <td>2.22</td>\n",
       "      <td>193840</td>\n",
       "      <td>98391</td>\n",
       "      <td>95402</td>\n",
       "      <td>47</td>\n",
       "      <td>103.13</td>\n",
       "      <td>6.02</td>\n",
       "      <td>133785</td>\n",
       "      <td>1.97</td>\n",
       "    </tr>\n",
       "    <tr>\n",
       "      <th>1</th>\n",
       "      <td>PUNJAB</td>\n",
       "      <td>BAHAWALPUR DIVISION</td>\n",
       "      <td>BAHAWALNAGAR DISTRICT</td>\n",
       "      <td>CHISHTIAN TEHSIL</td>\n",
       "      <td>1500.0</td>\n",
       "      <td>540342</td>\n",
       "      <td>273788</td>\n",
       "      <td>266500</td>\n",
       "      <td>54</td>\n",
       "      <td>102.73</td>\n",
       "      <td>6.15</td>\n",
       "      <td>395983</td>\n",
       "      <td>1.65</td>\n",
       "      <td>149424</td>\n",
       "      <td>75546</td>\n",
       "      <td>73851</td>\n",
       "      <td>27</td>\n",
       "      <td>102.30</td>\n",
       "      <td>6.01</td>\n",
       "      <td>102287</td>\n",
       "      <td>2.01</td>\n",
       "    </tr>\n",
       "    <tr>\n",
       "      <th>2</th>\n",
       "      <td>PUNJAB</td>\n",
       "      <td>BAHAWALPUR DIVISION</td>\n",
       "      <td>BAHAWALNAGAR DISTRICT</td>\n",
       "      <td>FORT ABBAS TEHSIL</td>\n",
       "      <td>2536.0</td>\n",
       "      <td>361240</td>\n",
       "      <td>182655</td>\n",
       "      <td>178541</td>\n",
       "      <td>44</td>\n",
       "      <td>102.30</td>\n",
       "      <td>6.32</td>\n",
       "      <td>250959</td>\n",
       "      <td>1.93</td>\n",
       "      <td>61528</td>\n",
       "      <td>31360</td>\n",
       "      <td>30150</td>\n",
       "      <td>18</td>\n",
       "      <td>104.01</td>\n",
       "      <td>6.00</td>\n",
       "      <td>34637</td>\n",
       "      <td>3.06</td>\n",
       "    </tr>\n",
       "    <tr>\n",
       "      <th>3</th>\n",
       "      <td>PUNJAB</td>\n",
       "      <td>BAHAWALPUR DIVISION</td>\n",
       "      <td>BAHAWALNAGAR DISTRICT</td>\n",
       "      <td>HAROONABAD TEHSIL</td>\n",
       "      <td>1295.0</td>\n",
       "      <td>382115</td>\n",
       "      <td>192278</td>\n",
       "      <td>189808</td>\n",
       "      <td>29</td>\n",
       "      <td>101.30</td>\n",
       "      <td>6.15</td>\n",
       "      <td>297343</td>\n",
       "      <td>1.33</td>\n",
       "      <td>142600</td>\n",
       "      <td>71345</td>\n",
       "      <td>71236</td>\n",
       "      <td>19</td>\n",
       "      <td>100.15</td>\n",
       "      <td>6.02</td>\n",
       "      <td>84424</td>\n",
       "      <td>2.79</td>\n",
       "    </tr>\n",
       "    <tr>\n",
       "      <th>4</th>\n",
       "      <td>PUNJAB</td>\n",
       "      <td>BAHAWALPUR DIVISION</td>\n",
       "      <td>BAHAWALNAGAR DISTRICT</td>\n",
       "      <td>MINCHINABAD TEHSIL</td>\n",
       "      <td>1818.0</td>\n",
       "      <td>452723</td>\n",
       "      <td>231506</td>\n",
       "      <td>221178</td>\n",
       "      <td>39</td>\n",
       "      <td>104.67</td>\n",
       "      <td>6.29</td>\n",
       "      <td>316593</td>\n",
       "      <td>1.90</td>\n",
       "      <td>72294</td>\n",
       "      <td>36694</td>\n",
       "      <td>35590</td>\n",
       "      <td>10</td>\n",
       "      <td>103.10</td>\n",
       "      <td>6.34</td>\n",
       "      <td>37668</td>\n",
       "      <td>3.48</td>\n",
       "    </tr>\n",
       "  </tbody>\n",
       "</table>\n",
       "</div>"
      ],
      "text/plain": [
       "  PROVINCE             DIVISION               DISTRICT         SUB DIVISION  \\\n",
       "0   PUNJAB  BAHAWALPUR DIVISION  BAHAWALNAGAR DISTRICT  BAHAWALNAGAR TEHSIL   \n",
       "1   PUNJAB  BAHAWALPUR DIVISION  BAHAWALNAGAR DISTRICT     CHISHTIAN TEHSIL   \n",
       "2   PUNJAB  BAHAWALPUR DIVISION  BAHAWALNAGAR DISTRICT    FORT ABBAS TEHSIL   \n",
       "3   PUNJAB  BAHAWALPUR DIVISION  BAHAWALNAGAR DISTRICT    HAROONABAD TEHSIL   \n",
       "4   PUNJAB  BAHAWALPUR DIVISION  BAHAWALNAGAR DISTRICT   MINCHINABAD TEHSIL   \n",
       "\n",
       "   AREA (sq.km)  ALL SEXES (RURAL)  MALE (RURAL)  FEMALE (RURAL)  \\\n",
       "0        1729.0             619550        316864          302644   \n",
       "1        1500.0             540342        273788          266500   \n",
       "2        2536.0             361240        182655          178541   \n",
       "3        1295.0             382115        192278          189808   \n",
       "4        1818.0             452723        231506          221178   \n",
       "\n",
       "   TRANSGENDER (RURAL)  SEX RATIO (RURAL)  AVG HOUSEHOLD SIZE (RURAL)  \\\n",
       "0                   42             104.70                        6.10   \n",
       "1                   54             102.73                        6.15   \n",
       "2                   44             102.30                        6.32   \n",
       "3                   29             101.30                        6.15   \n",
       "4                   39             104.67                        6.29   \n",
       "\n",
       "   POPULATION 1998 (RURAL)  ANNUAL GROWTH RATE (RURAL)  ALL SEXES (URBAN)  \\\n",
       "0                   407768                        2.22             193840   \n",
       "1                   395983                        1.65             149424   \n",
       "2                   250959                        1.93              61528   \n",
       "3                   297343                        1.33             142600   \n",
       "4                   316593                        1.90              72294   \n",
       "\n",
       "   MALE (URBAN)  FEMALE (URBAN)  TRANSGENDER (URBAN)  SEX RATIO (URBAN)  \\\n",
       "0         98391           95402                   47             103.13   \n",
       "1         75546           73851                   27             102.30   \n",
       "2         31360           30150                   18             104.01   \n",
       "3         71345           71236                   19             100.15   \n",
       "4         36694           35590                   10             103.10   \n",
       "\n",
       "   AVG HOUSEHOLD SIZE (URBAN)  POPULATION 1998 (URBAN)  \\\n",
       "0                        6.02                   133785   \n",
       "1                        6.01                   102287   \n",
       "2                        6.00                    34637   \n",
       "3                        6.02                    84424   \n",
       "4                        6.34                    37668   \n",
       "\n",
       "   ANNUAL GROWTH RATE (URBAN)  \n",
       "0                        1.97  \n",
       "1                        2.01  \n",
       "2                        3.06  \n",
       "3                        2.79  \n",
       "4                        3.48  "
      ]
     },
     "execution_count": 6,
     "metadata": {},
     "output_type": "execute_result"
    }
   ],
   "source": [
    "df.head()"
   ]
  },
  {
   "cell_type": "markdown",
   "id": "d61373d8",
   "metadata": {},
   "source": [
    "### lets see the column names at once"
   ]
  },
  {
   "cell_type": "code",
   "execution_count": 7,
   "id": "c6c7f404",
   "metadata": {},
   "outputs": [
    {
     "data": {
      "text/plain": [
       "Index(['PROVINCE', 'DIVISION', 'DISTRICT', 'SUB DIVISION', 'AREA (sq.km)',\n",
       "       'ALL SEXES (RURAL)', 'MALE (RURAL)', 'FEMALE (RURAL)',\n",
       "       'TRANSGENDER (RURAL)', 'SEX RATIO (RURAL)',\n",
       "       'AVG HOUSEHOLD SIZE (RURAL)', 'POPULATION 1998 (RURAL)',\n",
       "       'ANNUAL GROWTH RATE (RURAL)', 'ALL SEXES (URBAN)', 'MALE (URBAN)',\n",
       "       'FEMALE (URBAN)', 'TRANSGENDER (URBAN)', 'SEX RATIO (URBAN)',\n",
       "       'AVG HOUSEHOLD SIZE (URBAN)', 'POPULATION 1998 (URBAN)',\n",
       "       'ANNUAL GROWTH RATE (URBAN)'],\n",
       "      dtype='object')"
      ]
     },
     "execution_count": 7,
     "metadata": {},
     "output_type": "execute_result"
    }
   ],
   "source": [
    "df.columns"
   ]
  },
  {
   "cell_type": "markdown",
   "id": "1f88aa32",
   "metadata": {},
   "source": [
    "### let have a look on dtypes"
   ]
  },
  {
   "cell_type": "code",
   "execution_count": 8,
   "id": "ad647390",
   "metadata": {},
   "outputs": [
    {
     "data": {
      "application/vnd.microsoft.datawrangler.viewer.v0+json": {
       "columns": [
        {
         "name": "index",
         "rawType": "object",
         "type": "string"
        },
        {
         "name": "0",
         "rawType": "object",
         "type": "unknown"
        }
       ],
       "ref": "86813c4f-a5b6-42f3-831f-6ce27e53d10b",
       "rows": [
        [
         "PROVINCE",
         "object"
        ],
        [
         "DIVISION",
         "object"
        ],
        [
         "DISTRICT",
         "object"
        ],
        [
         "SUB DIVISION",
         "object"
        ],
        [
         "AREA (sq.km)",
         "float64"
        ],
        [
         "ALL SEXES (RURAL)",
         "int64"
        ],
        [
         "MALE (RURAL)",
         "int64"
        ],
        [
         "FEMALE (RURAL)",
         "int64"
        ],
        [
         "TRANSGENDER (RURAL)",
         "int64"
        ],
        [
         "SEX RATIO (RURAL)",
         "float64"
        ],
        [
         "AVG HOUSEHOLD SIZE (RURAL)",
         "float64"
        ],
        [
         "POPULATION 1998 (RURAL)",
         "int64"
        ],
        [
         "ANNUAL GROWTH RATE (RURAL)",
         "float64"
        ],
        [
         "ALL SEXES (URBAN)",
         "int64"
        ],
        [
         "MALE (URBAN)",
         "int64"
        ],
        [
         "FEMALE (URBAN)",
         "int64"
        ],
        [
         "TRANSGENDER (URBAN)",
         "int64"
        ],
        [
         "SEX RATIO (URBAN)",
         "float64"
        ],
        [
         "AVG HOUSEHOLD SIZE (URBAN)",
         "float64"
        ],
        [
         "POPULATION 1998 (URBAN)",
         "int64"
        ],
        [
         "ANNUAL GROWTH RATE (URBAN)",
         "float64"
        ]
       ],
       "shape": {
        "columns": 1,
        "rows": 21
       }
      },
      "text/plain": [
       "PROVINCE                       object\n",
       "DIVISION                       object\n",
       "DISTRICT                       object\n",
       "SUB DIVISION                   object\n",
       "AREA (sq.km)                  float64\n",
       "ALL SEXES (RURAL)               int64\n",
       "MALE (RURAL)                    int64\n",
       "FEMALE (RURAL)                  int64\n",
       "TRANSGENDER (RURAL)             int64\n",
       "SEX RATIO (RURAL)             float64\n",
       "AVG HOUSEHOLD SIZE (RURAL)    float64\n",
       "POPULATION 1998 (RURAL)         int64\n",
       "ANNUAL GROWTH RATE (RURAL)    float64\n",
       "ALL SEXES (URBAN)               int64\n",
       "MALE (URBAN)                    int64\n",
       "FEMALE (URBAN)                  int64\n",
       "TRANSGENDER (URBAN)             int64\n",
       "SEX RATIO (URBAN)             float64\n",
       "AVG HOUSEHOLD SIZE (URBAN)    float64\n",
       "POPULATION 1998 (URBAN)         int64\n",
       "ANNUAL GROWTH RATE (URBAN)    float64\n",
       "dtype: object"
      ]
     },
     "execution_count": 8,
     "metadata": {},
     "output_type": "execute_result"
    }
   ],
   "source": [
    "# et have a look on dtypes\n",
    "\n",
    "df.dtypes"
   ]
  },
  {
   "cell_type": "code",
   "execution_count": 9,
   "id": "933731d6",
   "metadata": {},
   "outputs": [
    {
     "data": {
      "application/vnd.microsoft.datawrangler.viewer.v0+json": {
       "columns": [
        {
         "name": "index",
         "rawType": "object",
         "type": "string"
        },
        {
         "name": "AREA (sq.km)",
         "rawType": "float64",
         "type": "float"
        },
        {
         "name": "ALL SEXES (RURAL)",
         "rawType": "float64",
         "type": "float"
        },
        {
         "name": "MALE (RURAL)",
         "rawType": "float64",
         "type": "float"
        },
        {
         "name": "FEMALE (RURAL)",
         "rawType": "float64",
         "type": "float"
        },
        {
         "name": "TRANSGENDER (RURAL)",
         "rawType": "float64",
         "type": "float"
        },
        {
         "name": "SEX RATIO (RURAL)",
         "rawType": "float64",
         "type": "float"
        },
        {
         "name": "AVG HOUSEHOLD SIZE (RURAL)",
         "rawType": "float64",
         "type": "float"
        },
        {
         "name": "POPULATION 1998 (RURAL)",
         "rawType": "float64",
         "type": "float"
        },
        {
         "name": "ANNUAL GROWTH RATE (RURAL)",
         "rawType": "float64",
         "type": "float"
        },
        {
         "name": "ALL SEXES (URBAN)",
         "rawType": "float64",
         "type": "float"
        },
        {
         "name": "MALE (URBAN)",
         "rawType": "float64",
         "type": "float"
        },
        {
         "name": "FEMALE (URBAN)",
         "rawType": "float64",
         "type": "float"
        },
        {
         "name": "TRANSGENDER (URBAN)",
         "rawType": "float64",
         "type": "float"
        },
        {
         "name": "SEX RATIO (URBAN)",
         "rawType": "float64",
         "type": "float"
        },
        {
         "name": "AVG HOUSEHOLD SIZE (URBAN)",
         "rawType": "float64",
         "type": "float"
        },
        {
         "name": "POPULATION 1998 (URBAN)",
         "rawType": "float64",
         "type": "float"
        },
        {
         "name": "ANNUAL GROWTH RATE (URBAN)",
         "rawType": "float64",
         "type": "float"
        }
       ],
       "ref": "852c7029-b49d-4fa0-8591-54f258f3d6e8",
       "rows": [
        [
         "count",
         "528.0",
         "528.0",
         "528.0",
         "528.0",
         "528.0",
         "528.0",
         "528.0",
         "528.0",
         "528.0",
         "528.0",
         "528.0",
         "528.0",
         "528.0",
         "528.0",
         "528.0",
         "528.0",
         "528.0"
        ],
        [
         "mean",
         "1492.005871212121",
         "246278.01136363635",
         "125275.6875",
         "120984.14962121213",
         "18.174242424242426",
         "98.98261363636364",
         "6.277064393939394",
         "167427.99431818182",
         "3.1247916666666664",
         "140863.5284090909",
         "72843.38636363637",
         "67997.86553030302",
         "22.276515151515152",
         "75.41126893939395",
         "4.406401515151515",
         "80144.56628787878",
         "1.920814393939394"
        ],
        [
         "std",
         "2039.453778210461",
         "271189.81655913533",
         "137563.02145832204",
         "133716.8982962157",
         "25.52224797583435",
         "26.812659963763632",
         "2.0749468568721596",
         "178388.97699251067",
         "9.57787173131309",
         "351246.2791356469",
         "182349.2413790539",
         "168872.52821213394",
         "66.06812694544523",
         "49.687340945047495",
         "2.9483358323019533",
         "202312.01922696535",
         "2.0989080696947195"
        ],
        [
         "min",
         "0.0",
         "0.0",
         "0.0",
         "0.0",
         "0.0",
         "0.0",
         "0.0",
         "0.0",
         "0.0",
         "0.0",
         "0.0",
         "0.0",
         "0.0",
         "0.0",
         "0.0",
         "0.0",
         "0.0"
        ],
        [
         "25%",
         "425.0",
         "50934.5",
         "27127.25",
         "23979.0",
         "1.0",
         "101.105",
         "5.7",
         "35273.5",
         "1.44",
         "0.0",
         "0.0",
         "0.0",
         "0.0",
         "0.0",
         "0.0",
         "0.0",
         "0.0"
        ],
        [
         "50%",
         "882.0",
         "165241.0",
         "84134.5",
         "82044.0",
         "10.0",
         "105.285",
         "6.31",
         "117206.5",
         "2.03",
         "43254.5",
         "21980.0",
         "20999.0",
         "3.0",
         "103.195",
         "5.755",
         "21298.0",
         "1.855"
        ],
        [
         "75%",
         "1734.25",
         "312911.25",
         "160502.25",
         "152219.0",
         "25.0",
         "108.3475",
         "7.2",
         "213054.25",
         "2.8125",
         "117814.75",
         "60301.75",
         "57465.25",
         "19.0",
         "107.04",
         "6.34",
         "65422.25",
         "2.985"
        ],
        [
         "max",
         "18374.0",
         "2297375.0",
         "1172995.0",
         "1124167.0",
         "213.0",
         "139.38",
         "12.43",
         "1044035.0",
         "100.0",
         "3653616.0",
         "1905921.0",
         "1746900.0",
         "795.0",
         "297.81",
         "10.06",
         "2075867.0",
         "19.78"
        ]
       ],
       "shape": {
        "columns": 17,
        "rows": 8
       }
      },
      "text/html": [
       "<div>\n",
       "<style scoped>\n",
       "    .dataframe tbody tr th:only-of-type {\n",
       "        vertical-align: middle;\n",
       "    }\n",
       "\n",
       "    .dataframe tbody tr th {\n",
       "        vertical-align: top;\n",
       "    }\n",
       "\n",
       "    .dataframe thead th {\n",
       "        text-align: right;\n",
       "    }\n",
       "</style>\n",
       "<table border=\"1\" class=\"dataframe\">\n",
       "  <thead>\n",
       "    <tr style=\"text-align: right;\">\n",
       "      <th></th>\n",
       "      <th>AREA (sq.km)</th>\n",
       "      <th>ALL SEXES (RURAL)</th>\n",
       "      <th>MALE (RURAL)</th>\n",
       "      <th>FEMALE (RURAL)</th>\n",
       "      <th>TRANSGENDER (RURAL)</th>\n",
       "      <th>SEX RATIO (RURAL)</th>\n",
       "      <th>AVG HOUSEHOLD SIZE (RURAL)</th>\n",
       "      <th>POPULATION 1998 (RURAL)</th>\n",
       "      <th>ANNUAL GROWTH RATE (RURAL)</th>\n",
       "      <th>ALL SEXES (URBAN)</th>\n",
       "      <th>MALE (URBAN)</th>\n",
       "      <th>FEMALE (URBAN)</th>\n",
       "      <th>TRANSGENDER (URBAN)</th>\n",
       "      <th>SEX RATIO (URBAN)</th>\n",
       "      <th>AVG HOUSEHOLD SIZE (URBAN)</th>\n",
       "      <th>POPULATION 1998 (URBAN)</th>\n",
       "      <th>ANNUAL GROWTH RATE (URBAN)</th>\n",
       "    </tr>\n",
       "  </thead>\n",
       "  <tbody>\n",
       "    <tr>\n",
       "      <th>count</th>\n",
       "      <td>528.000000</td>\n",
       "      <td>5.280000e+02</td>\n",
       "      <td>5.280000e+02</td>\n",
       "      <td>5.280000e+02</td>\n",
       "      <td>528.000000</td>\n",
       "      <td>528.000000</td>\n",
       "      <td>528.000000</td>\n",
       "      <td>5.280000e+02</td>\n",
       "      <td>528.000000</td>\n",
       "      <td>5.280000e+02</td>\n",
       "      <td>5.280000e+02</td>\n",
       "      <td>5.280000e+02</td>\n",
       "      <td>528.000000</td>\n",
       "      <td>528.000000</td>\n",
       "      <td>528.000000</td>\n",
       "      <td>5.280000e+02</td>\n",
       "      <td>528.000000</td>\n",
       "    </tr>\n",
       "    <tr>\n",
       "      <th>mean</th>\n",
       "      <td>1492.005871</td>\n",
       "      <td>2.462780e+05</td>\n",
       "      <td>1.252757e+05</td>\n",
       "      <td>1.209841e+05</td>\n",
       "      <td>18.174242</td>\n",
       "      <td>98.982614</td>\n",
       "      <td>6.277064</td>\n",
       "      <td>1.674280e+05</td>\n",
       "      <td>3.124792</td>\n",
       "      <td>1.408635e+05</td>\n",
       "      <td>7.284339e+04</td>\n",
       "      <td>6.799787e+04</td>\n",
       "      <td>22.276515</td>\n",
       "      <td>75.411269</td>\n",
       "      <td>4.406402</td>\n",
       "      <td>8.014457e+04</td>\n",
       "      <td>1.920814</td>\n",
       "    </tr>\n",
       "    <tr>\n",
       "      <th>std</th>\n",
       "      <td>2039.453778</td>\n",
       "      <td>2.711898e+05</td>\n",
       "      <td>1.375630e+05</td>\n",
       "      <td>1.337169e+05</td>\n",
       "      <td>25.522248</td>\n",
       "      <td>26.812660</td>\n",
       "      <td>2.074947</td>\n",
       "      <td>1.783890e+05</td>\n",
       "      <td>9.577872</td>\n",
       "      <td>3.512463e+05</td>\n",
       "      <td>1.823492e+05</td>\n",
       "      <td>1.688725e+05</td>\n",
       "      <td>66.068127</td>\n",
       "      <td>49.687341</td>\n",
       "      <td>2.948336</td>\n",
       "      <td>2.023120e+05</td>\n",
       "      <td>2.098908</td>\n",
       "    </tr>\n",
       "    <tr>\n",
       "      <th>min</th>\n",
       "      <td>0.000000</td>\n",
       "      <td>0.000000e+00</td>\n",
       "      <td>0.000000e+00</td>\n",
       "      <td>0.000000e+00</td>\n",
       "      <td>0.000000</td>\n",
       "      <td>0.000000</td>\n",
       "      <td>0.000000</td>\n",
       "      <td>0.000000e+00</td>\n",
       "      <td>0.000000</td>\n",
       "      <td>0.000000e+00</td>\n",
       "      <td>0.000000e+00</td>\n",
       "      <td>0.000000e+00</td>\n",
       "      <td>0.000000</td>\n",
       "      <td>0.000000</td>\n",
       "      <td>0.000000</td>\n",
       "      <td>0.000000e+00</td>\n",
       "      <td>0.000000</td>\n",
       "    </tr>\n",
       "    <tr>\n",
       "      <th>25%</th>\n",
       "      <td>425.000000</td>\n",
       "      <td>5.093450e+04</td>\n",
       "      <td>2.712725e+04</td>\n",
       "      <td>2.397900e+04</td>\n",
       "      <td>1.000000</td>\n",
       "      <td>101.105000</td>\n",
       "      <td>5.700000</td>\n",
       "      <td>3.527350e+04</td>\n",
       "      <td>1.440000</td>\n",
       "      <td>0.000000e+00</td>\n",
       "      <td>0.000000e+00</td>\n",
       "      <td>0.000000e+00</td>\n",
       "      <td>0.000000</td>\n",
       "      <td>0.000000</td>\n",
       "      <td>0.000000</td>\n",
       "      <td>0.000000e+00</td>\n",
       "      <td>0.000000</td>\n",
       "    </tr>\n",
       "    <tr>\n",
       "      <th>50%</th>\n",
       "      <td>882.000000</td>\n",
       "      <td>1.652410e+05</td>\n",
       "      <td>8.413450e+04</td>\n",
       "      <td>8.204400e+04</td>\n",
       "      <td>10.000000</td>\n",
       "      <td>105.285000</td>\n",
       "      <td>6.310000</td>\n",
       "      <td>1.172065e+05</td>\n",
       "      <td>2.030000</td>\n",
       "      <td>4.325450e+04</td>\n",
       "      <td>2.198000e+04</td>\n",
       "      <td>2.099900e+04</td>\n",
       "      <td>3.000000</td>\n",
       "      <td>103.195000</td>\n",
       "      <td>5.755000</td>\n",
       "      <td>2.129800e+04</td>\n",
       "      <td>1.855000</td>\n",
       "    </tr>\n",
       "    <tr>\n",
       "      <th>75%</th>\n",
       "      <td>1734.250000</td>\n",
       "      <td>3.129112e+05</td>\n",
       "      <td>1.605022e+05</td>\n",
       "      <td>1.522190e+05</td>\n",
       "      <td>25.000000</td>\n",
       "      <td>108.347500</td>\n",
       "      <td>7.200000</td>\n",
       "      <td>2.130542e+05</td>\n",
       "      <td>2.812500</td>\n",
       "      <td>1.178148e+05</td>\n",
       "      <td>6.030175e+04</td>\n",
       "      <td>5.746525e+04</td>\n",
       "      <td>19.000000</td>\n",
       "      <td>107.040000</td>\n",
       "      <td>6.340000</td>\n",
       "      <td>6.542225e+04</td>\n",
       "      <td>2.985000</td>\n",
       "    </tr>\n",
       "    <tr>\n",
       "      <th>max</th>\n",
       "      <td>18374.000000</td>\n",
       "      <td>2.297375e+06</td>\n",
       "      <td>1.172995e+06</td>\n",
       "      <td>1.124167e+06</td>\n",
       "      <td>213.000000</td>\n",
       "      <td>139.380000</td>\n",
       "      <td>12.430000</td>\n",
       "      <td>1.044035e+06</td>\n",
       "      <td>100.000000</td>\n",
       "      <td>3.653616e+06</td>\n",
       "      <td>1.905921e+06</td>\n",
       "      <td>1.746900e+06</td>\n",
       "      <td>795.000000</td>\n",
       "      <td>297.810000</td>\n",
       "      <td>10.060000</td>\n",
       "      <td>2.075867e+06</td>\n",
       "      <td>19.780000</td>\n",
       "    </tr>\n",
       "  </tbody>\n",
       "</table>\n",
       "</div>"
      ],
      "text/plain": [
       "       AREA (sq.km)  ALL SEXES (RURAL)  MALE (RURAL)  FEMALE (RURAL)  \\\n",
       "count    528.000000       5.280000e+02  5.280000e+02    5.280000e+02   \n",
       "mean    1492.005871       2.462780e+05  1.252757e+05    1.209841e+05   \n",
       "std     2039.453778       2.711898e+05  1.375630e+05    1.337169e+05   \n",
       "min        0.000000       0.000000e+00  0.000000e+00    0.000000e+00   \n",
       "25%      425.000000       5.093450e+04  2.712725e+04    2.397900e+04   \n",
       "50%      882.000000       1.652410e+05  8.413450e+04    8.204400e+04   \n",
       "75%     1734.250000       3.129112e+05  1.605022e+05    1.522190e+05   \n",
       "max    18374.000000       2.297375e+06  1.172995e+06    1.124167e+06   \n",
       "\n",
       "       TRANSGENDER (RURAL)  SEX RATIO (RURAL)  AVG HOUSEHOLD SIZE (RURAL)  \\\n",
       "count           528.000000         528.000000                  528.000000   \n",
       "mean             18.174242          98.982614                    6.277064   \n",
       "std              25.522248          26.812660                    2.074947   \n",
       "min               0.000000           0.000000                    0.000000   \n",
       "25%               1.000000         101.105000                    5.700000   \n",
       "50%              10.000000         105.285000                    6.310000   \n",
       "75%              25.000000         108.347500                    7.200000   \n",
       "max             213.000000         139.380000                   12.430000   \n",
       "\n",
       "       POPULATION 1998 (RURAL)  ANNUAL GROWTH RATE (RURAL)  ALL SEXES (URBAN)  \\\n",
       "count             5.280000e+02                  528.000000       5.280000e+02   \n",
       "mean              1.674280e+05                    3.124792       1.408635e+05   \n",
       "std               1.783890e+05                    9.577872       3.512463e+05   \n",
       "min               0.000000e+00                    0.000000       0.000000e+00   \n",
       "25%               3.527350e+04                    1.440000       0.000000e+00   \n",
       "50%               1.172065e+05                    2.030000       4.325450e+04   \n",
       "75%               2.130542e+05                    2.812500       1.178148e+05   \n",
       "max               1.044035e+06                  100.000000       3.653616e+06   \n",
       "\n",
       "       MALE (URBAN)  FEMALE (URBAN)  TRANSGENDER (URBAN)  SEX RATIO (URBAN)  \\\n",
       "count  5.280000e+02    5.280000e+02           528.000000         528.000000   \n",
       "mean   7.284339e+04    6.799787e+04            22.276515          75.411269   \n",
       "std    1.823492e+05    1.688725e+05            66.068127          49.687341   \n",
       "min    0.000000e+00    0.000000e+00             0.000000           0.000000   \n",
       "25%    0.000000e+00    0.000000e+00             0.000000           0.000000   \n",
       "50%    2.198000e+04    2.099900e+04             3.000000         103.195000   \n",
       "75%    6.030175e+04    5.746525e+04            19.000000         107.040000   \n",
       "max    1.905921e+06    1.746900e+06           795.000000         297.810000   \n",
       "\n",
       "       AVG HOUSEHOLD SIZE (URBAN)  POPULATION 1998 (URBAN)  \\\n",
       "count                  528.000000             5.280000e+02   \n",
       "mean                     4.406402             8.014457e+04   \n",
       "std                      2.948336             2.023120e+05   \n",
       "min                      0.000000             0.000000e+00   \n",
       "25%                      0.000000             0.000000e+00   \n",
       "50%                      5.755000             2.129800e+04   \n",
       "75%                      6.340000             6.542225e+04   \n",
       "max                     10.060000             2.075867e+06   \n",
       "\n",
       "       ANNUAL GROWTH RATE (URBAN)  \n",
       "count                  528.000000  \n",
       "mean                     1.920814  \n",
       "std                      2.098908  \n",
       "min                      0.000000  \n",
       "25%                      0.000000  \n",
       "50%                      1.855000  \n",
       "75%                      2.985000  \n",
       "max                     19.780000  "
      ]
     },
     "execution_count": 9,
     "metadata": {},
     "output_type": "execute_result"
    }
   ],
   "source": [
    "# summary of the data set\n",
    "\n",
    "df.describe()"
   ]
  },
  {
   "cell_type": "markdown",
   "id": "fdcd5672",
   "metadata": {},
   "source": [
    "### check the missing values of the data"
   ]
  },
  {
   "cell_type": "code",
   "execution_count": 10,
   "id": "43fbfd13",
   "metadata": {},
   "outputs": [
    {
     "data": {
      "application/vnd.microsoft.datawrangler.viewer.v0+json": {
       "columns": [
        {
         "name": "index",
         "rawType": "object",
         "type": "string"
        },
        {
         "name": "0",
         "rawType": "float64",
         "type": "float"
        }
       ],
       "ref": "a8899d10-bde6-4b22-bf33-a6f78afd11d4",
       "rows": [
        [
         "PROVINCE",
         "0.0"
        ],
        [
         "DIVISION",
         "0.0"
        ],
        [
         "DISTRICT",
         "0.0"
        ],
        [
         "SUB DIVISION",
         "0.0"
        ],
        [
         "AREA (sq.km)",
         "0.0"
        ],
        [
         "ALL SEXES (RURAL)",
         "0.0"
        ],
        [
         "MALE (RURAL)",
         "0.0"
        ],
        [
         "FEMALE (RURAL)",
         "0.0"
        ],
        [
         "TRANSGENDER (RURAL)",
         "0.0"
        ],
        [
         "SEX RATIO (RURAL)",
         "0.0"
        ],
        [
         "AVG HOUSEHOLD SIZE (RURAL)",
         "0.0"
        ],
        [
         "POPULATION 1998 (RURAL)",
         "0.0"
        ],
        [
         "ANNUAL GROWTH RATE (RURAL)",
         "0.0"
        ],
        [
         "ALL SEXES (URBAN)",
         "0.0"
        ],
        [
         "MALE (URBAN)",
         "0.0"
        ],
        [
         "FEMALE (URBAN)",
         "0.0"
        ],
        [
         "TRANSGENDER (URBAN)",
         "0.0"
        ],
        [
         "SEX RATIO (URBAN)",
         "0.0"
        ],
        [
         "AVG HOUSEHOLD SIZE (URBAN)",
         "0.0"
        ],
        [
         "POPULATION 1998 (URBAN)",
         "0.0"
        ],
        [
         "ANNUAL GROWTH RATE (URBAN)",
         "0.0"
        ]
       ],
       "shape": {
        "columns": 1,
        "rows": 21
       }
      },
      "text/plain": [
       "PROVINCE                      0.0\n",
       "DIVISION                      0.0\n",
       "DISTRICT                      0.0\n",
       "SUB DIVISION                  0.0\n",
       "AREA (sq.km)                  0.0\n",
       "ALL SEXES (RURAL)             0.0\n",
       "MALE (RURAL)                  0.0\n",
       "FEMALE (RURAL)                0.0\n",
       "TRANSGENDER (RURAL)           0.0\n",
       "SEX RATIO (RURAL)             0.0\n",
       "AVG HOUSEHOLD SIZE (RURAL)    0.0\n",
       "POPULATION 1998 (RURAL)       0.0\n",
       "ANNUAL GROWTH RATE (RURAL)    0.0\n",
       "ALL SEXES (URBAN)             0.0\n",
       "MALE (URBAN)                  0.0\n",
       "FEMALE (URBAN)                0.0\n",
       "TRANSGENDER (URBAN)           0.0\n",
       "SEX RATIO (URBAN)             0.0\n",
       "AVG HOUSEHOLD SIZE (URBAN)    0.0\n",
       "POPULATION 1998 (URBAN)       0.0\n",
       "ANNUAL GROWTH RATE (URBAN)    0.0\n",
       "dtype: float64"
      ]
     },
     "execution_count": 10,
     "metadata": {},
     "output_type": "execute_result"
    }
   ],
   "source": [
    "# check the missing values\n",
    "\n",
    "df.isnull().sum() / len(df) *100"
   ]
  },
  {
   "cell_type": "markdown",
   "id": "960ddd7f",
   "metadata": {},
   "source": [
    "# Box Plot"
   ]
  },
  {
   "cell_type": "code",
   "execution_count": 11,
   "id": "55c27d68",
   "metadata": {},
   "outputs": [
    {
     "data": {
      "text/plain": [
       "<Axes: xlabel='AREA (sq.km)', ylabel='Count'>"
      ]
     },
     "execution_count": 11,
     "metadata": {},
     "output_type": "execute_result"
    },
    {
     "data": {
      "image/png": "[encoded data removed]",
      "text/plain": [
       "<Figure size 640x480 with 1 Axes>"
      ]
     },
     "metadata": {},
     "output_type": "display_data"
    }
   ],
   "source": [
    "sns.histplot(df, x='AREA (sq.km)')"
   ]
  },
  {
   "cell_type": "code",
   "execution_count": 12,
   "id": "17d646e0",
   "metadata": {},
   "outputs": [
    {
     "data": {
      "text/plain": [
       "<Axes: ylabel='AREA (sq.km)'>"
      ]
     },
     "execution_count": 12,
     "metadata": {},
     "output_type": "execute_result"
    },
    {
     "data": {
      "image/png": "[encoded data removed]",
      "text/plain": [
       "<Figure size 640x480 with 1 Axes>"
      ]
     },
     "metadata": {},
     "output_type": "display_data"
    }
   ],
   "source": [
    "sns.boxplot(df, y='AREA (sq.km)')"
   ]
  },
  {
   "cell_type": "code",
   "execution_count": 13,
   "id": "9bbb4be6",
   "metadata": {},
   "outputs": [
    {
     "data": {
      "application/vnd.microsoft.datawrangler.viewer.v0+json": {
       "columns": [
        {
         "name": "index",
         "rawType": "object",
         "type": "string"
        },
        {
         "name": "count",
         "rawType": "float64",
         "type": "float"
        },
        {
         "name": "mean",
         "rawType": "float64",
         "type": "float"
        },
        {
         "name": "std",
         "rawType": "float64",
         "type": "float"
        },
        {
         "name": "min",
         "rawType": "float64",
         "type": "float"
        },
        {
         "name": "25%",
         "rawType": "float64",
         "type": "float"
        },
        {
         "name": "50%",
         "rawType": "float64",
         "type": "float"
        },
        {
         "name": "75%",
         "rawType": "float64",
         "type": "float"
        },
        {
         "name": "max",
         "rawType": "float64",
         "type": "float"
        }
       ],
       "ref": "e8bdb7bd-9ec3-42b7-adcf-2a8e94d9bdf5",
       "rows": [
        [
         "AREA (sq.km)",
         "528.0",
         "1492.005871212121",
         "2039.453778210461",
         "0.0",
         "425.0",
         "882.0",
         "1734.25",
         "18374.0"
        ],
        [
         "ALL SEXES (RURAL)",
         "528.0",
         "246278.01136363635",
         "271189.81655913533",
         "0.0",
         "50934.5",
         "165241.0",
         "312911.25",
         "2297375.0"
        ],
        [
         "MALE (RURAL)",
         "528.0",
         "125275.6875",
         "137563.02145832204",
         "0.0",
         "27127.25",
         "84134.5",
         "160502.25",
         "1172995.0"
        ],
        [
         "FEMALE (RURAL)",
         "528.0",
         "120984.14962121213",
         "133716.8982962157",
         "0.0",
         "23979.0",
         "82044.0",
         "152219.0",
         "1124167.0"
        ],
        [
         "TRANSGENDER (RURAL)",
         "528.0",
         "18.174242424242426",
         "25.52224797583435",
         "0.0",
         "1.0",
         "10.0",
         "25.0",
         "213.0"
        ],
        [
         "SEX RATIO (RURAL)",
         "528.0",
         "98.98261363636364",
         "26.812659963763632",
         "0.0",
         "101.105",
         "105.285",
         "108.3475",
         "139.38"
        ],
        [
         "AVG HOUSEHOLD SIZE (RURAL)",
         "528.0",
         "6.277064393939394",
         "2.0749468568721596",
         "0.0",
         "5.7",
         "6.31",
         "7.2",
         "12.43"
        ],
        [
         "POPULATION 1998 (RURAL)",
         "528.0",
         "167427.99431818182",
         "178388.97699251067",
         "0.0",
         "35273.5",
         "117206.5",
         "213054.25",
         "1044035.0"
        ],
        [
         "ANNUAL GROWTH RATE (RURAL)",
         "528.0",
         "3.1247916666666664",
         "9.57787173131309",
         "0.0",
         "1.44",
         "2.03",
         "2.8125",
         "100.0"
        ],
        [
         "ALL SEXES (URBAN)",
         "528.0",
         "140863.5284090909",
         "351246.2791356469",
         "0.0",
         "0.0",
         "43254.5",
         "117814.75",
         "3653616.0"
        ],
        [
         "MALE (URBAN)",
         "528.0",
         "72843.38636363637",
         "182349.2413790539",
         "0.0",
         "0.0",
         "21980.0",
         "60301.75",
         "1905921.0"
        ],
        [
         "FEMALE (URBAN)",
         "528.0",
         "67997.86553030302",
         "168872.52821213394",
         "0.0",
         "0.0",
         "20999.0",
         "57465.25",
         "1746900.0"
        ],
        [
         "TRANSGENDER (URBAN)",
         "528.0",
         "22.276515151515152",
         "66.06812694544523",
         "0.0",
         "0.0",
         "3.0",
         "19.0",
         "795.0"
        ],
        [
         "SEX RATIO (URBAN)",
         "528.0",
         "75.41126893939395",
         "49.687340945047495",
         "0.0",
         "0.0",
         "103.195",
         "107.04",
         "297.81"
        ],
        [
         "AVG HOUSEHOLD SIZE (URBAN)",
         "528.0",
         "4.406401515151515",
         "2.9483358323019533",
         "0.0",
         "0.0",
         "5.755",
         "6.34",
         "10.06"
        ],
        [
         "POPULATION 1998 (URBAN)",
         "528.0",
         "80144.56628787878",
         "202312.01922696535",
         "0.0",
         "0.0",
         "21298.0",
         "65422.25",
         "2075867.0"
        ],
        [
         "ANNUAL GROWTH RATE (URBAN)",
         "528.0",
         "1.920814393939394",
         "2.0989080696947195",
         "0.0",
         "0.0",
         "1.855",
         "2.985",
         "19.78"
        ]
       ],
       "shape": {
        "columns": 8,
        "rows": 17
       }
      },
      "text/html": [
       "<div>\n",
       "<style scoped>\n",
       "    .dataframe tbody tr th:only-of-type {\n",
       "        vertical-align: middle;\n",
       "    }\n",
       "\n",
       "    .dataframe tbody tr th {\n",
       "        vertical-align: top;\n",
       "    }\n",
       "\n",
       "    .dataframe thead th {\n",
       "        text-align: right;\n",
       "    }\n",
       "</style>\n",
       "<table border=\"1\" class=\"dataframe\">\n",
       "  <thead>\n",
       "    <tr style=\"text-align: right;\">\n",
       "      <th></th>\n",
       "      <th>count</th>\n",
       "      <th>mean</th>\n",
       "      <th>std</th>\n",
       "      <th>min</th>\n",
       "      <th>25%</th>\n",
       "      <th>50%</th>\n",
       "      <th>75%</th>\n",
       "      <th>max</th>\n",
       "    </tr>\n",
       "  </thead>\n",
       "  <tbody>\n",
       "    <tr>\n",
       "      <th>AREA (sq.km)</th>\n",
       "      <td>528.0</td>\n",
       "      <td>1492.005871</td>\n",
       "      <td>2039.453778</td>\n",
       "      <td>0.0</td>\n",
       "      <td>425.000</td>\n",
       "      <td>882.000</td>\n",
       "      <td>1734.2500</td>\n",
       "      <td>18374.00</td>\n",
       "    </tr>\n",
       "    <tr>\n",
       "      <th>ALL SEXES (RURAL)</th>\n",
       "      <td>528.0</td>\n",
       "      <td>246278.011364</td>\n",
       "      <td>271189.816559</td>\n",
       "      <td>0.0</td>\n",
       "      <td>50934.500</td>\n",
       "      <td>165241.000</td>\n",
       "      <td>312911.2500</td>\n",
       "      <td>2297375.00</td>\n",
       "    </tr>\n",
       "    <tr>\n",
       "      <th>MALE (RURAL)</th>\n",
       "      <td>528.0</td>\n",
       "      <td>125275.687500</td>\n",
       "      <td>137563.021458</td>\n",
       "      <td>0.0</td>\n",
       "      <td>27127.250</td>\n",
       "      <td>84134.500</td>\n",
       "      <td>160502.2500</td>\n",
       "      <td>1172995.00</td>\n",
       "    </tr>\n",
       "    <tr>\n",
       "      <th>FEMALE (RURAL)</th>\n",
       "      <td>528.0</td>\n",
       "      <td>120984.149621</td>\n",
       "      <td>133716.898296</td>\n",
       "      <td>0.0</td>\n",
       "      <td>23979.000</td>\n",
       "      <td>82044.000</td>\n",
       "      <td>152219.0000</td>\n",
       "      <td>1124167.00</td>\n",
       "    </tr>\n",
       "    <tr>\n",
       "      <th>TRANSGENDER (RURAL)</th>\n",
       "      <td>528.0</td>\n",
       "      <td>18.174242</td>\n",
       "      <td>25.522248</td>\n",
       "      <td>0.0</td>\n",
       "      <td>1.000</td>\n",
       "      <td>10.000</td>\n",
       "      <td>25.0000</td>\n",
       "      <td>213.00</td>\n",
       "    </tr>\n",
       "    <tr>\n",
       "      <th>SEX RATIO (RURAL)</th>\n",
       "      <td>528.0</td>\n",
       "      <td>98.982614</td>\n",
       "      <td>26.812660</td>\n",
       "      <td>0.0</td>\n",
       "      <td>101.105</td>\n",
       "      <td>105.285</td>\n",
       "      <td>108.3475</td>\n",
       "      <td>139.38</td>\n",
       "    </tr>\n",
       "    <tr>\n",
       "      <th>AVG HOUSEHOLD SIZE (RURAL)</th>\n",
       "      <td>528.0</td>\n",
       "      <td>6.277064</td>\n",
       "      <td>2.074947</td>\n",
       "      <td>0.0</td>\n",
       "      <td>5.700</td>\n",
       "      <td>6.310</td>\n",
       "      <td>7.2000</td>\n",
       "      <td>12.43</td>\n",
       "    </tr>\n",
       "    <tr>\n",
       "      <th>POPULATION 1998 (RURAL)</th>\n",
       "      <td>528.0</td>\n",
       "      <td>167427.994318</td>\n",
       "      <td>178388.976993</td>\n",
       "      <td>0.0</td>\n",
       "      <td>35273.500</td>\n",
       "      <td>117206.500</td>\n",
       "      <td>213054.2500</td>\n",
       "      <td>1044035.00</td>\n",
       "    </tr>\n",
       "    <tr>\n",
       "      <th>ANNUAL GROWTH RATE (RURAL)</th>\n",
       "      <td>528.0</td>\n",
       "      <td>3.124792</td>\n",
       "      <td>9.577872</td>\n",
       "      <td>0.0</td>\n",
       "      <td>1.440</td>\n",
       "      <td>2.030</td>\n",
       "      <td>2.8125</td>\n",
       "      <td>100.00</td>\n",
       "    </tr>\n",
       "    <tr>\n",
       "      <th>ALL SEXES (URBAN)</th>\n",
       "      <td>528.0</td>\n",
       "      <td>140863.528409</td>\n",
       "      <td>351246.279136</td>\n",
       "      <td>0.0</td>\n",
       "      <td>0.000</td>\n",
       "      <td>43254.500</td>\n",
       "      <td>117814.7500</td>\n",
       "      <td>3653616.00</td>\n",
       "    </tr>\n",
       "    <tr>\n",
       "      <th>MALE (URBAN)</th>\n",
       "      <td>528.0</td>\n",
       "      <td>72843.386364</td>\n",
       "      <td>182349.241379</td>\n",
       "      <td>0.0</td>\n",
       "      <td>0.000</td>\n",
       "      <td>21980.000</td>\n",
       "      <td>60301.7500</td>\n",
       "      <td>1905921.00</td>\n",
       "    </tr>\n",
       "    <tr>\n",
       "      <th>FEMALE (URBAN)</th>\n",
       "      <td>528.0</td>\n",
       "      <td>67997.865530</td>\n",
       "      <td>168872.528212</td>\n",
       "      <td>0.0</td>\n",
       "      <td>0.000</td>\n",
       "      <td>20999.000</td>\n",
       "      <td>57465.2500</td>\n",
       "      <td>1746900.00</td>\n",
       "    </tr>\n",
       "    <tr>\n",
       "      <th>TRANSGENDER (URBAN)</th>\n",
       "      <td>528.0</td>\n",
       "      <td>22.276515</td>\n",
       "      <td>66.068127</td>\n",
       "      <td>0.0</td>\n",
       "      <td>0.000</td>\n",
       "      <td>3.000</td>\n",
       "      <td>19.0000</td>\n",
       "      <td>795.00</td>\n",
       "    </tr>\n",
       "    <tr>\n",
       "      <th>SEX RATIO (URBAN)</th>\n",
       "      <td>528.0</td>\n",
       "      <td>75.411269</td>\n",
       "      <td>49.687341</td>\n",
       "      <td>0.0</td>\n",
       "      <td>0.000</td>\n",
       "      <td>103.195</td>\n",
       "      <td>107.0400</td>\n",
       "      <td>297.81</td>\n",
       "    </tr>\n",
       "    <tr>\n",
       "      <th>AVG HOUSEHOLD SIZE (URBAN)</th>\n",
       "      <td>528.0</td>\n",
       "      <td>4.406402</td>\n",
       "      <td>2.948336</td>\n",
       "      <td>0.0</td>\n",
       "      <td>0.000</td>\n",
       "      <td>5.755</td>\n",
       "      <td>6.3400</td>\n",
       "      <td>10.06</td>\n",
       "    </tr>\n",
       "    <tr>\n",
       "      <th>POPULATION 1998 (URBAN)</th>\n",
       "      <td>528.0</td>\n",
       "      <td>80144.566288</td>\n",
       "      <td>202312.019227</td>\n",
       "      <td>0.0</td>\n",
       "      <td>0.000</td>\n",
       "      <td>21298.000</td>\n",
       "      <td>65422.2500</td>\n",
       "      <td>2075867.00</td>\n",
       "    </tr>\n",
       "    <tr>\n",
       "      <th>ANNUAL GROWTH RATE (URBAN)</th>\n",
       "      <td>528.0</td>\n",
       "      <td>1.920814</td>\n",
       "      <td>2.098908</td>\n",
       "      <td>0.0</td>\n",
       "      <td>0.000</td>\n",
       "      <td>1.855</td>\n",
       "      <td>2.9850</td>\n",
       "      <td>19.78</td>\n",
       "    </tr>\n",
       "  </tbody>\n",
       "</table>\n",
       "</div>"
      ],
      "text/plain": [
       "                            count           mean            std  min  \\\n",
       "AREA (sq.km)                528.0    1492.005871    2039.453778  0.0   \n",
       "ALL SEXES (RURAL)           528.0  246278.011364  271189.816559  0.0   \n",
       "MALE (RURAL)                528.0  125275.687500  137563.021458  0.0   \n",
       "FEMALE (RURAL)              528.0  120984.149621  133716.898296  0.0   \n",
       "TRANSGENDER (RURAL)         528.0      18.174242      25.522248  0.0   \n",
       "SEX RATIO (RURAL)           528.0      98.982614      26.812660  0.0   \n",
       "AVG HOUSEHOLD SIZE (RURAL)  528.0       6.277064       2.074947  0.0   \n",
       "POPULATION 1998 (RURAL)     528.0  167427.994318  178388.976993  0.0   \n",
       "ANNUAL GROWTH RATE (RURAL)  528.0       3.124792       9.577872  0.0   \n",
       "ALL SEXES (URBAN)           528.0  140863.528409  351246.279136  0.0   \n",
       "MALE (URBAN)                528.0   72843.386364  182349.241379  0.0   \n",
       "FEMALE (URBAN)              528.0   67997.865530  168872.528212  0.0   \n",
       "TRANSGENDER (URBAN)         528.0      22.276515      66.068127  0.0   \n",
       "SEX RATIO (URBAN)           528.0      75.411269      49.687341  0.0   \n",
       "AVG HOUSEHOLD SIZE (URBAN)  528.0       4.406402       2.948336  0.0   \n",
       "POPULATION 1998 (URBAN)     528.0   80144.566288  202312.019227  0.0   \n",
       "ANNUAL GROWTH RATE (URBAN)  528.0       1.920814       2.098908  0.0   \n",
       "\n",
       "                                  25%         50%          75%         max  \n",
       "AREA (sq.km)                  425.000     882.000    1734.2500    18374.00  \n",
       "ALL SEXES (RURAL)           50934.500  165241.000  312911.2500  2297375.00  \n",
       "MALE (RURAL)                27127.250   84134.500  160502.2500  1172995.00  \n",
       "FEMALE (RURAL)              23979.000   82044.000  152219.0000  1124167.00  \n",
       "TRANSGENDER (RURAL)             1.000      10.000      25.0000      213.00  \n",
       "SEX RATIO (RURAL)             101.105     105.285     108.3475      139.38  \n",
       "AVG HOUSEHOLD SIZE (RURAL)      5.700       6.310       7.2000       12.43  \n",
       "POPULATION 1998 (RURAL)     35273.500  117206.500  213054.2500  1044035.00  \n",
       "ANNUAL GROWTH RATE (RURAL)      1.440       2.030       2.8125      100.00  \n",
       "ALL SEXES (URBAN)               0.000   43254.500  117814.7500  3653616.00  \n",
       "MALE (URBAN)                    0.000   21980.000   60301.7500  1905921.00  \n",
       "FEMALE (URBAN)                  0.000   20999.000   57465.2500  1746900.00  \n",
       "TRANSGENDER (URBAN)             0.000       3.000      19.0000      795.00  \n",
       "SEX RATIO (URBAN)               0.000     103.195     107.0400      297.81  \n",
       "AVG HOUSEHOLD SIZE (URBAN)      0.000       5.755       6.3400       10.06  \n",
       "POPULATION 1998 (URBAN)         0.000   21298.000   65422.2500  2075867.00  \n",
       "ANNUAL GROWTH RATE (URBAN)      0.000       1.855       2.9850       19.78  "
      ]
     },
     "execution_count": 13,
     "metadata": {},
     "output_type": "execute_result"
    }
   ],
   "source": [
    "# Tranpose the data (Convert rows into columns)\n",
    "\n",
    "df.describe().T"
   ]
  },
  {
   "cell_type": "code",
   "execution_count": null,
   "id": "0fd9f28d",
   "metadata": {},
   "outputs": [],
   "source": []
  },
  {
   "cell_type": "code",
   "execution_count": 14,
   "id": "d267c8d2",
   "metadata": {},
   "outputs": [
    {
     "data": {
      "text/plain": [
       "Index(['PROVINCE', 'DIVISION', 'DISTRICT', 'SUB DIVISION', 'AREA (sq.km)',\n",
       "       'ALL SEXES (RURAL)', 'MALE (RURAL)', 'FEMALE (RURAL)',\n",
       "       'TRANSGENDER (RURAL)', 'SEX RATIO (RURAL)',\n",
       "       'AVG HOUSEHOLD SIZE (RURAL)', 'POPULATION 1998 (RURAL)',\n",
       "       'ANNUAL GROWTH RATE (RURAL)', 'ALL SEXES (URBAN)', 'MALE (URBAN)',\n",
       "       'FEMALE (URBAN)', 'TRANSGENDER (URBAN)', 'SEX RATIO (URBAN)',\n",
       "       'AVG HOUSEHOLD SIZE (URBAN)', 'POPULATION 1998 (URBAN)',\n",
       "       'ANNUAL GROWTH RATE (URBAN)'],\n",
       "      dtype='object')"
      ]
     },
     "execution_count": 14,
     "metadata": {},
     "output_type": "execute_result"
    }
   ],
   "source": [
    "df.columns"
   ]
  },
  {
   "cell_type": "code",
   "execution_count": 15,
   "id": "9f2105be",
   "metadata": {},
   "outputs": [
    {
     "data": {
      "text/plain": [
       "<Axes: xlabel='PROVINCE', ylabel='ALL SEXES (RURAL)'>"
      ]
     },
     "execution_count": 15,
     "metadata": {},
     "output_type": "execute_result"
    },
    {
     "data": {
      "image/png": "[encoded data removed]",
      "text/plain": [
       "<Figure size 640x480 with 1 Axes>"
      ]
     },
     "metadata": {},
     "output_type": "display_data"
    }
   ],
   "source": [
    "sns.boxenplot(df, x='PROVINCE', y='ALL SEXES (RURAL)')"
   ]
  },
  {
   "cell_type": "code",
   "execution_count": 16,
   "id": "74b2f403",
   "metadata": {},
   "outputs": [
    {
     "data": {
      "text/plain": [
       "<Axes: xlabel='DIVISION', ylabel='ALL SEXES (RURAL)'>"
      ]
     },
     "execution_count": 16,
     "metadata": {},
     "output_type": "execute_result"
    },
    {
     "data": {
      "image/png": "[encoded data removed]",
      "text/plain": [
       "<Figure size 640x480 with 1 Axes>"
      ]
     },
     "metadata": {},
     "output_type": "display_data"
    }
   ],
   "source": [
    "sns.boxenplot(df, x='DIVISION', y='ALL SEXES (RURAL)')"
   ]
  },
  {
   "cell_type": "markdown",
   "id": "92e5a74f",
   "metadata": {},
   "source": [
    "If its very hard to ploit then we will use groupby function to make tabulated data output"
   ]
  },
  {
   "cell_type": "code",
   "execution_count": 17,
   "id": "94d6c23c",
   "metadata": {},
   "outputs": [
    {
     "data": {
      "text/plain": [
       "28"
      ]
     },
     "execution_count": 17,
     "metadata": {},
     "output_type": "execute_result"
    }
   ],
   "source": [
    "df['DIVISION'].nunique()"
   ]
  },
  {
   "cell_type": "code",
   "execution_count": 18,
   "id": "47a58fd5",
   "metadata": {},
   "outputs": [
    {
     "data": {
      "application/vnd.microsoft.datawrangler.viewer.v0+json": {
       "columns": [
        {
         "name": "DIVISION",
         "rawType": "object",
         "type": "string"
        },
        {
         "name": "0",
         "rawType": "int64",
         "type": "integer"
        }
       ],
       "ref": "ce587628-d73f-4f8c-9d5e-c0af70f43a32",
       "rows": [
        [
         "Badin Division",
         "5"
        ],
        [
         "MARDAN DIVISION",
         "7"
        ],
        [
         "SAHIWAL DIVISION",
         "7"
        ],
        [
         "KOHAT DIVISION",
         "14"
        ],
        [
         "MULTAN DIVISION",
         "14"
        ],
        [
         "D.G.KHAN DIVISION",
         "14"
        ],
        [
         "DERA ISMAIL KHAN DIVISION",
         "15"
        ],
        [
         "HAZARA DIVISION",
         "15"
        ],
        [
         "BANNU DIVISION",
         "15"
        ],
        [
         "Shaheed Benazirabad Division",
         "15"
        ],
        [
         "BAHAWALPUR DIVISION",
         "15"
        ],
        [
         "LAHORE DIVISION",
         "17"
        ],
        [
         "SARGODHA DIVISION",
         "17"
        ],
        [
         "FAISALABAD DIVISION",
         "17"
        ],
        [
         "Kalat Division",
         "18"
        ],
        [
         "PESHAWAR DIVISION",
         "18"
        ],
        [
         "Mirpurkhas Division",
         "18"
        ],
        [
         "Sukkur Division",
         "18"
        ],
        [
         "Zhob Division",
         "19"
        ],
        [
         "Naseerabad Division",
         "19"
        ],
        [
         "GUJRANWALA DIVISION",
         "20"
        ],
        [
         "Larkana Division",
         "21"
        ],
        [
         "RAWALPINDI DIVISION",
         "22"
        ],
        [
         "Hyderabad Division",
         "30"
        ],
        [
         "Karachi Division",
         "30"
        ],
        [
         "MALAKAND DIVISION",
         "33"
        ],
        [
         "Makran Division",
         "37"
        ],
        [
         "Quetta Division",
         "38"
        ]
       ],
       "shape": {
        "columns": 1,
        "rows": 28
       }
      },
      "text/plain": [
       "DIVISION\n",
       "Badin Division                   5\n",
       "MARDAN DIVISION                  7\n",
       "SAHIWAL DIVISION                 7\n",
       "KOHAT DIVISION                  14\n",
       "MULTAN DIVISION                 14\n",
       "D.G.KHAN DIVISION               14\n",
       "DERA ISMAIL KHAN DIVISION       15\n",
       "HAZARA DIVISION                 15\n",
       "BANNU DIVISION                  15\n",
       "Shaheed Benazirabad Division    15\n",
       "BAHAWALPUR DIVISION             15\n",
       "LAHORE DIVISION                 17\n",
       "SARGODHA DIVISION               17\n",
       "FAISALABAD DIVISION             17\n",
       "Kalat Division                  18\n",
       "PESHAWAR DIVISION               18\n",
       "Mirpurkhas Division             18\n",
       "Sukkur Division                 18\n",
       "Zhob Division                   19\n",
       "Naseerabad Division             19\n",
       "GUJRANWALA DIVISION             20\n",
       "Larkana Division                21\n",
       "RAWALPINDI DIVISION             22\n",
       "Hyderabad Division              30\n",
       "Karachi Division                30\n",
       "MALAKAND DIVISION               33\n",
       "Makran Division                 37\n",
       "Quetta Division                 38\n",
       "dtype: int64"
      ]
     },
     "execution_count": 18,
     "metadata": {},
     "output_type": "execute_result"
    }
   ],
   "source": [
    "df.groupby(['DIVISION']).size().sort_values()"
   ]
  },
  {
   "cell_type": "code",
   "execution_count": 19,
   "id": "66a568a4",
   "metadata": {},
   "outputs": [
    {
     "data": {
      "application/vnd.microsoft.datawrangler.viewer.v0+json": {
       "columns": [
        {
         "name": "('DIVISION', 'PROVINCE', 'DISTRICT', 'SUB DIVISION', 'AREA (sq.km)', 'ALL SEXES (RURAL)', 'MALE (RURAL)', 'FEMALE (RURAL)', 'TRANSGENDER (RURAL)', 'SEX RATIO (RURAL)', 'AVG HOUSEHOLD SIZE (RURAL)', 'POPULATION 1998 (RURAL)', 'ANNUAL GROWTH RATE (RURAL)', 'ALL SEXES (URBAN)', 'MALE (URBAN)', 'FEMALE (URBAN)', 'TRANSGENDER (URBAN)', 'SEX RATIO (URBAN)', 'AVG HOUSEHOLD SIZE (URBAN)', 'POPULATION 1998 (URBAN)', 'ANNUAL GROWTH RATE (URBAN)')",
         "rawType": "object",
         "type": "unknown"
        },
        {
         "name": "count",
         "rawType": "int64",
         "type": "integer"
        }
       ],
       "ref": "12a8d8aa-c0ba-4d67-8b00-57a41eb7688a",
       "rows": [
        [
         "('BAHAWALPUR DIVISION', 'PUNJAB', 'BAHAWALNAGAR DISTRICT', 'BAHAWALNAGAR TEHSIL', np.float64(1729.0), np.int64(619550), np.int64(316864), np.int64(302644), np.int64(42), np.float64(104.7), np.float64(6.1), np.int64(407768), np.float64(2.22), np.int64(193840), np.int64(98391), np.int64(95402), np.int64(47), np.float64(103.13), np.float64(6.02), np.int64(133785), np.float64(1.97))",
         "1"
        ],
        [
         "('BAHAWALPUR DIVISION', 'PUNJAB', 'BAHAWALNAGAR DISTRICT', 'CHISHTIAN TEHSIL', np.float64(1500.0), np.int64(540342), np.int64(273788), np.int64(266500), np.int64(54), np.float64(102.73), np.float64(6.15), np.int64(395983), np.float64(1.65), np.int64(149424), np.int64(75546), np.int64(73851), np.int64(27), np.float64(102.3), np.float64(6.01), np.int64(102287), np.float64(2.01))",
         "1"
        ],
        [
         "('BAHAWALPUR DIVISION', 'PUNJAB', 'BAHAWALNAGAR DISTRICT', 'FORT ABBAS TEHSIL', np.float64(2536.0), np.int64(361240), np.int64(182655), np.int64(178541), np.int64(44), np.float64(102.3), np.float64(6.32), np.int64(250959), np.float64(1.93), np.int64(61528), np.int64(31360), np.int64(30150), np.int64(18), np.float64(104.01), np.float64(6.0), np.int64(34637), np.float64(3.06))",
         "1"
        ],
        [
         "('BAHAWALPUR DIVISION', 'PUNJAB', 'BAHAWALNAGAR DISTRICT', 'HAROONABAD TEHSIL', np.float64(1295.0), np.int64(382115), np.int64(192278), np.int64(189808), np.int64(29), np.float64(101.3), np.float64(6.15), np.int64(297343), np.float64(1.33), np.int64(142600), np.int64(71345), np.int64(71236), np.int64(19), np.float64(100.15), np.float64(6.02), np.int64(84424), np.float64(2.79))",
         "1"
        ],
        [
         "('BAHAWALPUR DIVISION', 'PUNJAB', 'BAHAWALNAGAR DISTRICT', 'MINCHINABAD TEHSIL', np.float64(1818.0), np.int64(452723), np.int64(231506), np.int64(221178), np.int64(39), np.float64(104.67), np.float64(6.29), np.int64(316593), np.float64(1.9), np.int64(72294), np.int64(36694), np.int64(35590), np.int64(10), np.float64(103.1), np.float64(6.34), np.int64(37668), np.float64(3.48))",
         "1"
        ],
        [
         "('BAHAWALPUR DIVISION', 'PUNJAB', 'BAHAWALPUR DISTRICT', 'AHMADPUR EAST TEHSIL', np.float64(1738.0), np.int64(902476), np.int64(461525), np.int64(440889), np.int64(62), np.float64(104.68), np.float64(6.53), np.int64(601406), np.float64(2.16), np.int64(176110), np.int64(90003), np.int64(86081), np.int64(26), np.float64(104.56), np.float64(6.28), np.int64(116891), np.float64(2.18))",
         "1"
        ],
        [
         "('BAHAWALPUR DIVISION', 'PUNJAB', 'BAHAWALPUR DISTRICT', 'BAHAWALPUR CITY TEHSIL', np.float64(1490.0), np.int64(0), np.int64(0), np.int64(0), np.int64(0), np.float64(0.0), np.float64(0.0), np.int64(62916), np.float64(0.0), np.int64(682116), np.int64(350186), np.int64(331842), np.int64(88), np.float64(105.53), np.float64(5.91), np.int64(356626), np.float64(3.47))",
         "1"
        ],
        [
         "('BAHAWALPUR DIVISION', 'PUNJAB', 'BAHAWALPUR DISTRICT', 'BAHAWALPUR SADDAR TEHSIL', np.float64(745.0), np.int64(467938), np.int64(239541), np.int64(228346), np.int64(51), np.float64(104.9), np.float64(6.33), np.int64(314428), np.float64(2.11), np.int64(107948), np.int64(62009), np.int64(45927), np.int64(12), np.float64(135.02), np.float64(5.98), np.int64(72610), np.float64(2.11))",
         "1"
        ],
        [
         "('BAHAWALPUR DIVISION', 'PUNJAB', 'BAHAWALPUR DISTRICT', 'HASILPUR TEHSIL', np.float64(1490.0), np.int64(340747), np.int64(171117), np.int64(169620), np.int64(10), np.float64(100.88), np.float64(6.03), np.int64(246218), np.float64(1.72), np.int64(115613), np.int64(57743), np.int64(57853), np.int64(17), np.float64(99.81), np.float64(6.09), np.int64(71295), np.float64(2.57))",
         "1"
        ],
        [
         "('BAHAWALPUR DIVISION', 'PUNJAB', 'BAHAWALPUR DISTRICT', 'KHAIRPUR TAMEWALI TEHSIL', np.float64(993.0), np.int64(221431), np.int64(112952), np.int64(108476), np.int64(3), np.float64(104.13), np.float64(6.22), np.int64(157049), np.float64(1.82), np.int64(41492), np.int64(20981), np.int64(20507), np.int64(4), np.float64(102.31), np.float64(5.75), np.int64(26854), np.float64(2.31))",
         "1"
        ],
        [
         "('BAHAWALPUR DIVISION', 'PUNJAB', 'BAHAWALPUR DISTRICT', 'YAZMAN TEHSIL', np.float64(18374.0), np.int64(564422), np.int64(288761), np.int64(275612), np.int64(49), np.float64(104.77), np.float64(6.41), np.int64(385770), np.float64(2.02), np.int64(48883), np.int64(24884), np.int64(23995), np.int64(4), np.float64(103.7), np.float64(6.18), np.int64(21028), np.float64(4.53))",
         "1"
        ],
        [
         "('BAHAWALPUR DIVISION', 'PUNJAB', 'RAHIM YAR KHAN DISTRICT', 'KHANPUR TEHSIL', np.float64(3190.0), np.int64(749218), np.int64(382228), np.int64(366927), np.int64(63), np.float64(104.17), np.float64(7.06), np.int64(533926), np.float64(1.8), np.int64(232867), np.int64(118442), np.int64(114373), np.int64(52), np.float64(103.56), np.float64(6.81), np.int64(149939), np.float64(2.34))",
         "1"
        ],
        [
         "('BAHAWALPUR DIVISION', 'PUNJAB', 'RAHIM YAR KHAN DISTRICT', 'LIAQUATPUR TEHSIL', np.float64(3262.0), np.int64(982018), np.int64(500742), np.int64(481157), np.int64(119), np.float64(104.07), np.float64(7.02), np.int64(666127), np.float64(2.06), np.int64(51888), np.int64(26238), np.int64(25637), np.int64(13), np.float64(102.34), np.float64(6.34), np.int64(32858), np.float64(2.43))",
         "1"
        ],
        [
         "('BAHAWALPUR DIVISION', 'PUNJAB', 'RAHIM YAR KHAN DISTRICT', 'RAHIM YAR KHAN TEHSIL', np.float64(2464.0), np.int64(1045577), np.int64(536887), np.int64(508580), np.int64(110), np.float64(105.57), np.float64(6.98), np.int64(710989), np.float64(2.05), np.int64(484606), np.int64(247388), np.int64(237127), np.int64(91), np.float64(104.33), np.float64(6.02), np.int64(274666), np.float64(3.03))",
         "1"
        ],
        [
         "('BAHAWALPUR DIVISION', 'PUNJAB', 'RAHIM YAR KHAN DISTRICT', 'SADIQABAD TEHSIL', np.float64(2964.0), np.int64(999966), np.int64(516640), np.int64(483247), np.int64(79), np.float64(106.91), np.float64(7.11), np.int64(613429), np.float64(2.6), np.int64(261622), np.int64(133215), np.int64(128365), np.int64(42), np.float64(103.78), np.float64(6.44), np.int64(159119), np.float64(2.65))",
         "1"
        ],
        [
         "('BANNU DIVISION', 'KPK', 'BANNU DISTRICT', 'BANNU TEHSIL', np.float64(802.0), np.int64(908155), np.int64(457808), np.int64(450324), np.int64(23), np.float64(101.66), np.float64(9.16), np.int64(525281), np.float64(2.92), np.int64(49948), np.int64(27628), np.int64(22319), np.int64(1), np.float64(123.79), np.float64(7.42), np.int64(47676), np.float64(0.24))",
         "1"
        ],
        [
         "('BANNU DIVISION', 'KPK', 'BANNU DISTRICT', 'DOMEL TEHSIL', np.float64(425.0), np.int64(208968), np.int64(107189), np.int64(101779), np.int64(0), np.float64(105.32), np.float64(10.98), np.int64(102710), np.float64(3.8), np.int64(0), np.int64(0), np.int64(0), np.int64(0), np.float64(0.0), np.float64(0.0), np.int64(0), np.float64(0.0))",
         "1"
        ],
        [
         "('BANNU DIVISION', 'KPK', 'LAKKI MARWAT DISTRICT', 'LAKKI MARWAT TEHSIL', np.float64(2541.0), np.int64(519601), np.int64(261879), np.int64(257719), np.int64(3), np.float64(101.61), np.float64(8.47), np.int64(309467), np.float64(2.76), np.int64(59273), np.int64(30735), np.int64(28538), np.int64(0), np.float64(107.7), np.float64(7.24), np.int64(30467), np.float64(3.56))",
         "1"
        ],
        [
         "('BANNU DIVISION', 'KPK', 'LAKKI MARWAT DISTRICT', 'SARAI NAURANG TEHSIL', np.float64(623.0), np.int64(266891), np.int64(134073), np.int64(132817), np.int64(1), np.float64(100.95), np.float64(9.65), np.int64(133680), np.float64(3.7), np.int64(29979), np.int64(15030), np.int64(14949), np.int64(0), np.float64(100.54), np.float64(9.22), np.int64(16411), np.float64(3.22))",
         "1"
        ],
        [
         "('BANNU DIVISION', 'KPK/FATA', 'FR BANNU DISTRICT', 'FR BANNU', np.float64(745.0), np.int64(43112), np.int64(22286), np.int64(20826), np.int64(0), np.float64(107.01), np.float64(9.74), np.int64(19593), np.float64(4.23), np.int64(0), np.int64(0), np.int64(0), np.int64(0), np.float64(0.0), np.float64(0.0), np.int64(0), np.float64(0.0))",
         "1"
        ],
        [
         "('BANNU DIVISION', 'KPK/FATA', 'FR LAKKI MARWAT DISTRICT', 'FR LAKKI MARWAT', np.float64(132.0), np.int64(26394), np.int64(13685), np.int64(12709), np.int64(0), np.float64(107.68), np.float64(7.84), np.int64(6987), np.float64(7.23), np.int64(0), np.int64(0), np.int64(0), np.int64(0), np.float64(0.0), np.float64(0.0), np.int64(0), np.float64(0.0))",
         "1"
        ],
        [
         "('BANNU DIVISION', 'KPK/FATA', 'NORTH WAZIRISTAN DISTRICT', 'DATTA KHEL TEHSIL', np.float64(1807.0), np.int64(75003), np.int64(37377), np.int64(37619), np.int64(7), np.float64(99.36), np.float64(8.47), np.int64(110006), np.float64(1.99), np.int64(0), np.int64(0), np.int64(0), np.int64(0), np.float64(0.0), np.float64(0.0), np.int64(0), np.float64(0.0))",
         "1"
        ],
        [
         "('BANNU DIVISION', 'KPK/FATA', 'NORTH WAZIRISTAN DISTRICT', 'DOSSALI TEHSIL', np.float64(250.0), np.int64(39945), np.int64(20770), np.int64(19173), np.int64(2), np.float64(108.33), np.float64(9.33), np.int64(20482), np.float64(3.57), np.int64(0), np.int64(0), np.int64(0), np.int64(0), np.float64(0.0), np.float64(0.0), np.int64(0), np.float64(0.0))",
         "1"
        ],
        [
         "('BANNU DIVISION', 'KPK/FATA', 'NORTH WAZIRISTAN DISTRICT', 'GHARYUM TEHSIL', np.float64(320.0), np.int64(11811), np.int64(6339), np.int64(5467), np.int64(5), np.float64(115.95), np.float64(6.85), np.int64(3917), np.float64(5.97), np.int64(0), np.int64(0), np.int64(0), np.int64(0), np.float64(0.0), np.float64(0.0), np.int64(0), np.float64(0.0))",
         "1"
        ],
        [
         "('BANNU DIVISION', 'KPK/FATA', 'NORTH WAZIRISTAN DISTRICT', 'GHULAM KHAN TEHSIL', np.float64(191.0), np.int64(27015), np.int64(14228), np.int64(12786), np.int64(1), np.float64(111.28), np.float64(7.56), np.int64(13251), np.float64(3.81), np.int64(0), np.int64(0), np.int64(0), np.int64(0), np.float64(0.0), np.float64(0.0), np.int64(0), np.float64(0.0))",
         "1"
        ],
        [
         "('BANNU DIVISION', 'KPK/FATA', 'NORTH WAZIRISTAN DISTRICT', 'MIR ALI TEHSIL', np.float64(605.0), np.int64(184986), np.int64(94496), np.int64(90481), np.int64(9), np.float64(104.44), np.float64(7.7), np.int64(93855), np.float64(3.63), np.int64(0), np.int64(0), np.int64(0), np.int64(0), np.float64(0.0), np.float64(0.0), np.int64(0), np.float64(0.0))",
         "1"
        ],
        [
         "('BANNU DIVISION', 'KPK/FATA', 'NORTH WAZIRISTAN DISTRICT', 'MIRAN SHAH TEHSIL', np.float64(402.0), np.int64(96280), np.int64(48603), np.int64(47675), np.int64(2), np.float64(101.95), np.float64(9.23), np.int64(61565), np.float64(2.38), np.int64(4364), np.int64(3267), np.int64(1097), np.int64(0), np.float64(297.81), np.float64(6.99), np.int64(5965), np.float64(1.63))",
         "1"
        ],
        [
         "('BANNU DIVISION', 'KPK/FATA', 'NORTH WAZIRISTAN DISTRICT', 'RAZMAK TEHSIL', np.float64(191.0), np.int64(15681), np.int64(8229), np.int64(7451), np.int64(1), np.float64(110.44), np.float64(6.91), np.int64(5729), np.float64(5.43), np.int64(0), np.int64(0), np.int64(0), np.int64(0), np.float64(0.0), np.float64(0.0), np.int64(0), np.float64(0.0))",
         "1"
        ],
        [
         "('BANNU DIVISION', 'KPK/FATA', 'NORTH WAZIRISTAN DISTRICT', 'SHEWA TEHSIL', np.float64(393.0), np.int64(39290), np.int64(19997), np.int64(19290), np.int64(3), np.float64(103.67), np.float64(9.59), np.int64(22956), np.float64(2.86), np.int64(0), np.int64(0), np.int64(0), np.int64(0), np.float64(0.0), np.float64(0.0), np.int64(0), np.float64(0.0))",
         "1"
        ],
        [
         "('BANNU DIVISION', 'KPK/FATA', 'NORTH WAZIRISTAN DISTRICT', 'SPINWAM TEHSIL', np.float64(548.0), np.int64(46171), np.int64(24443), np.int64(21725), np.int64(3), np.float64(112.51), np.float64(12.43), np.int64(23520), np.float64(3.61), np.int64(0), np.int64(0), np.int64(0), np.int64(0), np.float64(0.0), np.float64(0.0), np.int64(0), np.float64(0.0))",
         "1"
        ],
        [
         "('Badin Division', 'SINDH', 'BADIN DISTRICT', 'BADIN TALUKA', np.float64(1816.0), np.int64(322957), np.int64(166841), np.int64(156079), np.int64(37), np.float64(106.9), np.float64(4.91), np.int64(220598), np.float64(2.02), np.int64(131619), np.int64(67672), np.int64(63924), np.int64(23), np.float64(105.86), np.float64(5.0), np.int64(68661), np.float64(3.48))",
         "1"
        ],
        [
         "('Badin Division', 'SINDH', 'BADIN DISTRICT', 'GOLARCHI (S.F.RAHU) TALUKA', np.float64(1642.0), np.int64(281087), np.int64(145296), np.int64(135779), np.int64(12), np.float64(107.01), np.float64(5.24), np.int64(163664), np.float64(2.88), np.int64(53353), np.int64(27625), np.int64(25711), np.int64(17), np.float64(107.44), np.float64(5.26), np.int64(19027), np.float64(5.57))",
         "1"
        ],
        [
         "('Badin Division', 'SINDH', 'BADIN DISTRICT', 'MATLI TALUKA', np.float64(1143.0), np.int64(346413), np.int64(178283), np.int64(168105), np.int64(25), np.float64(106.05), np.float64(5.06), np.int64(226306), np.float64(2.26), np.int64(98287), np.int64(50438), np.int64(47823), np.int64(26), np.float64(105.47), np.float64(5.4), np.int64(56967), np.float64(2.91))",
         "1"
        ],
        [
         "('Badin Division', 'SINDH', 'BADIN DISTRICT', 'TALHAR TALUKA', np.float64(569.0), np.int64(123329), np.int64(63538), np.int64(59783), np.int64(8), np.float64(106.28), np.float64(4.82), np.int64(84883), np.float64(1.98), np.int64(48685), np.int64(24858), np.int64(23819), np.int64(8), np.float64(104.36), np.float64(4.83), np.int64(23019), np.float64(4.01))",
         "1"
        ],
        [
         "('Badin Division', 'SINDH', 'BADIN DISTRICT', 'TANDO BAGO TALUKA', np.float64(1688.0), np.int64(340828), np.int64(176436), np.int64(164367), np.int64(25), np.float64(107.34), np.float64(4.82), np.int64(224333), np.float64(2.22), np.int64(58400), np.int64(30190), np.int64(28199), np.int64(11), np.float64(107.06), np.float64(4.75), np.int64(18814), np.float64(6.13))",
         "1"
        ],
        [
         "('D.G.KHAN DIVISION', 'PUNJAB', 'DERA GHAZI KHAN DISTRICT', 'DE-EXCLUDED AREA D.G KHAN', np.float64(5339.0), np.int64(212652), np.int64(109429), np.int64(103213), np.int64(10), np.float64(106.02), np.float64(7.35), np.int64(126198), np.float64(2.78), np.int64(0), np.int64(0), np.int64(0), np.int64(0), np.float64(0.0), np.float64(0.0), np.int64(0), np.float64(0.0))",
         "1"
        ],
        [
         "('D.G.KHAN DIVISION', 'PUNJAB', 'DERA GHAZI KHAN DISTRICT', 'DERA GHAZI KHAN TEHSIL', np.float64(2012.0), np.int64(827602), np.int64(410429), np.int64(417124), np.int64(49), np.float64(98.39), np.float64(9.27), np.int64(522388), np.float64(2.45), np.int64(397362), np.int64(201554), np.int64(195775), np.int64(33), np.float64(102.95), np.float64(7.29), np.int64(190542), np.float64(3.94))",
         "1"
        ],
        [
         "('D.G.KHAN DIVISION', 'PUNJAB', 'DERA GHAZI KHAN DISTRICT', 'KOT CHHUTTA TEHSIL', np.float64(1802.0), np.int64(705564), np.int64(353638), np.int64(351884), np.int64(42), np.float64(100.5), np.float64(8.86), np.int64(438306), np.float64(2.53), np.int64(51666), np.int64(25837), np.int64(25820), np.int64(9), np.float64(100.07), np.float64(9.1), np.int64(0), np.float64(0.0))",
         "1"
        ],
        [
         "('D.G.KHAN DIVISION', 'PUNJAB', 'DERA GHAZI KHAN DISTRICT', 'TAUNSA TEHSIL', np.float64(2769.0), np.int64(580592), np.int64(300077), np.int64(280483), np.int64(32), np.float64(106.99), np.float64(7.29), np.int64(327387), np.float64(3.06), np.int64(97193), np.int64(50363), np.int64(46828), np.int64(2), np.float64(107.55), np.float64(6.89), np.int64(38297), np.float64(5.01))",
         "1"
        ],
        [
         "('D.G.KHAN DIVISION', 'PUNJAB', 'LAYYAH DISTRICT', 'CHOUBARA TEHSIL', np.float64(2754.0), np.int64(204169), np.int64(104011), np.int64(100150), np.int64(8), np.float64(103.86), np.float64(6.84), np.int64(161010), np.float64(1.26), np.int64(48371), np.int64(24515), np.int64(23853), np.int64(3), np.float64(102.78), np.float64(6.77), np.int64(0), np.float64(0.0))",
         "1"
        ],
        [
         "('D.G.KHAN DIVISION', 'PUNJAB', 'LAYYAH DISTRICT', 'LAYYAH TEHSIL', np.float64(1712.0), np.int64(783612), np.int64(398960), np.int64(384606), np.int64(46), np.float64(103.73), np.float64(6.21), np.int64(485182), np.float64(2.55), np.int64(193476), np.int64(98457), np.int64(94988), np.int64(31), np.float64(103.65), np.float64(6.21), np.int64(105860), np.float64(3.22))",
         "1"
        ],
        [
         "('D.G.KHAN DIVISION', 'PUNJAB', 'MUZAFFARGARH DISTRICT', 'ALIPUR TEHSIL', np.float64(1391.0), np.int64(595880), np.int64(307377), np.int64(288463), np.int64(40), np.float64(106.56), np.float64(6.92), np.int64(369452), np.float64(2.54), np.int64(44504), np.int64(22504), np.int64(21994), np.int64(6), np.float64(102.32), np.float64(6.54), np.int64(28601), np.float64(2.35))",
         "1"
        ],
        [
         "('D.G.KHAN DIVISION', 'PUNJAB', 'MUZAFFARGARH DISTRICT', 'JATOI TEHSIL', np.float64(1010.0), np.int64(555795), np.int64(285241), np.int64(270521), np.int64(33), np.float64(105.44), np.float64(6.25), np.int64(393772), np.float64(1.83), np.int64(159382), np.int64(81219), np.int64(78150), np.int64(13), np.float64(103.93), np.float64(5.95), np.int64(52774), np.float64(5.98))",
         "1"
        ],
        [
         "('D.G.KHAN DIVISION', 'PUNJAB', 'MUZAFFARGARH DISTRICT', 'KOT ADDU TEHSIL', np.float64(3471.0), np.int64(1093354), np.int64(560409), np.int64(532894), np.int64(51), np.float64(105.16), np.float64(6.53), np.int64(688771), np.float64(2.46), np.int64(254147), np.int64(129553), np.int64(124566), np.int64(28), np.float64(104.0), np.float64(6.37), np.int64(119667), np.float64(4.04))",
         "1"
        ],
        [
         "('D.G.KHAN DIVISION', 'PUNJAB', 'MUZAFFARGARH DISTRICT', 'MUZAFFARGARH TEHSIL', np.float64(2377.0), np.int64(1385109), np.int64(711866), np.int64(673133), np.int64(110), np.float64(105.75), np.float64(6.45), np.int64(842563), np.float64(2.65), np.int64(240378), np.int64(124916), np.int64(115424), np.int64(38), np.float64(108.22), np.float64(6.37), np.int64(140303), np.float64(2.87))",
         "1"
        ],
        [
         "('D.G.KHAN DIVISION', 'PUNJAB', 'RAJANPUR DISTRICT', 'DE-EXCLUDED AREA RAJANPUR', np.float64(5013.0), np.int64(34191), np.int64(18280), np.int64(15909), np.int64(2), np.float64(114.9), np.float64(6.56), np.int64(14051), np.float64(4.78), np.int64(0), np.int64(0), np.int64(0), np.int64(0), np.float64(0.0), np.float64(0.0), np.int64(0), np.float64(0.0))",
         "1"
        ],
        [
         "('D.G.KHAN DIVISION', 'PUNJAB', 'RAJANPUR DISTRICT', 'JAMPUR TEHSIL', np.float64(2322.0), np.int64(739299), np.int64(377811), np.int64(361435), np.int64(53), np.float64(104.53), np.float64(7.8), np.int64(417338), np.float64(3.05), np.int64(110090), np.int64(55953), np.int64(54121), np.int64(16), np.float64(103.39), np.float64(6.92), np.int64(67713), np.float64(2.59))",
         "1"
        ],
        [
         "('D.G.KHAN DIVISION', 'PUNJAB', 'RAJANPUR DISTRICT', 'RAJANPUR TEHSIL', np.float64(2078.0), np.int64(494109), np.int64(254955), np.int64(239095), np.int64(59), np.float64(106.63), np.float64(7.62), np.int64(314641), np.float64(2.4), np.int64(212661), np.int64(109228), np.int64(103394), np.int64(39), np.float64(105.64), np.float64(7.17), np.int64(81312), np.float64(5.18))",
         "1"
        ],
        [
         "('D.G.KHAN DIVISION', 'PUNJAB', 'RAJANPUR DISTRICT', 'ROJHAN TEHSIL', np.float64(2905.0), np.int64(391144), np.int64(204450), np.int64(186658), np.int64(36), np.float64(109.53), np.float64(6.99), np.int64(197433), np.float64(3.66), np.int64(14545), np.int64(7487), np.int64(7056), np.int64(2), np.float64(106.11), np.float64(7.38), np.int64(11130), np.float64(1.42))",
         "1"
        ],
        [
         "('DERA ISMAIL KHAN DIVISION', 'KPK', 'DERA ISMAIL KHAN DISTRICT', 'DARABAN TEHSIL', np.float64(1540.0), np.int64(124318), np.int64(64533), np.int64(59784), np.int64(1), np.float64(107.94), np.float64(8.22), np.int64(73658), np.float64(2.79), np.int64(0), np.int64(0), np.int64(0), np.int64(0), np.float64(0.0), np.float64(0.0), np.int64(0), np.float64(0.0))",
         "1"
        ]
       ],
       "shape": {
        "columns": 1,
        "rows": 528
       }
      },
      "text/plain": [
       "DIVISION                      PROVINCE     DISTRICT                      SUB DIVISION                 AREA (sq.km)  ALL SEXES (RURAL)  MALE (RURAL)  FEMALE (RURAL)  TRANSGENDER (RURAL)  SEX RATIO (RURAL)  AVG HOUSEHOLD SIZE (RURAL)  POPULATION 1998 (RURAL)  ANNUAL GROWTH RATE (RURAL)  ALL SEXES (URBAN)  MALE (URBAN)  FEMALE (URBAN)  TRANSGENDER (URBAN)  SEX RATIO (URBAN)  AVG HOUSEHOLD SIZE (URBAN)  POPULATION 1998 (URBAN)  ANNUAL GROWTH RATE (URBAN)\n",
       "BAHAWALPUR DIVISION           PUNJAB       BAHAWALNAGAR DISTRICT         BAHAWALNAGAR TEHSIL          1729.0        619550             316864        302644          42                   104.70             6.10                        407768                   2.22                        193840             98391         95402           47                   103.13             6.02                        133785                   1.97                          1\n",
       "                                                                         CHISHTIAN TEHSIL             1500.0        540342             273788        266500          54                   102.73             6.15                        395983                   1.65                        149424             75546         73851           27                   102.30             6.01                        102287                   2.01                          1\n",
       "                                                                         FORT ABBAS TEHSIL            2536.0        361240             182655        178541          44                   102.30             6.32                        250959                   1.93                        61528              31360         30150           18                   104.01             6.00                        34637                    3.06                          1\n",
       "                                                                         HAROONABAD TEHSIL            1295.0        382115             192278        189808          29                   101.30             6.15                        297343                   1.33                        142600             71345         71236           19                   100.15             6.02                        84424                    2.79                          1\n",
       "                                                                         MINCHINABAD TEHSIL           1818.0        452723             231506        221178          39                   104.67             6.29                        316593                   1.90                        72294              36694         35590           10                   103.10             6.34                        37668                    3.48                          1\n",
       "                                           BAHAWALPUR DISTRICT           AHMADPUR EAST TEHSIL         1738.0        902476             461525        440889          62                   104.68             6.53                        601406                   2.16                        176110             90003         86081           26                   104.56             6.28                        116891                   2.18                          1\n",
       "                                                                         BAHAWALPUR CITY TEHSIL       1490.0        0                  0             0               0                    0.00               0.00                        62916                    0.00                        682116             350186        331842          88                   105.53             5.91                        356626                   3.47                          1\n",
       "                                                                         BAHAWALPUR SADDAR TEHSIL     745.0         467938             239541        228346          51                   104.90             6.33                        314428                   2.11                        107948             62009         45927           12                   135.02             5.98                        72610                    2.11                          1\n",
       "                                                                         HASILPUR TEHSIL              1490.0        340747             171117        169620          10                   100.88             6.03                        246218                   1.72                        115613             57743         57853           17                   99.81              6.09                        71295                    2.57                          1\n",
       "                                                                         KHAIRPUR TAMEWALI TEHSIL     993.0         221431             112952        108476          3                    104.13             6.22                        157049                   1.82                        41492              20981         20507           4                    102.31             5.75                        26854                    2.31                          1\n",
       "                                                                         YAZMAN TEHSIL                18374.0       564422             288761        275612          49                   104.77             6.41                        385770                   2.02                        48883              24884         23995           4                    103.70             6.18                        21028                    4.53                          1\n",
       "                                           RAHIM YAR KHAN DISTRICT       KHANPUR TEHSIL               3190.0        749218             382228        366927          63                   104.17             7.06                        533926                   1.80                        232867             118442        114373          52                   103.56             6.81                        149939                   2.34                          1\n",
       "                                                                         LIAQUATPUR TEHSIL            3262.0        982018             500742        481157          119                  104.07             7.02                        666127                   2.06                        51888              26238         25637           13                   102.34             6.34                        32858                    2.43                          1\n",
       "                                                                         RAHIM YAR KHAN TEHSIL        2464.0        1045577            536887        508580          110                  105.57             6.98                        710989                   2.05                        484606             247388        237127          91                   104.33             6.02                        274666                   3.03                          1\n",
       "                                                                         SADIQABAD TEHSIL             2964.0        999966             516640        483247          79                   106.91             7.11                        613429                   2.60                        261622             133215        128365          42                   103.78             6.44                        159119                   2.65                          1\n",
       "BANNU DIVISION                KPK          BANNU DISTRICT                BANNU TEHSIL                 802.0         908155             457808        450324          23                   101.66             9.16                        525281                   2.92                        49948              27628         22319           1                    123.79             7.42                        47676                    0.24                          1\n",
       "                                                                         DOMEL TEHSIL                 425.0         208968             107189        101779          0                    105.32             10.98                       102710                   3.80                        0                  0             0               0                    0.00               0.00                        0                        0.00                          1\n",
       "                                           LAKKI MARWAT DISTRICT         LAKKI MARWAT TEHSIL          2541.0        519601             261879        257719          3                    101.61             8.47                        309467                   2.76                        59273              30735         28538           0                    107.70             7.24                        30467                    3.56                          1\n",
       "                                                                         SARAI NAURANG TEHSIL         623.0         266891             134073        132817          1                    100.95             9.65                        133680                   3.70                        29979              15030         14949           0                    100.54             9.22                        16411                    3.22                          1\n",
       "                              KPK/FATA     FR BANNU DISTRICT             FR BANNU                     745.0         43112              22286         20826           0                    107.01             9.74                        19593                    4.23                        0                  0             0               0                    0.00               0.00                        0                        0.00                          1\n",
       "                                           FR LAKKI MARWAT DISTRICT      FR LAKKI MARWAT              132.0         26394              13685         12709           0                    107.68             7.84                        6987                     7.23                        0                  0             0               0                    0.00               0.00                        0                        0.00                          1\n",
       "                                           NORTH WAZIRISTAN DISTRICT     DATTA KHEL TEHSIL            1807.0        75003              37377         37619           7                    99.36              8.47                        110006                   1.99                        0                  0             0               0                    0.00               0.00                        0                        0.00                          1\n",
       "                                                                         DOSSALI TEHSIL               250.0         39945              20770         19173           2                    108.33             9.33                        20482                    3.57                        0                  0             0               0                    0.00               0.00                        0                        0.00                          1\n",
       "                                                                         GHARYUM TEHSIL               320.0         11811              6339          5467            5                    115.95             6.85                        3917                     5.97                        0                  0             0               0                    0.00               0.00                        0                        0.00                          1\n",
       "                                                                         GHULAM KHAN TEHSIL           191.0         27015              14228         12786           1                    111.28             7.56                        13251                    3.81                        0                  0             0               0                    0.00               0.00                        0                        0.00                          1\n",
       "                                                                         MIR ALI TEHSIL               605.0         184986             94496         90481           9                    104.44             7.70                        93855                    3.63                        0                  0             0               0                    0.00               0.00                        0                        0.00                          1\n",
       "                                                                         MIRAN SHAH TEHSIL            402.0         96280              48603         47675           2                    101.95             9.23                        61565                    2.38                        4364               3267          1097            0                    297.81             6.99                        5965                     1.63                          1\n",
       "                                                                         RAZMAK TEHSIL                191.0         15681              8229          7451            1                    110.44             6.91                        5729                     5.43                        0                  0             0               0                    0.00               0.00                        0                        0.00                          1\n",
       "                                                                         SHEWA TEHSIL                 393.0         39290              19997         19290           3                    103.67             9.59                        22956                    2.86                        0                  0             0               0                    0.00               0.00                        0                        0.00                          1\n",
       "                                                                         SPINWAM TEHSIL               548.0         46171              24443         21725           3                    112.51             12.43                       23520                    3.61                        0                  0             0               0                    0.00               0.00                        0                        0.00                          1\n",
       "Badin Division                SINDH        BADIN DISTRICT                BADIN TALUKA                 1816.0        322957             166841        156079          37                   106.90             4.91                        220598                   2.02                        131619             67672         63924           23                   105.86             5.00                        68661                    3.48                          1\n",
       "                                                                         GOLARCHI (S.F.RAHU) TALUKA   1642.0        281087             145296        135779          12                   107.01             5.24                        163664                   2.88                        53353              27625         25711           17                   107.44             5.26                        19027                    5.57                          1\n",
       "                                                                         MATLI TALUKA                 1143.0        346413             178283        168105          25                   106.05             5.06                        226306                   2.26                        98287              50438         47823           26                   105.47             5.40                        56967                    2.91                          1\n",
       "                                                                         TALHAR TALUKA                569.0         123329             63538         59783           8                    106.28             4.82                        84883                    1.98                        48685              24858         23819           8                    104.36             4.83                        23019                    4.01                          1\n",
       "                                                                         TANDO BAGO TALUKA            1688.0        340828             176436        164367          25                   107.34             4.82                        224333                   2.22                        58400              30190         28199           11                   107.06             4.75                        18814                    6.13                          1\n",
       "D.G.KHAN DIVISION             PUNJAB       DERA GHAZI KHAN DISTRICT      DE-EXCLUDED AREA D.G KHAN    5339.0        212652             109429        103213          10                   106.02             7.35                        126198                   2.78                        0                  0             0               0                    0.00               0.00                        0                        0.00                          1\n",
       "                                                                         DERA GHAZI KHAN TEHSIL       2012.0        827602             410429        417124          49                   98.39              9.27                        522388                   2.45                        397362             201554        195775          33                   102.95             7.29                        190542                   3.94                          1\n",
       "                                                                         KOT CHHUTTA TEHSIL           1802.0        705564             353638        351884          42                   100.50             8.86                        438306                   2.53                        51666              25837         25820           9                    100.07             9.10                        0                        0.00                          1\n",
       "                                                                         TAUNSA TEHSIL                2769.0        580592             300077        280483          32                   106.99             7.29                        327387                   3.06                        97193              50363         46828           2                    107.55             6.89                        38297                    5.01                          1\n",
       "                                           LAYYAH DISTRICT               CHOUBARA TEHSIL              2754.0        204169             104011        100150          8                    103.86             6.84                        161010                   1.26                        48371              24515         23853           3                    102.78             6.77                        0                        0.00                          1\n",
       "                                                                         LAYYAH TEHSIL                1712.0        783612             398960        384606          46                   103.73             6.21                        485182                   2.55                        193476             98457         94988           31                   103.65             6.21                        105860                   3.22                          1\n",
       "                                           MUZAFFARGARH DISTRICT         ALIPUR TEHSIL                1391.0        595880             307377        288463          40                   106.56             6.92                        369452                   2.54                        44504              22504         21994           6                    102.32             6.54                        28601                    2.35                          1\n",
       "                                                                         JATOI TEHSIL                 1010.0        555795             285241        270521          33                   105.44             6.25                        393772                   1.83                        159382             81219         78150           13                   103.93             5.95                        52774                    5.98                          1\n",
       "                                                                         KOT ADDU TEHSIL              3471.0        1093354            560409        532894          51                   105.16             6.53                        688771                   2.46                        254147             129553        124566          28                   104.00             6.37                        119667                   4.04                          1\n",
       "                                                                         MUZAFFARGARH TEHSIL          2377.0        1385109            711866        673133          110                  105.75             6.45                        842563                   2.65                        240378             124916        115424          38                   108.22             6.37                        140303                   2.87                          1\n",
       "                                           RAJANPUR DISTRICT             DE-EXCLUDED AREA RAJANPUR    5013.0        34191              18280         15909           2                    114.90             6.56                        14051                    4.78                        0                  0             0               0                    0.00               0.00                        0                        0.00                          1\n",
       "                                                                         JAMPUR TEHSIL                2322.0        739299             377811        361435          53                   104.53             7.80                        417338                   3.05                        110090             55953         54121           16                   103.39             6.92                        67713                    2.59                          1\n",
       "                                                                         RAJANPUR TEHSIL              2078.0        494109             254955        239095          59                   106.63             7.62                        314641                   2.40                        212661             109228        103394          39                   105.64             7.17                        81312                    5.18                          1\n",
       "                                                                         ROJHAN TEHSIL                2905.0        391144             204450        186658          36                   109.53             6.99                        197433                   3.66                        14545              7487          7056            2                    106.11             7.38                        11130                    1.42                          1\n",
       "DERA ISMAIL KHAN DIVISION     KPK          DERA ISMAIL KHAN DISTRICT     DARABAN TEHSIL               1540.0        124318             64533         59784           1                    107.94             8.22                        73658                    2.79                        0                  0             0               0                    0.00               0.00                        0                        0.00                          1\n",
       "                                                                         DERA ISMAIL KHAN TEHSIL      1167.0        507431             260671        246730          30                   105.65             8.62                        270676                   3.36                        218018             114116        103865          37                   109.87             6.54                        92114                    4.63                          1\n",
       "                                                                         KULACHI TEHSIL               1229.0        77139              39956         37181           2                    107.46             8.67                        48143                    2.51                        24753              12750         12003           0                    106.22             6.91                        19113                    1.37                          1\n",
       "                                                                         PAHARPUR TEHSIL              1657.0        303520             154668        148834          18                   103.92             7.64                        204009                   2.11                        77566              40040         37521           5                    106.71             8.27                        14580                    9.18                          1\n",
       "                                                                         PAROA TEHSIL                 1733.0        252462             130064        122390          8                    106.27             8.41                        130702                   3.52                        39881              20887         18993           1                    109.97             7.75                        0                        0.00                          1\n",
       "                                           TANK DISTRICT                 TANK TEHSIL                  1679.0        343562             175264        168273          25                   104.15             8.98                        202475                   2.82                        47064              24836         22226           2                    111.74             8.03                        35741                    1.46                          1\n",
       "                              KPK/FATA     FR D.I.KHAN DISTRICT          FR D.I.KHAN                  2008.0        68506              35356         33146           4                    106.67             9.56                        38990                    3.01                        0                  0             0               0                    0.00               0.00                        0                        0.00                          1\n",
       "                                           SOUTH WAZIRISTAN DISTRICT     BIRMIL TEHSIL                923.0         104282             54323         49948           11                   108.76             9.44                        58512                    3.08                        0                  0             0               0                    0.00               0.00                        0                        0.00                          1\n",
       "                                                                         LADHA TEHSIL                 466.0         110842             57755         53080           7                    108.81             6.36                        72278                    2.27                        0                  0             0               0                    0.00               0.00                        0                        0.00                          1\n",
       "                                                                         MAKIN TEHSIL                 404.0         58646              30906         27738           2                    111.42             6.35                        30528                    3.49                        0                  0             0               0                    0.00               0.00                        0                        0.00                          1\n",
       "                                                                         SARAROGHA TEHSIL             813.0         98180              51479         46694           7                    110.25             7.57                        72063                    1.64                        0                  0             0               0                    0.00               0.00                        0                        0.00                          1\n",
       "                                                                         SERWEKAI TEHSIL              398.0         54540              28695         25844           1                    111.03             7.20                        31472                    2.93                        0                  0             0               0                    0.00               0.00                        0                        0.00                          1\n",
       "                                                                         TIARZA TEHSIL                734.0         45156              23649         21507           0                    109.96             7.99                        37708                    0.95                        0                  0             0               0                    0.00               0.00                        0                        0.00                          1\n",
       "                                                                         TOI KHULLA TEHSIL            567.0         50413              27462         22947           4                    119.68             9.34                        36508                    1.71                        0                  0             0               0                    0.00               0.00                        0                        0.00                          1\n",
       "                                                                         WANA TEHSIL                  2315.0        153156             81342         71796           18                   113.30             10.19                       90772                    2.79                        0                  0             0               0                    0.00               0.00                        0                        0.00                          1\n",
       "FAISALABAD DIVISION           PUNJAB       CHINIOT DISTRICT              BHAWANA TEHSIL               879.0         339754             173525        166193          36                   104.41             6.26                        258757                   1.44                        34087              17264         16819           4                    102.65             6.35                        13997                    4.79                          1\n",
       "                                                                         CHINIOT TEHSIL               709.0         277268             141800        135447          21                   104.69             6.38                        210354                   1.46                        278528             143956        134539          33                   107.00             6.52                        172522                   2.55                          1\n",
       "                                                                         LALIAN TEHSIL                1055.0        329407             168126        161259          22                   104.26             6.09                        236830                   1.75                        109615             54935         54657           23                   100.51             5.32                        72664                    2.18                          1\n",
       "                                           FAISALABAD DISTRICT           CHAK JHUMRA TEHSIL           654.0         284170             143009        141136          25                   101.33             6.57                        221695                   1.31                        48796              24664         24123           9                    102.24             6.12                        32111                    2.22                          1\n",
       "                                                                         FAISALABAD CITY TEHSIL       168.0         34101              17534         16561           6                    105.88             6.33                        131485                   6.84                        3210158            1651684       1558106         368                  106.01             6.30                        2008861                  2.49                          1\n",
       "                                                                         FAISALABAD SADAR TEHSIL      1186.0        1425154            730729        694280          145                  105.25             6.54                        900984                   2.44                        39873              20160         19713           0                    102.27             6.56                        23126                    2.90                          1\n",
       "                                                                         JARANWALA TEHSIL             1811.0        1267317            651051        616147          119                  105.66             6.55                        924849                   1.67                        226606             116758        109810          38                   106.33             6.45                        136997                   2.68                          1\n",
       "                                                                         SAMMUNDRI TEHSIL             754.0         486176             245494        240637          45                   102.02             6.54                        453729                   0.36                        156938             78834         78084           20                   100.96             6.39                        54908                    5.67                          1\n",
       "                                                                         TANDLIAN WALA TEHSIL         1284.0        618660             316100        302533          27                   104.48             6.47                        478372                   1.36                        84495              42915         41554           26                   103.28             6.34                        62430                    1.60                          1\n",
       "                                           JHANG DISTRICT                18-HAZARI TEHSIL             1566.0        268160             135653        132487          20                   102.39             6.12                        200036                   1.55                        27554              14039         13513           2                    103.89             6.27                        0                        0.00                          1\n",
       "                                                                         AHMADPUR SIAL TEHSIL         851.0         365900             185430        180440          30                   102.77             6.69                        250117                   2.02                        67634              34066         33561           7                    101.50             6.52                        46348                    2.01                          1\n",
       "                                                                         JHANG TEHSIL                 2591.0        1035377            528229        507071          77                   104.17             6.26                        694457                   2.12                        429441             219152        210209          80                   104.25             6.19                        304673                   1.82                          1\n",
       "                                                                         SHORKOT TEHSIL               1158.0        474764             241172        233557          35                   103.26             6.64                        321004                   2.08                        73803              37187         36606           10                   101.59             5.85                        52786                    1.78                          1\n",
       "                                           TOBA TEK SINGH DISTRICT       GOJRA TEHSIL                 851.0         482391             242314        240026          51                   100.95             6.62                        377204                   1.30                        174831             87132         87664           35                   99.39              6.28                        117892                   2.09                          1\n",
       "                                                                         KAMALIA TEHSIL               486.0         236336             119521        116794          21                   102.33             6.67                        186350                   1.26                        135674             67973         67672           29                   100.44             6.35                        97324                    1.76                          1\n",
       "                                                                         PIRMAHAL TEHSIL              774.0         378026             190292        187703          31                   101.38             6.51                        258335                   2.02                        44220              22174         22030           16                   100.65             5.81                        30257                    2.01                          1\n",
       "                                                                         TOBA TEK SINGH TEHSIL        1141.0        652771             328034        324693          44                   101.03             6.31                        494293                   1.47                        87246              42925         44297           24                   96.90              5.91                        59938                    1.99                          1\n",
       "GUJRANWALA DIVISION           PUNJAB       GUJRANWALA DISTRICT           GUJRANWALA CITY TEHSIL       131.0         73890              37904         35977           9                    105.36             6.52                        20654                    6.93                        185874             93470         92388           16                   101.17             6.74                        94468                    3.62                          1\n",
       "                                                                         GUJRANWALA SADDAR TEHSIL     783.0         641189             321787        319316          86                   100.77             6.74                        586535                   0.47                        2165340            1104898       1060164         278                  104.22             6.52                        1225602                  3.04                          1\n",
       "                                                                         KAMOKE TEHSIL                834.0         330876             167798        163050          28                   102.91             7.16                        253078                   1.42                        248814             126412        122342          60                   103.33             6.68                        152288                   2.61                          1\n",
       "                                                                         NOWSHERA VIRKAN TEHSIL       678.0         485434             243677        241716          41                   100.81             7.03                        390142                   1.15                        49377              24712         24657           8                    100.22             7.10                        33940                    1.99                          1\n",
       "                                                                         WAZIRABAD TEHSIL             1196.0        530559             260858        269656          45                   96.74              6.54                        431493                   1.09                        299713             147474        152191          48                   96.90              6.13                        212740                   1.82                          1\n",
       "                                           GUJRAT DISTRICT               GUJRAT TEHSIL                1463.0        954998             458232        496703          63                   92.25              6.30                        729885                   1.42                        542708             267839        274804          65                   97.47              6.11                        363203                   2.13                          1\n",
       "                                                                         KHARIAN TEHSIL               1154.0        781334             368221        413045          68                   89.15              6.25                        611829                   1.29                        229928             121978        107945          5                    113.00             6.07                        167803                   1.67                          1\n",
       "                                                                         SARAI ALAMGIR TEHSIL         575.0         192457             91893         100549          15                   91.39              6.01                        138122                   1.76                        54864              26612         28249           3                    94.21              5.81                        37166                    2.07                          1\n",
       "                                           HAFIZABAD DISTRICT            HAFIZABAD TEHSIL             1189.0        400049             200710        199314          25                   100.70             6.70                        337482                   0.90                        263867             132881        130957          29                   101.47             6.57                        147705                   3.10                          1\n",
       "                                                                         PINDI BHATTIAN TEHSIL        1178.0        354176             180597        173563          16                   104.05             6.46                        268383                   1.47                        138862             70480         68354           28                   103.11             6.51                        79410                    2.98                          1\n",
       "                                           MANDI BAHAUDDIN DISTRICT      MALAKWAL TEHSIL              759.0         328748             160746        167980          22                   95.69              6.24                        250452                   1.44                        43423              20971         22431           21                   93.49              5.77                        31258                    1.74                          1\n",
       "                                                                         MANDI BAHAUDDIN TEHSIL       759.0         451306             217510        233767          29                   93.05              6.37                        365444                   1.11                        217232             106393        110779          60                   96.04              6.18                        113502                   3.47                          1\n",
       "                                                                         PHALIA TEHSIL                1155.0        487627             237748        249825          54                   95.17              6.31                        368235                   1.49                        65703              32420         33274           9                    97.43              6.18                        31661                    3.91                          1\n",
       "                                           NAROWAL DISTRICT              NAROWAL TEHSIL               1065.0        460844             230567        230243          34                   100.14             7.18                        342064                   1.58                        135695             67681         67987           27                   99.55              6.59                        83815                    2.56                          1\n",
       "                                                                         SHAKARGARH TEHSIL            835.0         590387             287663        302682          42                   95.04              7.20                        470108                   1.20                        81643              39775         41854           14                   95.03              6.22                        50747                    2.53                          1\n",
       "                                                                         ZAFARWAL TEHSIL              437.0         399687             195066        204588          33                   95.35              7.16                        298539                   1.54                        39319              19182         20118           19                   95.35              6.62                        19824                    3.66                          1\n",
       "                                           SIALKOT DISTRICT              DASKA TEHSIL                 690.0         643101             317238        325790          73                   97.37              6.90                        482078                   1.53                        204016             100737        103252          27                   97.56              6.76                        123357                   2.68                          1\n",
       "                                                                         PASRUR TEHSIL                975.0         719133             351782        367278          73                   95.78              6.99                        534176                   1.57                        121714             60280         61407           27                   98.16              6.73                        77695                    2.39                          1\n",
       "                                                                         SAMBRIAL TEHSIL              450.0         272882             131310        141546          26                   92.77              6.61                        226030                   0.99                        137941             66951         70963           27                   94.35              6.51                        72401                    3.44                          1\n",
       "                                                                         SIALKOT TEHSIL               901.0         1115287            544590        570546          151                  95.45              6.70                        767868                   1.98                        680864             348401        332368          95                   104.82             6.28                        439876                   2.32                          1\n",
       "HAZARA DIVISION               KPK          ABBOTTABAD DISTRICT           ABBOTTABAD TEHSIL            1438.0        737167             372331        364818          18                   102.06             5.96                        502487                   2.03                        245670             130649        115003          18                   113.60             6.12                        126279                   3.56                          1\n",
       "                                                                         ALLAI TEHSIL                 804.0         180502             90363         90127           12                   100.26             6.75                        121652                   2.09                        0                  0             0               0                    0.00               0.00                        0                        0.00                          1\n",
       "                                                                         BATAGRAM TEHSIL              497.0         296247             148039        148185          23                   99.90              6.97                        185626                   2.49                        0                  0             0               0                    0.00               0.00                        0                        0.00                          1\n",
       "                                                                         HAVELIAN TEHSIL              529.0         301937             150261        151676          0                    99.07              6.30                        220275                   1.67                        48315              24616         23699           0                    103.87             6.60                        31625                    2.25                          1\n",
       "                                           HARIPUR DISTRICT              GHAZI TEHSIL                 595.0         144917             72137         72780           0                    99.12              5.80                        113049                   1.31                        0                  0             0               0                    0.00               0.00                        0                        0.00                          1\n",
       "                                                                         HARIPUR TEHSIL               1130.0        723498             358270        365211          17                   98.10              6.12                        496444                   2.00                        133100             67795         65275           30                   103.86             6.10                        82735                    2.53                          1\n",
       "                                           KOHISTAN DISTRICT             DASSU TEHSIL                 3515.0        228350             123541        104801          8                    117.88             8.28                        137519                   2.70                        0                  0             0               0                    0.00               0.00                        0                        0.00                          1\n",
       "                                                                         KANDIA TEHSIL                2088.0        77101              41799         35302           0                    118.40             7.74                        46437                    2.70                        0                  0             0               0                    0.00               0.00                        0                        0.00                          1\n",
       "                                                                         PALAS TEHSIL                 1410.0        276325             149477        126843          5                    117.84             7.64                        166403                   2.70                        0                  0             0               0                    0.00               0.00                        0                        0.00                          1\n",
       "                                                                         PATTAN TEHSIL                642.1         202935             109826        93109           0                    117.95             7.70                        122211                   2.70                        0                  0             0               0                    0.00               0.00                        0                        0.00                          1\n",
       "                                           MANSEHRA DISTRICT             BALA KOT TEHSIL              2376.0        273257             135039        138200          18                   97.71              6.00                        214630                   1.28                        0                  0             0               0                    0.00               0.00                        0                        0.00                          1\n",
       "                                                                         MANSEHRA TEHSIL              1340.0        872623             436662        435875          86                   100.18             6.51                        513599                   2.82                        144898             73525         71242           131                  103.20             6.63                        61376                    4.62                          1\n",
       "                                                                         OGHI TEHSIL                  409.0         264964             126750        138192          22                   91.72              7.06                        188552                   1.80                        0                  0             0               0                    0.00               0.00                        0                        0.00                          1\n",
       "                                           TORGHAR DISTRICT              JUDBA TEHSIL                 149.0         96888              49459         47419           10                   104.30             6.47                        84628                    0.71                        0                  0             0               0                    0.00               0.00                        0                        0.00                          1\n",
       "                                                                         KHANDER TEHSIL               305.0         74461              36600         37855           6                    96.68              6.51                        90054                    0.99                        0                  0             0               0                    0.00               0.00                        0                        0.00                          1\n",
       "Hyderabad Division            SINDH        DADU DISTRICT                 DADU TALUKA                  846.0         279085             144024        135048          13                   106.65             5.34                        218515                   1.29                        182580             93729         88831           20                   105.51             5.48                        109457                   2.72                          1\n",
       "                                                                         JOHI TALUKA                  3509.0        265358             136451        128864          43                   105.89             5.09                        189386                   1.79                        29031              14693         14330           8                    102.53             5.19                        17997                    2.54                          1\n",
       "                                                                         KHAIRPUR NATHAN SHAH TALUKA  2583.0        262064             134109        127898          57                   104.86             5.41                        203317                   1.34                        72413              37356         35054           3                    106.57             5.36                        49992                    1.97                          1\n",
       "                                                                         MEHAR TALUKA                 928.0         360477             184536        175895          46                   104.91             5.53                        266365                   1.60                        99382              50802         48560           20                   104.62             5.66                        51688                    3.49                          1\n",
       "                                           HYDERABAD DISTRICT            HYDERABAD CITY TALUKA        43.0          0                  0             0               0                    0.00               0.00                        7696                     0.00                        725153             377362        347701          90                   108.53             5.03                        517603                   1.79                          1\n",
       "                                                                         HYDERABAD TALUKA             711.0         373410             193286        180086          38                   107.33             5.10                        263986                   1.84                        92896              48603         44283           10                   109.76             5.14                        26446                    6.82                          1\n",
       "                                                                         LATIFABAD TALUKA             204.0         0                  0             0               0                    0.00               0.00                        17717                    0.00                        703690             365533        338011          146                  108.14             4.91                        546044                   1.34                          1\n",
       "                                                                         QASIMABAD TALUKA             35.0          0                  0             0               0                    0.00               0.00                        12127                    0.00                        304779             160432        144326          21                   111.16             5.03                        103247                   5.85                          1\n",
       "                                           JAMSHORO DISTRICT             KOTRI TALUKA                 1051.0        145932             78348         67565           19                   115.96             5.48                        145489                   0.02                        292131             153194        138878          59                   110.31             5.76                        62085                    8.48                          1\n",
       "                                                                         MANJHAND TALUKA              2303.0        119570             62415         57150           5                    109.21             5.24                        92426                    1.36                        21196              10882         10314           0                    105.51             5.07                        7679                     5.48                          1\n",
       "                                                                         SEHWAN TALUKA                2160.0        165467             85449         80007           11                   106.80             4.97                        121425                   1.64                        104350             54116         50207           27                   107.79             5.07                        49164                    4.03                          1\n",
       "                                                                         THANO BULA KHAN TALUKA       5690.0        130318             70918         59391           9                    119.41             5.41                        91126                    1.90                        14944              7747          7190            7                    107.75             5.85                        12700                    0.86                          1\n",
       "                                           MATIARI DISTRICT              HALA TALUKA                  488.0         144167             74227         69933           7                    106.14             5.84                        104921                   1.68                        118472             61267         57194           11                   107.12             5.69                        57060                    3.91                          1\n",
       "                                                                         MATIARI TALUKA               568.0         297950             153639        144272          39                   106.49             5.15                        188997                   2.42                        43160              22346         20808           6                    107.39             5.12                        29068                    2.10                          1\n",
       "                                                                         SAEEDABAD TALUKA             361.0         145254             74611         70629           14                   105.64             5.08                        100466                   1.96                        21037              10832         10205           0                    106.14             5.74                        13732                    2.27                          1\n",
       "                                           SUJAWAL DISTRICT              CHAMBER TALUKA               483.0         174017             89467         84533           17                   105.84             5.01                        114871                   2.21                        35308              18126         17174           8                    105.54             5.06                        23286                    2.21                          1\n",
       "                                                                         JATI TALUKA                  3489.0        189707             98600         91083           24                   108.25             5.07                        116175                   2.61                        12161              6253          5906            2                    105.88             5.16                        7782                     2.37                          1\n",
       "                                                                         MIRPUR BATHORO TALUKA        698.0         190520             99141         91353           26                   108.53             5.12                        135349                   1.81                        0                  0             0               0                    0.00               0.00                        0                        0.00                          1\n",
       "                                                                         SHAH BUNDER TALUKA           3074.0        142021             74057         67943           21                   109.00             5.08                        87174                    2.60                        20300              10378         9916            6                    104.66             4.94                        16566                    1.07                          1\n",
       "                                                                         SUJAWAL TALUKA               746.0         161083             83675         77389           19                   108.12             5.00                        104013                   2.32                        17727              9209          8514            4                    108.16             5.52                        13401                    1.48                          1\n",
       "                                           TANDO ALLAHYAR DISTRICT       BULRI SHAH KARIM TALUKA      770.0         230630             118786        111822          22                   106.23             5.12                        153434                   2.16                        213915             110447        103422          46                   106.79             5.11                        95569                    4.32                          1\n",
       "                                                                         JHANDO MARI TALUKA           626.0         223171             115059        108080          32                   106.46             4.96                        141913                   2.41                        36185              18623         17559           3                    106.06             4.97                        10687                    6.62                          1\n",
       "                                                                         TANDO ALLAHYAR TALUKA        445.0         173240             89782         83435           23                   107.61             5.12                        130486                   1.50                        17999              9319          8680            0                    107.36             4.87                        0                        0.00                          1\n",
       "                                           TANDO MUHAMMAD KHAN DISTRICT  GHORABARI TALUKA             1018.0        150844             78542         72297           5                    108.64             5.27                        105482                   1.90                        101868             52528         49324           16                   106.50             4.96                        65396                    2.36                          1\n",
       "                                                                         TANDO GHULAM HYDER TALUKA    390.0         150895             77411         73465           19                   105.37             5.24                        114751                   1.45                        6381               3292          3087            2                    106.64             5.25                        4249                     2.16                          1\n",
       "                                                                         TANDO MUHAMMAD KHAN TALUKA   263.0         153536             79437         74070           29                   107.25             5.04                        100794                   2.24                        33788              17668         16120           0                    109.60             5.64                        0                        0.00                          1\n",
       "                                           THATTA DISTRICT               GULBERG TEHSIL               14.0          0                  0             0               0                    0.00               0.00                        0                        0.00                        101876             52259         49606           11                   105.35             5.67                        37515                    5.39                          1\n",
       "                                                                         KETI BUNDER TALUKA           771.0         55429              29066         26363           0                    110.25             5.13                        38897                    1.88                        23202              11982         11217           3                    106.82             5.26                        0                        0.00                          1\n",
       "                                                                         MIRPUR SAKRO TALUKA          2958.0        294561             153190        141363          8                    108.37             5.29                        175176                   2.77                        4270               2201          2068            1                    106.43             4.73                        2513                     2.82                          1\n",
       "                                                                         THATTA TALUKA                3823.0        304828             158445        146379          4                    108.24             5.40                        216233                   1.82                        47128              24458         22665           5                    107.91             5.48                        23676                    3.68                          1\n",
       "KOHAT DIVISION                KPK          HANGU DISTRICT                HANGU TEHSIL                 669.0         221598             106089        115490          19                   91.86              10.24                       132095                   2.76                        48801              23736         25063           2                    94.71              9.40                        31022                    2.41                          1\n",
       "                                                                         TALL TEHSIL                  428.0         194711             92527         102174          10                   90.56              10.67                       118217                   2.66                        53701              26692         27005           4                    98.84              10.06                       33195                    2.56                          1\n",
       "                                           KARAK DISTRICT                BANDA DAUD SHAH TEHSIL       1465.0        155482             75250         80221           11                   93.80              9.03                        98626                    2.42                        0                  0             0               0                    0.00               0.00                        0                        0.00                          1\n",
       "                                                                         KARAK TEHSIL                 1299.0        241743             118330        123393          20                   95.90              9.14                        147865                   2.62                        51086              25627         25458           1                    100.66             9.31                        27893                    3.23                          1\n",
       "                                                                         TAKHT-E-NASRATI TEHSIL       607.0         257051             129108        127932          11                   100.92             9.87                        156412                   2.64                        0                  0             0               0                    0.00               0.00                        0                        0.00                          1\n",
       "                                           KOHAT DISTRICT                KOHAT TEHSIL                 1414.0        620442             303288        317098          56                   95.64              8.48                        344021                   3.15                        228555             121144        107367          44                   112.83             7.34                        126627                   3.15                          1\n",
       "                                                                         LACHI TEHSIL                 1131.0        102059             50384         51669           6                    97.51              7.31                        66710                    2.26                        41371              20966         20405           0                    102.75             7.13                        25286                    2.62                          1\n",
       "                              KPK/FATA     FR KOHAT DISTRICT             FR KOHAT                     446.0         118839             59983         58851           5                    101.92             8.09                        88456                    1.56                        0                  0             0               0                    0.00               0.00                        0                        0.00                          1\n",
       "                                           KURRAM DISTRICT               LOWER KURRAM TEHSIL          940.0         101386             50128         51248           10                   97.81              9.09                        64220                    2.43                        32543              16563         15973           7                    103.69             9.36                        17103                    3.44                          1\n",
       "                                                                         UPPER KURRAM TEHSIL          970.0         246934             122200        124721          13                   97.98              9.38                        177529                   1.75                        5502               2709          2793            0                    96.99              7.38                        8042                     1.97                          1\n",
       "                                           ORAKZAI DISTRICT              CENTRAL TEHSIL               399.0         59132              29440         29691           1                    99.15              8.91                        47122                    1.20                        0                  0             0               0                    0.00               0.00                        0                        0.00                          1\n",
       "                                                                         ISMAIL ZAI TEHSIL            275.0         23963              12058         11905           0                    101.29             8.28                        28843                    0.97                        0                  0             0               0                    0.00               0.00                        0                        0.00                          1\n",
       "                                                                         LOWER TEHSIL                 565.0         107323             53767         53550           6                    100.41             8.16                        65416                    2.63                        0                  0             0               0                    0.00               0.00                        0                        0.00                          1\n",
       "                                                                         UPPER TEHSIL                 299.0         63885              32299         31582           4                    102.27             7.04                        84060                    1.43                        0                  0             0               0                    0.00               0.00                        0                        0.00                          1\n",
       "Kalat Division                BALOCHISTAN  KALAT DISTRICT                GAZG SUB-TEHSIL              1390.0        5721               3112          2609            0                    119.28             6.02                        3979                     1.93                        0                  0             0               0                    0.00               0.00                        0                        0.00                          1\n",
       "                                                                         JOHAN SUB-TEHSIL             1328.0        10708              5625          5083            0                    110.66             6.80                        12299                    0.73                        0                  0             0               0                    0.00               0.00                        0                        0.00                          1\n",
       "                                                                         KALAT TEHSIL                 3788.0        92298              47816         44482           0                    107.50             6.85                        63919                    1.95                        36796              18649         18147           0                    102.77             6.40                        22646                    2.58                          1\n",
       "                                                                         MANGOCHAR TEHSIL             1148.0        65678              34177         31500           1                    108.50             7.70                        41590                    2.43                        0                  0             0               0                    0.00               0.00                        0                        0.00                          1\n",
       "                                                                         SURAB TEHSIL                 762.0         165260             84792         80468           0                    105.37             7.71                        82253                    3.73                        35597              17635         17962           0                    98.18              8.53                        11148                    6.29                          1\n",
       "                                           KHUZDAR DISTRICT              ARANJI SUB-TEHSIL            7456.0        42318              22656         19658           4                    115.25             6.00                        28561                    2.09                        0                  0             0               0                    0.00               0.00                        0                        0.00                          1\n",
       "                                                                         KARAKH SUB-TEHSIL            1352.0        31016              16082         14933           1                    107.69             5.78                        21984                    1.82                        0                  0             0               0                    0.00               0.00                        0                        0.00                          1\n",
       "                                                                         KHUZDAR TEHSIL               6112.0        117020             60438         56569           13                   106.84             6.40                        70788                    2.68                        182444             95244         87193           7                    109.23             6.88                        91057                    3.72                          1\n",
       "                                                                         MOOLA SUB-TEHSIL             3283.0        23386              12027         11350           9                    105.96             6.10                        13143                    3.07                        0                  0             0               0                    0.00               0.00                        0                        0.00                          1\n",
       "                                                                         NAL SUB-TEHSIL               4413.0        97576              51298         46267           11                   110.87             6.57                        59314                    2.65                        33321              17439         15881           1                    109.81             6.95                        0                        0.00                          1\n",
       "                                                                         ORNACH SUB-TEHSIl            3368.0        37588              20191         17395           2                    116.07             5.70                        20907                    3.13                        0                  0             0               0                    0.00               0.00                        0                        0.00                          1\n",
       "                                                                         SAROONA SUB-TEHSIL           3257.0        32125              17427         14696           2                    118.58             5.23                        20580                    2.37                        0                  0             0               0                    0.00               0.00                        0                        0.00                          1\n",
       "                                                                         WADH TEHSIL                  2118.0        77906              40448         37443           15                   108.03             6.07                        38539                    3.77                        22209              11833         10374           2                    114.06             6.27                        13794                    2.53                          1\n",
       "                                                                         ZEHRI TEHSIL                 4021.0        64199              33871         30320           8                    111.71             9.08                        25402                    4.99                        37788              20397         17389           2                    117.30             9.02                        13397                    5.60                          1\n",
       "                                           MASTUNG DISTRICT              DASHT TEHSIL                 1047.0        64765              34040         30722           3                    110.80             6.34                        24570                    5.22                        0                  0             0               0                    0.00               0.00                        0                        0.00                          1\n",
       "                                                                         KHAD KOCHA SUB-TEHSIL        640.0         38860              20265         18595           0                    108.98             6.54                        19262                    3.76                        0                  0             0               0                    0.00               0.00                        0                        0.00                          1\n",
       "                                                                         KIRDGAP SUB-TEHSIL           929.0         28624              14682         13942           0                    105.31             6.40                        24214                    0.88                        0                  0             0               0                    0.00               0.00                        0                        0.00                          1\n",
       "                                                                         MASTUNG TEHSIL               692.0         98430              50667         47763           0                    106.08             7.44                        57862                    2.83                        34997              17850         17147           0                    104.10             7.00                        24131                    1.97                          1\n",
       "Karachi Division              SINDH        KARACHI CENTRAL DISTRICT      FEROZABAD TEHSIL             20.0          0                  0             0               0                    0.00               0.00                        0                        0.00                        708598             364751        343716          131                  106.12             5.53                        530923                   1.53                          1\n",
       "                                                                         LIAQUATABAD TEHSIL           6.0           0                  0             0               0                    0.00               0.00                        0                        0.00                        496094             257941        238090          63                   108.34             5.12                        423517                   0.83                          1\n",
       "                                                                         NAZIMABAD TEHSIL             8.0           0                  0             0               0                    0.00               0.00                        0                        0.00                        449098             233469        215513          116                  108.33             5.28                        388078                   0.77                          1\n",
       "                                                                         NEW KARACHI TEHSIL           18.0          0                  0             0               0                    0.00               0.00                        0                        0.00                        446347             233024        213259          64                   109.27             5.43                        366081                   1.05                          1\n",
       "                                                                         NORTH NAZIMABAD TEHSIL       23.0          0                  0             0               0                    0.00               0.00                        0                        0.00                        871245             452843        418282          120                  108.26             5.81                        580472                   2.16                          1\n",
       "                                           KARACHI EAST DISTRICT         ARAM BAGH TEHSIL             4.0           0                  0             0               0                    0.00               0.00                        0                        0.00                        479433             250660        228699          74                   109.60             5.42                        380714                   1.22                          1\n",
       "                                                                         GULSHAN-E-IQBAL TEHSIL       29.0          0                  0             0               0                    0.00               0.00                        0                        0.00                        761631             401237        360249          145                  111.38             5.33                        521369                   2.01                          1\n",
       "                                                                         GULZAR-E-HIJRI TEHSIL        79.0          0                  0             0               0                    0.00               0.00                        0                        0.00                        841800             433347        408298          155                  106.13             5.33                        415380                   3.78                          1\n",
       "                                                                         JAMSHED QUARTERS TEHSIL      11.0          0                  0             0               0                    0.00               0.00                        0                        0.00                        792451             421544        370756          151                  113.70             6.56                        130066                   9.96                          1\n",
       "                                           KARACHI SOUTH DISTRICT        BALDIA TEHSIL                34.0          0                  0             0               0                    0.00               0.00                        99                       0.00                        141905             75570         66318           17                   113.95             5.21                        128565                   0.52                          1\n",
       "                                                                         CIVIL LINES TEHSIL           73.0          0                  0             0               0                    0.00               0.00                        0                        0.00                        128313             69314         58990           9                    117.50             4.99                        137742                   0.37                          1\n",
       "                                                                         GARDEN TEHSIL                4.0           0                  0             0               0                    0.00               0.00                        0                        0.00                        473119             255640        217438          41                   117.57             5.24                        281590                   2.76                          1\n",
       "                                                                         LYARI TEHSIL                 6.0           0                  0             0               0                    0.00               0.00                        0                        0.00                        363967             188988        174945          34                   108.03             5.32                        325716                   0.59                          1\n",
       "                                                                         SADDAR TEHSIL                35.0          0                  0             0               0                    0.00               0.00                        0                        0.00                        661926             341179        320658          89                   106.40             5.81                        594966                   0.56                          1\n",
       "                                           KARACHI WEST DISTRICT         HARBOUR TEHSIL               50.0          0                  0             0               0                    0.00               0.00                        0                        0.00                        832583             434973        397480          130                  109.43             6.40                        402463                   3.89                          1\n",
       "                                                                         KORANGI TEHSIL               59.0          0                  0             0               0                    0.00               0.00                        0                        0.00                        403574             222883        180663          28                   123.37             6.23                        327639                   1.10                          1\n",
       "                                                                         MANGHOPIR TEHSIL             342.0         160904             84561         76340           3                    110.77             6.84                        121426                   1.49                        401115             214204        186863          48                   114.63             5.95                        222106                   3.16                          1\n",
       "                                                                         MAURIPUR TEHSIL              450.0         121954             64142         57799           13                   110.97             5.86                        38055                    6.31                        550332             287384        262911          37                   109.31             6.10                        0                        0.00                          1\n",
       "                                                                         MOMINABAD TEHSIL             19.0          0                  0             0               0                    0.00               0.00                        0                        0.00                        70611              38030         32578           3                    116.74             6.39                        35879                    3.62                          1\n",
       "                                                                         ORANGI TEHSIL                9.0           0                  0             0               0                    0.00               0.00                        23514                    0.00                        845797             438296        407422          79                   107.58             5.78                        637407                   1.50                          1\n",
       "                                                                         SITE TEHSIL                  25.0          0                  0             0               0                    0.00               0.00                        0                        0.00                        520195             271646        248524          25                   109.30             6.29                        319177                   2.60                          1\n",
       "                                           KORANGI DISTRICT              AIRPORT TEHSIL               41.0          0                  0             0               0                    0.00               0.00                        0                        0.00                        520830             271575        249095          160                  109.02             5.52                        387636                   1.56                          1\n",
       "                                                                         LANDHI TEHSIL                19.0          0                  0             0               0                    0.00               0.00                        0                        0.00                        1126141            594709        531253          179                  111.94             6.05                        529837                   4.04                          1\n",
       "                                                                         MODEL COLONY TEHSIL          9.0           0                  0             0               0                    0.00               0.00                        0                        0.00                        546196             283476        262645          75                   107.93             5.86                        428937                   1.28                          1\n",
       "                                                                         SHAH FAISAL TEHSIL           21.0          0                  0             0               0                    0.00               0.00                        0                        0.00                        384389             197401        186906          82                   105.62             5.40                        262199                   2.03                          1\n",
       "                                           MALIR DISTRICT                BIN QASIM TEHSIL             447.0         248098             132391        115668          39                   114.46             5.92                        108045                   4.47                        195143             104861        90264           18                   116.17             5.84                        73928                    5.23                          1\n",
       "                                                                         GADAP TEHSIL                 1104.0        64153              34756         29396           1                    118.23             4.58                        35883                    3.10                        0                  0             0               0                    0.00               0.00                        0                        0.00                          1\n",
       "                                                                         IBRAHIM HYDRI TEHSIL         97.0          385776             203681        182077          18                   111.87             6.18                        105192                   7.07                        0                  0             0               0                    0.00               0.00                        0                        0.00                          1\n",
       "                                                                         MURAD MEMON TEHSIL           195.0         129761             69080         60679           2                    113.84             5.05                        67647                    3.48                        670004             363324        306620          60                   118.49             6.40                        371603                   3.15                          1\n",
       "                                                                         SHAH MUREED TEHSIL           276.0         29846              15699         14147           0                    110.97             4.49                        17434                    2.87                        201565             105073        96478           14                   108.91             5.20                        135033                   2.13                          1\n",
       "LAHORE DIVISION               PUNJAB       KASUR DISTRICT                CHUNIAN TEHSIL               1212.0        663615             341604        321991          20                   106.09             6.55                        523694                   1.25                        162708             84636         78042           30                   108.45             6.18                        60873                    5.30                          1\n",
       "                                                                         KASUR TEHSIL                 1493.0        845004             438789        406176          39                   108.03             6.74                        575903                   2.03                        488579             252101        236425          53                   106.63             6.35                        326889                   2.13                          1\n",
       "                                                                         KOT RADHA KISHAN TEHSIL      398.0         301629             156736        144879          14                   108.18             6.85                        193356                   2.36                        58894              30135         28749           10                   104.82             6.32                        39555                    2.11                          1\n",
       "                                                                         PATTOKI TEHSIL               892.0         753853             391493        362322          38                   108.05             6.62                        519162                   1.98                        180599             93123         87460           16                   106.47             6.42                        115074                   2.40                          1\n",
       "                                           LAHORE DISTRICT               LAHORE CANTT TEHSIL          466.0         0                  0             0               0                    0.00               0.00                        182733                   100.00                      1632702            857133        775333          236                  110.55             6.17                        735997                   4.27                          1\n",
       "                                                                         LAHORE CITY TEHSIL           214.0         0                  0             0               0                    0.00               0.00                        143532                   100.00                      3653616            1905921       1746900         795                  109.10             6.25                        2075867                  3.01                          1\n",
       "                                                                         MODEL TOWN TEHSIL            353.0         0                  0             0               0                    0.00               0.00                        273036                   100.00                      2703569            1421291       1281762         516                  110.89             6.11                        1136192                  4.66                          1\n",
       "                                                                         RAIWIND TEHSIL               467.0         0                  0             0               0                    0.00               0.00                        330620                   100.00                      848541             448403        400031          107                  112.09             6.34                        27314                    19.78                         1\n",
       "                                                                         SHALIMAR TEHSIL              272.0         0                  0             0               0                    0.00               0.00                        201105                   100.00                      2281557            1181239       1099956         362                  107.39             6.35                        1233718                  3.28                          1\n",
       "                                           NANKANA SAHIB DISTRICT        NANKANA SAHIB TEHSIL         1662.0        773871             396393        377408          70                   105.03             6.25                        615443                   1.21                        110135             55703         54411           21                   102.37             6.01                        68520                    2.52                          1\n",
       "                                                                         SANGLA HILL TEHSIL           223.0         166106             83320         82774           12                   100.66             6.46                        137652                   0.99                        61498              31046         30438           14                   102.00             6.32                        50368                    1.05                          1\n",
       "                                                                         SHAH KOT TEHSIL              331.0         169885             86217         83649           19                   103.07             6.27                        133619                   1.27                        73491              37595         35878           18                   104.79             6.11                        39263                    3.35                          1\n",
       "                                           SHEIKHUPURA DISTRICT          FEROZEWALA TEHSIL            511.0         510209             265244        244918          47                   108.30             6.62                        277111                   3.26                        284280             147335        136897          48                   107.62             6.63                        118958                   4.68                          1\n",
       "                                                                         MURIDKE TEHSIL               1028.0        426737             219623        207089          25                   106.05             6.82                        309073                   1.71                        212852             108703        104137          12                   104.38             6.61                        143296                   2.10                          1\n",
       "                                                                         SAFDARABAD TEHSIL            461.0         218751             111298        107427          26                   103.60             6.61                        180657                   1.01                        54056              26908         27136           12                   99.16              6.41                        47058                    0.73                          1\n",
       "                                                                         SHARAK PUR TEHSIL            375.0         155574             79914         75654           6                    105.63             6.81                        122561                   1.26                        41885              21163         20716           6                    102.16             6.11                        28186                    2.10                          1\n",
       "                                                                         SHEIKHUPURA TEHSIL           1369.0        947220             493745        453373          102                  108.90             6.66                        674097                   1.80                        608440             312450        295895          95                   105.59             6.43                        375167                   2.57                          1\n",
       "Larkana Division              SINDH        JACOBABAD DISTRICT            GARHI KHAIRO TALUKA          733.0         146400             74255         72130           15                   102.95             5.60                        105642                   1.73                        12619              6320          6299            0                    100.33             5.24                        11565                    0.46                          1\n",
       "                                                                         JACOBABAD TALUKA             664.0         191480             98075         93381           24                   105.03             5.95                        129218                   2.09                        191098             97597         93437           64                   104.45             5.72                        138780                   1.69                          1\n",
       "                                                                         THUL TALUKA                  1301.0        371911             190691        181181          39                   105.25             5.48                        312860                   0.91                        93501              47848         45633           20                   104.85             5.48                        29125                    6.32                          1\n",
       "                                           KAMBAR SHAHDAD KOT DISTRICT   KAMBAR ALI KHAN TALUKA       2260.0        292404             149000        143364          40                   103.93             6.33                        210565                   1.74                        100970             51678         49270           22                   104.89             5.96                        58369                    2.92                          1\n",
       "                                                                         MIRO KHAN TALUKA             374.0         115622             58917         56690           15                   103.93             5.92                        89891                    1.33                        42312              21662         20644           6                    104.93             5.98                        8891                     8.54                          1\n",
       "                                                                         NASIRABAD TALUKA             309.0         113591             57725         55848           18                   103.36             6.07                        90302                    1.21                        37819              19209         18608           2                    103.23             5.89                        23477                    2.54                          1\n",
       "                                                                         QUBO SAEED KHAN TALUKA       1033.0        58144              29585         28554           5                    103.61             6.08                        63706                    0.48                        27623              14028         13592           3                    103.21             5.76                        0                        0.00                          1\n",
       "                                                                         SHAHDAD KOT TALUKA           419.0         83629              42166         41451           12                   101.72             6.19                        66183                    1.24                        118935             60367         58552           16                   103.10             6.02                        60436                    3.62                          1\n",
       "                                                                         SUJAWAL JUNEJO TALUKA        385.0         117467             59729         57723           15                   103.48             6.28                        83026                    1.84                        0                  0             0               0                    0.00               0.00                        0                        0.00                          1\n",
       "                                                                         WARAH TALUKA                 695.0         160375             81454         78904           17                   103.23             5.85                        153672                   0.22                        69144              35047         34090           7                    102.81             5.44                        15776                    8.07                          1\n",
       "                                           KASHMORE DISTRICT             KANDHKOT TALUKA              654.0         229942             119612        110303          27                   108.44             5.48                        124800                   3.26                        136169             70458         65695           16                   107.25             5.56                        92647                    2.04                          1\n",
       "                                                                         KASHMORE TALUKA              1262.0        343986             177490        166468          28                   106.62             6.20                        208925                   2.65                        90980              47172         43786           22                   107.73             5.95                        59974                    2.21                          1\n",
       "                                                                         TANGWANI TALUKA              664.0         262749             136330        126398          21                   107.86             5.89                        175474                   2.14                        26510              13601         12908           1                    105.37             5.62                        15300                    2.93                          1\n",
       "                                           LARKANA DISTRICT              BAKRANI TALUKA               425.0         196995             100437        96535           23                   104.04             5.67                        166025                   0.90                        32205              16274         15925           6                    102.19             5.77                        5788                     9.44                          1\n",
       "                                                                         DOKRI TALUKA                 412.0         162757             83175         79568           14                   104.53             5.86                        123408                   1.46                        62202              31491         30707           4                    102.55             5.74                        45625                    1.64                          1\n",
       "                                                                         LARKANA TALUKA               549.0         247204             126010        121161          33                   104.00             5.94                        164270                   2.17                        488006             249599        238230          177                  104.77             5.69                        270283                   3.15                          1\n",
       "                                                                         RATODERO TALUKA              562.0         215932             109819        106068          45                   103.54             5.75                        157842                   1.66                        116485             59129         57336           20                   103.13             6.06                        68367                    2.84                          1\n",
       "                                           SHIKARPUR DISTRICT            GARHI YASIN TALUKA           971.0         280636             143920        136699          17                   105.28             5.96                        202962                   1.72                        35937              18433         17499           5                    105.34             5.93                        25004                    1.92                          1\n",
       "                                                                         KHANPUR TALUKA               629.0         251221             131793        119414          14                   110.37             6.35                        173075                   1.98                        24919              12790         12126           3                    105.48             5.78                        18606                    1.55                          1\n",
       "                                                                         LAKHI TALUKA                 351.0         201329             102838        98487           4                    104.42             5.80                        154812                   1.39                        47427              24345         23080           2                    105.48             5.65                        33486                    1.85                          1\n",
       "                                                                         SHIKARPUR TALUKA             561.0         196133             100919        95206           8                    106.00             5.67                        137610                   1.88                        196158             100520        95619           19                   105.13             5.97                        134883                   1.99                          1\n",
       "MALAKAND DIVISION             KPK          BUNER DISTRICT                DAGGAR TEHSIL                762.0         354809             176595        178195          19                   99.10              10.12                       197120                   3.14                        0                  0             0               0                    0.00               0.00                        0                        0.00                          1\n",
       "                                                                         GAGRA TEHSIL                 435.0         269971             134468        135495          8                    99.24              9.59                        151877                   3.07                        0                  0             0               0                    0.00               0.00                        0                        0.00                          1\n",
       "                                                                         KHADO KHEL TEHSIL            343.0         118072             58013         60056           3                    96.60              8.16                        69812                    2.80                        0                  0             0               0                    0.00               0.00                        0                        0.00                          1\n",
       "                                                                         MANDANR TEHSIL               325.0         152608             76796         75809           3                    101.30             8.52                        87239                    2.98                        0                  0             0               0                    0.00               0.00                        0                        0.00                          1\n",
       "                                           CHITRAL DISTRICT              CHITRAL TEHSIL               6458.0        228548             117356        111181          11                   105.55             7.13                        154252                   2.09                        49780              26320         23456           4                    112.21             6.95                        30622                    2.59                          1\n",
       "                                                                         MASTUJ TEHSIL                8392.0        169297             81993         87297           7                    93.92              7.45                        133815                   1.24                        0                  0             0               0                    0.00               0.00                        0                        0.00                          1\n",
       "                                           LOWER DIR DISTRICT            ADENZAI TEHSIL               372.0         317526             160421        157093          12                   102.12             8.51                        168830                   3.37                        0                  0             0               0                    0.00               0.00                        0                        0.00                          1\n",
       "                                                                         LAL QILA TEHSIL              216.0         219567             102554        117009          4                    87.65              8.79                        129305                   2.82                        0                  0             0               0                    0.00               0.00                        0                        0.00                          1\n",
       "                                                                         SAMARBAGH TEHSIL             419.0         378004             190905        187088          11                   102.04             10.17                       190072                   3.68                        0                  0             0               0                    0.00               0.00                        0                        0.00                          1\n",
       "                                                                         TEMERGARA TEHSIL             576.0         480671             235098        245555          18                   95.74              9.18                        246514                   3.57                        40314              20851         19458           5                    107.16             8.53                        44335                    0.50                          1\n",
       "                                           SHANGLA DISTRICT              ALPURI TEHSIL                1105.0        508361             257321        251029          11                   102.51             8.22                        297718                   2.85                        0                  0             0               0                    0.00               0.00                        0                        0.00                          1\n",
       "                                                                         BISHAM TEHSIL                184.0         105950             54440         51505           5                    105.70             8.41                        57739                    3.24                        0                  0             0               0                    0.00               0.00                        0                        0.00                          1\n",
       "                                                                         PURAN TEHSIL                 297.0         145298             74321         70974           3                    104.72             9.38                        79106                    3.25                        0                  0             0               0                    0.00               0.00                        0                        0.00                          1\n",
       "                                           SWAT DISTRICT                 BABUZAI TEHSIL               297.0         267947             138202        129734          11                   106.53             8.17                        148127                   3.16                        331377             171504        159823          50                   107.31             8.01                        173868                   3.45                          1\n",
       "                                                                         BARIKOT TEHSIL               419.0         89758              45747         44009           2                    103.95             8.26                        99975                    0.56                        94019              47326         46688           5                    101.37             7.86                        0                        0.00                          1\n",
       "                                                                         BEHRAIN TEHSIL               2899.0        186533             96057         90460           16                   106.19             8.39                        125247                   2.11                        61889              31825         30060           4                    105.87             7.91                        0                        0.00                          1\n",
       "                                                                         CHARBAGH TEHSIL              161.0         126001             64909         61086           6                    106.26             8.18                        73682                    2.86                        0                  0             0               0                    0.00               0.00                        0                        0.00                          1\n",
       "                                                                         KABAL TEHSIL                 485.0         302028             148325        153695          8                    96.51              8.84                        244142                   1.12                        117973             60656         57312           5                    105.83             8.40                        0                        0.00                          1\n",
       "                                                                         KHAWAZAKHELA TEHSIL          392.0         217484             110752        106728          4                    103.77             8.18                        141193                   2.30                        48016              25294         22722           0                    111.32             8.70                        0                        0.00                          1\n",
       "                                                                         MATTA TEHSIL                 684.0         423052             209762        213272          18                   98.35              8.85                        251368                   2.77                        42547              21588         20955           4                    103.02             8.38                        0                        0.00                          1\n",
       "                                           UPPER DIR DISTRICT            DIR TEHSIL                   2051.0        395425             195425        199986          14                   97.72              8.01                        212423                   3.32                        44100              22661         21437           2                    105.71             7.23                        22901                    3.50                          1\n",
       "                                                                         MALAKAND PROTECTED AREA      952.0         650120             325555        324534          31                   100.31             7.84                        409112                   2.46                        67686              34885         32799           2                    106.36             7.93                        43179                    2.39                          1\n",
       "                                                                         SAM RANI ZAI TEHSIL          280.0         303644             152141        151491          12                   100.43             7.88                        191996                   2.44                        0                  0             0               0                    0.00               0.00                        0                        0.00                          1\n",
       "                                                                         SHARINGAL TEHSIL             1140.0        185121             91723         93392           6                    98.21              7.47                        104058                   3.07                        0                  0             0               0                    0.00               0.00                        0                        0.00                          1\n",
       "                                                                         SWAT RANI ZAI TEHSIL         672.0         346476             173414        173043          19                   100.21             7.81                        217116                   2.49                        67686              34885         32799           2                    106.36             7.93                        43179                    2.39                          1\n",
       "                                                                         WARI TEHSIL                  508.0         322755             156785        165951          19                   94.48              8.01                        175069                   3.27                        0                  0             0               0                    0.00               0.00                        0                        0.00                          1\n",
       "                              KPK/FATA     BAJAUR DISTRICT               BAR CHAMER KAND TEHSIL       13.0          2868               1447          1420            1                    101.90             8.43                        3247                     0.65                        0                  0             0               0                    0.00               0.00                        0                        0.00                          1\n",
       "                                                                         BARANG TEHSIL                159.0         76493              38312         38179           2                    100.35             7.20                        50139                    2.24                        0                  0             0               0                    0.00               0.00                        0                        0.00                          1\n",
       "                                                                         KHAR BAJAUR TEHSIL           238.0         246875             126965        119894          16                   105.90             8.85                        116196                   4.04                        0                  0             0               0                    0.00               0.00                        0                        0.00                          1\n",
       "                                                                         MAMUND TEHSIL                250.0         311373             159978        151380          15                   105.68             8.66                        168283                   3.29                        0                  0             0               0                    0.00               0.00                        0                        0.00                          1\n",
       "                                                                         NAWAGAI TEHSIL               216.0         78494              40578         37910           6                    107.04             10.03                       57264                    1.67                        0                  0             0               0                    0.00               0.00                        0                        0.00                          1\n",
       "                                                                         SALARZAI TEHSIL              220.0         267636             134539        133083          14                   101.09             9.12                        141750                   3.40                        0                  0             0               0                    0.00               0.00                        0                        0.00                          1\n",
       "                                                                         UTMAN KHEL TEHSIL            194.0         107248             54217         53029           2                    102.24             9.71                        58348                    3.25                        0                  0             0               0                    0.00               0.00                        0                        0.00                          1\n",
       "MARDAN DIVISION               KPK          MARDAN DISTRICT               KATLANG TEHSIL               422.0         343225             171021        172202          2                    99.31              8.14                        221546                   2.33                        0                  0             0               0                    0.00               0.00                        0                        0.00                          1\n",
       "                                                                         MARDAN TEHSIL                857.0         1043978            525399        518577          2                    101.32             7.82                        618091                   2.79                        359024             184208        174762          54                   105.41             7.83                        245926                   2.01                          1\n",
       "                                                                         TAKHT BHAI TEHSIL            353.0         545974             278978        266992          4                    104.49             7.00                        325335                   2.76                        81198              41516         39682           0                    104.62             5.85                        49202                    2.67                          1\n",
       "                                           SWABI DISTRICT                LAHOR TEHSIL                 318.0         264463             134329        130119          15                   103.24             7.73                        159697                   2.69                        41319              20274         21043           2                    96.35              7.59                        27861                    2.09                          1\n",
       "                                                                         RAZAR TEHSIL                 418.0         558662             277621        281022          19                   98.79              7.67                        358024                   2.37                        26214              13125         13089           0                    100.28             7.19                        18082                    1.97                          1\n",
       "                                                                         SWABI TEHSIL                 389.0         250916             123384        127520          12                   96.76              7.75                        155193                   2.56                        155405             76293         79092           20                   96.46              7.49                        102813                   2.19                          1\n",
       "                                                                         TOPI TEHSIL                  418.0         275472             143808        131636          28                   109.25             7.15                        174676                   2.42                        53026              26994         26029           3                    103.71             7.28                        30458                    2.96                          1\n",
       "MULTAN DIVISION               PUNJAB       KHANEWAL DISTRICT             JAHANIAN TEHSIL              549.0         299779             151053        148708          18                   101.58             6.52                        224703                   1.53                        43646              21864         21779           3                    100.39             6.18                        24871                    3.00                          1\n",
       "                                                                         KABIRWALA TEHSIL             1804.0        809002             413527        395406          69                   104.58             6.31                        565066                   1.90                        149594             75728         73850           16                   102.54             6.34                        98812                    2.20                          1\n",
       "                                                                         KHANEWAL TEHSIL              784.0         585160             297829        287262          69                   103.68             6.03                        455413                   1.33                        271097             138280        132777          40                   104.14             5.97                        151599                   3.10                          1\n",
       "                                                                         MIAN CHANNU TEHSIL           1212.0        639860             322910        316900          50                   101.90             6.22                        459047                   1.76                        122095             61477         60590           28                   101.46             6.32                        88979                    1.68                          1\n",
       "                                           LODHRAN DISTRICT              DUNYAPUR TEHSIL              889.0         453663             228308        225323          32                   101.32             6.37                        320689                   1.84                        41554              20923         20621           10                   101.46             6.20                        29513                    1.81                          1\n",
       "                                                                         KAHROR PACCA TEHSIL          778.0         394678             201333        193317          28                   104.15             6.28                        286458                   1.70                        106285             54236         52036           13                   104.23             5.92                        75074                    1.84                          1\n",
       "                                                                         LODHRAN TEHSIL               1111.0        585751             297346        288363          42                   103.12             6.68                        394565                   2.10                        117762             59248         58496           18                   101.29             6.51                        65501                    3.13                          1\n",
       "                                           MULTAN DISTRICT               JALALPUR PIRWALA TEHSIL      978.0         487518             247132        240350          36                   102.82             6.14                        332497                   2.03                        67453              34035         33409           9                    101.87             6.05                        32219                    3.96                          1\n",
       "                                                                         MULTAN CITY TEHSIL           304.0         432114             224005        208071          38                   107.66             6.12                        303233                   1.88                        1827001            937027        889763          211                  105.31             6.15                        1078245                  2.81                          1\n",
       "                                                                         MULTAN SADDAR TEHSIL         1632.0        1238708            636150        602391          167                  105.60             6.18                        803159                   2.30                        84368              47914         36416           38                   131.57             5.60                        146875                   2.87                          1\n",
       "                                                                         SHUJABAD TEHSIL              806.0         528906             268108        260741          57                   102.83             6.37                        363214                   1.99                        80098              40824         39267           7                    103.97             6.01                        57409                    1.77                          1\n",
       "                                           VEHARI DISTRICT               BUREWALA TEHSIL              1295.0        787629             397316        390239          74                   101.81             6.30                        578486                   1.63                        232030             116541        115451          38                   100.94             6.18                        152097                   2.24                          1\n",
       "                                                                         MAILSI TEHSIL                1639.0        825158             414628        410463          67                   101.01             6.27                        615886                   1.55                        128452             64421         64002           29                   100.65             6.21                        88992                    1.95                          1\n",
       "                                                                         VEHARI TEHSIL                1430.0        783165             397067        386033          65                   102.86             6.33                        560612                   1.77                        145647             73823         71801           23                   102.82             6.19                        94343                    2.31                          1\n",
       "Makran Division               BALOCHISTAN  AWARAN DISTRICT               AWARAN TEHSIL                13075.0       8584               4334          4250            0                    101.98             5.72                        27156                    5.87                        21761              10986         10774           1                    101.97             7.81                        0                        0.00                          1\n",
       "                                                                         GISHKORE SUB-TEHSIL          4578.0        18390              9683          8704            3                    111.25             5.07                        22430                    1.04                        0                  0             0               0                    0.00               0.00                        0                        0.00                          1\n",
       "                                                                         JHAL JAO SUB-TEHSIL          9439.0        40010              20949         19056           5                    109.93             6.81                        34214                    0.83                        0                  0             0               0                    0.00               0.00                        0                        0.00                          1\n",
       "                                                                         MASHKAI TEHSIL               2418.0        20600              10472         10128           0                    103.40             6.84                        34373                    2.65                        12476              6639          5837            0                    113.74             7.82                        0                        0.00                          1\n",
       "                                           GWADAR DISTRICT               GWADAR TEHSIL                2590.0        47494              24823         22670           1                    109.50             5.93                        27593                    2.89                        90201              49901         40293           7                    123.85             6.86                        45021                    3.72                          1\n",
       "                                                                         JIWANI TEHSIL                454.0         8423               4340          4083            0                    106.29             5.75                        5716                     2.06                        18268              9511          8753            4                    108.66             6.10                        14072                    1.38                          1\n",
       "                                                                         ORMARA TEHSIL                2796.0        7881               4150          3731            0                    111.23             5.24                        7327                     0.38                        17753              10001         7752            0                    129.01             5.40                        11521                    2.30                          1\n",
       "                                                                         PASNI TEHSIL                 4822.0        26790              14155         12634           1                    112.04             6.02                        27364                    0.11                        34557              18404         16149           4                    113.96             8.15                        29538                    0.83                          1\n",
       "                                                                         SUNTSER SUB-TEHSIL           1975.0        10886              5831          5055            0                    115.35             5.31                        17346                    2.42                        0                  0             0               0                    0.00               0.00                        0                        0.00                          1\n",
       "                                           KECH DISTRICT                 BALNIGORE SUB-TEHSIL         1238.0        44595              23222         21373           0                    108.65             6.19                        19560                    4.42                        0                  0             0               0                    0.00               0.00                        0                        0.00                          1\n",
       "                                                                         BULAIDA SUB-TEHSIL           1997.0        37302              20624         16673           5                    123.70             7.47                        35251                    0.30                        39846              21248         18592           6                    114.29             6.84                        0                        0.00                          1\n",
       "                                                                         DASHT SUB-TEHSIL             2486.0        76470              41008         35459           3                    115.65             6.86                        39061                    3.59                        0                  0             0               0                    0.00               0.00                        0                        0.00                          1\n",
       "                                                                         HOSHAB SUB-TEHSIL            2213.0        52947              30389         22549           9                    134.77             6.55                        37819                    1.78                        0                  0             0               0                    0.00               0.00                        0                        0.00                          1\n",
       "                                                                         KECH (TURBAT) TEHSIL         9742.0        202777             110066        92685           26                   118.75             6.12                        88539                    4.45                        213831             118713        95086           32                   124.85             6.14                        68603                    6.15                          1\n",
       "                                                                         MAND SUB-TEHSIL              1456.0        50995              27158         23835           2                    113.94             6.00                        35281                    1.95                        0                  0             0               0                    0.00               0.00                        0                        0.00                          1\n",
       "                                                                         TUMP SUB-TEHSIL              1945.0        97665              53822         43829           14                   122.80             7.83                        51234                    3.45                        48343              25590         22751           2                    112.48             7.77                        0                        0.00                          1\n",
       "                                                                         ZAMORAN SUB-TEHSIL           1462.0        42411              21038         21370           3                    98.45              7.70                        37856                    0.60                        0                  0             0               0                    0.00               0.00                        0                        0.00                          1\n",
       "                                           KHARAN DISTRICT               KHARAN TEHSIL                5072.0        29315              15119         14196           0                    106.50             6.17                        15966                    3.24                        51388              27073         24315           0                    111.34             8.05                        27806                    3.28                          1\n",
       "                                                                         SAR KHARAN TEHSIL            3539.0        49393              25438         23955           0                    106.19             5.86                        29768                    2.70                        0                  0             0               0                    0.00               0.00                        0                        0.00                          1\n",
       "                                                                         SUB TEHSIL TOHMULK           6347.0        32670              17001         15669           0                    108.50             6.22                        23360                    1.78                        0                  0             0               0                    0.00               0.00                        0                        0.00                          1\n",
       "                                           LASBELA DISTRICT              BELA TEHSIL                  1527.0        80124              41690         38433           1                    108.47             5.45                        51636                    2.33                        24603              13006         11594           3                    112.18             6.01                        16705                    2.05                          1\n",
       "                                                                         DUREJI TEHSIL                2813.0        32686              17112         15573           1                    109.88             5.31                        31504                    0.19                        12855              6739          6116            0                    110.19             4.98                        0                        0.00                          1\n",
       "                                                                         GADDANI TEHSIL               419.0         16914              8902          8012            0                    111.11             5.69                        7889                     4.09                        7679               3889          3790            0                    102.61             6.05                        11068                    1.90                          1\n",
       "                                                                         HUB TEHSIL                   868.0         27664              14377         13287           0                    108.20             5.77                        18171                    2.23                        177823             93326         84495           2                    110.45             8.08                        62763                    5.62                          1\n",
       "                                                                         LAKHRA TEHSIL                1954.0        35495              18094         17400           1                    103.99             6.06                        25474                    1.76                        0                  0             0               0                    0.00               0.00                        0                        0.00                          1\n",
       "                                                                         LIARI TEHSIL                 2010.0        11730              5990          5740            0                    104.36             4.74                        7846                     2.14                        0                  0             0               0                    0.00               0.00                        0                        0.00                          1\n",
       "                                                                         SONMIANI/WINDER TEHSIL       2616.0        34504              17867         16637           0                    107.39             5.74                        20230                    2.84                        29515              15353         14160           2                    108.43             6.63                        11569                    5.04                          1\n",
       "                                                                         UTHAL TEHSIL                 1756.0        42867              22196         20671           0                    107.38             5.35                        26405                    2.58                        29423              15792         13630           1                    115.86             6.92                        13319                    4.25                          1\n",
       "                                           PANJGUR DISTRICT              GICHK SUB-TEHSIL             8387.0        16646              8967          7676            3                    116.82             8.37                        22568                    1.59                        0                  0             0               0                    0.00               0.00                        0                        0.00                          1\n",
       "                                                                         GOWARGO TEHSIL               1471.0        16329              8424          7905            0                    106.57             5.70                        24377                    2.08                        0                  0             0               0                    0.00               0.00                        0                        0.00                          1\n",
       "                                                                         PANJGUR TEHSIL               3655.0        178752             93460         85279           13                   109.59             7.54                        146971                   1.03                        80411              42867         37541           3                    114.19             7.07                        21297                    7.23                          1\n",
       "                                                                         PAROME TEHSIL                3378.0        23215              12661         10551           3                    120.00             8.49                        18838                    1.10                        0                  0             0               0                    0.00               0.00                        0                        0.00                          1\n",
       "                                           WASHUK DISTRICT               BESIMA SUB-TEHSIL            6014.0        40266              21513         18753           0                    114.72             6.66                        16740                    4.72                        0                  0             0               0                    0.00               0.00                        0                        0.00                          1\n",
       "                                                                         MASHKHEL SUB-TEHSIL          11663.0       38634              20219         18414           1                    109.80             4.97                        29844                    1.37                        0                  0             0               0                    0.00               0.00                        0                        0.00                          1\n",
       "                                                                         NAG SUB-TEHSIL               4338.0        34477              17743         16734           0                    106.03             5.43                        19956                    2.91                        0                  0             0               0                    0.00               0.00                        0                        0.00                          1\n",
       "                                                                         SHAHGORI SUB-TEHSIL          3584.0        27548              14332         13216           0                    108.44             5.19                        19641                    1.79                        0                  0             0               0                    0.00               0.00                        0                        0.00                          1\n",
       "                                                                         WASHUK SUB-TEHSIL            7494.0        12952              6627          6325            0                    104.77             6.81                        23828                    3.15                        21835              11407         10428           0                    109.39             5.45                        0                        0.00                          1\n",
       "Mirpurkhas Division           SINDH        MIRPUR KHAS DISTRICT          DIGRI TALUKA                 572.0         140304             72370         67918           16                   106.55             5.29                        106626                   1.45                        73713              37944         35761           8                    106.10             5.53                        40646                    3.18                          1\n",
       "                                                                         HUSSAIN BUX MARI TALUKA      209.0         150226             77693         72506           27                   107.15             5.21                        83219                    3.15                        0                  0             0               0                    0.00               0.00                        0                        0.00                          1\n",
       "                                                                         JHUDO TALUKA                 363.0         142462             73721         68732           9                    107.26             5.04                        103811                   1.68                        59388              30781         28598           9                    107.63             5.43                        42202                    1.81                          1\n",
       "                                                                         KOT GHULAM MUHAMMAD TALUKA   762.0         244090             125811        118224          55                   106.42             5.11                        161501                   2.19                        29042              14935         14103           4                    105.90             5.26                        17507                    2.69                          1\n",
       "                                                                         MIRPUR KHAS TALUKA           24.0          26155              13441         12708           6                    105.77             5.71                        11735                    4.30                        234133             120114        113984          35                   105.38             5.68                        189671                   1.11                          1\n",
       "                                                                         SHUJAABAD TALUKA             396.0         147733             76277         71433           23                   106.78             5.18                        88634                    2.72                        21000              10828         10168           4                    106.49             4.90                        10149                    3.89                          1\n",
       "                                                                         SINDHRI TALUKA               599.0         219389             113515        105847          27                   107.24             5.07                        150628                   2.00                        16805              8716          8089            0                    107.75             4.93                        0                        0.00                          1\n",
       "                                           THARPARKAR DISTRICT           CHACHRO TALUKA               3386.0        327492             180400        147078          14                   122.66             6.50                        167235                   3.59                        23315              12839         10473           3                    122.59             5.21                        0                        0.00                          1\n",
       "                                                                         DAHLI TALUKA                 2126.0        298045             165279        132753          13                   124.50             7.16                        165289                   3.15                        7484               4262          3222            0                    132.28             7.46                        0                        0.00                          1\n",
       "                                                                         DIPLO TALUKA                 2872.0        135729             70873         64833           23                   109.32             4.53                        82344                    2.66                        13142              6857          6283            2                    109.14             4.56                        9703                     1.61                          1\n",
       "                                                                         ISLAMKOT TALUKA              3515.0        225927             118559        107343          25                   110.45             4.91                        127399                   3.06                        18512              9579          8930            3                    107.27             4.58                        10427                    3.06                          1\n",
       "                                                                         KALOI TALUKA                 922.0         117609             60614         56975           20                   106.39             4.69                        73651                    2.49                        0                  0             0               0                    0.00               0.00                        0                        0.00                          1\n",
       "                                                                         MITHI TALUKA                 2954.0        161621             84594         77003           24                   109.86             4.89                        105440                   2.27                        58280              30490         27784           6                    109.74             4.70                        19697                    5.86                          1\n",
       "                                                                         NAGAR PARKAR TALUKA          3862.0        248079             130477        117579          23                   110.97             5.04                        153106                   2.57                        11801              6195          5606            0                    110.51             4.88                        0                        0.00                          1\n",
       "                                           UMER KOT DISTRICT             KUNRI TALUKA                 585.0         179266             92326         86929           11                   106.21             5.06                        130349                   1.69                        39194              19940         19237           17                   103.65             5.08                        27866                    1.81                          1\n",
       "                                                                         PITHORO TALUKA               855.0         107033             55282         51746           5                    106.83             5.11                        71204                    2.16                        12972              6627          6342            3                    104.49             4.88                        9978                     1.39                          1\n",
       "                                                                         SAMARO TALUKA                959.0         160967             82738         78185           44                   105.82             4.97                        105274                   2.26                        9249               4782          4465            2                    107.10             4.87                        7373                     1.20                          1\n",
       "                                                                         UMER KOT TALUKA              3209.0        382666             198684        183951          31                   108.01             5.08                        246506                   2.34                        182122             96091         85986           45                   111.75             4.91                        66247                    5.46                          1\n",
       "Naseerabad Division           BALOCHISTAN  JAFFARABAD DISTRICT           GANDHAKA TEHSIL              554.0         74881              38209         36650           22                   104.25             5.93                        52767                    1.86                        0                  0             0               0                    0.00               0.00                        0                        0.00                          1\n",
       "                                                                         JHAT PAT TEHSIL              690.0         172149             88378         83749           22                   105.53             6.37                        92689                    3.31                        80958              41622         39328           8                    105.83             6.75                        38371                    4.00                          1\n",
       "                                                                         USTA MUHAMMAD TEHSIL         399.0         109231             55791         53439           1                    104.40             6.65                        68517                    2.48                        76753              38872         37881           0                    102.62             6.69                        38946                    3.63                          1\n",
       "                                           JHAL MAGSI DISTRICT           GANDAWA TEHSIL               1344.0        43365              22324         21041           0                    106.10             6.05                        26694                    2.58                        7815               3958          3856            1                    102.65             6.26                        8097                     0.19                          1\n",
       "                                                                         JHAL MAGSI TEHSIL            1679.0        88279              45604         42675           0                    106.86             5.86                        63588                    1.74                        0                  0             0               0                    0.00               0.00                        0                        0.00                          1\n",
       "                                                                         MIRPUR SUB-TEHSIL            592.0         9441               4840          4601            0                    105.19             6.21                        11562                    1.06                        0                  0             0               0                    0.00               0.00                        0                        0.00                          1\n",
       "                                           KACHHI DISTRICT               BALANARI SUB-TEHSIL          402.0         43341              22595         20746           0                    108.90             6.13                        39597                    0.48                        0                  0             0               0                    0.00               0.00                        0                        0.00                          1\n",
       "                                                                         BHAG TEHSIL                  1308.0        56859              29740         27115           4                    109.70             6.57                        43842                    1.38                        16600              8529          8068            3                    105.70             6.53                        12181                    1.64                          1\n",
       "                                                                         DHADAR TEHSIL                976.0         27149              14145         13004           0                    108.80             7.02                        32663                    0.97                        15240              7938          7302            0                    108.70             8.10                        12818                    0.91                          1\n",
       "                                                                         KHATTAN SUB-TEHSIL           277.0         14213              7411          6802            0                    109.00             8.05                        7202                     3.64                        0                  0             0               0                    0.00               0.00                        0                        0.00                          1\n",
       "                                                                         MACH SUB-TEHSIL              708.0         20489              10719         9770            0                    109.70             7.07                        15619                    1.44                        19140              10363         8777            0                    118.10             7.60                        14488                    1.47                          1\n",
       "                                                                         SANNI SUB-TEHSIL             2011.0        96901              52851         44049           1                    120.00             9.40                        77070                    1.21                        0                  0             0               0                    0.00               0.00                        0                        0.00                          1\n",
       "                                           NASIRABAD DISTRICT            BABA KOT TEHSIL              967.0         49480              25844         23636           0                    109.34             6.69                        19531                    5.00                        0                  0             0               0                    0.00               0.00                        0                        0.00                          1\n",
       "                                                                         CHATTAR SUB-TEHSIL           961.0         76536              39811         36725           0                    108.40             7.91                        50446                    2.21                        0                  0             0               0                    0.00               0.00                        0                        0.00                          1\n",
       "                                                                         DERA MURAD JAMALI TEHSIL     776.0         134459             69042         65417           0                    105.54             7.26                        65676                    3.84                        96316              49161         47155           0                    104.25             7.42                        38431                    4.95                          1\n",
       "                                                                         TAMBOO TEHSIL                683.0         131056             67706         63349           1                    106.88             7.20                        71810                    3.21                        0                  0             0               0                    0.00               0.00                        0                        0.00                          1\n",
       "                                           SOHBATPUR DISTRICT            FARIDABAD TEHSIL             137.0         58204              29719         28484           1                    104.34             6.69                        33400                    2.96                        0                  0             0               0                    0.00               0.00                        0                        0.00                          1\n",
       "                                                                         SANHRI TEHSIL                331.0         88788              45781         43005           2                    106.46             6.39                        66681                    1.52                        0                  0             0               0                    0.00               0.00                        0                        0.00                          1\n",
       "                                                                         SOHBATPUR TEHSIL             334.0         40567              20803         19757           7                    105.29             6.93                        33240                    1.05                        12867              6664          6203            0                    107.43             5.87                        8206                     2.39                          1\n",
       "PESHAWAR DIVISION             KPK          CHARSADDA DISTRICT            CHARSADDA TEHSIL             445.0         659042             336077        322964          1                    104.06             7.37                        415086                   2.46                        145801             74897         70901           3                    105.64             7.01                        112066                   1.39                          1\n",
       "                                                                         SHABQADAR TEHSIL             204.0         288462             144441        144021          0                    100.29             7.54                        185312                   2.35                        91490              47300         44189           1                    107.04             7.55                        55439                    2.67                          1\n",
       "                                                                         TANGI TEHSIL                 347.0         393252             198195        195051          6                    101.61             7.13                        229115                   2.88                        32913              16741         16172           0                    103.52             6.78                        25346                    1.38                          1\n",
       "                                           NOWSHERA DISTRICT             JEHANGIRA TEHSIL             718.0         267642             134577        133036          29                   101.16             7.84                        158059                   2.81                        86122              44685         41428           9                    107.86             7.44                        50645                    2.83                          1\n",
       "                                                                         PABBI TEHSIL                 351.0         383046             192673        190357          16                   101.22             7.60                        214967                   3.08                        55370              28035         27335           0                    102.56             7.27                        31153                    3.07                          1\n",
       "                                           PESHAWAR DISTRICT             PESHAWAR TEHSIL              1257.0        2297375            1172995       1124167         213                  104.34             8.74                        1044035                  4.23                        1969823            1025010       944401          412                  108.54             7.97                        982816                   3.72                          1\n",
       "                              KPK/FATA     FR PESHAWAR DISTRICT          FR PESHAWAR                  261.0         64761              31676         33081           4                    95.75              8.98                        53841                    0.97                        0                  0             0               0                    0.00               0.00                        0                        0.00                          1\n",
       "                                           KHYBER DISTRICT               BARA TEHSIL                  1430.0        443449             224995        218433          21                   103.00             8.28                        286184                   2.33                        0                  0             0               0                    0.00               0.00                        0                        0.00                          1\n",
       "                                                                         JAMRUD TEHSIL                311.0         163829             83502         80312           15                   103.97             8.41                        64149                    5.05                        63728              33133         30582           13                   108.34             8.05                        32039                    3.68                          1\n",
       "                                                                         LANDI KOTAL TEHSIL           679.0         239323             124173        115127          23                   107.86             9.08                        122390                   3.59                        33729              17766         15961           2                    111.31             7.86                        22324                    2.19                          1\n",
       "                                                                         MULLA GORI TEHSIL            156.0         40188              20933         19254           1                    108.72             9.41                        19644                    3.83                        0                  0             0               0                    0.00               0.00                        0                        0.00                          1\n",
       "                                           MOHMAND DISTRICT              AMBAR UTMAN KHEL TEHSIL      273.0         61951              31413         30538           0                    102.87             8.96                        30728                    3.75                        0                  0             0               0                    0.00               0.00                        0                        0.00                          1\n",
       "                                                                         HALIM ZAI TEHSIL             211.0         78705              40530         38163           12                   106.20             8.81                        48418                    2.59                        0                  0             0               0                    0.00               0.00                        0                        0.00                          1\n",
       "                                                                         PINDIALI TEHSIL              454.0         89711              45952         43752           7                    105.03             9.69                        51276                    2.98                        0                  0             0               0                    0.00               0.00                        0                        0.00                          1\n",
       "                                                                         PRANG GHAR TEHSIL            257.0         36569              18288         18281           0                    100.04             8.21                        18620                    3.61                        0                  0             0               0                    0.00               0.00                        0                        0.00                          1\n",
       "                                                                         SAFI TEHSIL                  322.0         98501              50353         48142           6                    104.59             11.04                       71503                    1.70                        0                  0             0               0                    0.00               0.00                        0                        0.00                          1\n",
       "                                                                         UPPER MOHMAND TEHSIL         513.0         51154              25723         25424           7                    101.18             8.87                        80177                    2.33                        0                  0             0               0                    0.00               0.00                        0                        0.00                          1\n",
       "                                                                         YAKE GHUND TEHSIL            266.0         57754              29290         28455           9                    102.93             9.10                        33731                    2.87                        0                  0             0               0                    0.00               0.00                        0                        0.00                          1\n",
       "Quetta Division               BALOCHISTAN  CHAGAI DISTRICT               CHAGAI SUB-TEHSIL            3975.0        58256              30396         27859           1                    109.11             7.18                        22511                    5.12                        0                  0             0               0                    0.00               0.00                        0                        0.00                          1\n",
       "                                                                         DALBANDIN TEHSIL             15363.0       111203             57650         53548           5                    107.66             6.50                        48380                    4.47                        16265              8299          7966            0                    104.18             8.19                        11948                    1.63                          1\n",
       "                                                                         NOKUNDI SUB-TEHSIL           16092.0       22283              11851         10432           0                    113.60             6.42                        14029                    2.46                        0                  0             0               0                    0.00               0.00                        0                        0.00                          1\n",
       "                                                                         TAFTAN SUB-TEHSIL            9318.0        18510              10777         7732            1                    139.38             8.14                        7666                     4.74                        0                  0             0               0                    0.00               0.00                        0                        0.00                          1\n",
       "                                           DERA BUGTI DISTRICT           BAIKER SUB-TEHSIL            258.0         19497              10583         8914            0                    118.72             7.18                        5305                     7.08                        0                  0             0               0                    0.00               0.00                        0                        0.00                          1\n",
       "                                                                         DERA BUGTI TEHSIL            927.0         20790              10932         9858            0                    110.89             6.25                        16908                    1.09                        27625              14490         13135           0                    110.32             6.79                        15495                    3.08                          1\n",
       "                                                                         LOTI TEHSIL                  803.0         18058              9963          8095            0                    123.08             6.98                        8491                     4.04                        0                  0             0               0                    0.00               0.00                        0                        0.00                          1\n",
       "                                                                         MALAM SUB-TEHSIL             957.0         27265              13216         14049           0                    94.07              7.25                        19504                    1.78                        0                  0             0               0                    0.00               0.00                        0                        0.00                          1\n",
       "                                                                         PHELAWAGH TEHSIL             205.0         28054              13931         14123           0                    98.64              7.16                        11760                    4.67                        0                  0             0               0                    0.00               0.00                        0                        0.00                          1\n",
       "                                                                         PIR KOH SUB-TEHSIL           1619.0        40629              21937         18692           0                    117.36             5.74                        27448                    2.08                        0                  0             0               0                    0.00               0.00                        0                        0.00                          1\n",
       "                                                                         SANGSILLAH SUB-TEHSIL        1533.0        10217              5435          4781            1                    113.68             6.69                        13700                    1.53                        0                  0             0               0                    0.00               0.00                        0                        0.00                          1\n",
       "                                                                         SUI TEHSIL                   3858.0        48235              27035         21200           0                    127.52             6.32                        62699                    1.37                        72740              37534         35206           0                    106.61             6.94                        0                        0.00                          1\n",
       "                                           HARNAI DISTRICT               HARNAI TEHSIL                259.0         50753              26754         23987           12                   111.54             5.62                        42123                    0.98                        13303              6950          6349            4                    109.47             6.02                        9359                     1.86                          1\n",
       "                                                                         KHOAST SUB-TEHSIL            1619.0        12279              6407          5872            0                    109.11             5.78                        9908                     1.13                        0                  0             0               0                    0.00               0.00                        0                        0.00                          1\n",
       "                                                                         SHAHRIG TEHSIL               614.0         9458               4962          4495            1                    110.39             5.08                        15262                    2.48                        11259              6891          4366            2                    157.83             5.35                        0                        0.00                          1\n",
       "                                           KILLA ABDULLAH DISTRICT       CHAMAN TEHSIL                1341.0        311355             164656        146699          0                    112.24             8.49                        95062                    6.43                        123206             65093         58112           1                    112.01             7.78                        56792                    4.15                          1\n",
       "                                                                         DOBANDI SUB-TEHSIL           1604.0        61741              33936         27804           1                    122.05             7.48                        31050                    3.68                        0                  0             0               0                    0.00               0.00                        0                        0.00                          1\n",
       "                                                                         GULISTAN TEHSIL              1536.0        114984             59793         55190           1                    108.34             6.98                        66883                    2.89                        0                  0             0               0                    0.00               0.00                        0                        0.00                          1\n",
       "                                                                         KILLA ABDULLAH TEHSIL        413.0         120944             61932         59011           1                    104.95             6.34                        110937                   0.45                        26124              13889         12235           0                    113.52             6.70                        0                        0.00                          1\n",
       "                                           KOHLU DISTRICT                GRISANI SUB-TEHSIL           174.0         17027              9359          7668            0                    122.05             7.72                        4057                     7.83                        0                  0             0               0                    0.00               0.00                        0                        0.00                          1\n",
       "                                                                         KAHAN TEHSIL                 3754.0        73833              36485         37348           0                    97.69              11.06                       26765                    5.48                        0                  0             0               0                    0.00               0.00                        0                        0.00                          1\n",
       "                                                                         KOHLU TEHSIL                 231.0         27709              14623         13086           0                    111.75             5.97                        17037                    2.59                        17443              9001          8442            0                    106.62             7.87                        9665                     3.15                          1\n",
       "                                                                         MAWAND TEHSIL                2915.0        41516              22480         19036           0                    118.09             6.37                        24056                    2.91                        0                  0             0               0                    0.00               0.00                        0                        0.00                          1\n",
       "                                           NUSHKI DISTRICT               NUSHKI TEHSIL                5797.0        132551             68290         64258           3                    106.27             7.78                        74082                    3.10                        46396              24281         22115           0                    109.79             8.19                        23948                    3.54                          1\n",
       "                                           PISHIN DISTRICT               BARSHORE SUB-TEHSIL          2474.0        103423             52620         50802           1                    103.58             5.97                        95132                    0.44                        0                  0             0               0                    0.00               0.00                        0                        0.00                          1\n",
       "                                                                         HURRAM ZAI SUB-TEHSIL        418.0         102700             53635         49057           8                    109.33             5.58                        58093                    3.04                        29402              14780         14622           0                    101.08             5.88                        0                        0.00                          1\n",
       "                                                                         KAREZAT SUB-TEHSIL           2044.0        97469              51149         46315           5                    110.44             6.15                        63375                    2.29                        39997              20435         19539           23                   104.59             5.74                        0                        0.00                          1\n",
       "                                                                         PISHIN TEHSIL                1199.0        272063             140788        131260          15                   107.26             5.78                        108306                   4.96                        35547              18426         17116           5                    107.65             5.81                        22955                    2.32                          1\n",
       "                                                                         SARANAN TEHSIL               83.0          18452              9615          8836            1                    108.82             6.20                        28867                    2.32                        37850              19167         18680           3                    102.61             5.29                        0                        0.00                          1\n",
       "                                           QUETTA DISTRICT               PANJ PAI SUB-TEHSIL          1205.0        19011              9723          9287            1                    104.69             8.17                        15139                    1.20                        0                  0             0               0                    0.00               0.00                        0                        0.00                          1\n",
       "                                                                         QUETTA CITY TEHSIL           779.0         723361             375710        347599          52                   108.09             8.96                        73759                    12.74                       999385             528019        471224          142                  112.05             7.56                        565137                   3.04                          1\n",
       "                                                                         QUETTA SADDAR TEHSIL         1463.0        527716             277024        250608          84                   110.54             7.59                        120512                   8.07                        0                  0             0               0                    0.00               0.00                        0                        0.00                          1\n",
       "                                           SIBI DISTRICT                 KOT MANDAI SUB-TEHSIL        1977.0        7583               4032          3551            0                    113.55             6.02                        8057                     0.32                        0                  0             0               0                    0.00               0.00                        0                        0.00                          1\n",
       "                                                                         LEHRI TEHSIL                 1817.0        44490              23211         21278           1                    109.08             5.91                        32576                    1.65                        0                  0             0               0                    0.00               0.00                        0                        0.00                          1\n",
       "                                                                         SANGAN SUB-TEHSIL            1378.0        2665               1441          1223            1                    117.83             8.20                        3024                     0.66                        0                  0             0               0                    0.00               0.00                        0                        0.00                          1\n",
       "                                                                         SIBI TEHSIL                  1949.0        60339              32359         27977           3                    115.66             6.06                        44198                    1.65                        64674              33680         30980           14                   108.72             7.19                        48467                    1.53                          1\n",
       "                                           ZIARAT DISTRICT               SINJAWI SUB-TEHSIL           1812.0        92497              48070         44413           14                   108.23             5.88                        47408                    3.57                        0                  0             0               0                    0.00               0.00                        0                        0.00                          1\n",
       "                                                                         ZIARAT TEHSIL                1489.0        64206              32405         31793           8                    101.92             5.09                        32704                    3.61                        3392               1686          1706            0                    98.83              4.91                        636                      9.19                          1\n",
       "RAWALPINDI DIVISION           PUNJAB       ATTOCK DISTRICT               ATTOCK TEHSIL                1002.0        222710             111968        110735          7                    101.11             6.39                        143989                   2.32                        212493             112426        100041          26                   112.38             5.91                        117840                   3.15                          1\n",
       "                                                                         FATEH JANG TEHSIL            1249.0        259933             129406        130510          17                   99.15              6.21                        188270                   1.71                        66500              33250         33241           9                    100.03             6.51                        25986                    5.06                          1\n",
       "                                                                         HASAN ABDAL TEHSIL           350.0         153891             78008         75882           1                    102.80             6.62                        97880                    2.41                        63218              32039         31174           5                    102.77             6.65                        37976                    2.71                          1\n",
       "                                                                         HAZRO TEHSIL                 348.0         284881             140446        144406          29                   97.26              6.31                        196785                   1.96                        55308              27569         27736           3                    99.40              6.43                        42156                    1.44                          1\n",
       "                                                                         JAND TEHSIL                  2043.0        247319             117735        129570          14                   90.87              5.46                        211065                   0.84                        48194              23084         25104           6                    91.95              5.87                        17284                    5.53                          1\n",
       "                                                                         PINDI GHEB TEHSIL            1865.0        226736             110514        116212          10                   95.10              5.82                        165854                   1.66                        45195              22205         22986           4                    96.60              5.91                        29850                    2.20                          1\n",
       "                                           CHAKWAL DISTRICT              CHAKWAL TEHSIL               2167.0        518313             246589        271680          44                   90.76              5.54                        394992                   1.44                        138214             68508         69677           29                   98.32              5.88                        80508                    2.88                          1\n",
       "                                                                         CHOA SAIDAN SHAH TEHSIL      473.0         119368             58453         60913           2                    95.96              5.59                        91838                    1.39                        22574              11431         11137           6                    102.64             5.85                        13418                    2.77                          1\n",
       "                                                                         KALLAR KAHAR TEHSIL          953.0         126096             61503         64587           6                    95.23              5.24                        122548                   0.15                        43142              22320         20818           4                    107.21             5.45                        0                        0.00                          1\n",
       "                                                                         LAWA TEHSIL                  910.0         110175             52857         57314           4                    92.22              5.56                        95626                    0.75                        15595              7447          8146            2                    91.42              5.35                        0                        0.00                          1\n",
       "                                                                         TALA GANG TEHSIL             2022.0        337903             162481        175410          12                   92.63              5.53                        247029                   1.66                        64083              31589         32484           10                   97.24              5.69                        37766                    2.82                          1\n",
       "                                           JHELUM DISTRICT               DINA TEHSIL                  678.0         165222             79799         85412           11                   93.43              6.03                        130735                   1.24                        73243              39099         34128           16                   114.57             5.92                        52638                    1.75                          1\n",
       "                                                                         JHELUM TEHSIL                586.0         254761             123856        130876          29                   94.64              6.01                        186177                   1.66                        190471             97586         92853           32                   105.10             5.71                        147392                   1.36                          1\n",
       "                                                                         PIND DADAN KHAN TEHSIL       1176.0        272443             131941        140479          23                   93.92              5.84                        217023                   1.20                        64398              32470         31925           3                    101.71             5.78                        46592                    1.71                          1\n",
       "                                                                         SOHAWA TEHSIL                1147.0        175680             83879         91783           18                   91.39              5.80                        143692                   1.06                        26185              12776         13406           3                    95.30              6.00                        12708                    3.87                          1\n",
       "                                           RAWALPINDI DISTRICT           GUJAR KHAN TEHSIL            1457.0        566018             271415        294558          45                   92.14              6.07                        426860                   1.49                        112044             55583         56425           36                   98.51              6.28                        67150                    2.73                          1\n",
       "                                                                         KAHUTA TEHSIL                637.0         160136             77653         82475           8                    94.15              5.84                        134512                   0.92                        60610              30350         30258           2                    100.30             5.79                        19207                    6.22                          1\n",
       "                                                                         KALLAR SAYADDAN TEHSIL       459.0         162822             77771         85038           13                   91.45              5.98                        158120                   0.15                        54239              25965         28266           8                    91.86              6.17                        0                        0.00                          1\n",
       "                                                                         KOTLI SATTIAN TEHSIL         304.0         96894              48976         47907           11                   102.23             4.97                        82711                    0.83                        22401              11324         11073           4                    102.27             4.75                        0                        0.00                          1\n",
       "                                                                         MURREE TEHSIL                434.0         75974              37829         38140           5                    99.18              5.63                        155224                   3.68                        157043             81688         75336           19                   108.43             5.62                        21375                    11.05                         1\n",
       "                                                                         RAWALPINDI TEHSIL            1682.0        1158817            590102        568568          147                  103.79             6.03                        517844                   4.32                        2097824            1081915       1015201         708                  106.57             6.08                        1409768                  2.11                          1\n",
       "                                                                         TAXILA TEHSIL                312.0         176011             89204         86787           20                   102.78             6.62                        100367                   2.99                        501547             256405        245057          85                   104.63             5.93                        270773                   3.29                          1\n",
       "SAHIWAL DIVISION              PUNJAB       OKARA DISTRICT                DEPALPUR TEHSIL              2502.0        1033260            531297        501909          54                   105.86             6.09                        821089                   1.21                        342525             174814        167651          60                   104.27             6.07                        209747                   2.61                          1\n",
       "                                                                         OKARA TEHSIL                 1241.0        760440             389598        370807          35                   105.07             6.40                        590040                   1.34                        445879             235330        210456          93                   111.82             6.31                        272324                   2.62                          1\n",
       "                                                                         RENALA KHURD TEHSIL          634.0         404562             206263        198263          36                   104.04             5.85                        307455                   1.45                        54160              27168         26985           7                    100.68             5.91                        32337                    2.75                          1\n",
       "                                           PAKPATTAN DISTRICT            ARIF WALA TEHSIL             1241.0        742723             376782        365885          56                   102.98             5.89                        528922                   1.80                        112306             56800         55455           51                   102.43             5.97                        74174                    2.20                          1\n",
       "                                                                         PAKPATTAN TEHSIL             1483.0        792513             404804        387632          77                   104.43             6.06                        574551                   1.70                        176686             89724         86927           35                   103.22             5.84                        109033                   2.57                          1\n",
       "                                           SAHIWAL DISTRICT              CHICHAWATNI TEHSIL           1591.0        929447             467889        461454          104                  101.39             6.36                        714341                   1.39                        94733              47578         47142           13                   100.92             6.10                        72721                    1.40                          1\n",
       "                                                                         SAHIWAL TEHSIL               1610.0        1067880            547112        520686          82                   105.08             6.45                        826863                   1.35                        420951             214067        206837          47                   103.50             6.17                        229269                   3.24                          1\n",
       "SARGODHA DIVISION             PUNJAB       BHAKKAR DISTRICT              BHAKKAR TEHSIL               2427.0        571132             291631        279474          27                   104.35             6.31                        355592                   2.52                        112807             58034         54760           13                   105.98             6.32                        68896                    2.62                          1\n",
       "                                                                         DARYA KHAN TEHSIL            1719.0        280006             143823        136163          20                   105.63             5.94                        178775                   2.39                        80421              41346         39060           15                   105.85             5.65                        54635                    2.05                          1\n",
       "                                                                         KALUR KOT TEHSIL             2239.0        294310             150395        143876          39                   104.53             6.14                        187751                   2.39                        52281              26584         25694           3                    103.46             6.58                        35925                    1.99                          1\n",
       "                                                                         MANKERA TEHSIL               1768.0        242750             124063        118680          7                    104.54             5.89                        160664                   2.19                        14145              7180          6962            3                    103.13             5.79                        9218                     2.28                          1\n",
       "                                           KHUSHAB DISTRICT              KHUSHAB TEHSIL               2115.0        392143             195124        197004          15                   99.05              6.14                        287146                   1.65                        298014             149700        148273          41                   100.96             6.06                        192963                   2.31                          1\n",
       "                                                                         NOORPUR TEHSIL               2500.0        223051             111905        111123          23                   100.70             5.92                        159592                   1.77                        19780              9995          9780            5                    102.20             5.67                        15091                    1.43                          1\n",
       "                                                                         NOWSHERA TEHSIL              816.0         103603             49598         53999           6                    91.85              5.80                        78970                    1.44                        13753              6581          7171            1                    91.77              5.35                        8952                     2.28                          1\n",
       "                                                                         QUAIDABAD TEHSIL             1080.0        208615             103786        104816          13                   99.02              6.29                        151034                   1.71                        21413              10785         10625           3                    101.51             6.24                        11963                    3.11                          1\n",
       "                                           MIANWALI DISTRICT             ISAKHEL TEHSIL               1863.0        289633             141575        148045          13                   95.63              6.84                        212529                   1.64                        84561              41802         42747           12                   97.79              6.52                        43968                    3.50                          1\n",
       "                                                                         MIANWALI TEHSIL              2689.0        618946             309003        309905          38                   99.71              6.26                        429435                   1.94                        147411             75781         71602           28                   105.84             6.04                        102721                   1.92                          1\n",
       "                                                                         PIPLAN TEHSIL                1288.0        306210             155412        150768          30                   103.08             6.46                        194646                   2.41                        95840              48396         47435           9                    102.03             6.41                        73321                    1.42                          1\n",
       "                                           SARGODHA DISTRICT             BHALWAL TEHSIL               663.0         234249             117608        116627          14                   100.84             5.62                        177095                   1.48                        121957             61417         60521           19                   101.48             5.49                        77637                    2.40                          1\n",
       "                                                                         BHERA TEHSIL                 504.0         254416             126458        127941          17                   98.84              5.89                        181739                   1.78                        59953              30135         29805           13                   101.11             5.92                        44626                    1.56                          1\n",
       "                                                                         KOT MOMIN TEHSIL             948.0         386479             196994        189454          31                   103.98             6.45                        294224                   1.44                        65499              33253         32226           20                   103.19             6.22                        44566                    2.04                          1\n",
       "                                                                         SARGODHA TEHSIL              1536.0        876944             445798        431062          84                   103.42             6.28                        623019                   1.81                        658208             333705        324361          142                  102.88             6.18                        458440                   1.92                          1\n",
       "                                                                         SHAHPUR TEHSIL               769.0         284663             142231        142423          9                    99.87              5.94                        211557                   1.57                        68662              35088         33567           7                    104.53             5.97                        51190                    1.55                          1\n",
       "                                                                         SILLANWALI TEHSIL            607.0         306768             155014        151727          27                   102.17             6.69                        231205                   1.50                        37719              19057         18657           5                    102.14             6.19                        23076                    2.62                          1\n",
       "Shaheed Benazirabad Division  SINDH        NAUSHAHRO FEROZE DISTRICT     BHIRIA TALUKA                488.0         239455             123408        116034          13                   106.36             5.75                        165747                   1.95                        62089              31979         30100           10                   106.24             5.89                        38373                    2.56                          1\n",
       "                                                                         KANDIARO TALUKA              771.0         283507             145438        138045          24                   105.36             6.02                        200572                   1.83                        38869              19769         19090           10                   103.56             6.82                        21957                    3.05                          1\n",
       "                                                                         MEHRABPUR TALUKA             361.0         169661             87512         82134           15                   106.55             5.86                        124659                   1.63                        76988              39496         37482           10                   105.37             5.88                        30686                    4.95                          1\n",
       "                                                                         MORO TALUKA                  609.0         273131             142002        131100          29                   108.32             5.45                        204218                   1.54                        95448              49333         46085           30                   107.05             5.60                        61033                    2.38                          1\n",
       "                                                                         NAUSHAHRO FEROZE TALUKA      717.0         267060             138197        128815          48                   107.28             5.77                        199971                   1.53                        105839             54258         51561           20                   105.23             5.92                        40355                    5.20                          1\n",
       "                                           SANGHAR DISTRICT              JAM NAWAZ ALI TALUKA         440.0         125985             65078         60897           10                   106.87             5.42                        77287                    2.60                        27208              14101         13103           4                    107.62             5.46                        12804                    4.04                          1\n",
       "                                                                         KHIPRO TALUKA                5933.0        281837             147043        134773          21                   109.10             5.12                        199509                   1.83                        50996              26340         24644           12                   106.88             5.62                        25580                    3.69                          1\n",
       "                                                                         SANGHAR TALUKA               2118.0        339307             176143        163139          25                   107.97             5.53                        203861                   2.71                        93485              48029         45447           9                    105.68             5.30                        61021                    2.27                          1\n",
       "                                                                         SHAHDADPUR TALUKA            890.0         265945             136878        129042          25                   106.07             5.43                        219140                   1.02                        191083             98129         92916           38                   105.61             5.63                        90587                    4.00                          1\n",
       "                                                                         SINJHORO TALUKA              907.0         260082             133888        126157          37                   106.13             5.53                        163057                   2.48                        56922              29298         27612           12                   106.11             5.59                        36417                    2.37                          1\n",
       "                                                                         TANDO ADAM TALUKA            440.0         204998             105880        99086           32                   106.86             5.36                        125711                   2.60                        152025             78244         73762           19                   106.08             6.03                        104907                   1.97                          1\n",
       "                                           SHAHEED BENAZIRABAD DISTRICT  DAUR TALUKA                  2210.0        384652             198949        185677          26                   107.15             5.52                        276514                   1.75                        93341              48152         45176           13                   106.59             5.55                        28111                    6.51                          1\n",
       "                                                                         KAZI AHMED TALUKA            972.0         297638             154613        142995          30                   108.12             5.27                        208849                   1.88                        51306              26447         24848           11                   106.44             5.35                        37948                    1.60                          1\n",
       "                                                                         NAWABSHAH TALUKA             435.0         134064             69403         64637           24                   107.37             5.21                        92058                    1.99                        279338             143911        135385          42                   106.30             5.78                        189244                   2.07                          1\n",
       "                                                                         SAKRAND TALUKA               885.0         307342             157749        149563          30                   105.47             5.09                        242804                   1.25                        65825              34011         31808           6                    106.93             5.16                        27056                    4.78                          1\n",
       "Sukkur Division               SINDH        GHOTKI DISTRICT               DAHARKI TALUKA               2088.0        224423             116233        108173          17                   107.45             5.71                        143539                   2.38                        86286              44846         41431           9                    108.24             5.86                        34615                    4.92                          1\n",
       "                                                                         GHOTKI TALUKA                763.0         382741             196603        186086          52                   105.65             5.54                        238468                   2.52                        124346             64169         60150           27                   106.68             5.45                        60166                    3.89                          1\n",
       "                                                                         KHANGARH TALUKA              1986.0        119244             61430         57808           6                    106.27             5.45                        86173                    1.72                        30423              15564         14854           5                    104.78             5.24                        0                        0.00                          1\n",
       "                                                                         MIRPUR MATHELO TALUKA        593.0         252551             129463        123074          14                   105.19             5.25                        155999                   2.56                        75270              39014         36246           10                   107.64             5.31                        42421                    3.06                          1\n",
       "                                                                         UBAURO TALUKA                653.0         308928             159987        148921          20                   107.43             5.79                        186117                   2.70                        44496              22963         21528           5                    106.67             6.10                        21299                    3.95                          1\n",
       "                                           KHAIRPUR DISTRICT             FAIZ GANJ TALUKA             946.0         180739             92903         87833           3                    105.77             5.20                        130530                   1.72                        43349              22096         21253           0                    103.97             5.06                        15906                    5.41                          1\n",
       "                                                                         GAMBAT TALUKA                582.0         169334             87377         81954           3                    106.62             6.13                        132370                   1.30                        93884              48256         45623           5                    105.77             6.08                        40882                    4.46                          1\n",
       "                                                                         KHAIRPUR TALUKA              585.0         208567             107578        100984          5                    106.53             5.56                        150316                   1.74                        231845             120044        111752          49                   107.42             5.71                        124939                   3.30                          1\n",
       "                                                                         KINGRI TALUKA                531.0         245116             125674        119438          4                    105.22             6.10                        184360                   1.51                        95181              48885         46291           5                    105.60             5.87                        44270                    4.10                          1\n",
       "                                                                         KOT DIJI TALUKA              520.0         262926             135854        127072          0                    106.91             5.89                        182369                   1.94                        85656              44131         41516           9                    106.30             5.92                        45599                    3.37                          1\n",
       "                                                                         MIRWAH TALUKA                631.0         258899             133128        125771          0                    105.85             5.96                        183203                   1.83                        93865              48210         45646           9                    105.62             5.90                        43170                    4.16                          1\n",
       "                                                                         NARA TALUKA                  11611.0       122023             64315         57708           0                    111.45             5.69                        92387                    1.47                        38620              20214         18404           2                    109.83             5.45                        0                        0.00                          1\n",
       "                                                                         SOBHO DERO TALUKA            504.0         180580             92683         87891           6                    105.45             6.06                        127000                   1.87                        94606              48906         45690           10                   107.04             6.32                        50450                    3.36                          1\n",
       "                                           SUKKUR DISTRICT               NEW SUKKUR TALUKA            109.0         43652              22548         21102           2                    106.85             5.76                        29374                    2.10                        276571             142961        133571          39                   107.03             5.80                        130101                   4.04                          1\n",
       "                                                                         PANO AQIL TALUKA             1042.0        336263             174272        161964          27                   107.60             5.79                        205976                   2.61                        100109             57085         43009           15                   132.73             5.70                        62225                    2.53                          1\n",
       "                                                                         ROHRI TALUKA                 807.0         284840             148419        136392          29                   108.82             5.67                        166453                   2.86                        85742              44179         41558           5                    106.31             5.41                        57537                    2.12                          1\n",
       "                                                                         SALEHPAT TALUKA              2957.0        102811             53904         48900           7                    110.23             5.28                        64646                    2.47                        26925              14048         12875           2                    109.11             5.50                        0                        0.00                          1\n",
       "                                                                         SUKKUR CITY TALUKA           250.0         0                  0             0               0                    0.00               0.00                        2833                     0.00                        231459             118916        112511          32                   105.69             5.46                        212242                   0.46                          1\n",
       "Zhob Division                 BALOCHISTAN  BARKHAN DISTRICT              BARKHAN TEHSIL               3514.0        158824             83576         75237           11                   111.08             6.49                        95875                    2.69                        12201              6335          5863            3                    108.05             7.40                        7670                     2.47                          1\n",
       "                                           KILLA SAIFULLAH DISTRICT      BADINI SUB-TEHSIL            0.0           15345              8720          6625            0                    131.62             6.89                        6583                     4.55                        0                  0             0               0                    0.00               0.00                        0                        0.00                          1\n",
       "                                                                         KAN MEHTARZAI SUB-TEHSIL     0.0           33242              17462         15780           0                    110.66             6.13                        24168                    1.69                        0                  0             0               0                    0.00               0.00                        0                        0.00                          1\n",
       "                                                                         KILLA SAIFULLAH TEHSIL       4386.0        97481              51840         45636           5                    113.59             6.69                        55343                    3.02                        34865              18341         16524           0                    111.00             6.64                        8129                     7.95                          1\n",
       "                                                                         LOIBAND TEHSIL               0.0           27962              14875         13087           0                    113.66             6.68                        25791                    0.43                        0                  0             0               0                    0.00               0.00                        0                        0.00                          1\n",
       "                                                                         MUSLIM BAGH TEHSIL           0.0           50283              26295         23988           0                    109.62             6.24                        27700                    3.18                        28428              14852         13576           0                    109.40             6.16                        17170                    2.68                          1\n",
       "                                                                         SHINKI SUB-TEHSIL            2445.0        55326              29421         25905           0                    113.57             6.15                        28669                    3.51                        0                  0             0               0                    0.00               0.00                        0                        0.00                          1\n",
       "                                           LORALAI DISTRICT              DUKI TEHSIL                  4233.0        142935             76379         66552           4                    114.77             6.83                        110867                   1.34                        10042              5639          4403            0                    128.07             7.27                        5109                     3.61                          1\n",
       "                                                                         LORALAI\\BORI TEHSIL          2203.0        148730             78186         70540           4                    110.84             7.34                        72551                    3.84                        54849              30677         24170           2                    126.92             6.85                        29875                    3.24                          1\n",
       "                                                                         MEKHTAR SUB-TEHSIL           1582.0        40867              21621         19240           6                    112.38             6.62                        31745                    1.34                        0                  0             0               0                    0.00               0.00                        0                        0.00                          1\n",
       "                                           MUSAKHEL DISTRICT             DRUG TEHSIL                  848.0         37599              20168         17429           2                    115.72             6.32                        28638                    1.44                        0                  0             0               0                    0.00               0.00                        0                        0.00                          1\n",
       "                                                                         KINGRI TEHSIL                3683.0        31339              16924         14413           2                    117.42             7.21                        24822                    1.23                        0                  0             0               0                    0.00               0.00                        0                        0.00                          1\n",
       "                                                                         MUSAKHEL TEHSIL              1197.0        84170              46200         37963           7                    121.70             6.87                        69007                    1.05                        14135              7441          6693            1                    111.18             6.71                        11589                    1.05                          1\n",
       "                                           SHERANI DISTRICT              SHERANI TEHSIL               4310.0        152952             84390         68561           1                    123.09             7.30                        81684                    3.35                        0                  0             0               0                    0.00               0.00                        0                        0.00                          1\n",
       "                                           ZHOB DISTRICT                 ASHWAT SUB-TEHSIL            901.0         20768              11575         9193            0                    125.91             8.15                        13247                    2.39                        0                  0             0               0                    0.00               0.00                        0                        0.00                          1\n",
       "                                                                         KASHATOO SUB-TEHSIL          1590.0        5184               2645          2539            0                    104.17             6.83                        5165                     0.02                        0                  0             0               0                    0.00               0.00                        0                        0.00                          1\n",
       "                                                                         QAMAR DIN KAREZ TEHSIL       1286.0        13831              7486          6345            0                    117.98             5.73                        5855                     4.62                        0                  0             0               0                    0.00               0.00                        0                        0.00                          1\n",
       "                                                                         SAMBAZA SUB-TEHSIL           2888.0        17465              9848          7617            0                    129.29             7.09                        15198                    0.73                        0                  0             0               0                    0.00               0.00                        0                        0.00                          1\n",
       "                                                                         ZHOB TEHSIL                  9322.0        206942             111210        95731           1                    116.17             6.58                        110150                   3.37                        46164              25475         20689           0                    123.13             6.40                        43843                    0.27                          1\n",
       "Name: count, dtype: int64"
      ]
     },
     "execution_count": 19,
     "metadata": {},
     "output_type": "execute_result"
    }
   ],
   "source": [
    "df.groupby(['DIVISION']).value_counts()"
   ]
  },
  {
   "cell_type": "code",
   "execution_count": 20,
   "id": "80baccee",
   "metadata": {},
   "outputs": [
    {
     "ename": "TypeError",
     "evalue": "agg function failed [how->mean,dtype->object]",
     "output_type": "error",
     "traceback": [
      "\u001b[31m---------------------------------------------------------------------------\u001b[39m",
      "\u001b[31mTypeError\u001b[39m                                 Traceback (most recent call last)",
      "\u001b[36mFile \u001b[39m\u001b[32mc:\\Users\\tayya\\.conda\\envs\\pandas_tip_env\\Lib\\site-packages\\pandas\\core\\groupby\\groupby.py:1942\u001b[39m, in \u001b[36mGroupBy._agg_py_fallback\u001b[39m\u001b[34m(self, how, values, ndim, alt)\u001b[39m\n\u001b[32m   1941\u001b[39m \u001b[38;5;28;01mtry\u001b[39;00m:\n\u001b[32m-> \u001b[39m\u001b[32m1942\u001b[39m     res_values = \u001b[38;5;28;43mself\u001b[39;49m\u001b[43m.\u001b[49m\u001b[43m_grouper\u001b[49m\u001b[43m.\u001b[49m\u001b[43magg_series\u001b[49m\u001b[43m(\u001b[49m\u001b[43mser\u001b[49m\u001b[43m,\u001b[49m\u001b[43m \u001b[49m\u001b[43malt\u001b[49m\u001b[43m,\u001b[49m\u001b[43m \u001b[49m\u001b[43mpreserve_dtype\u001b[49m\u001b[43m=\u001b[49m\u001b[38;5;28;43;01mTrue\u001b[39;49;00m\u001b[43m)\u001b[49m\n\u001b[32m   1943\u001b[39m \u001b[38;5;28;01mexcept\u001b[39;00m \u001b[38;5;167;01mException\u001b[39;00m \u001b[38;5;28;01mas\u001b[39;00m err:\n",
      "\u001b[36mFile \u001b[39m\u001b[32mc:\\Users\\tayya\\.conda\\envs\\pandas_tip_env\\Lib\\site-packages\\pandas\\core\\groupby\\ops.py:864\u001b[39m, in \u001b[36mBaseGrouper.agg_series\u001b[39m\u001b[34m(self, obj, func, preserve_dtype)\u001b[39m\n\u001b[32m    862\u001b[39m     preserve_dtype = \u001b[38;5;28;01mTrue\u001b[39;00m\n\u001b[32m--> \u001b[39m\u001b[32m864\u001b[39m result = \u001b[38;5;28;43mself\u001b[39;49m\u001b[43m.\u001b[49m\u001b[43m_aggregate_series_pure_python\u001b[49m\u001b[43m(\u001b[49m\u001b[43mobj\u001b[49m\u001b[43m,\u001b[49m\u001b[43m \u001b[49m\u001b[43mfunc\u001b[49m\u001b[43m)\u001b[49m\n\u001b[32m    866\u001b[39m npvalues = lib.maybe_convert_objects(result, try_float=\u001b[38;5;28;01mFalse\u001b[39;00m)\n",
      "\u001b[36mFile \u001b[39m\u001b[32mc:\\Users\\tayya\\.conda\\envs\\pandas_tip_env\\Lib\\site-packages\\pandas\\core\\groupby\\ops.py:885\u001b[39m, in \u001b[36mBaseGrouper._aggregate_series_pure_python\u001b[39m\u001b[34m(self, obj, func)\u001b[39m\n\u001b[32m    884\u001b[39m \u001b[38;5;28;01mfor\u001b[39;00m i, group \u001b[38;5;129;01min\u001b[39;00m \u001b[38;5;28menumerate\u001b[39m(splitter):\n\u001b[32m--> \u001b[39m\u001b[32m885\u001b[39m     res = \u001b[43mfunc\u001b[49m\u001b[43m(\u001b[49m\u001b[43mgroup\u001b[49m\u001b[43m)\u001b[49m\n\u001b[32m    886\u001b[39m     res = extract_result(res)\n",
      "\u001b[36mFile \u001b[39m\u001b[32mc:\\Users\\tayya\\.conda\\envs\\pandas_tip_env\\Lib\\site-packages\\pandas\\core\\groupby\\groupby.py:2454\u001b[39m, in \u001b[36mGroupBy.mean.<locals>.<lambda>\u001b[39m\u001b[34m(x)\u001b[39m\n\u001b[32m   2451\u001b[39m \u001b[38;5;28;01melse\u001b[39;00m:\n\u001b[32m   2452\u001b[39m     result = \u001b[38;5;28mself\u001b[39m._cython_agg_general(\n\u001b[32m   2453\u001b[39m         \u001b[33m\"\u001b[39m\u001b[33mmean\u001b[39m\u001b[33m\"\u001b[39m,\n\u001b[32m-> \u001b[39m\u001b[32m2454\u001b[39m         alt=\u001b[38;5;28;01mlambda\u001b[39;00m x: \u001b[43mSeries\u001b[49m\u001b[43m(\u001b[49m\u001b[43mx\u001b[49m\u001b[43m,\u001b[49m\u001b[43m \u001b[49m\u001b[43mcopy\u001b[49m\u001b[43m=\u001b[49m\u001b[38;5;28;43;01mFalse\u001b[39;49;00m\u001b[43m)\u001b[49m\u001b[43m.\u001b[49m\u001b[43mmean\u001b[49m\u001b[43m(\u001b[49m\u001b[43mnumeric_only\u001b[49m\u001b[43m=\u001b[49m\u001b[43mnumeric_only\u001b[49m\u001b[43m)\u001b[49m,\n\u001b[32m   2455\u001b[39m         numeric_only=numeric_only,\n\u001b[32m   2456\u001b[39m     )\n\u001b[32m   2457\u001b[39m     \u001b[38;5;28;01mreturn\u001b[39;00m result.__finalize__(\u001b[38;5;28mself\u001b[39m.obj, method=\u001b[33m\"\u001b[39m\u001b[33mgroupby\u001b[39m\u001b[33m\"\u001b[39m)\n",
      "\u001b[36mFile \u001b[39m\u001b[32mc:\\Users\\tayya\\.conda\\envs\\pandas_tip_env\\Lib\\site-packages\\pandas\\core\\series.py:6560\u001b[39m, in \u001b[36mSeries.mean\u001b[39m\u001b[34m(self, axis, skipna, numeric_only, **kwargs)\u001b[39m\n\u001b[32m   6552\u001b[39m \u001b[38;5;129m@doc\u001b[39m(make_doc(\u001b[33m\"\u001b[39m\u001b[33mmean\u001b[39m\u001b[33m\"\u001b[39m, ndim=\u001b[32m1\u001b[39m))\n\u001b[32m   6553\u001b[39m \u001b[38;5;28;01mdef\u001b[39;00m\u001b[38;5;250m \u001b[39m\u001b[34mmean\u001b[39m(\n\u001b[32m   6554\u001b[39m     \u001b[38;5;28mself\u001b[39m,\n\u001b[32m   (...)\u001b[39m\u001b[32m   6558\u001b[39m     **kwargs,\n\u001b[32m   6559\u001b[39m ):\n\u001b[32m-> \u001b[39m\u001b[32m6560\u001b[39m     \u001b[38;5;28;01mreturn\u001b[39;00m \u001b[43mNDFrame\u001b[49m\u001b[43m.\u001b[49m\u001b[43mmean\u001b[49m\u001b[43m(\u001b[49m\u001b[38;5;28;43mself\u001b[39;49m\u001b[43m,\u001b[49m\u001b[43m \u001b[49m\u001b[43maxis\u001b[49m\u001b[43m,\u001b[49m\u001b[43m \u001b[49m\u001b[43mskipna\u001b[49m\u001b[43m,\u001b[49m\u001b[43m \u001b[49m\u001b[43mnumeric_only\u001b[49m\u001b[43m,\u001b[49m\u001b[43m \u001b[49m\u001b[43m*\u001b[49m\u001b[43m*\u001b[49m\u001b[43mkwargs\u001b[49m\u001b[43m)\u001b[49m\n",
      "\u001b[36mFile \u001b[39m\u001b[32mc:\\Users\\tayya\\.conda\\envs\\pandas_tip_env\\Lib\\site-packages\\pandas\\core\\generic.py:12439\u001b[39m, in \u001b[36mNDFrame.mean\u001b[39m\u001b[34m(self, axis, skipna, numeric_only, **kwargs)\u001b[39m\n\u001b[32m  12432\u001b[39m \u001b[38;5;28;01mdef\u001b[39;00m\u001b[38;5;250m \u001b[39m\u001b[34mmean\u001b[39m(\n\u001b[32m  12433\u001b[39m     \u001b[38;5;28mself\u001b[39m,\n\u001b[32m  12434\u001b[39m     axis: Axis | \u001b[38;5;28;01mNone\u001b[39;00m = \u001b[32m0\u001b[39m,\n\u001b[32m   (...)\u001b[39m\u001b[32m  12437\u001b[39m     **kwargs,\n\u001b[32m  12438\u001b[39m ) -> Series | \u001b[38;5;28mfloat\u001b[39m:\n\u001b[32m> \u001b[39m\u001b[32m12439\u001b[39m     \u001b[38;5;28;01mreturn\u001b[39;00m \u001b[38;5;28;43mself\u001b[39;49m\u001b[43m.\u001b[49m\u001b[43m_stat_function\u001b[49m\u001b[43m(\u001b[49m\n\u001b[32m  12440\u001b[39m \u001b[43m        \u001b[49m\u001b[33;43m\"\u001b[39;49m\u001b[33;43mmean\u001b[39;49m\u001b[33;43m\"\u001b[39;49m\u001b[43m,\u001b[49m\u001b[43m \u001b[49m\u001b[43mnanops\u001b[49m\u001b[43m.\u001b[49m\u001b[43mnanmean\u001b[49m\u001b[43m,\u001b[49m\u001b[43m \u001b[49m\u001b[43maxis\u001b[49m\u001b[43m,\u001b[49m\u001b[43m \u001b[49m\u001b[43mskipna\u001b[49m\u001b[43m,\u001b[49m\u001b[43m \u001b[49m\u001b[43mnumeric_only\u001b[49m\u001b[43m,\u001b[49m\u001b[43m \u001b[49m\u001b[43m*\u001b[49m\u001b[43m*\u001b[49m\u001b[43mkwargs\u001b[49m\n\u001b[32m  12441\u001b[39m \u001b[43m    \u001b[49m\u001b[43m)\u001b[49m\n",
      "\u001b[36mFile \u001b[39m\u001b[32mc:\\Users\\tayya\\.conda\\envs\\pandas_tip_env\\Lib\\site-packages\\pandas\\core\\generic.py:12396\u001b[39m, in \u001b[36mNDFrame._stat_function\u001b[39m\u001b[34m(self, name, func, axis, skipna, numeric_only, **kwargs)\u001b[39m\n\u001b[32m  12394\u001b[39m validate_bool_kwarg(skipna, \u001b[33m\"\u001b[39m\u001b[33mskipna\u001b[39m\u001b[33m\"\u001b[39m, none_allowed=\u001b[38;5;28;01mFalse\u001b[39;00m)\n\u001b[32m> \u001b[39m\u001b[32m12396\u001b[39m \u001b[38;5;28;01mreturn\u001b[39;00m \u001b[38;5;28;43mself\u001b[39;49m\u001b[43m.\u001b[49m\u001b[43m_reduce\u001b[49m\u001b[43m(\u001b[49m\n\u001b[32m  12397\u001b[39m \u001b[43m    \u001b[49m\u001b[43mfunc\u001b[49m\u001b[43m,\u001b[49m\u001b[43m \u001b[49m\u001b[43mname\u001b[49m\u001b[43m=\u001b[49m\u001b[43mname\u001b[49m\u001b[43m,\u001b[49m\u001b[43m \u001b[49m\u001b[43maxis\u001b[49m\u001b[43m=\u001b[49m\u001b[43maxis\u001b[49m\u001b[43m,\u001b[49m\u001b[43m \u001b[49m\u001b[43mskipna\u001b[49m\u001b[43m=\u001b[49m\u001b[43mskipna\u001b[49m\u001b[43m,\u001b[49m\u001b[43m \u001b[49m\u001b[43mnumeric_only\u001b[49m\u001b[43m=\u001b[49m\u001b[43mnumeric_only\u001b[49m\n\u001b[32m  12398\u001b[39m \u001b[43m\u001b[49m\u001b[43m)\u001b[49m\n",
      "\u001b[36mFile \u001b[39m\u001b[32mc:\\Users\\tayya\\.conda\\envs\\pandas_tip_env\\Lib\\site-packages\\pandas\\core\\series.py:6468\u001b[39m, in \u001b[36mSeries._reduce\u001b[39m\u001b[34m(self, op, name, axis, skipna, numeric_only, filter_type, **kwds)\u001b[39m\n\u001b[32m   6464\u001b[39m     \u001b[38;5;28;01mraise\u001b[39;00m \u001b[38;5;167;01mTypeError\u001b[39;00m(\n\u001b[32m   6465\u001b[39m         \u001b[33mf\u001b[39m\u001b[33m\"\u001b[39m\u001b[33mSeries.\u001b[39m\u001b[38;5;132;01m{\u001b[39;00mname\u001b[38;5;132;01m}\u001b[39;00m\u001b[33m does not allow \u001b[39m\u001b[38;5;132;01m{\u001b[39;00mkwd_name\u001b[38;5;132;01m}\u001b[39;00m\u001b[33m=\u001b[39m\u001b[38;5;132;01m{\u001b[39;00mnumeric_only\u001b[38;5;132;01m}\u001b[39;00m\u001b[33m \u001b[39m\u001b[33m\"\u001b[39m\n\u001b[32m   6466\u001b[39m         \u001b[33m\"\u001b[39m\u001b[33mwith non-numeric dtypes.\u001b[39m\u001b[33m\"\u001b[39m\n\u001b[32m   6467\u001b[39m     )\n\u001b[32m-> \u001b[39m\u001b[32m6468\u001b[39m \u001b[38;5;28;01mreturn\u001b[39;00m \u001b[43mop\u001b[49m\u001b[43m(\u001b[49m\u001b[43mdelegate\u001b[49m\u001b[43m,\u001b[49m\u001b[43m \u001b[49m\u001b[43mskipna\u001b[49m\u001b[43m=\u001b[49m\u001b[43mskipna\u001b[49m\u001b[43m,\u001b[49m\u001b[43m \u001b[49m\u001b[43m*\u001b[49m\u001b[43m*\u001b[49m\u001b[43mkwds\u001b[49m\u001b[43m)\u001b[49m\n",
      "\u001b[36mFile \u001b[39m\u001b[32mc:\\Users\\tayya\\.conda\\envs\\pandas_tip_env\\Lib\\site-packages\\pandas\\core\\nanops.py:147\u001b[39m, in \u001b[36mbottleneck_switch.__call__.<locals>.f\u001b[39m\u001b[34m(values, axis, skipna, **kwds)\u001b[39m\n\u001b[32m    146\u001b[39m \u001b[38;5;28;01melse\u001b[39;00m:\n\u001b[32m--> \u001b[39m\u001b[32m147\u001b[39m     result = \u001b[43malt\u001b[49m\u001b[43m(\u001b[49m\u001b[43mvalues\u001b[49m\u001b[43m,\u001b[49m\u001b[43m \u001b[49m\u001b[43maxis\u001b[49m\u001b[43m=\u001b[49m\u001b[43maxis\u001b[49m\u001b[43m,\u001b[49m\u001b[43m \u001b[49m\u001b[43mskipna\u001b[49m\u001b[43m=\u001b[49m\u001b[43mskipna\u001b[49m\u001b[43m,\u001b[49m\u001b[43m \u001b[49m\u001b[43m*\u001b[49m\u001b[43m*\u001b[49m\u001b[43mkwds\u001b[49m\u001b[43m)\u001b[49m\n\u001b[32m    149\u001b[39m \u001b[38;5;28;01mreturn\u001b[39;00m result\n",
      "\u001b[36mFile \u001b[39m\u001b[32mc:\\Users\\tayya\\.conda\\envs\\pandas_tip_env\\Lib\\site-packages\\pandas\\core\\nanops.py:404\u001b[39m, in \u001b[36m_datetimelike_compat.<locals>.new_func\u001b[39m\u001b[34m(values, axis, skipna, mask, **kwargs)\u001b[39m\n\u001b[32m    402\u001b[39m     mask = isna(values)\n\u001b[32m--> \u001b[39m\u001b[32m404\u001b[39m result = \u001b[43mfunc\u001b[49m\u001b[43m(\u001b[49m\u001b[43mvalues\u001b[49m\u001b[43m,\u001b[49m\u001b[43m \u001b[49m\u001b[43maxis\u001b[49m\u001b[43m=\u001b[49m\u001b[43maxis\u001b[49m\u001b[43m,\u001b[49m\u001b[43m \u001b[49m\u001b[43mskipna\u001b[49m\u001b[43m=\u001b[49m\u001b[43mskipna\u001b[49m\u001b[43m,\u001b[49m\u001b[43m \u001b[49m\u001b[43mmask\u001b[49m\u001b[43m=\u001b[49m\u001b[43mmask\u001b[49m\u001b[43m,\u001b[49m\u001b[43m \u001b[49m\u001b[43m*\u001b[49m\u001b[43m*\u001b[49m\u001b[43mkwargs\u001b[49m\u001b[43m)\u001b[49m\n\u001b[32m    406\u001b[39m \u001b[38;5;28;01mif\u001b[39;00m datetimelike:\n",
      "\u001b[36mFile \u001b[39m\u001b[32mc:\\Users\\tayya\\.conda\\envs\\pandas_tip_env\\Lib\\site-packages\\pandas\\core\\nanops.py:720\u001b[39m, in \u001b[36mnanmean\u001b[39m\u001b[34m(values, axis, skipna, mask)\u001b[39m\n\u001b[32m    719\u001b[39m the_sum = values.sum(axis, dtype=dtype_sum)\n\u001b[32m--> \u001b[39m\u001b[32m720\u001b[39m the_sum = \u001b[43m_ensure_numeric\u001b[49m\u001b[43m(\u001b[49m\u001b[43mthe_sum\u001b[49m\u001b[43m)\u001b[49m\n\u001b[32m    722\u001b[39m \u001b[38;5;28;01mif\u001b[39;00m axis \u001b[38;5;129;01mis\u001b[39;00m \u001b[38;5;129;01mnot\u001b[39;00m \u001b[38;5;28;01mNone\u001b[39;00m \u001b[38;5;129;01mand\u001b[39;00m \u001b[38;5;28mgetattr\u001b[39m(the_sum, \u001b[33m\"\u001b[39m\u001b[33mndim\u001b[39m\u001b[33m\"\u001b[39m, \u001b[38;5;28;01mFalse\u001b[39;00m):\n",
      "\u001b[36mFile \u001b[39m\u001b[32mc:\\Users\\tayya\\.conda\\envs\\pandas_tip_env\\Lib\\site-packages\\pandas\\core\\nanops.py:1701\u001b[39m, in \u001b[36m_ensure_numeric\u001b[39m\u001b[34m(x)\u001b[39m\n\u001b[32m   1699\u001b[39m \u001b[38;5;28;01mif\u001b[39;00m \u001b[38;5;28misinstance\u001b[39m(x, \u001b[38;5;28mstr\u001b[39m):\n\u001b[32m   1700\u001b[39m     \u001b[38;5;66;03m# GH#44008, GH#36703 avoid casting e.g. strings to numeric\u001b[39;00m\n\u001b[32m-> \u001b[39m\u001b[32m1701\u001b[39m     \u001b[38;5;28;01mraise\u001b[39;00m \u001b[38;5;167;01mTypeError\u001b[39;00m(\u001b[33mf\u001b[39m\u001b[33m\"\u001b[39m\u001b[33mCould not convert string \u001b[39m\u001b[33m'\u001b[39m\u001b[38;5;132;01m{\u001b[39;00mx\u001b[38;5;132;01m}\u001b[39;00m\u001b[33m'\u001b[39m\u001b[33m to numeric\u001b[39m\u001b[33m\"\u001b[39m)\n\u001b[32m   1702\u001b[39m \u001b[38;5;28;01mtry\u001b[39;00m:\n",
      "\u001b[31mTypeError\u001b[39m: Could not convert string 'Makran DivisionMakran DivisionMakran DivisionMakran DivisionKalat DivisionKalat DivisionKalat DivisionKalat DivisionKalat DivisionMakran DivisionMakran DivisionMakran DivisionKalat DivisionKalat DivisionKalat DivisionKalat DivisionKalat DivisionKalat DivisionKalat DivisionKalat DivisionKalat DivisionMakran DivisionMakran DivisionMakran DivisionMakran DivisionMakran DivisionMakran DivisionMakran DivisionMakran DivisionKalat DivisionKalat DivisionKalat DivisionKalat DivisionMakran DivisionMakran DivisionMakran DivisionMakran DivisionMakran DivisionMakran DivisionMakran DivisionMakran DivisionMakran DivisionMakran DivisionMakran DivisionMakran DivisionMakran DivisionMakran DivisionMakran DivisionMakran DivisionMakran DivisionMakran DivisionMakran DivisionMakran DivisionMakran DivisionMakran DivisionNaseerabad DivisionNaseerabad DivisionNaseerabad DivisionNaseerabad DivisionNaseerabad DivisionNaseerabad DivisionNaseerabad DivisionNaseerabad DivisionNaseerabad DivisionNaseerabad DivisionNaseerabad DivisionNaseerabad DivisionNaseerabad DivisionNaseerabad DivisionNaseerabad DivisionNaseerabad DivisionNaseerabad DivisionNaseerabad DivisionNaseerabad DivisionQuetta DivisionQuetta DivisionQuetta DivisionQuetta DivisionQuetta DivisionQuetta DivisionQuetta DivisionQuetta DivisionQuetta DivisionQuetta DivisionQuetta DivisionQuetta DivisionQuetta DivisionQuetta DivisionQuetta DivisionQuetta DivisionQuetta DivisionQuetta DivisionQuetta DivisionQuetta DivisionQuetta DivisionQuetta DivisionQuetta DivisionQuetta DivisionQuetta DivisionQuetta DivisionQuetta DivisionQuetta DivisionQuetta DivisionQuetta DivisionQuetta DivisionQuetta DivisionQuetta DivisionQuetta DivisionQuetta DivisionQuetta DivisionQuetta DivisionQuetta DivisionZhob DivisionZhob DivisionZhob DivisionZhob DivisionZhob DivisionZhob DivisionZhob DivisionZhob DivisionZhob DivisionZhob DivisionZhob DivisionZhob DivisionZhob DivisionZhob DivisionZhob DivisionZhob DivisionZhob DivisionZhob DivisionZhob Division' to numeric",
      "\nThe above exception was the direct cause of the following exception:\n",
      "\u001b[31mTypeError\u001b[39m                                 Traceback (most recent call last)",
      "\u001b[36mCell\u001b[39m\u001b[36m \u001b[39m\u001b[32mIn[20]\u001b[39m\u001b[32m, line 1\u001b[39m\n\u001b[32m----> \u001b[39m\u001b[32m1\u001b[39m \u001b[43mdf\u001b[49m\u001b[43m.\u001b[49m\u001b[43mgroupby\u001b[49m\u001b[43m(\u001b[49m\u001b[43m[\u001b[49m\u001b[33;43m'\u001b[39;49m\u001b[33;43mPROVINCE\u001b[39;49m\u001b[33;43m'\u001b[39;49m\u001b[43m]\u001b[49m\u001b[43m)\u001b[49m\u001b[43m.\u001b[49m\u001b[43mmean\u001b[49m\u001b[43m(\u001b[49m\u001b[43m)\u001b[49m\n",
      "\u001b[36mFile \u001b[39m\u001b[32mc:\\Users\\tayya\\.conda\\envs\\pandas_tip_env\\Lib\\site-packages\\pandas\\core\\groupby\\groupby.py:2452\u001b[39m, in \u001b[36mGroupBy.mean\u001b[39m\u001b[34m(self, numeric_only, engine, engine_kwargs)\u001b[39m\n\u001b[32m   2445\u001b[39m     \u001b[38;5;28;01mreturn\u001b[39;00m \u001b[38;5;28mself\u001b[39m._numba_agg_general(\n\u001b[32m   2446\u001b[39m         grouped_mean,\n\u001b[32m   2447\u001b[39m         executor.float_dtype_mapping,\n\u001b[32m   2448\u001b[39m         engine_kwargs,\n\u001b[32m   2449\u001b[39m         min_periods=\u001b[32m0\u001b[39m,\n\u001b[32m   2450\u001b[39m     )\n\u001b[32m   2451\u001b[39m \u001b[38;5;28;01melse\u001b[39;00m:\n\u001b[32m-> \u001b[39m\u001b[32m2452\u001b[39m     result = \u001b[38;5;28;43mself\u001b[39;49m\u001b[43m.\u001b[49m\u001b[43m_cython_agg_general\u001b[49m\u001b[43m(\u001b[49m\n\u001b[32m   2453\u001b[39m \u001b[43m        \u001b[49m\u001b[33;43m\"\u001b[39;49m\u001b[33;43mmean\u001b[39;49m\u001b[33;43m\"\u001b[39;49m\u001b[43m,\u001b[49m\n\u001b[32m   2454\u001b[39m \u001b[43m        \u001b[49m\u001b[43malt\u001b[49m\u001b[43m=\u001b[49m\u001b[38;5;28;43;01mlambda\u001b[39;49;00m\u001b[43m \u001b[49m\u001b[43mx\u001b[49m\u001b[43m:\u001b[49m\u001b[43m \u001b[49m\u001b[43mSeries\u001b[49m\u001b[43m(\u001b[49m\u001b[43mx\u001b[49m\u001b[43m,\u001b[49m\u001b[43m \u001b[49m\u001b[43mcopy\u001b[49m\u001b[43m=\u001b[49m\u001b[38;5;28;43;01mFalse\u001b[39;49;00m\u001b[43m)\u001b[49m\u001b[43m.\u001b[49m\u001b[43mmean\u001b[49m\u001b[43m(\u001b[49m\u001b[43mnumeric_only\u001b[49m\u001b[43m=\u001b[49m\u001b[43mnumeric_only\u001b[49m\u001b[43m)\u001b[49m\u001b[43m,\u001b[49m\n\u001b[32m   2455\u001b[39m \u001b[43m        \u001b[49m\u001b[43mnumeric_only\u001b[49m\u001b[43m=\u001b[49m\u001b[43mnumeric_only\u001b[49m\u001b[43m,\u001b[49m\n\u001b[32m   2456\u001b[39m \u001b[43m    \u001b[49m\u001b[43m)\u001b[49m\n\u001b[32m   2457\u001b[39m     \u001b[38;5;28;01mreturn\u001b[39;00m result.__finalize__(\u001b[38;5;28mself\u001b[39m.obj, method=\u001b[33m\"\u001b[39m\u001b[33mgroupby\u001b[39m\u001b[33m\"\u001b[39m)\n",
      "\u001b[36mFile \u001b[39m\u001b[32mc:\\Users\\tayya\\.conda\\envs\\pandas_tip_env\\Lib\\site-packages\\pandas\\core\\groupby\\groupby.py:1998\u001b[39m, in \u001b[36mGroupBy._cython_agg_general\u001b[39m\u001b[34m(self, how, alt, numeric_only, min_count, **kwargs)\u001b[39m\n\u001b[32m   1995\u001b[39m     result = \u001b[38;5;28mself\u001b[39m._agg_py_fallback(how, values, ndim=data.ndim, alt=alt)\n\u001b[32m   1996\u001b[39m     \u001b[38;5;28;01mreturn\u001b[39;00m result\n\u001b[32m-> \u001b[39m\u001b[32m1998\u001b[39m new_mgr = \u001b[43mdata\u001b[49m\u001b[43m.\u001b[49m\u001b[43mgrouped_reduce\u001b[49m\u001b[43m(\u001b[49m\u001b[43marray_func\u001b[49m\u001b[43m)\u001b[49m\n\u001b[32m   1999\u001b[39m res = \u001b[38;5;28mself\u001b[39m._wrap_agged_manager(new_mgr)\n\u001b[32m   2000\u001b[39m \u001b[38;5;28;01mif\u001b[39;00m how \u001b[38;5;129;01min\u001b[39;00m [\u001b[33m\"\u001b[39m\u001b[33midxmin\u001b[39m\u001b[33m\"\u001b[39m, \u001b[33m\"\u001b[39m\u001b[33midxmax\u001b[39m\u001b[33m\"\u001b[39m]:\n",
      "\u001b[36mFile \u001b[39m\u001b[32mc:\\Users\\tayya\\.conda\\envs\\pandas_tip_env\\Lib\\site-packages\\pandas\\core\\internals\\managers.py:1469\u001b[39m, in \u001b[36mBlockManager.grouped_reduce\u001b[39m\u001b[34m(self, func)\u001b[39m\n\u001b[32m   1465\u001b[39m \u001b[38;5;28;01mif\u001b[39;00m blk.is_object:\n\u001b[32m   1466\u001b[39m     \u001b[38;5;66;03m# split on object-dtype blocks bc some columns may raise\u001b[39;00m\n\u001b[32m   1467\u001b[39m     \u001b[38;5;66;03m#  while others do not.\u001b[39;00m\n\u001b[32m   1468\u001b[39m     \u001b[38;5;28;01mfor\u001b[39;00m sb \u001b[38;5;129;01min\u001b[39;00m blk._split():\n\u001b[32m-> \u001b[39m\u001b[32m1469\u001b[39m         applied = \u001b[43msb\u001b[49m\u001b[43m.\u001b[49m\u001b[43mapply\u001b[49m\u001b[43m(\u001b[49m\u001b[43mfunc\u001b[49m\u001b[43m)\u001b[49m\n\u001b[32m   1470\u001b[39m         result_blocks = extend_blocks(applied, result_blocks)\n\u001b[32m   1471\u001b[39m \u001b[38;5;28;01melse\u001b[39;00m:\n",
      "\u001b[36mFile \u001b[39m\u001b[32mc:\\Users\\tayya\\.conda\\envs\\pandas_tip_env\\Lib\\site-packages\\pandas\\core\\internals\\blocks.py:395\u001b[39m, in \u001b[36mBlock.apply\u001b[39m\u001b[34m(self, func, **kwargs)\u001b[39m\n\u001b[32m    389\u001b[39m \u001b[38;5;129m@final\u001b[39m\n\u001b[32m    390\u001b[39m \u001b[38;5;28;01mdef\u001b[39;00m\u001b[38;5;250m \u001b[39m\u001b[34mapply\u001b[39m(\u001b[38;5;28mself\u001b[39m, func, **kwargs) -> \u001b[38;5;28mlist\u001b[39m[Block]:\n\u001b[32m    391\u001b[39m \u001b[38;5;250m    \u001b[39m\u001b[33;03m\"\"\"\u001b[39;00m\n\u001b[32m    392\u001b[39m \u001b[33;03m    apply the function to my values; return a block if we are not\u001b[39;00m\n\u001b[32m    393\u001b[39m \u001b[33;03m    one\u001b[39;00m\n\u001b[32m    394\u001b[39m \u001b[33;03m    \"\"\"\u001b[39;00m\n\u001b[32m--> \u001b[39m\u001b[32m395\u001b[39m     result = \u001b[43mfunc\u001b[49m\u001b[43m(\u001b[49m\u001b[38;5;28;43mself\u001b[39;49m\u001b[43m.\u001b[49m\u001b[43mvalues\u001b[49m\u001b[43m,\u001b[49m\u001b[43m \u001b[49m\u001b[43m*\u001b[49m\u001b[43m*\u001b[49m\u001b[43mkwargs\u001b[49m\u001b[43m)\u001b[49m\n\u001b[32m    397\u001b[39m     result = maybe_coerce_values(result)\n\u001b[32m    398\u001b[39m     \u001b[38;5;28;01mreturn\u001b[39;00m \u001b[38;5;28mself\u001b[39m._split_op_result(result)\n",
      "\u001b[36mFile \u001b[39m\u001b[32mc:\\Users\\tayya\\.conda\\envs\\pandas_tip_env\\Lib\\site-packages\\pandas\\core\\groupby\\groupby.py:1995\u001b[39m, in \u001b[36mGroupBy._cython_agg_general.<locals>.array_func\u001b[39m\u001b[34m(values)\u001b[39m\n\u001b[32m   1992\u001b[39m     \u001b[38;5;28;01mreturn\u001b[39;00m result\n\u001b[32m   1994\u001b[39m \u001b[38;5;28;01massert\u001b[39;00m alt \u001b[38;5;129;01mis\u001b[39;00m \u001b[38;5;129;01mnot\u001b[39;00m \u001b[38;5;28;01mNone\u001b[39;00m\n\u001b[32m-> \u001b[39m\u001b[32m1995\u001b[39m result = \u001b[38;5;28;43mself\u001b[39;49m\u001b[43m.\u001b[49m\u001b[43m_agg_py_fallback\u001b[49m\u001b[43m(\u001b[49m\u001b[43mhow\u001b[49m\u001b[43m,\u001b[49m\u001b[43m \u001b[49m\u001b[43mvalues\u001b[49m\u001b[43m,\u001b[49m\u001b[43m \u001b[49m\u001b[43mndim\u001b[49m\u001b[43m=\u001b[49m\u001b[43mdata\u001b[49m\u001b[43m.\u001b[49m\u001b[43mndim\u001b[49m\u001b[43m,\u001b[49m\u001b[43m \u001b[49m\u001b[43malt\u001b[49m\u001b[43m=\u001b[49m\u001b[43malt\u001b[49m\u001b[43m)\u001b[49m\n\u001b[32m   1996\u001b[39m \u001b[38;5;28;01mreturn\u001b[39;00m result\n",
      "\u001b[36mFile \u001b[39m\u001b[32mc:\\Users\\tayya\\.conda\\envs\\pandas_tip_env\\Lib\\site-packages\\pandas\\core\\groupby\\groupby.py:1946\u001b[39m, in \u001b[36mGroupBy._agg_py_fallback\u001b[39m\u001b[34m(self, how, values, ndim, alt)\u001b[39m\n\u001b[32m   1944\u001b[39m     msg = \u001b[33mf\u001b[39m\u001b[33m\"\u001b[39m\u001b[33magg function failed [how->\u001b[39m\u001b[38;5;132;01m{\u001b[39;00mhow\u001b[38;5;132;01m}\u001b[39;00m\u001b[33m,dtype->\u001b[39m\u001b[38;5;132;01m{\u001b[39;00mser.dtype\u001b[38;5;132;01m}\u001b[39;00m\u001b[33m]\u001b[39m\u001b[33m\"\u001b[39m\n\u001b[32m   1945\u001b[39m     \u001b[38;5;66;03m# preserve the kind of exception that raised\u001b[39;00m\n\u001b[32m-> \u001b[39m\u001b[32m1946\u001b[39m     \u001b[38;5;28;01mraise\u001b[39;00m \u001b[38;5;28mtype\u001b[39m(err)(msg) \u001b[38;5;28;01mfrom\u001b[39;00m\u001b[38;5;250m \u001b[39m\u001b[34;01merr\u001b[39;00m\n\u001b[32m   1948\u001b[39m \u001b[38;5;28;01mif\u001b[39;00m ser.dtype == \u001b[38;5;28mobject\u001b[39m:\n\u001b[32m   1949\u001b[39m     res_values = res_values.astype(\u001b[38;5;28mobject\u001b[39m, copy=\u001b[38;5;28;01mFalse\u001b[39;00m)\n",
      "\u001b[31mTypeError\u001b[39m: agg function failed [how->mean,dtype->object]"
     ]
    }
   ],
   "source": [
    "df.groupby(['PROVINCE']).mean()"
   ]
  },
  {
   "cell_type": "code",
   "execution_count": null,
   "id": "46d266a2",
   "metadata": {},
   "outputs": [
    {
     "data": {
      "application/vnd.microsoft.datawrangler.viewer.v0+json": {
       "columns": [
        {
         "name": "index",
         "rawType": "int64",
         "type": "integer"
        },
        {
         "name": "PROVINCE",
         "rawType": "object",
         "type": "string"
        },
        {
         "name": "DIVISION",
         "rawType": "object",
         "type": "string"
        },
        {
         "name": "DISTRICT",
         "rawType": "object",
         "type": "string"
        },
        {
         "name": "SUB DIVISION",
         "rawType": "object",
         "type": "string"
        },
        {
         "name": "AREA (sq.km)",
         "rawType": "float64",
         "type": "float"
        },
        {
         "name": "ALL SEXES (RURAL)",
         "rawType": "int64",
         "type": "integer"
        },
        {
         "name": "MALE (RURAL)",
         "rawType": "int64",
         "type": "integer"
        },
        {
         "name": "FEMALE (RURAL)",
         "rawType": "int64",
         "type": "integer"
        },
        {
         "name": "TRANSGENDER (RURAL)",
         "rawType": "int64",
         "type": "integer"
        },
        {
         "name": "SEX RATIO (RURAL)",
         "rawType": "float64",
         "type": "float"
        },
        {
         "name": "AVG HOUSEHOLD SIZE (RURAL)",
         "rawType": "float64",
         "type": "float"
        },
        {
         "name": "POPULATION 1998 (RURAL)",
         "rawType": "int64",
         "type": "integer"
        },
        {
         "name": "ANNUAL GROWTH RATE (RURAL)",
         "rawType": "float64",
         "type": "float"
        },
        {
         "name": "ALL SEXES (URBAN)",
         "rawType": "int64",
         "type": "integer"
        },
        {
         "name": "MALE (URBAN)",
         "rawType": "int64",
         "type": "integer"
        },
        {
         "name": "FEMALE (URBAN)",
         "rawType": "int64",
         "type": "integer"
        },
        {
         "name": "TRANSGENDER (URBAN)",
         "rawType": "int64",
         "type": "integer"
        },
        {
         "name": "SEX RATIO (URBAN)",
         "rawType": "float64",
         "type": "float"
        },
        {
         "name": "AVG HOUSEHOLD SIZE (URBAN)",
         "rawType": "float64",
         "type": "float"
        },
        {
         "name": "POPULATION 1998 (URBAN)",
         "rawType": "int64",
         "type": "integer"
        },
        {
         "name": "ANNUAL GROWTH RATE (URBAN)",
         "rawType": "float64",
         "type": "float"
        }
       ],
       "ref": "23821860-1742-418d-958c-732c760bb26e",
       "rows": [
        [
         "0",
         "PUNJAB",
         "BAHAWALPUR DIVISION",
         "BAHAWALNAGAR DISTRICT",
         "BAHAWALNAGAR TEHSIL",
         "1729.0",
         "619550",
         "316864",
         "302644",
         "42",
         "104.7",
         "6.1",
         "407768",
         "2.22",
         "193840",
         "98391",
         "95402",
         "47",
         "103.13",
         "6.02",
         "133785",
         "1.97"
        ],
        [
         "1",
         "PUNJAB",
         "BAHAWALPUR DIVISION",
         "BAHAWALNAGAR DISTRICT",
         "CHISHTIAN TEHSIL",
         "1500.0",
         "540342",
         "273788",
         "266500",
         "54",
         "102.73",
         "6.15",
         "395983",
         "1.65",
         "149424",
         "75546",
         "73851",
         "27",
         "102.3",
         "6.01",
         "102287",
         "2.01"
        ],
        [
         "2",
         "PUNJAB",
         "BAHAWALPUR DIVISION",
         "BAHAWALNAGAR DISTRICT",
         "FORT ABBAS TEHSIL",
         "2536.0",
         "361240",
         "182655",
         "178541",
         "44",
         "102.3",
         "6.32",
         "250959",
         "1.93",
         "61528",
         "31360",
         "30150",
         "18",
         "104.01",
         "6.0",
         "34637",
         "3.06"
        ],
        [
         "3",
         "PUNJAB",
         "BAHAWALPUR DIVISION",
         "BAHAWALNAGAR DISTRICT",
         "HAROONABAD TEHSIL",
         "1295.0",
         "382115",
         "192278",
         "189808",
         "29",
         "101.3",
         "6.15",
         "297343",
         "1.33",
         "142600",
         "71345",
         "71236",
         "19",
         "100.15",
         "6.02",
         "84424",
         "2.79"
        ],
        [
         "4",
         "PUNJAB",
         "BAHAWALPUR DIVISION",
         "BAHAWALNAGAR DISTRICT",
         "MINCHINABAD TEHSIL",
         "1818.0",
         "452723",
         "231506",
         "221178",
         "39",
         "104.67",
         "6.29",
         "316593",
         "1.9",
         "72294",
         "36694",
         "35590",
         "10",
         "103.1",
         "6.34",
         "37668",
         "3.48"
        ]
       ],
       "shape": {
        "columns": 21,
        "rows": 5
       }
      },
      "text/html": [
       "<div>\n",
       "<style scoped>\n",
       "    .dataframe tbody tr th:only-of-type {\n",
       "        vertical-align: middle;\n",
       "    }\n",
       "\n",
       "    .dataframe tbody tr th {\n",
       "        vertical-align: top;\n",
       "    }\n",
       "\n",
       "    .dataframe thead th {\n",
       "        text-align: right;\n",
       "    }\n",
       "</style>\n",
       "<table border=\"1\" class=\"dataframe\">\n",
       "  <thead>\n",
       "    <tr style=\"text-align: right;\">\n",
       "      <th></th>\n",
       "      <th>PROVINCE</th>\n",
       "      <th>DIVISION</th>\n",
       "      <th>DISTRICT</th>\n",
       "      <th>SUB DIVISION</th>\n",
       "      <th>AREA (sq.km)</th>\n",
       "      <th>ALL SEXES (RURAL)</th>\n",
       "      <th>MALE (RURAL)</th>\n",
       "      <th>FEMALE (RURAL)</th>\n",
       "      <th>TRANSGENDER (RURAL)</th>\n",
       "      <th>SEX RATIO (RURAL)</th>\n",
       "      <th>AVG HOUSEHOLD SIZE (RURAL)</th>\n",
       "      <th>POPULATION 1998 (RURAL)</th>\n",
       "      <th>ANNUAL GROWTH RATE (RURAL)</th>\n",
       "      <th>ALL SEXES (URBAN)</th>\n",
       "      <th>MALE (URBAN)</th>\n",
       "      <th>FEMALE (URBAN)</th>\n",
       "      <th>TRANSGENDER (URBAN)</th>\n",
       "      <th>SEX RATIO (URBAN)</th>\n",
       "      <th>AVG HOUSEHOLD SIZE (URBAN)</th>\n",
       "      <th>POPULATION 1998 (URBAN)</th>\n",
       "      <th>ANNUAL GROWTH RATE (URBAN)</th>\n",
       "    </tr>\n",
       "  </thead>\n",
       "  <tbody>\n",
       "    <tr>\n",
       "      <th>0</th>\n",
       "      <td>PUNJAB</td>\n",
       "      <td>BAHAWALPUR DIVISION</td>\n",
       "      <td>BAHAWALNAGAR DISTRICT</td>\n",
       "      <td>BAHAWALNAGAR TEHSIL</td>\n",
       "      <td>1729.0</td>\n",
       "      <td>619550</td>\n",
       "      <td>316864</td>\n",
       "      <td>302644</td>\n",
       "      <td>42</td>\n",
       "      <td>104.70</td>\n",
       "      <td>6.10</td>\n",
       "      <td>407768</td>\n",
       "      <td>2.22</td>\n",
       "      <td>193840</td>\n",
       "      <td>98391</td>\n",
       "      <td>95402</td>\n",
       "      <td>47</td>\n",
       "      <td>103.13</td>\n",
       "      <td>6.02</td>\n",
       "      <td>133785</td>\n",
       "      <td>1.97</td>\n",
       "    </tr>\n",
       "    <tr>\n",
       "      <th>1</th>\n",
       "      <td>PUNJAB</td>\n",
       "      <td>BAHAWALPUR DIVISION</td>\n",
       "      <td>BAHAWALNAGAR DISTRICT</td>\n",
       "      <td>CHISHTIAN TEHSIL</td>\n",
       "      <td>1500.0</td>\n",
       "      <td>540342</td>\n",
       "      <td>273788</td>\n",
       "      <td>266500</td>\n",
       "      <td>54</td>\n",
       "      <td>102.73</td>\n",
       "      <td>6.15</td>\n",
       "      <td>395983</td>\n",
       "      <td>1.65</td>\n",
       "      <td>149424</td>\n",
       "      <td>75546</td>\n",
       "      <td>73851</td>\n",
       "      <td>27</td>\n",
       "      <td>102.30</td>\n",
       "      <td>6.01</td>\n",
       "      <td>102287</td>\n",
       "      <td>2.01</td>\n",
       "    </tr>\n",
       "    <tr>\n",
       "      <th>2</th>\n",
       "      <td>PUNJAB</td>\n",
       "      <td>BAHAWALPUR DIVISION</td>\n",
       "      <td>BAHAWALNAGAR DISTRICT</td>\n",
       "      <td>FORT ABBAS TEHSIL</td>\n",
       "      <td>2536.0</td>\n",
       "      <td>361240</td>\n",
       "      <td>182655</td>\n",
       "      <td>178541</td>\n",
       "      <td>44</td>\n",
       "      <td>102.30</td>\n",
       "      <td>6.32</td>\n",
       "      <td>250959</td>\n",
       "      <td>1.93</td>\n",
       "      <td>61528</td>\n",
       "      <td>31360</td>\n",
       "      <td>30150</td>\n",
       "      <td>18</td>\n",
       "      <td>104.01</td>\n",
       "      <td>6.00</td>\n",
       "      <td>34637</td>\n",
       "      <td>3.06</td>\n",
       "    </tr>\n",
       "    <tr>\n",
       "      <th>3</th>\n",
       "      <td>PUNJAB</td>\n",
       "      <td>BAHAWALPUR DIVISION</td>\n",
       "      <td>BAHAWALNAGAR DISTRICT</td>\n",
       "      <td>HAROONABAD TEHSIL</td>\n",
       "      <td>1295.0</td>\n",
       "      <td>382115</td>\n",
       "      <td>192278</td>\n",
       "      <td>189808</td>\n",
       "      <td>29</td>\n",
       "      <td>101.30</td>\n",
       "      <td>6.15</td>\n",
       "      <td>297343</td>\n",
       "      <td>1.33</td>\n",
       "      <td>142600</td>\n",
       "      <td>71345</td>\n",
       "      <td>71236</td>\n",
       "      <td>19</td>\n",
       "      <td>100.15</td>\n",
       "      <td>6.02</td>\n",
       "      <td>84424</td>\n",
       "      <td>2.79</td>\n",
       "    </tr>\n",
       "    <tr>\n",
       "      <th>4</th>\n",
       "      <td>PUNJAB</td>\n",
       "      <td>BAHAWALPUR DIVISION</td>\n",
       "      <td>BAHAWALNAGAR DISTRICT</td>\n",
       "      <td>MINCHINABAD TEHSIL</td>\n",
       "      <td>1818.0</td>\n",
       "      <td>452723</td>\n",
       "      <td>231506</td>\n",
       "      <td>221178</td>\n",
       "      <td>39</td>\n",
       "      <td>104.67</td>\n",
       "      <td>6.29</td>\n",
       "      <td>316593</td>\n",
       "      <td>1.90</td>\n",
       "      <td>72294</td>\n",
       "      <td>36694</td>\n",
       "      <td>35590</td>\n",
       "      <td>10</td>\n",
       "      <td>103.10</td>\n",
       "      <td>6.34</td>\n",
       "      <td>37668</td>\n",
       "      <td>3.48</td>\n",
       "    </tr>\n",
       "  </tbody>\n",
       "</table>\n",
       "</div>"
      ],
      "text/plain": [
       "  PROVINCE             DIVISION               DISTRICT         SUB DIVISION  \\\n",
       "0   PUNJAB  BAHAWALPUR DIVISION  BAHAWALNAGAR DISTRICT  BAHAWALNAGAR TEHSIL   \n",
       "1   PUNJAB  BAHAWALPUR DIVISION  BAHAWALNAGAR DISTRICT     CHISHTIAN TEHSIL   \n",
       "2   PUNJAB  BAHAWALPUR DIVISION  BAHAWALNAGAR DISTRICT    FORT ABBAS TEHSIL   \n",
       "3   PUNJAB  BAHAWALPUR DIVISION  BAHAWALNAGAR DISTRICT    HAROONABAD TEHSIL   \n",
       "4   PUNJAB  BAHAWALPUR DIVISION  BAHAWALNAGAR DISTRICT   MINCHINABAD TEHSIL   \n",
       "\n",
       "   AREA (sq.km)  ALL SEXES (RURAL)  MALE (RURAL)  FEMALE (RURAL)  \\\n",
       "0        1729.0             619550        316864          302644   \n",
       "1        1500.0             540342        273788          266500   \n",
       "2        2536.0             361240        182655          178541   \n",
       "3        1295.0             382115        192278          189808   \n",
       "4        1818.0             452723        231506          221178   \n",
       "\n",
       "   TRANSGENDER (RURAL)  SEX RATIO (RURAL)  AVG HOUSEHOLD SIZE (RURAL)  \\\n",
       "0                   42             104.70                        6.10   \n",
       "1                   54             102.73                        6.15   \n",
       "2                   44             102.30                        6.32   \n",
       "3                   29             101.30                        6.15   \n",
       "4                   39             104.67                        6.29   \n",
       "\n",
       "   POPULATION 1998 (RURAL)  ANNUAL GROWTH RATE (RURAL)  ALL SEXES (URBAN)  \\\n",
       "0                   407768                        2.22             193840   \n",
       "1                   395983                        1.65             149424   \n",
       "2                   250959                        1.93              61528   \n",
       "3                   297343                        1.33             142600   \n",
       "4                   316593                        1.90              72294   \n",
       "\n",
       "   MALE (URBAN)  FEMALE (URBAN)  TRANSGENDER (URBAN)  SEX RATIO (URBAN)  \\\n",
       "0         98391           95402                   47             103.13   \n",
       "1         75546           73851                   27             102.30   \n",
       "2         31360           30150                   18             104.01   \n",
       "3         71345           71236                   19             100.15   \n",
       "4         36694           35590                   10             103.10   \n",
       "\n",
       "   AVG HOUSEHOLD SIZE (URBAN)  POPULATION 1998 (URBAN)  \\\n",
       "0                        6.02                   133785   \n",
       "1                        6.01                   102287   \n",
       "2                        6.00                    34637   \n",
       "3                        6.02                    84424   \n",
       "4                        6.34                    37668   \n",
       "\n",
       "   ANNUAL GROWTH RATE (URBAN)  \n",
       "0                        1.97  \n",
       "1                        2.01  \n",
       "2                        3.06  \n",
       "3                        2.79  \n",
       "4                        3.48  "
      ]
     },
     "execution_count": 35,
     "metadata": {},
     "output_type": "execute_result"
    }
   ],
   "source": [
    "df.head()"
   ]
  },
  {
   "cell_type": "code",
   "execution_count": null,
   "id": "c483c761",
   "metadata": {},
   "outputs": [
    {
     "data": {
      "application/vnd.microsoft.datawrangler.viewer.v0+json": {
       "columns": [
        {
         "name": "('PROVINCE', 'DIVISION', 'DIVISION', 'SUB DIVISION')",
         "rawType": "object",
         "type": "unknown"
        },
        {
         "name": "ALL SEXES (RURAL)",
         "rawType": "float64",
         "type": "float"
        }
       ],
       "ref": "873dc9e9-da01-4159-9ad0-8d37bf20e375",
       "rows": [
        [
         "('BALOCHISTAN', 'Kalat Division', 'Kalat Division', 'ARANJI SUB-TEHSIL')",
         "42318.0"
        ],
        [
         "('BALOCHISTAN', 'Kalat Division', 'Kalat Division', 'DASHT TEHSIL')",
         "64765.0"
        ],
        [
         "('BALOCHISTAN', 'Kalat Division', 'Kalat Division', 'GAZG SUB-TEHSIL')",
         "5721.0"
        ],
        [
         "('BALOCHISTAN', 'Kalat Division', 'Kalat Division', 'JOHAN SUB-TEHSIL')",
         "10708.0"
        ],
        [
         "('BALOCHISTAN', 'Kalat Division', 'Kalat Division', 'KALAT TEHSIL')",
         "92298.0"
        ],
        [
         "('BALOCHISTAN', 'Kalat Division', 'Kalat Division', 'KARAKH SUB-TEHSIL')",
         "31016.0"
        ],
        [
         "('BALOCHISTAN', 'Kalat Division', 'Kalat Division', 'KHAD KOCHA SUB-TEHSIL')",
         "38860.0"
        ],
        [
         "('BALOCHISTAN', 'Kalat Division', 'Kalat Division', 'KHUZDAR TEHSIL')",
         "117020.0"
        ],
        [
         "('BALOCHISTAN', 'Kalat Division', 'Kalat Division', 'KIRDGAP SUB-TEHSIL')",
         "28624.0"
        ],
        [
         "('BALOCHISTAN', 'Kalat Division', 'Kalat Division', 'MANGOCHAR TEHSIL')",
         "65678.0"
        ],
        [
         "('BALOCHISTAN', 'Kalat Division', 'Kalat Division', 'MASTUNG TEHSIL')",
         "98430.0"
        ],
        [
         "('BALOCHISTAN', 'Kalat Division', 'Kalat Division', 'MOOLA SUB-TEHSIL')",
         "23386.0"
        ],
        [
         "('BALOCHISTAN', 'Kalat Division', 'Kalat Division', 'NAL SUB-TEHSIL')",
         "97576.0"
        ],
        [
         "('BALOCHISTAN', 'Kalat Division', 'Kalat Division', 'ORNACH SUB-TEHSIl')",
         "37588.0"
        ],
        [
         "('BALOCHISTAN', 'Kalat Division', 'Kalat Division', 'SAROONA SUB-TEHSIL')",
         "32125.0"
        ],
        [
         "('BALOCHISTAN', 'Kalat Division', 'Kalat Division', 'SURAB TEHSIL')",
         "165260.0"
        ],
        [
         "('BALOCHISTAN', 'Kalat Division', 'Kalat Division', 'WADH TEHSIL')",
         "77906.0"
        ],
        [
         "('BALOCHISTAN', 'Kalat Division', 'Kalat Division', 'ZEHRI TEHSIL')",
         "64199.0"
        ],
        [
         "('BALOCHISTAN', 'Makran Division', 'Makran Division', 'AWARAN TEHSIL')",
         "8584.0"
        ],
        [
         "('BALOCHISTAN', 'Makran Division', 'Makran Division', 'BALNIGORE SUB-TEHSIL')",
         "44595.0"
        ],
        [
         "('BALOCHISTAN', 'Makran Division', 'Makran Division', 'BELA TEHSIL')",
         "80124.0"
        ],
        [
         "('BALOCHISTAN', 'Makran Division', 'Makran Division', 'BESIMA SUB-TEHSIL')",
         "40266.0"
        ],
        [
         "('BALOCHISTAN', 'Makran Division', 'Makran Division', 'BULAIDA SUB-TEHSIL')",
         "37302.0"
        ],
        [
         "('BALOCHISTAN', 'Makran Division', 'Makran Division', 'DASHT SUB-TEHSIL')",
         "76470.0"
        ],
        [
         "('BALOCHISTAN', 'Makran Division', 'Makran Division', 'DUREJI TEHSIL')",
         "32686.0"
        ],
        [
         "('BALOCHISTAN', 'Makran Division', 'Makran Division', 'GADDANI TEHSIL')",
         "16914.0"
        ],
        [
         "('BALOCHISTAN', 'Makran Division', 'Makran Division', 'GICHK SUB-TEHSIL')",
         "16646.0"
        ],
        [
         "('BALOCHISTAN', 'Makran Division', 'Makran Division', 'GISHKORE SUB-TEHSIL')",
         "18390.0"
        ],
        [
         "('BALOCHISTAN', 'Makran Division', 'Makran Division', 'GOWARGO TEHSIL')",
         "16329.0"
        ],
        [
         "('BALOCHISTAN', 'Makran Division', 'Makran Division', 'GWADAR TEHSIL')",
         "47494.0"
        ],
        [
         "('BALOCHISTAN', 'Makran Division', 'Makran Division', 'HOSHAB SUB-TEHSIL')",
         "52947.0"
        ],
        [
         "('BALOCHISTAN', 'Makran Division', 'Makran Division', 'HUB TEHSIL')",
         "27664.0"
        ],
        [
         "('BALOCHISTAN', 'Makran Division', 'Makran Division', 'JHAL JAO SUB-TEHSIL')",
         "40010.0"
        ],
        [
         "('BALOCHISTAN', 'Makran Division', 'Makran Division', 'JIWANI TEHSIL')",
         "8423.0"
        ],
        [
         "('BALOCHISTAN', 'Makran Division', 'Makran Division', 'KECH (TURBAT) TEHSIL')",
         "202777.0"
        ],
        [
         "('BALOCHISTAN', 'Makran Division', 'Makran Division', 'KHARAN TEHSIL')",
         "29315.0"
        ],
        [
         "('BALOCHISTAN', 'Makran Division', 'Makran Division', 'LAKHRA TEHSIL')",
         "35495.0"
        ],
        [
         "('BALOCHISTAN', 'Makran Division', 'Makran Division', 'LIARI TEHSIL')",
         "11730.0"
        ],
        [
         "('BALOCHISTAN', 'Makran Division', 'Makran Division', 'MAND SUB-TEHSIL')",
         "50995.0"
        ],
        [
         "('BALOCHISTAN', 'Makran Division', 'Makran Division', 'MASHKAI TEHSIL')",
         "20600.0"
        ],
        [
         "('BALOCHISTAN', 'Makran Division', 'Makran Division', 'MASHKHEL SUB-TEHSIL')",
         "38634.0"
        ],
        [
         "('BALOCHISTAN', 'Makran Division', 'Makran Division', 'NAG SUB-TEHSIL')",
         "34477.0"
        ],
        [
         "('BALOCHISTAN', 'Makran Division', 'Makran Division', 'ORMARA TEHSIL')",
         "7881.0"
        ],
        [
         "('BALOCHISTAN', 'Makran Division', 'Makran Division', 'PANJGUR TEHSIL')",
         "178752.0"
        ],
        [
         "('BALOCHISTAN', 'Makran Division', 'Makran Division', 'PAROME TEHSIL')",
         "23215.0"
        ],
        [
         "('BALOCHISTAN', 'Makran Division', 'Makran Division', 'PASNI TEHSIL')",
         "26790.0"
        ],
        [
         "('BALOCHISTAN', 'Makran Division', 'Makran Division', 'SAR KHARAN TEHSIL')",
         "49393.0"
        ],
        [
         "('BALOCHISTAN', 'Makran Division', 'Makran Division', 'SHAHGORI SUB-TEHSIL')",
         "27548.0"
        ],
        [
         "('BALOCHISTAN', 'Makran Division', 'Makran Division', 'SONMIANI/WINDER TEHSIL')",
         "34504.0"
        ],
        [
         "('BALOCHISTAN', 'Makran Division', 'Makran Division', 'SUB TEHSIL TOHMULK')",
         "32670.0"
        ]
       ],
       "shape": {
        "columns": 1,
        "rows": 528
       }
      },
      "text/plain": [
       "PROVINCE     DIVISION                      DIVISION                      SUB DIVISION               \n",
       "BALOCHISTAN  Kalat Division                Kalat Division                ARANJI SUB-TEHSIL                42318.0\n",
       "                                                                         DASHT TEHSIL                     64765.0\n",
       "                                                                         GAZG SUB-TEHSIL                   5721.0\n",
       "                                                                         JOHAN SUB-TEHSIL                 10708.0\n",
       "                                                                         KALAT TEHSIL                     92298.0\n",
       "                                                                         KARAKH SUB-TEHSIL                31016.0\n",
       "                                                                         KHAD KOCHA SUB-TEHSIL            38860.0\n",
       "                                                                         KHUZDAR TEHSIL                  117020.0\n",
       "                                                                         KIRDGAP SUB-TEHSIL               28624.0\n",
       "                                                                         MANGOCHAR TEHSIL                 65678.0\n",
       "                                                                         MASTUNG TEHSIL                   98430.0\n",
       "                                                                         MOOLA SUB-TEHSIL                 23386.0\n",
       "                                                                         NAL SUB-TEHSIL                   97576.0\n",
       "                                                                         ORNACH SUB-TEHSIl                37588.0\n",
       "                                                                         SAROONA SUB-TEHSIL               32125.0\n",
       "                                                                         SURAB TEHSIL                    165260.0\n",
       "                                                                         WADH TEHSIL                      77906.0\n",
       "                                                                         ZEHRI TEHSIL                     64199.0\n",
       "             Makran Division               Makran Division               AWARAN TEHSIL                     8584.0\n",
       "                                                                         BALNIGORE SUB-TEHSIL             44595.0\n",
       "                                                                         BELA TEHSIL                      80124.0\n",
       "                                                                         BESIMA SUB-TEHSIL                40266.0\n",
       "                                                                         BULAIDA SUB-TEHSIL               37302.0\n",
       "                                                                         DASHT SUB-TEHSIL                 76470.0\n",
       "                                                                         DUREJI TEHSIL                    32686.0\n",
       "                                                                         GADDANI TEHSIL                   16914.0\n",
       "                                                                         GICHK SUB-TEHSIL                 16646.0\n",
       "                                                                         GISHKORE SUB-TEHSIL              18390.0\n",
       "                                                                         GOWARGO TEHSIL                   16329.0\n",
       "                                                                         GWADAR TEHSIL                    47494.0\n",
       "                                                                         HOSHAB SUB-TEHSIL                52947.0\n",
       "                                                                         HUB TEHSIL                       27664.0\n",
       "                                                                         JHAL JAO SUB-TEHSIL              40010.0\n",
       "                                                                         JIWANI TEHSIL                     8423.0\n",
       "                                                                         KECH (TURBAT) TEHSIL            202777.0\n",
       "                                                                         KHARAN TEHSIL                    29315.0\n",
       "                                                                         LAKHRA TEHSIL                    35495.0\n",
       "                                                                         LIARI TEHSIL                     11730.0\n",
       "                                                                         MAND SUB-TEHSIL                  50995.0\n",
       "                                                                         MASHKAI TEHSIL                   20600.0\n",
       "                                                                         MASHKHEL SUB-TEHSIL              38634.0\n",
       "                                                                         NAG SUB-TEHSIL                   34477.0\n",
       "                                                                         ORMARA TEHSIL                     7881.0\n",
       "                                                                         PANJGUR TEHSIL                  178752.0\n",
       "                                                                         PAROME TEHSIL                    23215.0\n",
       "                                                                         PASNI TEHSIL                     26790.0\n",
       "                                                                         SAR KHARAN TEHSIL                49393.0\n",
       "                                                                         SHAHGORI SUB-TEHSIL              27548.0\n",
       "                                                                         SONMIANI/WINDER TEHSIL           34504.0\n",
       "                                                                         SUB TEHSIL TOHMULK               32670.0\n",
       "                                                                         SUNTSER SUB-TEHSIL               10886.0\n",
       "                                                                         TUMP SUB-TEHSIL                  97665.0\n",
       "                                                                         UTHAL TEHSIL                     42867.0\n",
       "                                                                         WASHUK SUB-TEHSIL                12952.0\n",
       "                                                                         ZAMORAN SUB-TEHSIL               42411.0\n",
       "             Naseerabad Division           Naseerabad Division           BABA KOT TEHSIL                  49480.0\n",
       "                                                                         BALANARI SUB-TEHSIL              43341.0\n",
       "                                                                         BHAG TEHSIL                      56859.0\n",
       "                                                                         CHATTAR SUB-TEHSIL               76536.0\n",
       "                                                                         DERA MURAD JAMALI TEHSIL        134459.0\n",
       "                                                                         DHADAR TEHSIL                    27149.0\n",
       "                                                                         FARIDABAD TEHSIL                 58204.0\n",
       "                                                                         GANDAWA TEHSIL                   43365.0\n",
       "                                                                         GANDHAKA TEHSIL                  74881.0\n",
       "                                                                         JHAL MAGSI TEHSIL                88279.0\n",
       "                                                                         JHAT PAT TEHSIL                 172149.0\n",
       "                                                                         KHATTAN SUB-TEHSIL               14213.0\n",
       "                                                                         MACH SUB-TEHSIL                  20489.0\n",
       "                                                                         MIRPUR SUB-TEHSIL                 9441.0\n",
       "                                                                         SANHRI TEHSIL                    88788.0\n",
       "                                                                         SANNI SUB-TEHSIL                 96901.0\n",
       "                                                                         SOHBATPUR TEHSIL                 40567.0\n",
       "                                                                         TAMBOO TEHSIL                   131056.0\n",
       "                                                                         USTA MUHAMMAD TEHSIL            109231.0\n",
       "             Quetta Division               Quetta Division               BAIKER SUB-TEHSIL                19497.0\n",
       "                                                                         BARSHORE SUB-TEHSIL             103423.0\n",
       "                                                                         CHAGAI SUB-TEHSIL                58256.0\n",
       "                                                                         CHAMAN TEHSIL                   311355.0\n",
       "                                                                         DALBANDIN TEHSIL                111203.0\n",
       "                                                                         DERA BUGTI TEHSIL                20790.0\n",
       "                                                                         DOBANDI SUB-TEHSIL               61741.0\n",
       "                                                                         GRISANI SUB-TEHSIL               17027.0\n",
       "                                                                         GULISTAN TEHSIL                 114984.0\n",
       "                                                                         HARNAI TEHSIL                    50753.0\n",
       "                                                                         HURRAM ZAI SUB-TEHSIL           102700.0\n",
       "                                                                         KAHAN TEHSIL                     73833.0\n",
       "                                                                         KAREZAT SUB-TEHSIL               97469.0\n",
       "                                                                         KHOAST SUB-TEHSIL                12279.0\n",
       "                                                                         KILLA ABDULLAH TEHSIL           120944.0\n",
       "                                                                         KOHLU TEHSIL                     27709.0\n",
       "                                                                         KOT MANDAI SUB-TEHSIL             7583.0\n",
       "                                                                         LEHRI TEHSIL                     44490.0\n",
       "                                                                         LOTI TEHSIL                      18058.0\n",
       "                                                                         MALAM SUB-TEHSIL                 27265.0\n",
       "                                                                         MAWAND TEHSIL                    41516.0\n",
       "                                                                         NOKUNDI SUB-TEHSIL               22283.0\n",
       "                                                                         NUSHKI TEHSIL                   132551.0\n",
       "                                                                         PANJ PAI SUB-TEHSIL              19011.0\n",
       "                                                                         PHELAWAGH TEHSIL                 28054.0\n",
       "                                                                         PIR KOH SUB-TEHSIL               40629.0\n",
       "                                                                         PISHIN TEHSIL                   272063.0\n",
       "                                                                         QUETTA CITY TEHSIL              723361.0\n",
       "                                                                         QUETTA SADDAR TEHSIL            527716.0\n",
       "                                                                         SANGAN SUB-TEHSIL                 2665.0\n",
       "                                                                         SANGSILLAH SUB-TEHSIL            10217.0\n",
       "                                                                         SARANAN TEHSIL                   18452.0\n",
       "                                                                         SHAHRIG TEHSIL                    9458.0\n",
       "                                                                         SIBI TEHSIL                      60339.0\n",
       "                                                                         SINJAWI SUB-TEHSIL               92497.0\n",
       "                                                                         SUI TEHSIL                       48235.0\n",
       "                                                                         TAFTAN SUB-TEHSIL                18510.0\n",
       "                                                                         ZIARAT TEHSIL                    64206.0\n",
       "             Zhob Division                 Zhob Division                 ASHWAT SUB-TEHSIL                20768.0\n",
       "                                                                         BADINI SUB-TEHSIL                15345.0\n",
       "                                                                         BARKHAN TEHSIL                  158824.0\n",
       "                                                                         DRUG TEHSIL                      37599.0\n",
       "                                                                         DUKI TEHSIL                     142935.0\n",
       "                                                                         KAN MEHTARZAI SUB-TEHSIL         33242.0\n",
       "                                                                         KASHATOO SUB-TEHSIL               5184.0\n",
       "                                                                         KILLA SAIFULLAH TEHSIL           97481.0\n",
       "                                                                         KINGRI TEHSIL                    31339.0\n",
       "                                                                         LOIBAND TEHSIL                   27962.0\n",
       "                                                                         LORALAI\\BORI TEHSIL             148730.0\n",
       "                                                                         MEKHTAR SUB-TEHSIL               40867.0\n",
       "                                                                         MUSAKHEL TEHSIL                  84170.0\n",
       "                                                                         MUSLIM BAGH TEHSIL               50283.0\n",
       "                                                                         QAMAR DIN KAREZ TEHSIL           13831.0\n",
       "                                                                         SAMBAZA SUB-TEHSIL               17465.0\n",
       "                                                                         SHERANI TEHSIL                  152952.0\n",
       "                                                                         SHINKI SUB-TEHSIL                55326.0\n",
       "                                                                         ZHOB TEHSIL                     206942.0\n",
       "KPK          BANNU DIVISION                BANNU DIVISION                BANNU TEHSIL                    908155.0\n",
       "                                                                         DOMEL TEHSIL                    208968.0\n",
       "                                                                         LAKKI MARWAT TEHSIL             519601.0\n",
       "                                                                         SARAI NAURANG TEHSIL            266891.0\n",
       "             DERA ISMAIL KHAN DIVISION     DERA ISMAIL KHAN DIVISION     DARABAN TEHSIL                  124318.0\n",
       "                                                                         DERA ISMAIL KHAN TEHSIL         507431.0\n",
       "                                                                         KULACHI TEHSIL                   77139.0\n",
       "                                                                         PAHARPUR TEHSIL                 303520.0\n",
       "                                                                         PAROA TEHSIL                    252462.0\n",
       "                                                                         TANK TEHSIL                     343562.0\n",
       "             HAZARA DIVISION               HAZARA DIVISION               ABBOTTABAD TEHSIL               737167.0\n",
       "                                                                         ALLAI TEHSIL                    180502.0\n",
       "                                                                         BALA KOT TEHSIL                 273257.0\n",
       "                                                                         BATAGRAM TEHSIL                 296247.0\n",
       "                                                                         DASSU TEHSIL                    228350.0\n",
       "                                                                         GHAZI TEHSIL                    144917.0\n",
       "                                                                         HARIPUR TEHSIL                  723498.0\n",
       "                                                                         HAVELIAN TEHSIL                 301937.0\n",
       "                                                                         JUDBA TEHSIL                     96888.0\n",
       "                                                                         KANDIA TEHSIL                    77101.0\n",
       "                                                                         KHANDER TEHSIL                   74461.0\n",
       "                                                                         MANSEHRA TEHSIL                 872623.0\n",
       "                                                                         OGHI TEHSIL                     264964.0\n",
       "                                                                         PALAS TEHSIL                    276325.0\n",
       "                                                                         PATTAN TEHSIL                   202935.0\n",
       "             KOHAT DIVISION                KOHAT DIVISION                BANDA DAUD SHAH TEHSIL          155482.0\n",
       "                                                                         HANGU TEHSIL                    221598.0\n",
       "                                                                         KARAK TEHSIL                    241743.0\n",
       "                                                                         KOHAT TEHSIL                    620442.0\n",
       "                                                                         LACHI TEHSIL                    102059.0\n",
       "                                                                         TAKHT-E-NASRATI TEHSIL          257051.0\n",
       "                                                                         TALL TEHSIL                     194711.0\n",
       "             MALAKAND DIVISION             MALAKAND DIVISION             ADENZAI TEHSIL                  317526.0\n",
       "                                                                         ALPURI TEHSIL                   508361.0\n",
       "                                                                         BABUZAI TEHSIL                  267947.0\n",
       "                                                                         BARIKOT TEHSIL                   89758.0\n",
       "                                                                         BEHRAIN TEHSIL                  186533.0\n",
       "                                                                         BISHAM TEHSIL                   105950.0\n",
       "                                                                         CHARBAGH TEHSIL                 126001.0\n",
       "                                                                         CHITRAL TEHSIL                  228548.0\n",
       "                                                                         DAGGAR TEHSIL                   354809.0\n",
       "                                                                         DIR TEHSIL                      395425.0\n",
       "                                                                         GAGRA TEHSIL                    269971.0\n",
       "                                                                         KABAL TEHSIL                    302028.0\n",
       "                                                                         KHADO KHEL TEHSIL               118072.0\n",
       "                                                                         KHAWAZAKHELA TEHSIL             217484.0\n",
       "                                                                         LAL QILA TEHSIL                 219567.0\n",
       "                                                                         MALAKAND PROTECTED AREA         650120.0\n",
       "                                                                         MANDANR TEHSIL                  152608.0\n",
       "                                                                         MASTUJ TEHSIL                   169297.0\n",
       "                                                                         MATTA TEHSIL                    423052.0\n",
       "                                                                         PURAN TEHSIL                    145298.0\n",
       "                                                                         SAM RANI ZAI TEHSIL             303644.0\n",
       "                                                                         SAMARBAGH TEHSIL                378004.0\n",
       "                                                                         SHARINGAL TEHSIL                185121.0\n",
       "                                                                         SWAT RANI ZAI TEHSIL            346476.0\n",
       "                                                                         TEMERGARA TEHSIL                480671.0\n",
       "                                                                         WARI TEHSIL                     322755.0\n",
       "             MARDAN DIVISION               MARDAN DIVISION               KATLANG TEHSIL                  343225.0\n",
       "                                                                         LAHOR TEHSIL                    264463.0\n",
       "                                                                         MARDAN TEHSIL                  1043978.0\n",
       "                                                                         RAZAR TEHSIL                    558662.0\n",
       "                                                                         SWABI TEHSIL                    250916.0\n",
       "                                                                         TAKHT BHAI TEHSIL               545974.0\n",
       "                                                                         TOPI TEHSIL                     275472.0\n",
       "             PESHAWAR DIVISION             PESHAWAR DIVISION             CHARSADDA TEHSIL                659042.0\n",
       "                                                                         JEHANGIRA TEHSIL                267642.0\n",
       "                                                                         PABBI TEHSIL                    383046.0\n",
       "                                                                         PESHAWAR TEHSIL                2297375.0\n",
       "                                                                         SHABQADAR TEHSIL                288462.0\n",
       "                                                                         TANGI TEHSIL                    393252.0\n",
       "KPK/FATA     BANNU DIVISION                BANNU DIVISION                DATTA KHEL TEHSIL                75003.0\n",
       "                                                                         DOSSALI TEHSIL                   39945.0\n",
       "                                                                         FR BANNU                         43112.0\n",
       "                                                                         FR LAKKI MARWAT                  26394.0\n",
       "                                                                         GHARYUM TEHSIL                   11811.0\n",
       "                                                                         GHULAM KHAN TEHSIL               27015.0\n",
       "                                                                         MIR ALI TEHSIL                  184986.0\n",
       "                                                                         MIRAN SHAH TEHSIL                96280.0\n",
       "                                                                         RAZMAK TEHSIL                    15681.0\n",
       "                                                                         SHEWA TEHSIL                     39290.0\n",
       "                                                                         SPINWAM TEHSIL                   46171.0\n",
       "             DERA ISMAIL KHAN DIVISION     DERA ISMAIL KHAN DIVISION     BIRMIL TEHSIL                   104282.0\n",
       "                                                                         FR D.I.KHAN                      68506.0\n",
       "                                                                         LADHA TEHSIL                    110842.0\n",
       "                                                                         MAKIN TEHSIL                     58646.0\n",
       "                                                                         SARAROGHA TEHSIL                 98180.0\n",
       "                                                                         SERWEKAI TEHSIL                  54540.0\n",
       "                                                                         TIARZA TEHSIL                    45156.0\n",
       "                                                                         TOI KHULLA TEHSIL                50413.0\n",
       "                                                                         WANA TEHSIL                     153156.0\n",
       "             KOHAT DIVISION                KOHAT DIVISION                CENTRAL TEHSIL                   59132.0\n",
       "                                                                         FR KOHAT                        118839.0\n",
       "                                                                         ISMAIL ZAI TEHSIL                23963.0\n",
       "                                                                         LOWER KURRAM TEHSIL             101386.0\n",
       "                                                                         LOWER TEHSIL                    107323.0\n",
       "                                                                         UPPER KURRAM TEHSIL             246934.0\n",
       "                                                                         UPPER TEHSIL                     63885.0\n",
       "             MALAKAND DIVISION             MALAKAND DIVISION             BAR CHAMER KAND TEHSIL            2868.0\n",
       "                                                                         BARANG TEHSIL                    76493.0\n",
       "                                                                         KHAR BAJAUR TEHSIL              246875.0\n",
       "                                                                         MAMUND TEHSIL                   311373.0\n",
       "                                                                         NAWAGAI TEHSIL                   78494.0\n",
       "                                                                         SALARZAI TEHSIL                 267636.0\n",
       "                                                                         UTMAN KHEL TEHSIL               107248.0\n",
       "             PESHAWAR DIVISION             PESHAWAR DIVISION             AMBAR UTMAN KHEL TEHSIL          61951.0\n",
       "                                                                         BARA TEHSIL                     443449.0\n",
       "                                                                         FR PESHAWAR                      64761.0\n",
       "                                                                         HALIM ZAI TEHSIL                 78705.0\n",
       "                                                                         JAMRUD TEHSIL                   163829.0\n",
       "                                                                         LANDI KOTAL TEHSIL              239323.0\n",
       "                                                                         MULLA GORI TEHSIL                40188.0\n",
       "                                                                         PINDIALI TEHSIL                  89711.0\n",
       "                                                                         PRANG GHAR TEHSIL                36569.0\n",
       "                                                                         SAFI TEHSIL                      98501.0\n",
       "                                                                         UPPER MOHMAND TEHSIL             51154.0\n",
       "                                                                         YAKE GHUND TEHSIL                57754.0\n",
       "PUNJAB       BAHAWALPUR DIVISION           BAHAWALPUR DIVISION           AHMADPUR EAST TEHSIL            902476.0\n",
       "                                                                         BAHAWALNAGAR TEHSIL             619550.0\n",
       "                                                                         BAHAWALPUR CITY TEHSIL               0.0\n",
       "                                                                         BAHAWALPUR SADDAR TEHSIL        467938.0\n",
       "                                                                         CHISHTIAN TEHSIL                540342.0\n",
       "                                                                         FORT ABBAS TEHSIL               361240.0\n",
       "                                                                         HAROONABAD TEHSIL               382115.0\n",
       "                                                                         HASILPUR TEHSIL                 340747.0\n",
       "                                                                         KHAIRPUR TAMEWALI TEHSIL        221431.0\n",
       "                                                                         KHANPUR TEHSIL                  749218.0\n",
       "                                                                         LIAQUATPUR TEHSIL               982018.0\n",
       "                                                                         MINCHINABAD TEHSIL              452723.0\n",
       "                                                                         RAHIM YAR KHAN TEHSIL          1045577.0\n",
       "                                                                         SADIQABAD TEHSIL                999966.0\n",
       "                                                                         YAZMAN TEHSIL                   564422.0\n",
       "             D.G.KHAN DIVISION             D.G.KHAN DIVISION             ALIPUR TEHSIL                   595880.0\n",
       "                                                                         CHOUBARA TEHSIL                 204169.0\n",
       "                                                                         DE-EXCLUDED AREA D.G KHAN       212652.0\n",
       "                                                                         DE-EXCLUDED AREA RAJANPUR        34191.0\n",
       "                                                                         DERA GHAZI KHAN TEHSIL          827602.0\n",
       "                                                                         JAMPUR TEHSIL                   739299.0\n",
       "                                                                         JATOI TEHSIL                    555795.0\n",
       "                                                                         KOT ADDU TEHSIL                1093354.0\n",
       "                                                                         KOT CHHUTTA TEHSIL              705564.0\n",
       "                                                                         LAYYAH TEHSIL                   783612.0\n",
       "                                                                         MUZAFFARGARH TEHSIL            1385109.0\n",
       "                                                                         RAJANPUR TEHSIL                 494109.0\n",
       "                                                                         ROJHAN TEHSIL                   391144.0\n",
       "                                                                         TAUNSA TEHSIL                   580592.0\n",
       "             FAISALABAD DIVISION           FAISALABAD DIVISION           18-HAZARI TEHSIL                268160.0\n",
       "                                                                         AHMADPUR SIAL TEHSIL            365900.0\n",
       "                                                                         BHAWANA TEHSIL                  339754.0\n",
       "                                                                         CHAK JHUMRA TEHSIL              284170.0\n",
       "                                                                         CHINIOT TEHSIL                  277268.0\n",
       "                                                                         FAISALABAD CITY TEHSIL           34101.0\n",
       "                                                                         FAISALABAD SADAR TEHSIL        1425154.0\n",
       "                                                                         GOJRA TEHSIL                    482391.0\n",
       "                                                                         JARANWALA TEHSIL               1267317.0\n",
       "                                                                         JHANG TEHSIL                   1035377.0\n",
       "                                                                         KAMALIA TEHSIL                  236336.0\n",
       "                                                                         LALIAN TEHSIL                   329407.0\n",
       "                                                                         PIRMAHAL TEHSIL                 378026.0\n",
       "                                                                         SAMMUNDRI TEHSIL                486176.0\n",
       "                                                                         SHORKOT TEHSIL                  474764.0\n",
       "                                                                         TANDLIAN WALA TEHSIL            618660.0\n",
       "                                                                         TOBA TEK SINGH TEHSIL           652771.0\n",
       "             GUJRANWALA DIVISION           GUJRANWALA DIVISION           DASKA TEHSIL                    643101.0\n",
       "                                                                         GUJRANWALA CITY TEHSIL           73890.0\n",
       "                                                                         GUJRANWALA SADDAR TEHSIL        641189.0\n",
       "                                                                         GUJRAT TEHSIL                   954998.0\n",
       "                                                                         HAFIZABAD TEHSIL                400049.0\n",
       "                                                                         KAMOKE TEHSIL                   330876.0\n",
       "                                                                         KHARIAN TEHSIL                  781334.0\n",
       "                                                                         MALAKWAL TEHSIL                 328748.0\n",
       "                                                                         MANDI BAHAUDDIN TEHSIL          451306.0\n",
       "                                                                         NAROWAL TEHSIL                  460844.0\n",
       "                                                                         NOWSHERA VIRKAN TEHSIL          485434.0\n",
       "                                                                         PASRUR TEHSIL                   719133.0\n",
       "                                                                         PHALIA TEHSIL                   487627.0\n",
       "                                                                         PINDI BHATTIAN TEHSIL           354176.0\n",
       "                                                                         SAMBRIAL TEHSIL                 272882.0\n",
       "                                                                         SARAI ALAMGIR TEHSIL            192457.0\n",
       "                                                                         SHAKARGARH TEHSIL               590387.0\n",
       "                                                                         SIALKOT TEHSIL                 1115287.0\n",
       "                                                                         WAZIRABAD TEHSIL                530559.0\n",
       "                                                                         ZAFARWAL TEHSIL                 399687.0\n",
       "             LAHORE DIVISION               LAHORE DIVISION               CHUNIAN TEHSIL                  663615.0\n",
       "                                                                         FEROZEWALA TEHSIL               510209.0\n",
       "                                                                         KASUR TEHSIL                    845004.0\n",
       "                                                                         KOT RADHA KISHAN TEHSIL         301629.0\n",
       "                                                                         LAHORE CANTT TEHSIL                  0.0\n",
       "                                                                         LAHORE CITY TEHSIL                   0.0\n",
       "                                                                         MODEL TOWN TEHSIL                    0.0\n",
       "                                                                         MURIDKE TEHSIL                  426737.0\n",
       "                                                                         NANKANA SAHIB TEHSIL            773871.0\n",
       "                                                                         PATTOKI TEHSIL                  753853.0\n",
       "                                                                         RAIWIND TEHSIL                       0.0\n",
       "                                                                         SAFDARABAD TEHSIL               218751.0\n",
       "                                                                         SANGLA HILL TEHSIL              166106.0\n",
       "                                                                         SHAH KOT TEHSIL                 169885.0\n",
       "                                                                         SHALIMAR TEHSIL                      0.0\n",
       "                                                                         SHARAK PUR TEHSIL               155574.0\n",
       "                                                                         SHEIKHUPURA TEHSIL              947220.0\n",
       "             MULTAN DIVISION               MULTAN DIVISION               BUREWALA TEHSIL                 787629.0\n",
       "                                                                         DUNYAPUR TEHSIL                 453663.0\n",
       "                                                                         JAHANIAN TEHSIL                 299779.0\n",
       "                                                                         JALALPUR PIRWALA TEHSIL         487518.0\n",
       "                                                                         KABIRWALA TEHSIL                809002.0\n",
       "                                                                         KAHROR PACCA TEHSIL             394678.0\n",
       "                                                                         KHANEWAL TEHSIL                 585160.0\n",
       "                                                                         LODHRAN TEHSIL                  585751.0\n",
       "                                                                         MAILSI TEHSIL                   825158.0\n",
       "                                                                         MIAN CHANNU TEHSIL              639860.0\n",
       "                                                                         MULTAN CITY TEHSIL              432114.0\n",
       "                                                                         MULTAN SADDAR TEHSIL           1238708.0\n",
       "                                                                         SHUJABAD TEHSIL                 528906.0\n",
       "                                                                         VEHARI TEHSIL                   783165.0\n",
       "             RAWALPINDI DIVISION           RAWALPINDI DIVISION           ATTOCK TEHSIL                   222710.0\n",
       "                                                                         CHAKWAL TEHSIL                  518313.0\n",
       "                                                                         CHOA SAIDAN SHAH TEHSIL         119368.0\n",
       "                                                                         DINA TEHSIL                     165222.0\n",
       "                                                                         FATEH JANG TEHSIL               259933.0\n",
       "                                                                         GUJAR KHAN TEHSIL               566018.0\n",
       "                                                                         HASAN ABDAL TEHSIL              153891.0\n",
       "                                                                         HAZRO TEHSIL                    284881.0\n",
       "                                                                         JAND TEHSIL                     247319.0\n",
       "                                                                         JHELUM TEHSIL                   254761.0\n",
       "                                                                         KAHUTA TEHSIL                   160136.0\n",
       "                                                                         KALLAR KAHAR TEHSIL             126096.0\n",
       "                                                                         KALLAR SAYADDAN TEHSIL          162822.0\n",
       "                                                                         KOTLI SATTIAN TEHSIL             96894.0\n",
       "                                                                         LAWA TEHSIL                     110175.0\n",
       "                                                                         MURREE TEHSIL                    75974.0\n",
       "                                                                         PIND DADAN KHAN TEHSIL          272443.0\n",
       "                                                                         PINDI GHEB TEHSIL               226736.0\n",
       "                                                                         RAWALPINDI TEHSIL              1158817.0\n",
       "                                                                         SOHAWA TEHSIL                   175680.0\n",
       "                                                                         TALA GANG TEHSIL                337903.0\n",
       "                                                                         TAXILA TEHSIL                   176011.0\n",
       "             SAHIWAL DIVISION              SAHIWAL DIVISION              ARIF WALA TEHSIL                742723.0\n",
       "                                                                         CHICHAWATNI TEHSIL              929447.0\n",
       "                                                                         DEPALPUR TEHSIL                1033260.0\n",
       "                                                                         OKARA TEHSIL                    760440.0\n",
       "                                                                         PAKPATTAN TEHSIL                792513.0\n",
       "                                                                         RENALA KHURD TEHSIL             404562.0\n",
       "                                                                         SAHIWAL TEHSIL                 1067880.0\n",
       "             SARGODHA DIVISION             SARGODHA DIVISION             BHAKKAR TEHSIL                  571132.0\n",
       "                                                                         BHALWAL TEHSIL                  234249.0\n",
       "                                                                         BHERA TEHSIL                    254416.0\n",
       "                                                                         DARYA KHAN TEHSIL               280006.0\n",
       "                                                                         ISAKHEL TEHSIL                  289633.0\n",
       "                                                                         KALUR KOT TEHSIL                294310.0\n",
       "                                                                         KHUSHAB TEHSIL                  392143.0\n",
       "                                                                         KOT MOMIN TEHSIL                386479.0\n",
       "                                                                         MANKERA TEHSIL                  242750.0\n",
       "                                                                         MIANWALI TEHSIL                 618946.0\n",
       "                                                                         NOORPUR TEHSIL                  223051.0\n",
       "                                                                         NOWSHERA TEHSIL                 103603.0\n",
       "                                                                         PIPLAN TEHSIL                   306210.0\n",
       "                                                                         QUAIDABAD TEHSIL                208615.0\n",
       "                                                                         SARGODHA TEHSIL                 876944.0\n",
       "                                                                         SHAHPUR TEHSIL                  284663.0\n",
       "                                                                         SILLANWALI TEHSIL               306768.0\n",
       "SINDH        Badin Division                Badin Division                BADIN TALUKA                    322957.0\n",
       "                                                                         GOLARCHI (S.F.RAHU) TALUKA      281087.0\n",
       "                                                                         MATLI TALUKA                    346413.0\n",
       "                                                                         TALHAR TALUKA                   123329.0\n",
       "                                                                         TANDO BAGO TALUKA               340828.0\n",
       "             Hyderabad Division            Hyderabad Division            BULRI SHAH KARIM TALUKA         230630.0\n",
       "                                                                         CHAMBER TALUKA                  174017.0\n",
       "                                                                         DADU TALUKA                     279085.0\n",
       "                                                                         GHORABARI TALUKA                150844.0\n",
       "                                                                         GULBERG TEHSIL                       0.0\n",
       "                                                                         HALA TALUKA                     144167.0\n",
       "                                                                         HYDERABAD CITY TALUKA                0.0\n",
       "                                                                         HYDERABAD TALUKA                373410.0\n",
       "                                                                         JATI TALUKA                     189707.0\n",
       "                                                                         JHANDO MARI TALUKA              223171.0\n",
       "                                                                         JOHI TALUKA                     265358.0\n",
       "                                                                         KETI BUNDER TALUKA               55429.0\n",
       "                                                                         KHAIRPUR NATHAN SHAH TALUKA     262064.0\n",
       "                                                                         KOTRI TALUKA                    145932.0\n",
       "                                                                         LATIFABAD TALUKA                     0.0\n",
       "                                                                         MANJHAND TALUKA                 119570.0\n",
       "                                                                         MATIARI TALUKA                  297950.0\n",
       "                                                                         MEHAR TALUKA                    360477.0\n",
       "                                                                         MIRPUR BATHORO TALUKA           190520.0\n",
       "                                                                         MIRPUR SAKRO TALUKA             294561.0\n",
       "                                                                         QASIMABAD TALUKA                     0.0\n",
       "                                                                         SAEEDABAD TALUKA                145254.0\n",
       "                                                                         SEHWAN TALUKA                   165467.0\n",
       "                                                                         SHAH BUNDER TALUKA              142021.0\n",
       "                                                                         SUJAWAL TALUKA                  161083.0\n",
       "                                                                         TANDO ALLAHYAR TALUKA           173240.0\n",
       "                                                                         TANDO GHULAM HYDER TALUKA       150895.0\n",
       "                                                                         TANDO MUHAMMAD KHAN TALUKA      153536.0\n",
       "                                                                         THANO BULA KHAN TALUKA          130318.0\n",
       "                                                                         THATTA TALUKA                   304828.0\n",
       "             Karachi Division              Karachi Division              AIRPORT TEHSIL                       0.0\n",
       "                                                                         ARAM BAGH TEHSIL                     0.0\n",
       "                                                                         BALDIA TEHSIL                        0.0\n",
       "                                                                         BIN QASIM TEHSIL                248098.0\n",
       "                                                                         CIVIL LINES TEHSIL                   0.0\n",
       "                                                                         FEROZABAD TEHSIL                     0.0\n",
       "                                                                         GADAP TEHSIL                     64153.0\n",
       "                                                                         GARDEN TEHSIL                        0.0\n",
       "                                                                         GULSHAN-E-IQBAL TEHSIL               0.0\n",
       "                                                                         GULZAR-E-HIJRI TEHSIL                0.0\n",
       "                                                                         HARBOUR TEHSIL                       0.0\n",
       "                                                                         IBRAHIM HYDRI TEHSIL            385776.0\n",
       "                                                                         JAMSHED QUARTERS TEHSIL              0.0\n",
       "                                                                         KORANGI TEHSIL                       0.0\n",
       "                                                                         LANDHI TEHSIL                        0.0\n",
       "                                                                         LIAQUATABAD TEHSIL                   0.0\n",
       "                                                                         LYARI TEHSIL                         0.0\n",
       "                                                                         MANGHOPIR TEHSIL                160904.0\n",
       "                                                                         MAURIPUR TEHSIL                 121954.0\n",
       "                                                                         MODEL COLONY TEHSIL                  0.0\n",
       "                                                                         MOMINABAD TEHSIL                     0.0\n",
       "                                                                         MURAD MEMON TEHSIL              129761.0\n",
       "                                                                         NAZIMABAD TEHSIL                     0.0\n",
       "                                                                         NEW KARACHI TEHSIL                   0.0\n",
       "                                                                         NORTH NAZIMABAD TEHSIL               0.0\n",
       "                                                                         ORANGI TEHSIL                        0.0\n",
       "                                                                         SADDAR TEHSIL                        0.0\n",
       "                                                                         SHAH FAISAL TEHSIL                   0.0\n",
       "                                                                         SHAH MUREED TEHSIL               29846.0\n",
       "                                                                         SITE TEHSIL                          0.0\n",
       "             Larkana Division              Larkana Division              BAKRANI TALUKA                  196995.0\n",
       "                                                                         DOKRI TALUKA                    162757.0\n",
       "                                                                         GARHI KHAIRO TALUKA             146400.0\n",
       "                                                                         GARHI YASIN TALUKA              280636.0\n",
       "                                                                         JACOBABAD TALUKA                191480.0\n",
       "                                                                         KAMBAR ALI KHAN TALUKA          292404.0\n",
       "                                                                         KANDHKOT TALUKA                 229942.0\n",
       "                                                                         KASHMORE TALUKA                 343986.0\n",
       "                                                                         KHANPUR TALUKA                  251221.0\n",
       "                                                                         LAKHI TALUKA                    201329.0\n",
       "                                                                         LARKANA TALUKA                  247204.0\n",
       "                                                                         MIRO KHAN TALUKA                115622.0\n",
       "                                                                         NASIRABAD TALUKA                113591.0\n",
       "                                                                         QUBO SAEED KHAN TALUKA           58144.0\n",
       "                                                                         RATODERO TALUKA                 215932.0\n",
       "                                                                         SHAHDAD KOT TALUKA               83629.0\n",
       "                                                                         SHIKARPUR TALUKA                196133.0\n",
       "                                                                         SUJAWAL JUNEJO TALUKA           117467.0\n",
       "                                                                         TANGWANI TALUKA                 262749.0\n",
       "                                                                         THUL TALUKA                     371911.0\n",
       "                                                                         WARAH TALUKA                    160375.0\n",
       "             Mirpurkhas Division           Mirpurkhas Division           CHACHRO TALUKA                  327492.0\n",
       "                                                                         DAHLI TALUKA                    298045.0\n",
       "                                                                         DIGRI TALUKA                    140304.0\n",
       "                                                                         DIPLO TALUKA                    135729.0\n",
       "                                                                         HUSSAIN BUX MARI TALUKA         150226.0\n",
       "                                                                         ISLAMKOT TALUKA                 225927.0\n",
       "                                                                         JHUDO TALUKA                    142462.0\n",
       "                                                                         KALOI TALUKA                    117609.0\n",
       "                                                                         KOT GHULAM MUHAMMAD TALUKA      244090.0\n",
       "                                                                         KUNRI TALUKA                    179266.0\n",
       "                                                                         MIRPUR KHAS TALUKA               26155.0\n",
       "                                                                         MITHI TALUKA                    161621.0\n",
       "                                                                         NAGAR PARKAR TALUKA             248079.0\n",
       "                                                                         PITHORO TALUKA                  107033.0\n",
       "                                                                         SAMARO TALUKA                   160967.0\n",
       "                                                                         SHUJAABAD TALUKA                147733.0\n",
       "                                                                         SINDHRI TALUKA                  219389.0\n",
       "                                                                         UMER KOT TALUKA                 382666.0\n",
       "             Shaheed Benazirabad Division  Shaheed Benazirabad Division  BHIRIA TALUKA                   239455.0\n",
       "                                                                         DAUR TALUKA                     384652.0\n",
       "                                                                         JAM NAWAZ ALI TALUKA            125985.0\n",
       "                                                                         KANDIARO TALUKA                 283507.0\n",
       "                                                                         KAZI AHMED TALUKA               297638.0\n",
       "                                                                         KHIPRO TALUKA                   281837.0\n",
       "                                                                         MEHRABPUR TALUKA                169661.0\n",
       "                                                                         MORO TALUKA                     273131.0\n",
       "                                                                         NAUSHAHRO FEROZE TALUKA         267060.0\n",
       "                                                                         NAWABSHAH TALUKA                134064.0\n",
       "                                                                         SAKRAND TALUKA                  307342.0\n",
       "                                                                         SANGHAR TALUKA                  339307.0\n",
       "                                                                         SHAHDADPUR TALUKA               265945.0\n",
       "                                                                         SINJHORO TALUKA                 260082.0\n",
       "                                                                         TANDO ADAM TALUKA               204998.0\n",
       "             Sukkur Division               Sukkur Division               DAHARKI TALUKA                  224423.0\n",
       "                                                                         FAIZ GANJ TALUKA                180739.0\n",
       "                                                                         GAMBAT TALUKA                   169334.0\n",
       "                                                                         GHOTKI TALUKA                   382741.0\n",
       "                                                                         KHAIRPUR TALUKA                 208567.0\n",
       "                                                                         KHANGARH TALUKA                 119244.0\n",
       "                                                                         KINGRI TALUKA                   245116.0\n",
       "                                                                         KOT DIJI TALUKA                 262926.0\n",
       "                                                                         MIRPUR MATHELO TALUKA           252551.0\n",
       "                                                                         MIRWAH TALUKA                   258899.0\n",
       "                                                                         NARA TALUKA                     122023.0\n",
       "                                                                         NEW SUKKUR TALUKA                43652.0\n",
       "                                                                         PANO AQIL TALUKA                336263.0\n",
       "                                                                         ROHRI TALUKA                    284840.0\n",
       "                                                                         SALEHPAT TALUKA                 102811.0\n",
       "                                                                         SOBHO DERO TALUKA               180580.0\n",
       "                                                                         SUKKUR CITY TALUKA                   0.0\n",
       "                                                                         UBAURO TALUKA                   308928.0\n",
       "Name: ALL SEXES (RURAL), dtype: float64"
      ]
     },
     "execution_count": 41,
     "metadata": {},
     "output_type": "execute_result"
    }
   ],
   "source": [
    "df.groupby(['PROVINCE','DIVISION','DIVISION','SUB DIVISION'])['ALL SEXES (RURAL)'].mean()"
   ]
  },
  {
   "cell_type": "code",
   "execution_count": null,
   "id": "630f13eb",
   "metadata": {},
   "outputs": [
    {
     "data": {
      "application/vnd.microsoft.datawrangler.viewer.v0+json": {
       "columns": [
        {
         "name": "SUB DIVISION",
         "rawType": "object",
         "type": "string"
        },
        {
         "name": "ALL SEXES (RURAL)",
         "rawType": "float64",
         "type": "float"
        }
       ],
       "ref": "03324f21-7072-40f3-a1be-bd3eda07e2ab",
       "rows": [
        [
         "18-HAZARI TEHSIL",
         "268160.0"
        ],
        [
         "ABBOTTABAD TEHSIL",
         "737167.0"
        ],
        [
         "ADENZAI TEHSIL",
         "317526.0"
        ],
        [
         "AHMADPUR EAST TEHSIL",
         "902476.0"
        ],
        [
         "AHMADPUR SIAL TEHSIL",
         "365900.0"
        ],
        [
         "AIRPORT TEHSIL",
         "0.0"
        ],
        [
         "ALIPUR TEHSIL",
         "595880.0"
        ],
        [
         "ALLAI TEHSIL",
         "180502.0"
        ],
        [
         "ALPURI TEHSIL",
         "508361.0"
        ],
        [
         "AMBAR UTMAN KHEL TEHSIL",
         "61951.0"
        ],
        [
         "ARAM BAGH TEHSIL",
         "0.0"
        ],
        [
         "ARANJI SUB-TEHSIL",
         "42318.0"
        ],
        [
         "ARIF WALA TEHSIL",
         "742723.0"
        ],
        [
         "ASHWAT SUB-TEHSIL",
         "20768.0"
        ],
        [
         "ATTOCK TEHSIL",
         "222710.0"
        ],
        [
         "AWARAN TEHSIL",
         "8584.0"
        ],
        [
         "BABA KOT TEHSIL",
         "49480.0"
        ],
        [
         "BABUZAI TEHSIL",
         "267947.0"
        ],
        [
         "BADIN TALUKA",
         "322957.0"
        ],
        [
         "BADINI SUB-TEHSIL",
         "15345.0"
        ],
        [
         "BAHAWALNAGAR TEHSIL",
         "619550.0"
        ],
        [
         "BAHAWALPUR CITY TEHSIL",
         "0.0"
        ],
        [
         "BAHAWALPUR SADDAR TEHSIL",
         "467938.0"
        ],
        [
         "BAIKER SUB-TEHSIL",
         "19497.0"
        ],
        [
         "BAKRANI TALUKA",
         "196995.0"
        ],
        [
         "BALA KOT TEHSIL",
         "273257.0"
        ],
        [
         "BALANARI SUB-TEHSIL",
         "43341.0"
        ],
        [
         "BALDIA TEHSIL",
         "0.0"
        ],
        [
         "BALNIGORE SUB-TEHSIL",
         "44595.0"
        ],
        [
         "BANDA DAUD SHAH TEHSIL",
         "155482.0"
        ],
        [
         "BANNU TEHSIL",
         "908155.0"
        ],
        [
         "BAR CHAMER KAND TEHSIL",
         "2868.0"
        ],
        [
         "BARA TEHSIL",
         "443449.0"
        ],
        [
         "BARANG TEHSIL",
         "76493.0"
        ],
        [
         "BARIKOT TEHSIL",
         "89758.0"
        ],
        [
         "BARKHAN TEHSIL",
         "158824.0"
        ],
        [
         "BARSHORE SUB-TEHSIL",
         "103423.0"
        ],
        [
         "BATAGRAM TEHSIL",
         "296247.0"
        ],
        [
         "BEHRAIN TEHSIL",
         "186533.0"
        ],
        [
         "BELA TEHSIL",
         "80124.0"
        ],
        [
         "BESIMA SUB-TEHSIL",
         "40266.0"
        ],
        [
         "BHAG TEHSIL",
         "56859.0"
        ],
        [
         "BHAKKAR TEHSIL",
         "571132.0"
        ],
        [
         "BHALWAL TEHSIL",
         "234249.0"
        ],
        [
         "BHAWANA TEHSIL",
         "339754.0"
        ],
        [
         "BHERA TEHSIL",
         "254416.0"
        ],
        [
         "BHIRIA TALUKA",
         "239455.0"
        ],
        [
         "BIN QASIM TEHSIL",
         "248098.0"
        ],
        [
         "BIRMIL TEHSIL",
         "104282.0"
        ],
        [
         "BISHAM TEHSIL",
         "105950.0"
        ]
       ],
       "shape": {
        "columns": 1,
        "rows": 528
       }
      },
      "text/plain": [
       "SUB DIVISION\n",
       "18-HAZARI TEHSIL                268160.0\n",
       "ABBOTTABAD TEHSIL               737167.0\n",
       "ADENZAI TEHSIL                  317526.0\n",
       "AHMADPUR EAST TEHSIL            902476.0\n",
       "AHMADPUR SIAL TEHSIL            365900.0\n",
       "AIRPORT TEHSIL                       0.0\n",
       "ALIPUR TEHSIL                   595880.0\n",
       "ALLAI TEHSIL                    180502.0\n",
       "ALPURI TEHSIL                   508361.0\n",
       "AMBAR UTMAN KHEL TEHSIL          61951.0\n",
       "ARAM BAGH TEHSIL                     0.0\n",
       "ARANJI SUB-TEHSIL                42318.0\n",
       "ARIF WALA TEHSIL                742723.0\n",
       "ASHWAT SUB-TEHSIL                20768.0\n",
       "ATTOCK TEHSIL                   222710.0\n",
       "AWARAN TEHSIL                     8584.0\n",
       "BABA KOT TEHSIL                  49480.0\n",
       "BABUZAI TEHSIL                  267947.0\n",
       "BADIN TALUKA                    322957.0\n",
       "BADINI SUB-TEHSIL                15345.0\n",
       "BAHAWALNAGAR TEHSIL             619550.0\n",
       "BAHAWALPUR CITY TEHSIL               0.0\n",
       "BAHAWALPUR SADDAR TEHSIL        467938.0\n",
       "BAIKER SUB-TEHSIL                19497.0\n",
       "BAKRANI TALUKA                  196995.0\n",
       "BALA KOT TEHSIL                 273257.0\n",
       "BALANARI SUB-TEHSIL              43341.0\n",
       "BALDIA TEHSIL                        0.0\n",
       "BALNIGORE SUB-TEHSIL             44595.0\n",
       "BANDA DAUD SHAH TEHSIL          155482.0\n",
       "BANNU TEHSIL                    908155.0\n",
       "BAR CHAMER KAND TEHSIL            2868.0\n",
       "BARA TEHSIL                     443449.0\n",
       "BARANG TEHSIL                    76493.0\n",
       "BARIKOT TEHSIL                   89758.0\n",
       "BARKHAN TEHSIL                  158824.0\n",
       "BARSHORE SUB-TEHSIL             103423.0\n",
       "BATAGRAM TEHSIL                 296247.0\n",
       "BEHRAIN TEHSIL                  186533.0\n",
       "BELA TEHSIL                      80124.0\n",
       "BESIMA SUB-TEHSIL                40266.0\n",
       "BHAG TEHSIL                      56859.0\n",
       "BHAKKAR TEHSIL                  571132.0\n",
       "BHALWAL TEHSIL                  234249.0\n",
       "BHAWANA TEHSIL                  339754.0\n",
       "BHERA TEHSIL                    254416.0\n",
       "BHIRIA TALUKA                   239455.0\n",
       "BIN QASIM TEHSIL                248098.0\n",
       "BIRMIL TEHSIL                   104282.0\n",
       "BISHAM TEHSIL                   105950.0\n",
       "BULAIDA SUB-TEHSIL               37302.0\n",
       "BULRI SHAH KARIM TALUKA         230630.0\n",
       "BUREWALA TEHSIL                 787629.0\n",
       "CENTRAL TEHSIL                   59132.0\n",
       "CHACHRO TALUKA                  327492.0\n",
       "CHAGAI SUB-TEHSIL                58256.0\n",
       "CHAK JHUMRA TEHSIL              284170.0\n",
       "CHAKWAL TEHSIL                  518313.0\n",
       "CHAMAN TEHSIL                   311355.0\n",
       "CHAMBER TALUKA                  174017.0\n",
       "CHARBAGH TEHSIL                 126001.0\n",
       "CHARSADDA TEHSIL                659042.0\n",
       "CHATTAR SUB-TEHSIL               76536.0\n",
       "CHICHAWATNI TEHSIL              929447.0\n",
       "CHINIOT TEHSIL                  277268.0\n",
       "CHISHTIAN TEHSIL                540342.0\n",
       "CHITRAL TEHSIL                  228548.0\n",
       "CHOA SAIDAN SHAH TEHSIL         119368.0\n",
       "CHOUBARA TEHSIL                 204169.0\n",
       "CHUNIAN TEHSIL                  663615.0\n",
       "CIVIL LINES TEHSIL                   0.0\n",
       "DADU TALUKA                     279085.0\n",
       "DAGGAR TEHSIL                   354809.0\n",
       "DAHARKI TALUKA                  224423.0\n",
       "DAHLI TALUKA                    298045.0\n",
       "DALBANDIN TEHSIL                111203.0\n",
       "DARABAN TEHSIL                  124318.0\n",
       "DARYA KHAN TEHSIL               280006.0\n",
       "DASHT SUB-TEHSIL                 76470.0\n",
       "DASHT TEHSIL                     64765.0\n",
       "DASKA TEHSIL                    643101.0\n",
       "DASSU TEHSIL                    228350.0\n",
       "DATTA KHEL TEHSIL                75003.0\n",
       "DAUR TALUKA                     384652.0\n",
       "DE-EXCLUDED AREA D.G KHAN       212652.0\n",
       "DE-EXCLUDED AREA RAJANPUR        34191.0\n",
       "DEPALPUR TEHSIL                1033260.0\n",
       "DERA BUGTI TEHSIL                20790.0\n",
       "DERA GHAZI KHAN TEHSIL          827602.0\n",
       "DERA ISMAIL KHAN TEHSIL         507431.0\n",
       "DERA MURAD JAMALI TEHSIL        134459.0\n",
       "DHADAR TEHSIL                    27149.0\n",
       "DIGRI TALUKA                    140304.0\n",
       "DINA TEHSIL                     165222.0\n",
       "DIPLO TALUKA                    135729.0\n",
       "DIR TEHSIL                      395425.0\n",
       "DOBANDI SUB-TEHSIL               61741.0\n",
       "DOKRI TALUKA                    162757.0\n",
       "DOMEL TEHSIL                    208968.0\n",
       "DOSSALI TEHSIL                   39945.0\n",
       "DRUG TEHSIL                      37599.0\n",
       "DUKI TEHSIL                     142935.0\n",
       "DUNYAPUR TEHSIL                 453663.0\n",
       "DUREJI TEHSIL                    32686.0\n",
       "FAISALABAD CITY TEHSIL           34101.0\n",
       "FAISALABAD SADAR TEHSIL        1425154.0\n",
       "FAIZ GANJ TALUKA                180739.0\n",
       "FARIDABAD TEHSIL                 58204.0\n",
       "FATEH JANG TEHSIL               259933.0\n",
       "FEROZABAD TEHSIL                     0.0\n",
       "FEROZEWALA TEHSIL               510209.0\n",
       "FORT ABBAS TEHSIL               361240.0\n",
       "FR BANNU                         43112.0\n",
       "FR D.I.KHAN                      68506.0\n",
       "FR KOHAT                        118839.0\n",
       "FR LAKKI MARWAT                  26394.0\n",
       "FR PESHAWAR                      64761.0\n",
       "GADAP TEHSIL                     64153.0\n",
       "GADDANI TEHSIL                   16914.0\n",
       "GAGRA TEHSIL                    269971.0\n",
       "GAMBAT TALUKA                   169334.0\n",
       "GANDAWA TEHSIL                   43365.0\n",
       "GANDHAKA TEHSIL                  74881.0\n",
       "GARDEN TEHSIL                        0.0\n",
       "GARHI KHAIRO TALUKA             146400.0\n",
       "GARHI YASIN TALUKA              280636.0\n",
       "GAZG SUB-TEHSIL                   5721.0\n",
       "GHARYUM TEHSIL                   11811.0\n",
       "GHAZI TEHSIL                    144917.0\n",
       "GHORABARI TALUKA                150844.0\n",
       "GHOTKI TALUKA                   382741.0\n",
       "GHULAM KHAN TEHSIL               27015.0\n",
       "GICHK SUB-TEHSIL                 16646.0\n",
       "GISHKORE SUB-TEHSIL              18390.0\n",
       "GOJRA TEHSIL                    482391.0\n",
       "GOLARCHI (S.F.RAHU) TALUKA      281087.0\n",
       "GOWARGO TEHSIL                   16329.0\n",
       "GRISANI SUB-TEHSIL               17027.0\n",
       "GUJAR KHAN TEHSIL               566018.0\n",
       "GUJRANWALA CITY TEHSIL           73890.0\n",
       "GUJRANWALA SADDAR TEHSIL        641189.0\n",
       "GUJRAT TEHSIL                   954998.0\n",
       "GULBERG TEHSIL                       0.0\n",
       "GULISTAN TEHSIL                 114984.0\n",
       "GULSHAN-E-IQBAL TEHSIL               0.0\n",
       "GULZAR-E-HIJRI TEHSIL                0.0\n",
       "GWADAR TEHSIL                    47494.0\n",
       "HAFIZABAD TEHSIL                400049.0\n",
       "HALA TALUKA                     144167.0\n",
       "HALIM ZAI TEHSIL                 78705.0\n",
       "HANGU TEHSIL                    221598.0\n",
       "HARBOUR TEHSIL                       0.0\n",
       "HARIPUR TEHSIL                  723498.0\n",
       "HARNAI TEHSIL                    50753.0\n",
       "HAROONABAD TEHSIL               382115.0\n",
       "HASAN ABDAL TEHSIL              153891.0\n",
       "HASILPUR TEHSIL                 340747.0\n",
       "HAVELIAN TEHSIL                 301937.0\n",
       "HAZRO TEHSIL                    284881.0\n",
       "HOSHAB SUB-TEHSIL                52947.0\n",
       "HUB TEHSIL                       27664.0\n",
       "HURRAM ZAI SUB-TEHSIL           102700.0\n",
       "HUSSAIN BUX MARI TALUKA         150226.0\n",
       "HYDERABAD CITY TALUKA                0.0\n",
       "HYDERABAD TALUKA                373410.0\n",
       "IBRAHIM HYDRI TEHSIL            385776.0\n",
       "ISAKHEL TEHSIL                  289633.0\n",
       "ISLAMKOT TALUKA                 225927.0\n",
       "ISMAIL ZAI TEHSIL                23963.0\n",
       "JACOBABAD TALUKA                191480.0\n",
       "JAHANIAN TEHSIL                 299779.0\n",
       "JALALPUR PIRWALA TEHSIL         487518.0\n",
       "JAM NAWAZ ALI TALUKA            125985.0\n",
       "JAMPUR TEHSIL                   739299.0\n",
       "JAMRUD TEHSIL                   163829.0\n",
       "JAMSHED QUARTERS TEHSIL              0.0\n",
       "JAND TEHSIL                     247319.0\n",
       "JARANWALA TEHSIL               1267317.0\n",
       "JATI TALUKA                     189707.0\n",
       "JATOI TEHSIL                    555795.0\n",
       "JEHANGIRA TEHSIL                267642.0\n",
       "JHAL JAO SUB-TEHSIL              40010.0\n",
       "JHAL MAGSI TEHSIL                88279.0\n",
       "JHANDO MARI TALUKA              223171.0\n",
       "JHANG TEHSIL                   1035377.0\n",
       "JHAT PAT TEHSIL                 172149.0\n",
       "JHELUM TEHSIL                   254761.0\n",
       "JHUDO TALUKA                    142462.0\n",
       "JIWANI TEHSIL                     8423.0\n",
       "JOHAN SUB-TEHSIL                 10708.0\n",
       "JOHI TALUKA                     265358.0\n",
       "JUDBA TEHSIL                     96888.0\n",
       "KABAL TEHSIL                    302028.0\n",
       "KABIRWALA TEHSIL                809002.0\n",
       "KAHAN TEHSIL                     73833.0\n",
       "KAHROR PACCA TEHSIL             394678.0\n",
       "KAHUTA TEHSIL                   160136.0\n",
       "KALAT TEHSIL                     92298.0\n",
       "KALLAR KAHAR TEHSIL             126096.0\n",
       "KALLAR SAYADDAN TEHSIL          162822.0\n",
       "KALOI TALUKA                    117609.0\n",
       "KALUR KOT TEHSIL                294310.0\n",
       "KAMALIA TEHSIL                  236336.0\n",
       "KAMBAR ALI KHAN TALUKA          292404.0\n",
       "KAMOKE TEHSIL                   330876.0\n",
       "KAN MEHTARZAI SUB-TEHSIL         33242.0\n",
       "KANDHKOT TALUKA                 229942.0\n",
       "KANDIA TEHSIL                    77101.0\n",
       "KANDIARO TALUKA                 283507.0\n",
       "KARAK TEHSIL                    241743.0\n",
       "KARAKH SUB-TEHSIL                31016.0\n",
       "KAREZAT SUB-TEHSIL               97469.0\n",
       "KASHATOO SUB-TEHSIL               5184.0\n",
       "KASHMORE TALUKA                 343986.0\n",
       "KASUR TEHSIL                    845004.0\n",
       "KATLANG TEHSIL                  343225.0\n",
       "KAZI AHMED TALUKA               297638.0\n",
       "KECH (TURBAT) TEHSIL            202777.0\n",
       "KETI BUNDER TALUKA               55429.0\n",
       "KHAD KOCHA SUB-TEHSIL            38860.0\n",
       "KHADO KHEL TEHSIL               118072.0\n",
       "KHAIRPUR NATHAN SHAH TALUKA     262064.0\n",
       "KHAIRPUR TALUKA                 208567.0\n",
       "KHAIRPUR TAMEWALI TEHSIL        221431.0\n",
       "KHANDER TEHSIL                   74461.0\n",
       "KHANEWAL TEHSIL                 585160.0\n",
       "KHANGARH TALUKA                 119244.0\n",
       "KHANPUR TALUKA                  251221.0\n",
       "KHANPUR TEHSIL                  749218.0\n",
       "KHAR BAJAUR TEHSIL              246875.0\n",
       "KHARAN TEHSIL                    29315.0\n",
       "KHARIAN TEHSIL                  781334.0\n",
       "KHATTAN SUB-TEHSIL               14213.0\n",
       "KHAWAZAKHELA TEHSIL             217484.0\n",
       "KHIPRO TALUKA                   281837.0\n",
       "KHOAST SUB-TEHSIL                12279.0\n",
       "KHUSHAB TEHSIL                  392143.0\n",
       "KHUZDAR TEHSIL                  117020.0\n",
       "KILLA ABDULLAH TEHSIL           120944.0\n",
       "KILLA SAIFULLAH TEHSIL           97481.0\n",
       "KINGRI TALUKA                   245116.0\n",
       "KINGRI TEHSIL                    31339.0\n",
       "KIRDGAP SUB-TEHSIL               28624.0\n",
       "KOHAT TEHSIL                    620442.0\n",
       "KOHLU TEHSIL                     27709.0\n",
       "KORANGI TEHSIL                       0.0\n",
       "KOT ADDU TEHSIL                1093354.0\n",
       "KOT CHHUTTA TEHSIL              705564.0\n",
       "KOT DIJI TALUKA                 262926.0\n",
       "KOT GHULAM MUHAMMAD TALUKA      244090.0\n",
       "KOT MANDAI SUB-TEHSIL             7583.0\n",
       "KOT MOMIN TEHSIL                386479.0\n",
       "KOT RADHA KISHAN TEHSIL         301629.0\n",
       "KOTLI SATTIAN TEHSIL             96894.0\n",
       "KOTRI TALUKA                    145932.0\n",
       "KULACHI TEHSIL                   77139.0\n",
       "KUNRI TALUKA                    179266.0\n",
       "LACHI TEHSIL                    102059.0\n",
       "LADHA TEHSIL                    110842.0\n",
       "LAHOR TEHSIL                    264463.0\n",
       "LAHORE CANTT TEHSIL                  0.0\n",
       "LAHORE CITY TEHSIL                   0.0\n",
       "LAKHI TALUKA                    201329.0\n",
       "LAKHRA TEHSIL                    35495.0\n",
       "LAKKI MARWAT TEHSIL             519601.0\n",
       "LAL QILA TEHSIL                 219567.0\n",
       "LALIAN TEHSIL                   329407.0\n",
       "LANDHI TEHSIL                        0.0\n",
       "LANDI KOTAL TEHSIL              239323.0\n",
       "LARKANA TALUKA                  247204.0\n",
       "LATIFABAD TALUKA                     0.0\n",
       "LAWA TEHSIL                     110175.0\n",
       "LAYYAH TEHSIL                   783612.0\n",
       "LEHRI TEHSIL                     44490.0\n",
       "LIAQUATABAD TEHSIL                   0.0\n",
       "LIAQUATPUR TEHSIL               982018.0\n",
       "LIARI TEHSIL                     11730.0\n",
       "LODHRAN TEHSIL                  585751.0\n",
       "LOIBAND TEHSIL                   27962.0\n",
       "LORALAI\\BORI TEHSIL             148730.0\n",
       "LOTI TEHSIL                      18058.0\n",
       "LOWER KURRAM TEHSIL             101386.0\n",
       "LOWER TEHSIL                    107323.0\n",
       "LYARI TEHSIL                         0.0\n",
       "MACH SUB-TEHSIL                  20489.0\n",
       "MAILSI TEHSIL                   825158.0\n",
       "MAKIN TEHSIL                     58646.0\n",
       "MALAKAND PROTECTED AREA         650120.0\n",
       "MALAKWAL TEHSIL                 328748.0\n",
       "MALAM SUB-TEHSIL                 27265.0\n",
       "MAMUND TEHSIL                   311373.0\n",
       "MAND SUB-TEHSIL                  50995.0\n",
       "MANDANR TEHSIL                  152608.0\n",
       "MANDI BAHAUDDIN TEHSIL          451306.0\n",
       "MANGHOPIR TEHSIL                160904.0\n",
       "MANGOCHAR TEHSIL                 65678.0\n",
       "MANJHAND TALUKA                 119570.0\n",
       "MANKERA TEHSIL                  242750.0\n",
       "MANSEHRA TEHSIL                 872623.0\n",
       "MARDAN TEHSIL                  1043978.0\n",
       "MASHKAI TEHSIL                   20600.0\n",
       "MASHKHEL SUB-TEHSIL              38634.0\n",
       "MASTUJ TEHSIL                   169297.0\n",
       "MASTUNG TEHSIL                   98430.0\n",
       "MATIARI TALUKA                  297950.0\n",
       "MATLI TALUKA                    346413.0\n",
       "MATTA TEHSIL                    423052.0\n",
       "MAURIPUR TEHSIL                 121954.0\n",
       "MAWAND TEHSIL                    41516.0\n",
       "MEHAR TALUKA                    360477.0\n",
       "MEHRABPUR TALUKA                169661.0\n",
       "MEKHTAR SUB-TEHSIL               40867.0\n",
       "MIAN CHANNU TEHSIL              639860.0\n",
       "MIANWALI TEHSIL                 618946.0\n",
       "MINCHINABAD TEHSIL              452723.0\n",
       "MIR ALI TEHSIL                  184986.0\n",
       "MIRAN SHAH TEHSIL                96280.0\n",
       "MIRO KHAN TALUKA                115622.0\n",
       "MIRPUR BATHORO TALUKA           190520.0\n",
       "MIRPUR KHAS TALUKA               26155.0\n",
       "MIRPUR MATHELO TALUKA           252551.0\n",
       "MIRPUR SAKRO TALUKA             294561.0\n",
       "MIRPUR SUB-TEHSIL                 9441.0\n",
       "MIRWAH TALUKA                   258899.0\n",
       "MITHI TALUKA                    161621.0\n",
       "MODEL COLONY TEHSIL                  0.0\n",
       "MODEL TOWN TEHSIL                    0.0\n",
       "MOMINABAD TEHSIL                     0.0\n",
       "MOOLA SUB-TEHSIL                 23386.0\n",
       "MORO TALUKA                     273131.0\n",
       "MULLA GORI TEHSIL                40188.0\n",
       "MULTAN CITY TEHSIL              432114.0\n",
       "MULTAN SADDAR TEHSIL           1238708.0\n",
       "MURAD MEMON TEHSIL              129761.0\n",
       "MURIDKE TEHSIL                  426737.0\n",
       "MURREE TEHSIL                    75974.0\n",
       "MUSAKHEL TEHSIL                  84170.0\n",
       "MUSLIM BAGH TEHSIL               50283.0\n",
       "MUZAFFARGARH TEHSIL            1385109.0\n",
       "NAG SUB-TEHSIL                   34477.0\n",
       "NAGAR PARKAR TALUKA             248079.0\n",
       "NAL SUB-TEHSIL                   97576.0\n",
       "NANKANA SAHIB TEHSIL            773871.0\n",
       "NARA TALUKA                     122023.0\n",
       "NAROWAL TEHSIL                  460844.0\n",
       "NASIRABAD TALUKA                113591.0\n",
       "NAUSHAHRO FEROZE TALUKA         267060.0\n",
       "NAWABSHAH TALUKA                134064.0\n",
       "NAWAGAI TEHSIL                   78494.0\n",
       "NAZIMABAD TEHSIL                     0.0\n",
       "NEW KARACHI TEHSIL                   0.0\n",
       "NEW SUKKUR TALUKA                43652.0\n",
       "NOKUNDI SUB-TEHSIL               22283.0\n",
       "NOORPUR TEHSIL                  223051.0\n",
       "NORTH NAZIMABAD TEHSIL               0.0\n",
       "NOWSHERA TEHSIL                 103603.0\n",
       "NOWSHERA VIRKAN TEHSIL          485434.0\n",
       "NUSHKI TEHSIL                   132551.0\n",
       "OGHI TEHSIL                     264964.0\n",
       "OKARA TEHSIL                    760440.0\n",
       "ORANGI TEHSIL                        0.0\n",
       "ORMARA TEHSIL                     7881.0\n",
       "ORNACH SUB-TEHSIl                37588.0\n",
       "PABBI TEHSIL                    383046.0\n",
       "PAHARPUR TEHSIL                 303520.0\n",
       "PAKPATTAN TEHSIL                792513.0\n",
       "PALAS TEHSIL                    276325.0\n",
       "PANJ PAI SUB-TEHSIL              19011.0\n",
       "PANJGUR TEHSIL                  178752.0\n",
       "PANO AQIL TALUKA                336263.0\n",
       "PAROA TEHSIL                    252462.0\n",
       "PAROME TEHSIL                    23215.0\n",
       "PASNI TEHSIL                     26790.0\n",
       "PASRUR TEHSIL                   719133.0\n",
       "PATTAN TEHSIL                   202935.0\n",
       "PATTOKI TEHSIL                  753853.0\n",
       "PESHAWAR TEHSIL                2297375.0\n",
       "PHALIA TEHSIL                   487627.0\n",
       "PHELAWAGH TEHSIL                 28054.0\n",
       "PIND DADAN KHAN TEHSIL          272443.0\n",
       "PINDI BHATTIAN TEHSIL           354176.0\n",
       "PINDI GHEB TEHSIL               226736.0\n",
       "PINDIALI TEHSIL                  89711.0\n",
       "PIPLAN TEHSIL                   306210.0\n",
       "PIR KOH SUB-TEHSIL               40629.0\n",
       "PIRMAHAL TEHSIL                 378026.0\n",
       "PISHIN TEHSIL                   272063.0\n",
       "PITHORO TALUKA                  107033.0\n",
       "PRANG GHAR TEHSIL                36569.0\n",
       "PURAN TEHSIL                    145298.0\n",
       "QAMAR DIN KAREZ TEHSIL           13831.0\n",
       "QASIMABAD TALUKA                     0.0\n",
       "QUAIDABAD TEHSIL                208615.0\n",
       "QUBO SAEED KHAN TALUKA           58144.0\n",
       "QUETTA CITY TEHSIL              723361.0\n",
       "QUETTA SADDAR TEHSIL            527716.0\n",
       "RAHIM YAR KHAN TEHSIL          1045577.0\n",
       "RAIWIND TEHSIL                       0.0\n",
       "RAJANPUR TEHSIL                 494109.0\n",
       "RATODERO TALUKA                 215932.0\n",
       "RAWALPINDI TEHSIL              1158817.0\n",
       "RAZAR TEHSIL                    558662.0\n",
       "RAZMAK TEHSIL                    15681.0\n",
       "RENALA KHURD TEHSIL             404562.0\n",
       "ROHRI TALUKA                    284840.0\n",
       "ROJHAN TEHSIL                   391144.0\n",
       "SADDAR TEHSIL                        0.0\n",
       "SADIQABAD TEHSIL                999966.0\n",
       "SAEEDABAD TALUKA                145254.0\n",
       "SAFDARABAD TEHSIL               218751.0\n",
       "SAFI TEHSIL                      98501.0\n",
       "SAHIWAL TEHSIL                 1067880.0\n",
       "SAKRAND TALUKA                  307342.0\n",
       "SALARZAI TEHSIL                 267636.0\n",
       "SALEHPAT TALUKA                 102811.0\n",
       "SAM RANI ZAI TEHSIL             303644.0\n",
       "SAMARBAGH TEHSIL                378004.0\n",
       "SAMARO TALUKA                   160967.0\n",
       "SAMBAZA SUB-TEHSIL               17465.0\n",
       "SAMBRIAL TEHSIL                 272882.0\n",
       "SAMMUNDRI TEHSIL                486176.0\n",
       "SANGAN SUB-TEHSIL                 2665.0\n",
       "SANGHAR TALUKA                  339307.0\n",
       "SANGLA HILL TEHSIL              166106.0\n",
       "SANGSILLAH SUB-TEHSIL            10217.0\n",
       "SANHRI TEHSIL                    88788.0\n",
       "SANNI SUB-TEHSIL                 96901.0\n",
       "SAR KHARAN TEHSIL                49393.0\n",
       "SARAI ALAMGIR TEHSIL            192457.0\n",
       "SARAI NAURANG TEHSIL            266891.0\n",
       "SARANAN TEHSIL                   18452.0\n",
       "SARAROGHA TEHSIL                 98180.0\n",
       "SARGODHA TEHSIL                 876944.0\n",
       "SAROONA SUB-TEHSIL               32125.0\n",
       "SEHWAN TALUKA                   165467.0\n",
       "SERWEKAI TEHSIL                  54540.0\n",
       "SHABQADAR TEHSIL                288462.0\n",
       "SHAH BUNDER TALUKA              142021.0\n",
       "SHAH FAISAL TEHSIL                   0.0\n",
       "SHAH KOT TEHSIL                 169885.0\n",
       "SHAH MUREED TEHSIL               29846.0\n",
       "SHAHDAD KOT TALUKA               83629.0\n",
       "SHAHDADPUR TALUKA               265945.0\n",
       "SHAHGORI SUB-TEHSIL              27548.0\n",
       "SHAHPUR TEHSIL                  284663.0\n",
       "SHAHRIG TEHSIL                    9458.0\n",
       "SHAKARGARH TEHSIL               590387.0\n",
       "SHALIMAR TEHSIL                      0.0\n",
       "SHARAK PUR TEHSIL               155574.0\n",
       "SHARINGAL TEHSIL                185121.0\n",
       "SHEIKHUPURA TEHSIL              947220.0\n",
       "SHERANI TEHSIL                  152952.0\n",
       "SHEWA TEHSIL                     39290.0\n",
       "SHIKARPUR TALUKA                196133.0\n",
       "SHINKI SUB-TEHSIL                55326.0\n",
       "SHORKOT TEHSIL                  474764.0\n",
       "SHUJAABAD TALUKA                147733.0\n",
       "SHUJABAD TEHSIL                 528906.0\n",
       "SIALKOT TEHSIL                 1115287.0\n",
       "SIBI TEHSIL                      60339.0\n",
       "SILLANWALI TEHSIL               306768.0\n",
       "SINDHRI TALUKA                  219389.0\n",
       "SINJAWI SUB-TEHSIL               92497.0\n",
       "SINJHORO TALUKA                 260082.0\n",
       "SITE TEHSIL                          0.0\n",
       "SOBHO DERO TALUKA               180580.0\n",
       "SOHAWA TEHSIL                   175680.0\n",
       "SOHBATPUR TEHSIL                 40567.0\n",
       "SONMIANI/WINDER TEHSIL           34504.0\n",
       "SPINWAM TEHSIL                   46171.0\n",
       "SUB TEHSIL TOHMULK               32670.0\n",
       "SUI TEHSIL                       48235.0\n",
       "SUJAWAL JUNEJO TALUKA           117467.0\n",
       "SUJAWAL TALUKA                  161083.0\n",
       "SUKKUR CITY TALUKA                   0.0\n",
       "SUNTSER SUB-TEHSIL               10886.0\n",
       "SURAB TEHSIL                    165260.0\n",
       "SWABI TEHSIL                    250916.0\n",
       "SWAT RANI ZAI TEHSIL            346476.0\n",
       "TAFTAN SUB-TEHSIL                18510.0\n",
       "TAKHT BHAI TEHSIL               545974.0\n",
       "TAKHT-E-NASRATI TEHSIL          257051.0\n",
       "TALA GANG TEHSIL                337903.0\n",
       "TALHAR TALUKA                   123329.0\n",
       "TALL TEHSIL                     194711.0\n",
       "TAMBOO TEHSIL                   131056.0\n",
       "TANDLIAN WALA TEHSIL            618660.0\n",
       "TANDO ADAM TALUKA               204998.0\n",
       "TANDO ALLAHYAR TALUKA           173240.0\n",
       "TANDO BAGO TALUKA               340828.0\n",
       "TANDO GHULAM HYDER TALUKA       150895.0\n",
       "TANDO MUHAMMAD KHAN TALUKA      153536.0\n",
       "TANGI TEHSIL                    393252.0\n",
       "TANGWANI TALUKA                 262749.0\n",
       "TANK TEHSIL                     343562.0\n",
       "TAUNSA TEHSIL                   580592.0\n",
       "TAXILA TEHSIL                   176011.0\n",
       "TEMERGARA TEHSIL                480671.0\n",
       "THANO BULA KHAN TALUKA          130318.0\n",
       "THATTA TALUKA                   304828.0\n",
       "THUL TALUKA                     371911.0\n",
       "TIARZA TEHSIL                    45156.0\n",
       "TOBA TEK SINGH TEHSIL           652771.0\n",
       "TOI KHULLA TEHSIL                50413.0\n",
       "TOPI TEHSIL                     275472.0\n",
       "TUMP SUB-TEHSIL                  97665.0\n",
       "UBAURO TALUKA                   308928.0\n",
       "UMER KOT TALUKA                 382666.0\n",
       "UPPER KURRAM TEHSIL             246934.0\n",
       "UPPER MOHMAND TEHSIL             51154.0\n",
       "UPPER TEHSIL                     63885.0\n",
       "USTA MUHAMMAD TEHSIL            109231.0\n",
       "UTHAL TEHSIL                     42867.0\n",
       "UTMAN KHEL TEHSIL               107248.0\n",
       "VEHARI TEHSIL                   783165.0\n",
       "WADH TEHSIL                      77906.0\n",
       "WANA TEHSIL                     153156.0\n",
       "WARAH TALUKA                    160375.0\n",
       "WARI TEHSIL                     322755.0\n",
       "WASHUK SUB-TEHSIL                12952.0\n",
       "WAZIRABAD TEHSIL                530559.0\n",
       "YAKE GHUND TEHSIL                57754.0\n",
       "YAZMAN TEHSIL                   564422.0\n",
       "ZAFARWAL TEHSIL                 399687.0\n",
       "ZAMORAN SUB-TEHSIL               42411.0\n",
       "ZEHRI TEHSIL                     64199.0\n",
       "ZHOB TEHSIL                     206942.0\n",
       "ZIARAT TEHSIL                    64206.0\n",
       "Name: ALL SEXES (RURAL), dtype: float64"
      ]
     },
     "execution_count": 42,
     "metadata": {},
     "output_type": "execute_result"
    }
   ],
   "source": [
    "df.groupby('SUB DIVISION')['ALL SEXES (RURAL)'].mean()"
   ]
  },
  {
   "cell_type": "code",
   "execution_count": null,
   "id": "dcd2c502",
   "metadata": {},
   "outputs": [
    {
     "data": {
      "application/vnd.microsoft.datawrangler.viewer.v0+json": {
       "columns": [
        {
         "name": "DISTRICT",
         "rawType": "object",
         "type": "string"
        },
        {
         "name": "ALL SEXES (RURAL)",
         "rawType": "float64",
         "type": "float"
        }
       ],
       "ref": "2b8b5f8b-618d-4b92-9ab5-75022edc0e57",
       "rows": [
        [
         "ABBOTTABAD DISTRICT",
         "378963.25"
        ],
        [
         "ATTOCK DISTRICT",
         "232578.33333333334"
        ],
        [
         "AWARAN DISTRICT",
         "21896.0"
        ],
        [
         "BADIN DISTRICT",
         "282922.8"
        ],
        [
         "BAHAWALNAGAR DISTRICT",
         "471194.0"
        ],
        [
         "BAHAWALPUR DISTRICT",
         "416169.0"
        ],
        [
         "BAJAUR DISTRICT",
         "155855.2857142857"
        ],
        [
         "BANNU DISTRICT",
         "558561.5"
        ],
        [
         "BARKHAN DISTRICT",
         "158824.0"
        ],
        [
         "BHAKKAR DISTRICT",
         "347049.5"
        ],
        [
         "BUNER DISTRICT",
         "223865.0"
        ],
        [
         "CHAGAI DISTRICT",
         "52563.0"
        ],
        [
         "CHAKWAL DISTRICT",
         "242371.0"
        ],
        [
         "CHARSADDA DISTRICT",
         "446918.6666666667"
        ],
        [
         "CHINIOT DISTRICT",
         "315476.3333333333"
        ],
        [
         "CHITRAL DISTRICT",
         "198922.5"
        ],
        [
         "DADU DISTRICT",
         "291746.0"
        ],
        [
         "DERA BUGTI DISTRICT",
         "26593.125"
        ],
        [
         "DERA GHAZI KHAN DISTRICT",
         "581602.5"
        ],
        [
         "DERA ISMAIL KHAN DISTRICT",
         "252974.0"
        ],
        [
         "FAISALABAD DISTRICT",
         "685929.6666666666"
        ],
        [
         "FR BANNU DISTRICT",
         "43112.0"
        ],
        [
         "FR D.I.KHAN DISTRICT",
         "68506.0"
        ],
        [
         "FR KOHAT DISTRICT",
         "118839.0"
        ],
        [
         "FR LAKKI MARWAT DISTRICT",
         "26394.0"
        ],
        [
         "FR PESHAWAR DISTRICT",
         "64761.0"
        ],
        [
         "GHOTKI DISTRICT",
         "257577.4"
        ],
        [
         "GUJRANWALA DISTRICT",
         "412389.6"
        ],
        [
         "GUJRAT DISTRICT",
         "642929.6666666666"
        ],
        [
         "GWADAR DISTRICT",
         "20294.8"
        ],
        [
         "HAFIZABAD DISTRICT",
         "377112.5"
        ],
        [
         "HANGU DISTRICT",
         "208154.5"
        ],
        [
         "HARIPUR DISTRICT",
         "434207.5"
        ],
        [
         "HARNAI DISTRICT",
         "24163.333333333332"
        ],
        [
         "HYDERABAD DISTRICT",
         "93352.5"
        ],
        [
         "JACOBABAD DISTRICT",
         "236597.0"
        ],
        [
         "JAFFARABAD DISTRICT",
         "118753.66666666667"
        ],
        [
         "JAMSHORO DISTRICT",
         "140321.75"
        ],
        [
         "JHAL MAGSI DISTRICT",
         "47028.333333333336"
        ],
        [
         "JHANG DISTRICT",
         "536050.25"
        ],
        [
         "JHELUM DISTRICT",
         "217026.5"
        ],
        [
         "KACHHI DISTRICT",
         "43158.666666666664"
        ],
        [
         "KALAT DISTRICT",
         "67933.0"
        ],
        [
         "KAMBAR SHAHDAD KOT DISTRICT",
         "134461.7142857143"
        ],
        [
         "KARACHI CENTRAL DISTRICT",
         "0.0"
        ],
        [
         "KARACHI EAST DISTRICT",
         "0.0"
        ],
        [
         "KARACHI SOUTH DISTRICT",
         "0.0"
        ],
        [
         "KARACHI WEST DISTRICT",
         "40408.28571428572"
        ],
        [
         "KARAK DISTRICT",
         "218092.0"
        ],
        [
         "KASHMORE DISTRICT",
         "278892.3333333333"
        ]
       ],
       "shape": {
        "columns": 1,
        "rows": 131
       }
      },
      "text/plain": [
       "DISTRICT\n",
       "ABBOTTABAD DISTRICT      378963.250000\n",
       "ATTOCK DISTRICT          232578.333333\n",
       "AWARAN DISTRICT           21896.000000\n",
       "BADIN DISTRICT           282922.800000\n",
       "BAHAWALNAGAR DISTRICT    471194.000000\n",
       "                             ...      \n",
       "UPPER DIR DISTRICT       367256.833333\n",
       "VEHARI DISTRICT          798650.666667\n",
       "WASHUK DISTRICT           30775.400000\n",
       "ZHOB DISTRICT             52838.000000\n",
       "ZIARAT DISTRICT           78351.500000\n",
       "Name: ALL SEXES (RURAL), Length: 131, dtype: float64"
      ]
     },
     "execution_count": 36,
     "metadata": {},
     "output_type": "execute_result"
    }
   ],
   "source": [
    "df.groupby('DISTRICT')['ALL SEXES (RURAL)'].mean()"
   ]
  },
  {
   "cell_type": "code",
   "execution_count": null,
   "id": "c9d7ab8e",
   "metadata": {},
   "outputs": [
    {
     "data": {
      "text/plain": [
       "Index(['PROVINCE', 'DIVISION', 'DISTRICT', 'SUB DIVISION', 'AREA (sq.km)',\n",
       "       'ALL SEXES (RURAL)', 'MALE (RURAL)', 'FEMALE (RURAL)',\n",
       "       'TRANSGENDER (RURAL)', 'SEX RATIO (RURAL)',\n",
       "       'AVG HOUSEHOLD SIZE (RURAL)', 'POPULATION 1998 (RURAL)',\n",
       "       'ANNUAL GROWTH RATE (RURAL)', 'ALL SEXES (URBAN)', 'MALE (URBAN)',\n",
       "       'FEMALE (URBAN)', 'TRANSGENDER (URBAN)', 'SEX RATIO (URBAN)',\n",
       "       'AVG HOUSEHOLD SIZE (URBAN)', 'POPULATION 1998 (URBAN)',\n",
       "       'ANNUAL GROWTH RATE (URBAN)'],\n",
       "      dtype='object')"
      ]
     },
     "execution_count": 45,
     "metadata": {},
     "output_type": "execute_result"
    }
   ],
   "source": [
    "df.columns\n",
    "\n",
    "\n",
    "\n"
   ]
  },
  {
   "cell_type": "code",
   "execution_count": null,
   "id": "9f4beb98",
   "metadata": {},
   "outputs": [
    {
     "data": {
      "application/vnd.microsoft.datawrangler.viewer.v0+json": {
       "columns": [
        {
         "name": "('PROVINCE', 'DIVISION', 'DISTRICT', 'SUB DIVISION')",
         "rawType": "object",
         "type": "unknown"
        },
        {
         "name": "POPULATION 1998 (RURAL)",
         "rawType": "int64",
         "type": "integer"
        }
       ],
       "ref": "33fd83fe-2edd-4dd0-b7ef-61a7e3d95488",
       "rows": [
        [
         "('BALOCHISTAN', 'Kalat Division', 'KALAT DISTRICT', 'GAZG SUB-TEHSIL')",
         "3979"
        ],
        [
         "('BALOCHISTAN', 'Kalat Division', 'KALAT DISTRICT', 'JOHAN SUB-TEHSIL')",
         "12299"
        ],
        [
         "('BALOCHISTAN', 'Kalat Division', 'KALAT DISTRICT', 'KALAT TEHSIL')",
         "63919"
        ],
        [
         "('BALOCHISTAN', 'Kalat Division', 'KALAT DISTRICT', 'MANGOCHAR TEHSIL')",
         "41590"
        ],
        [
         "('BALOCHISTAN', 'Kalat Division', 'KALAT DISTRICT', 'SURAB TEHSIL')",
         "82253"
        ],
        [
         "('BALOCHISTAN', 'Kalat Division', 'KHUZDAR DISTRICT', 'ARANJI SUB-TEHSIL')",
         "28561"
        ],
        [
         "('BALOCHISTAN', 'Kalat Division', 'KHUZDAR DISTRICT', 'KARAKH SUB-TEHSIL')",
         "21984"
        ],
        [
         "('BALOCHISTAN', 'Kalat Division', 'KHUZDAR DISTRICT', 'KHUZDAR TEHSIL')",
         "70788"
        ],
        [
         "('BALOCHISTAN', 'Kalat Division', 'KHUZDAR DISTRICT', 'MOOLA SUB-TEHSIL')",
         "13143"
        ],
        [
         "('BALOCHISTAN', 'Kalat Division', 'KHUZDAR DISTRICT', 'NAL SUB-TEHSIL')",
         "59314"
        ],
        [
         "('BALOCHISTAN', 'Kalat Division', 'KHUZDAR DISTRICT', 'ORNACH SUB-TEHSIl')",
         "20907"
        ],
        [
         "('BALOCHISTAN', 'Kalat Division', 'KHUZDAR DISTRICT', 'SAROONA SUB-TEHSIL')",
         "20580"
        ],
        [
         "('BALOCHISTAN', 'Kalat Division', 'KHUZDAR DISTRICT', 'WADH TEHSIL')",
         "38539"
        ],
        [
         "('BALOCHISTAN', 'Kalat Division', 'KHUZDAR DISTRICT', 'ZEHRI TEHSIL')",
         "25402"
        ],
        [
         "('BALOCHISTAN', 'Kalat Division', 'MASTUNG DISTRICT', 'DASHT TEHSIL')",
         "24570"
        ],
        [
         "('BALOCHISTAN', 'Kalat Division', 'MASTUNG DISTRICT', 'KHAD KOCHA SUB-TEHSIL')",
         "19262"
        ],
        [
         "('BALOCHISTAN', 'Kalat Division', 'MASTUNG DISTRICT', 'KIRDGAP SUB-TEHSIL')",
         "24214"
        ],
        [
         "('BALOCHISTAN', 'Kalat Division', 'MASTUNG DISTRICT', 'MASTUNG TEHSIL')",
         "57862"
        ],
        [
         "('BALOCHISTAN', 'Makran Division', 'AWARAN DISTRICT', 'AWARAN TEHSIL')",
         "27156"
        ],
        [
         "('BALOCHISTAN', 'Makran Division', 'AWARAN DISTRICT', 'GISHKORE SUB-TEHSIL')",
         "22430"
        ],
        [
         "('BALOCHISTAN', 'Makran Division', 'AWARAN DISTRICT', 'JHAL JAO SUB-TEHSIL')",
         "34214"
        ],
        [
         "('BALOCHISTAN', 'Makran Division', 'AWARAN DISTRICT', 'MASHKAI TEHSIL')",
         "34373"
        ],
        [
         "('BALOCHISTAN', 'Makran Division', 'GWADAR DISTRICT', 'GWADAR TEHSIL')",
         "27593"
        ],
        [
         "('BALOCHISTAN', 'Makran Division', 'GWADAR DISTRICT', 'JIWANI TEHSIL')",
         "5716"
        ],
        [
         "('BALOCHISTAN', 'Makran Division', 'GWADAR DISTRICT', 'ORMARA TEHSIL')",
         "7327"
        ],
        [
         "('BALOCHISTAN', 'Makran Division', 'GWADAR DISTRICT', 'PASNI TEHSIL')",
         "27364"
        ],
        [
         "('BALOCHISTAN', 'Makran Division', 'GWADAR DISTRICT', 'SUNTSER SUB-TEHSIL')",
         "17346"
        ],
        [
         "('BALOCHISTAN', 'Makran Division', 'KECH DISTRICT', 'BALNIGORE SUB-TEHSIL')",
         "19560"
        ],
        [
         "('BALOCHISTAN', 'Makran Division', 'KECH DISTRICT', 'BULAIDA SUB-TEHSIL')",
         "35251"
        ],
        [
         "('BALOCHISTAN', 'Makran Division', 'KECH DISTRICT', 'DASHT SUB-TEHSIL')",
         "39061"
        ],
        [
         "('BALOCHISTAN', 'Makran Division', 'KECH DISTRICT', 'HOSHAB SUB-TEHSIL')",
         "37819"
        ],
        [
         "('BALOCHISTAN', 'Makran Division', 'KECH DISTRICT', 'KECH (TURBAT) TEHSIL')",
         "88539"
        ],
        [
         "('BALOCHISTAN', 'Makran Division', 'KECH DISTRICT', 'MAND SUB-TEHSIL')",
         "35281"
        ],
        [
         "('BALOCHISTAN', 'Makran Division', 'KECH DISTRICT', 'TUMP SUB-TEHSIL')",
         "51234"
        ],
        [
         "('BALOCHISTAN', 'Makran Division', 'KECH DISTRICT', 'ZAMORAN SUB-TEHSIL')",
         "37856"
        ],
        [
         "('BALOCHISTAN', 'Makran Division', 'KHARAN DISTRICT', 'KHARAN TEHSIL')",
         "15966"
        ],
        [
         "('BALOCHISTAN', 'Makran Division', 'KHARAN DISTRICT', 'SAR KHARAN TEHSIL')",
         "29768"
        ],
        [
         "('BALOCHISTAN', 'Makran Division', 'KHARAN DISTRICT', 'SUB TEHSIL TOHMULK')",
         "23360"
        ],
        [
         "('BALOCHISTAN', 'Makran Division', 'LASBELA DISTRICT', 'BELA TEHSIL')",
         "51636"
        ],
        [
         "('BALOCHISTAN', 'Makran Division', 'LASBELA DISTRICT', 'DUREJI TEHSIL')",
         "31504"
        ],
        [
         "('BALOCHISTAN', 'Makran Division', 'LASBELA DISTRICT', 'GADDANI TEHSIL')",
         "7889"
        ],
        [
         "('BALOCHISTAN', 'Makran Division', 'LASBELA DISTRICT', 'HUB TEHSIL')",
         "18171"
        ],
        [
         "('BALOCHISTAN', 'Makran Division', 'LASBELA DISTRICT', 'LAKHRA TEHSIL')",
         "25474"
        ],
        [
         "('BALOCHISTAN', 'Makran Division', 'LASBELA DISTRICT', 'LIARI TEHSIL')",
         "7846"
        ],
        [
         "('BALOCHISTAN', 'Makran Division', 'LASBELA DISTRICT', 'SONMIANI/WINDER TEHSIL')",
         "20230"
        ],
        [
         "('BALOCHISTAN', 'Makran Division', 'LASBELA DISTRICT', 'UTHAL TEHSIL')",
         "26405"
        ],
        [
         "('BALOCHISTAN', 'Makran Division', 'PANJGUR DISTRICT', 'GICHK SUB-TEHSIL')",
         "22568"
        ],
        [
         "('BALOCHISTAN', 'Makran Division', 'PANJGUR DISTRICT', 'GOWARGO TEHSIL')",
         "24377"
        ],
        [
         "('BALOCHISTAN', 'Makran Division', 'PANJGUR DISTRICT', 'PANJGUR TEHSIL')",
         "146971"
        ],
        [
         "('BALOCHISTAN', 'Makran Division', 'PANJGUR DISTRICT', 'PAROME TEHSIL')",
         "18838"
        ]
       ],
       "shape": {
        "columns": 1,
        "rows": 528
       }
      },
      "text/plain": [
       "PROVINCE     DIVISION                      DISTRICT                      SUB DIVISION               \n",
       "BALOCHISTAN  Kalat Division                KALAT DISTRICT                GAZG SUB-TEHSIL                   3979\n",
       "                                                                         JOHAN SUB-TEHSIL                 12299\n",
       "                                                                         KALAT TEHSIL                     63919\n",
       "                                                                         MANGOCHAR TEHSIL                 41590\n",
       "                                                                         SURAB TEHSIL                     82253\n",
       "                                           KHUZDAR DISTRICT              ARANJI SUB-TEHSIL                28561\n",
       "                                                                         KARAKH SUB-TEHSIL                21984\n",
       "                                                                         KHUZDAR TEHSIL                   70788\n",
       "                                                                         MOOLA SUB-TEHSIL                 13143\n",
       "                                                                         NAL SUB-TEHSIL                   59314\n",
       "                                                                         ORNACH SUB-TEHSIl                20907\n",
       "                                                                         SAROONA SUB-TEHSIL               20580\n",
       "                                                                         WADH TEHSIL                      38539\n",
       "                                                                         ZEHRI TEHSIL                     25402\n",
       "                                           MASTUNG DISTRICT              DASHT TEHSIL                     24570\n",
       "                                                                         KHAD KOCHA SUB-TEHSIL            19262\n",
       "                                                                         KIRDGAP SUB-TEHSIL               24214\n",
       "                                                                         MASTUNG TEHSIL                   57862\n",
       "             Makran Division               AWARAN DISTRICT               AWARAN TEHSIL                    27156\n",
       "                                                                         GISHKORE SUB-TEHSIL              22430\n",
       "                                                                         JHAL JAO SUB-TEHSIL              34214\n",
       "                                                                         MASHKAI TEHSIL                   34373\n",
       "                                           GWADAR DISTRICT               GWADAR TEHSIL                    27593\n",
       "                                                                         JIWANI TEHSIL                     5716\n",
       "                                                                         ORMARA TEHSIL                     7327\n",
       "                                                                         PASNI TEHSIL                     27364\n",
       "                                                                         SUNTSER SUB-TEHSIL               17346\n",
       "                                           KECH DISTRICT                 BALNIGORE SUB-TEHSIL             19560\n",
       "                                                                         BULAIDA SUB-TEHSIL               35251\n",
       "                                                                         DASHT SUB-TEHSIL                 39061\n",
       "                                                                         HOSHAB SUB-TEHSIL                37819\n",
       "                                                                         KECH (TURBAT) TEHSIL             88539\n",
       "                                                                         MAND SUB-TEHSIL                  35281\n",
       "                                                                         TUMP SUB-TEHSIL                  51234\n",
       "                                                                         ZAMORAN SUB-TEHSIL               37856\n",
       "                                           KHARAN DISTRICT               KHARAN TEHSIL                    15966\n",
       "                                                                         SAR KHARAN TEHSIL                29768\n",
       "                                                                         SUB TEHSIL TOHMULK               23360\n",
       "                                           LASBELA DISTRICT              BELA TEHSIL                      51636\n",
       "                                                                         DUREJI TEHSIL                    31504\n",
       "                                                                         GADDANI TEHSIL                    7889\n",
       "                                                                         HUB TEHSIL                       18171\n",
       "                                                                         LAKHRA TEHSIL                    25474\n",
       "                                                                         LIARI TEHSIL                      7846\n",
       "                                                                         SONMIANI/WINDER TEHSIL           20230\n",
       "                                                                         UTHAL TEHSIL                     26405\n",
       "                                           PANJGUR DISTRICT              GICHK SUB-TEHSIL                 22568\n",
       "                                                                         GOWARGO TEHSIL                   24377\n",
       "                                                                         PANJGUR TEHSIL                  146971\n",
       "                                                                         PAROME TEHSIL                    18838\n",
       "                                           WASHUK DISTRICT               BESIMA SUB-TEHSIL                16740\n",
       "                                                                         MASHKHEL SUB-TEHSIL              29844\n",
       "                                                                         NAG SUB-TEHSIL                   19956\n",
       "                                                                         SHAHGORI SUB-TEHSIL              19641\n",
       "                                                                         WASHUK SUB-TEHSIL                23828\n",
       "             Naseerabad Division           JAFFARABAD DISTRICT           GANDHAKA TEHSIL                  52767\n",
       "                                                                         JHAT PAT TEHSIL                  92689\n",
       "                                                                         USTA MUHAMMAD TEHSIL             68517\n",
       "                                           JHAL MAGSI DISTRICT           GANDAWA TEHSIL                   26694\n",
       "                                                                         JHAL MAGSI TEHSIL                63588\n",
       "                                                                         MIRPUR SUB-TEHSIL                11562\n",
       "                                           KACHHI DISTRICT               BALANARI SUB-TEHSIL              39597\n",
       "                                                                         BHAG TEHSIL                      43842\n",
       "                                                                         DHADAR TEHSIL                    32663\n",
       "                                                                         KHATTAN SUB-TEHSIL                7202\n",
       "                                                                         MACH SUB-TEHSIL                  15619\n",
       "                                                                         SANNI SUB-TEHSIL                 77070\n",
       "                                           NASIRABAD DISTRICT            BABA KOT TEHSIL                  19531\n",
       "                                                                         CHATTAR SUB-TEHSIL               50446\n",
       "                                                                         DERA MURAD JAMALI TEHSIL         65676\n",
       "                                                                         TAMBOO TEHSIL                    71810\n",
       "                                           SOHBATPUR DISTRICT            FARIDABAD TEHSIL                 33400\n",
       "                                                                         SANHRI TEHSIL                    66681\n",
       "                                                                         SOHBATPUR TEHSIL                 33240\n",
       "             Quetta Division               CHAGAI DISTRICT               CHAGAI SUB-TEHSIL                22511\n",
       "                                                                         DALBANDIN TEHSIL                 48380\n",
       "                                                                         NOKUNDI SUB-TEHSIL               14029\n",
       "                                                                         TAFTAN SUB-TEHSIL                 7666\n",
       "                                           DERA BUGTI DISTRICT           BAIKER SUB-TEHSIL                 5305\n",
       "                                                                         DERA BUGTI TEHSIL                16908\n",
       "                                                                         LOTI TEHSIL                       8491\n",
       "                                                                         MALAM SUB-TEHSIL                 19504\n",
       "                                                                         PHELAWAGH TEHSIL                 11760\n",
       "                                                                         PIR KOH SUB-TEHSIL               27448\n",
       "                                                                         SANGSILLAH SUB-TEHSIL            13700\n",
       "                                                                         SUI TEHSIL                       62699\n",
       "                                           HARNAI DISTRICT               HARNAI TEHSIL                    42123\n",
       "                                                                         KHOAST SUB-TEHSIL                 9908\n",
       "                                                                         SHAHRIG TEHSIL                   15262\n",
       "                                           KILLA ABDULLAH DISTRICT       CHAMAN TEHSIL                    95062\n",
       "                                                                         DOBANDI SUB-TEHSIL               31050\n",
       "                                                                         GULISTAN TEHSIL                  66883\n",
       "                                                                         KILLA ABDULLAH TEHSIL           110937\n",
       "                                           KOHLU DISTRICT                GRISANI SUB-TEHSIL                4057\n",
       "                                                                         KAHAN TEHSIL                     26765\n",
       "                                                                         KOHLU TEHSIL                     17037\n",
       "                                                                         MAWAND TEHSIL                    24056\n",
       "                                           NUSHKI DISTRICT               NUSHKI TEHSIL                    74082\n",
       "                                           PISHIN DISTRICT               BARSHORE SUB-TEHSIL              95132\n",
       "                                                                         HURRAM ZAI SUB-TEHSIL            58093\n",
       "                                                                         KAREZAT SUB-TEHSIL               63375\n",
       "                                                                         PISHIN TEHSIL                   108306\n",
       "                                                                         SARANAN TEHSIL                   28867\n",
       "                                           QUETTA DISTRICT               PANJ PAI SUB-TEHSIL              15139\n",
       "                                                                         QUETTA CITY TEHSIL               73759\n",
       "                                                                         QUETTA SADDAR TEHSIL            120512\n",
       "                                           SIBI DISTRICT                 KOT MANDAI SUB-TEHSIL             8057\n",
       "                                                                         LEHRI TEHSIL                     32576\n",
       "                                                                         SANGAN SUB-TEHSIL                 3024\n",
       "                                                                         SIBI TEHSIL                      44198\n",
       "                                           ZIARAT DISTRICT               SINJAWI SUB-TEHSIL               47408\n",
       "                                                                         ZIARAT TEHSIL                    32704\n",
       "             Zhob Division                 BARKHAN DISTRICT              BARKHAN TEHSIL                   95875\n",
       "                                           KILLA SAIFULLAH DISTRICT      BADINI SUB-TEHSIL                 6583\n",
       "                                                                         KAN MEHTARZAI SUB-TEHSIL         24168\n",
       "                                                                         KILLA SAIFULLAH TEHSIL           55343\n",
       "                                                                         LOIBAND TEHSIL                   25791\n",
       "                                                                         MUSLIM BAGH TEHSIL               27700\n",
       "                                                                         SHINKI SUB-TEHSIL                28669\n",
       "                                           LORALAI DISTRICT              DUKI TEHSIL                     110867\n",
       "                                                                         LORALAI\\BORI TEHSIL              72551\n",
       "                                                                         MEKHTAR SUB-TEHSIL               31745\n",
       "                                           MUSAKHEL DISTRICT             DRUG TEHSIL                      28638\n",
       "                                                                         KINGRI TEHSIL                    24822\n",
       "                                                                         MUSAKHEL TEHSIL                  69007\n",
       "                                           SHERANI DISTRICT              SHERANI TEHSIL                   81684\n",
       "                                           ZHOB DISTRICT                 ASHWAT SUB-TEHSIL                13247\n",
       "                                                                         KASHATOO SUB-TEHSIL               5165\n",
       "                                                                         QAMAR DIN KAREZ TEHSIL            5855\n",
       "                                                                         SAMBAZA SUB-TEHSIL               15198\n",
       "                                                                         ZHOB TEHSIL                     110150\n",
       "KPK          BANNU DIVISION                BANNU DISTRICT                BANNU TEHSIL                    525281\n",
       "                                                                         DOMEL TEHSIL                    102710\n",
       "                                           LAKKI MARWAT DISTRICT         LAKKI MARWAT TEHSIL             309467\n",
       "                                                                         SARAI NAURANG TEHSIL            133680\n",
       "             DERA ISMAIL KHAN DIVISION     DERA ISMAIL KHAN DISTRICT     DARABAN TEHSIL                   73658\n",
       "                                                                         DERA ISMAIL KHAN TEHSIL         270676\n",
       "                                                                         KULACHI TEHSIL                   48143\n",
       "                                                                         PAHARPUR TEHSIL                 204009\n",
       "                                                                         PAROA TEHSIL                    130702\n",
       "                                           TANK DISTRICT                 TANK TEHSIL                     202475\n",
       "             HAZARA DIVISION               ABBOTTABAD DISTRICT           ABBOTTABAD TEHSIL               502487\n",
       "                                                                         ALLAI TEHSIL                    121652\n",
       "                                                                         BATAGRAM TEHSIL                 185626\n",
       "                                                                         HAVELIAN TEHSIL                 220275\n",
       "                                           HARIPUR DISTRICT              GHAZI TEHSIL                    113049\n",
       "                                                                         HARIPUR TEHSIL                  496444\n",
       "                                           KOHISTAN DISTRICT             DASSU TEHSIL                    137519\n",
       "                                                                         KANDIA TEHSIL                    46437\n",
       "                                                                         PALAS TEHSIL                    166403\n",
       "                                                                         PATTAN TEHSIL                   122211\n",
       "                                           MANSEHRA DISTRICT             BALA KOT TEHSIL                 214630\n",
       "                                                                         MANSEHRA TEHSIL                 513599\n",
       "                                                                         OGHI TEHSIL                     188552\n",
       "                                           TORGHAR DISTRICT              JUDBA TEHSIL                     84628\n",
       "                                                                         KHANDER TEHSIL                   90054\n",
       "             KOHAT DIVISION                HANGU DISTRICT                HANGU TEHSIL                    132095\n",
       "                                                                         TALL TEHSIL                     118217\n",
       "                                           KARAK DISTRICT                BANDA DAUD SHAH TEHSIL           98626\n",
       "                                                                         KARAK TEHSIL                    147865\n",
       "                                                                         TAKHT-E-NASRATI TEHSIL          156412\n",
       "                                           KOHAT DISTRICT                KOHAT TEHSIL                    344021\n",
       "                                                                         LACHI TEHSIL                     66710\n",
       "             MALAKAND DIVISION             BUNER DISTRICT                DAGGAR TEHSIL                   197120\n",
       "                                                                         GAGRA TEHSIL                    151877\n",
       "                                                                         KHADO KHEL TEHSIL                69812\n",
       "                                                                         MANDANR TEHSIL                   87239\n",
       "                                           CHITRAL DISTRICT              CHITRAL TEHSIL                  154252\n",
       "                                                                         MASTUJ TEHSIL                   133815\n",
       "                                           LOWER DIR DISTRICT            ADENZAI TEHSIL                  168830\n",
       "                                                                         LAL QILA TEHSIL                 129305\n",
       "                                                                         SAMARBAGH TEHSIL                190072\n",
       "                                                                         TEMERGARA TEHSIL                246514\n",
       "                                           SHANGLA DISTRICT              ALPURI TEHSIL                   297718\n",
       "                                                                         BISHAM TEHSIL                    57739\n",
       "                                                                         PURAN TEHSIL                     79106\n",
       "                                           SWAT DISTRICT                 BABUZAI TEHSIL                  148127\n",
       "                                                                         BARIKOT TEHSIL                   99975\n",
       "                                                                         BEHRAIN TEHSIL                  125247\n",
       "                                                                         CHARBAGH TEHSIL                  73682\n",
       "                                                                         KABAL TEHSIL                    244142\n",
       "                                                                         KHAWAZAKHELA TEHSIL             141193\n",
       "                                                                         MATTA TEHSIL                    251368\n",
       "                                           UPPER DIR DISTRICT            DIR TEHSIL                      212423\n",
       "                                                                         MALAKAND PROTECTED AREA         409112\n",
       "                                                                         SAM RANI ZAI TEHSIL             191996\n",
       "                                                                         SHARINGAL TEHSIL                104058\n",
       "                                                                         SWAT RANI ZAI TEHSIL            217116\n",
       "                                                                         WARI TEHSIL                     175069\n",
       "             MARDAN DIVISION               MARDAN DISTRICT               KATLANG TEHSIL                  221546\n",
       "                                                                         MARDAN TEHSIL                   618091\n",
       "                                                                         TAKHT BHAI TEHSIL               325335\n",
       "                                           SWABI DISTRICT                LAHOR TEHSIL                    159697\n",
       "                                                                         RAZAR TEHSIL                    358024\n",
       "                                                                         SWABI TEHSIL                    155193\n",
       "                                                                         TOPI TEHSIL                     174676\n",
       "             PESHAWAR DIVISION             CHARSADDA DISTRICT            CHARSADDA TEHSIL                415086\n",
       "                                                                         SHABQADAR TEHSIL                185312\n",
       "                                                                         TANGI TEHSIL                    229115\n",
       "                                           NOWSHERA DISTRICT             JEHANGIRA TEHSIL                158059\n",
       "                                                                         PABBI TEHSIL                    214967\n",
       "                                           PESHAWAR DISTRICT             PESHAWAR TEHSIL                1044035\n",
       "KPK/FATA     BANNU DIVISION                FR BANNU DISTRICT             FR BANNU                         19593\n",
       "                                           FR LAKKI MARWAT DISTRICT      FR LAKKI MARWAT                   6987\n",
       "                                           NORTH WAZIRISTAN DISTRICT     DATTA KHEL TEHSIL               110006\n",
       "                                                                         DOSSALI TEHSIL                   20482\n",
       "                                                                         GHARYUM TEHSIL                    3917\n",
       "                                                                         GHULAM KHAN TEHSIL               13251\n",
       "                                                                         MIR ALI TEHSIL                   93855\n",
       "                                                                         MIRAN SHAH TEHSIL                61565\n",
       "                                                                         RAZMAK TEHSIL                     5729\n",
       "                                                                         SHEWA TEHSIL                     22956\n",
       "                                                                         SPINWAM TEHSIL                   23520\n",
       "             DERA ISMAIL KHAN DIVISION     FR D.I.KHAN DISTRICT          FR D.I.KHAN                      38990\n",
       "                                           SOUTH WAZIRISTAN DISTRICT     BIRMIL TEHSIL                    58512\n",
       "                                                                         LADHA TEHSIL                     72278\n",
       "                                                                         MAKIN TEHSIL                     30528\n",
       "                                                                         SARAROGHA TEHSIL                 72063\n",
       "                                                                         SERWEKAI TEHSIL                  31472\n",
       "                                                                         TIARZA TEHSIL                    37708\n",
       "                                                                         TOI KHULLA TEHSIL                36508\n",
       "                                                                         WANA TEHSIL                      90772\n",
       "             KOHAT DIVISION                FR KOHAT DISTRICT             FR KOHAT                         88456\n",
       "                                           KURRAM DISTRICT               LOWER KURRAM TEHSIL              64220\n",
       "                                                                         UPPER KURRAM TEHSIL             177529\n",
       "                                           ORAKZAI DISTRICT              CENTRAL TEHSIL                   47122\n",
       "                                                                         ISMAIL ZAI TEHSIL                28843\n",
       "                                                                         LOWER TEHSIL                     65416\n",
       "                                                                         UPPER TEHSIL                     84060\n",
       "             MALAKAND DIVISION             BAJAUR DISTRICT               BAR CHAMER KAND TEHSIL            3247\n",
       "                                                                         BARANG TEHSIL                    50139\n",
       "                                                                         KHAR BAJAUR TEHSIL              116196\n",
       "                                                                         MAMUND TEHSIL                   168283\n",
       "                                                                         NAWAGAI TEHSIL                   57264\n",
       "                                                                         SALARZAI TEHSIL                 141750\n",
       "                                                                         UTMAN KHEL TEHSIL                58348\n",
       "             PESHAWAR DIVISION             FR PESHAWAR DISTRICT          FR PESHAWAR                      53841\n",
       "                                           KHYBER DISTRICT               BARA TEHSIL                     286184\n",
       "                                                                         JAMRUD TEHSIL                    64149\n",
       "                                                                         LANDI KOTAL TEHSIL              122390\n",
       "                                                                         MULLA GORI TEHSIL                19644\n",
       "                                           MOHMAND DISTRICT              AMBAR UTMAN KHEL TEHSIL          30728\n",
       "                                                                         HALIM ZAI TEHSIL                 48418\n",
       "                                                                         PINDIALI TEHSIL                  51276\n",
       "                                                                         PRANG GHAR TEHSIL                18620\n",
       "                                                                         SAFI TEHSIL                      71503\n",
       "                                                                         UPPER MOHMAND TEHSIL             80177\n",
       "                                                                         YAKE GHUND TEHSIL                33731\n",
       "PUNJAB       BAHAWALPUR DIVISION           BAHAWALNAGAR DISTRICT         BAHAWALNAGAR TEHSIL             407768\n",
       "                                                                         CHISHTIAN TEHSIL                395983\n",
       "                                                                         FORT ABBAS TEHSIL               250959\n",
       "                                                                         HAROONABAD TEHSIL               297343\n",
       "                                                                         MINCHINABAD TEHSIL              316593\n",
       "                                           BAHAWALPUR DISTRICT           AHMADPUR EAST TEHSIL            601406\n",
       "                                                                         BAHAWALPUR CITY TEHSIL           62916\n",
       "                                                                         BAHAWALPUR SADDAR TEHSIL        314428\n",
       "                                                                         HASILPUR TEHSIL                 246218\n",
       "                                                                         KHAIRPUR TAMEWALI TEHSIL        157049\n",
       "                                                                         YAZMAN TEHSIL                   385770\n",
       "                                           RAHIM YAR KHAN DISTRICT       KHANPUR TEHSIL                  533926\n",
       "                                                                         LIAQUATPUR TEHSIL               666127\n",
       "                                                                         RAHIM YAR KHAN TEHSIL           710989\n",
       "                                                                         SADIQABAD TEHSIL                613429\n",
       "             D.G.KHAN DIVISION             DERA GHAZI KHAN DISTRICT      DE-EXCLUDED AREA D.G KHAN       126198\n",
       "                                                                         DERA GHAZI KHAN TEHSIL          522388\n",
       "                                                                         KOT CHHUTTA TEHSIL              438306\n",
       "                                                                         TAUNSA TEHSIL                   327387\n",
       "                                           LAYYAH DISTRICT               CHOUBARA TEHSIL                 161010\n",
       "                                                                         LAYYAH TEHSIL                   485182\n",
       "                                           MUZAFFARGARH DISTRICT         ALIPUR TEHSIL                   369452\n",
       "                                                                         JATOI TEHSIL                    393772\n",
       "                                                                         KOT ADDU TEHSIL                 688771\n",
       "                                                                         MUZAFFARGARH TEHSIL             842563\n",
       "                                           RAJANPUR DISTRICT             DE-EXCLUDED AREA RAJANPUR        14051\n",
       "                                                                         JAMPUR TEHSIL                   417338\n",
       "                                                                         RAJANPUR TEHSIL                 314641\n",
       "                                                                         ROJHAN TEHSIL                   197433\n",
       "             FAISALABAD DIVISION           CHINIOT DISTRICT              BHAWANA TEHSIL                  258757\n",
       "                                                                         CHINIOT TEHSIL                  210354\n",
       "                                                                         LALIAN TEHSIL                   236830\n",
       "                                           FAISALABAD DISTRICT           CHAK JHUMRA TEHSIL              221695\n",
       "                                                                         FAISALABAD CITY TEHSIL          131485\n",
       "                                                                         FAISALABAD SADAR TEHSIL         900984\n",
       "                                                                         JARANWALA TEHSIL                924849\n",
       "                                                                         SAMMUNDRI TEHSIL                453729\n",
       "                                                                         TANDLIAN WALA TEHSIL            478372\n",
       "                                           JHANG DISTRICT                18-HAZARI TEHSIL                200036\n",
       "                                                                         AHMADPUR SIAL TEHSIL            250117\n",
       "                                                                         JHANG TEHSIL                    694457\n",
       "                                                                         SHORKOT TEHSIL                  321004\n",
       "                                           TOBA TEK SINGH DISTRICT       GOJRA TEHSIL                    377204\n",
       "                                                                         KAMALIA TEHSIL                  186350\n",
       "                                                                         PIRMAHAL TEHSIL                 258335\n",
       "                                                                         TOBA TEK SINGH TEHSIL           494293\n",
       "             GUJRANWALA DIVISION           GUJRANWALA DISTRICT           GUJRANWALA CITY TEHSIL           20654\n",
       "                                                                         GUJRANWALA SADDAR TEHSIL        586535\n",
       "                                                                         KAMOKE TEHSIL                   253078\n",
       "                                                                         NOWSHERA VIRKAN TEHSIL          390142\n",
       "                                                                         WAZIRABAD TEHSIL                431493\n",
       "                                           GUJRAT DISTRICT               GUJRAT TEHSIL                   729885\n",
       "                                                                         KHARIAN TEHSIL                  611829\n",
       "                                                                         SARAI ALAMGIR TEHSIL            138122\n",
       "                                           HAFIZABAD DISTRICT            HAFIZABAD TEHSIL                337482\n",
       "                                                                         PINDI BHATTIAN TEHSIL           268383\n",
       "                                           MANDI BAHAUDDIN DISTRICT      MALAKWAL TEHSIL                 250452\n",
       "                                                                         MANDI BAHAUDDIN TEHSIL          365444\n",
       "                                                                         PHALIA TEHSIL                   368235\n",
       "                                           NAROWAL DISTRICT              NAROWAL TEHSIL                  342064\n",
       "                                                                         SHAKARGARH TEHSIL               470108\n",
       "                                                                         ZAFARWAL TEHSIL                 298539\n",
       "                                           SIALKOT DISTRICT              DASKA TEHSIL                    482078\n",
       "                                                                         PASRUR TEHSIL                   534176\n",
       "                                                                         SAMBRIAL TEHSIL                 226030\n",
       "                                                                         SIALKOT TEHSIL                  767868\n",
       "             LAHORE DIVISION               KASUR DISTRICT                CHUNIAN TEHSIL                  523694\n",
       "                                                                         KASUR TEHSIL                    575903\n",
       "                                                                         KOT RADHA KISHAN TEHSIL         193356\n",
       "                                                                         PATTOKI TEHSIL                  519162\n",
       "                                           LAHORE DISTRICT               LAHORE CANTT TEHSIL             182733\n",
       "                                                                         LAHORE CITY TEHSIL              143532\n",
       "                                                                         MODEL TOWN TEHSIL               273036\n",
       "                                                                         RAIWIND TEHSIL                  330620\n",
       "                                                                         SHALIMAR TEHSIL                 201105\n",
       "                                           NANKANA SAHIB DISTRICT        NANKANA SAHIB TEHSIL            615443\n",
       "                                                                         SANGLA HILL TEHSIL              137652\n",
       "                                                                         SHAH KOT TEHSIL                 133619\n",
       "                                           SHEIKHUPURA DISTRICT          FEROZEWALA TEHSIL               277111\n",
       "                                                                         MURIDKE TEHSIL                  309073\n",
       "                                                                         SAFDARABAD TEHSIL               180657\n",
       "                                                                         SHARAK PUR TEHSIL               122561\n",
       "                                                                         SHEIKHUPURA TEHSIL              674097\n",
       "             MULTAN DIVISION               KHANEWAL DISTRICT             JAHANIAN TEHSIL                 224703\n",
       "                                                                         KABIRWALA TEHSIL                565066\n",
       "                                                                         KHANEWAL TEHSIL                 455413\n",
       "                                                                         MIAN CHANNU TEHSIL              459047\n",
       "                                           LODHRAN DISTRICT              DUNYAPUR TEHSIL                 320689\n",
       "                                                                         KAHROR PACCA TEHSIL             286458\n",
       "                                                                         LODHRAN TEHSIL                  394565\n",
       "                                           MULTAN DISTRICT               JALALPUR PIRWALA TEHSIL         332497\n",
       "                                                                         MULTAN CITY TEHSIL              303233\n",
       "                                                                         MULTAN SADDAR TEHSIL            803159\n",
       "                                                                         SHUJABAD TEHSIL                 363214\n",
       "                                           VEHARI DISTRICT               BUREWALA TEHSIL                 578486\n",
       "                                                                         MAILSI TEHSIL                   615886\n",
       "                                                                         VEHARI TEHSIL                   560612\n",
       "             RAWALPINDI DIVISION           ATTOCK DISTRICT               ATTOCK TEHSIL                   143989\n",
       "                                                                         FATEH JANG TEHSIL               188270\n",
       "                                                                         HASAN ABDAL TEHSIL               97880\n",
       "                                                                         HAZRO TEHSIL                    196785\n",
       "                                                                         JAND TEHSIL                     211065\n",
       "                                                                         PINDI GHEB TEHSIL               165854\n",
       "                                           CHAKWAL DISTRICT              CHAKWAL TEHSIL                  394992\n",
       "                                                                         CHOA SAIDAN SHAH TEHSIL          91838\n",
       "                                                                         KALLAR KAHAR TEHSIL             122548\n",
       "                                                                         LAWA TEHSIL                      95626\n",
       "                                                                         TALA GANG TEHSIL                247029\n",
       "                                           JHELUM DISTRICT               DINA TEHSIL                     130735\n",
       "                                                                         JHELUM TEHSIL                   186177\n",
       "                                                                         PIND DADAN KHAN TEHSIL          217023\n",
       "                                                                         SOHAWA TEHSIL                   143692\n",
       "                                           RAWALPINDI DISTRICT           GUJAR KHAN TEHSIL               426860\n",
       "                                                                         KAHUTA TEHSIL                   134512\n",
       "                                                                         KALLAR SAYADDAN TEHSIL          158120\n",
       "                                                                         KOTLI SATTIAN TEHSIL             82711\n",
       "                                                                         MURREE TEHSIL                   155224\n",
       "                                                                         RAWALPINDI TEHSIL               517844\n",
       "                                                                         TAXILA TEHSIL                   100367\n",
       "             SAHIWAL DIVISION              OKARA DISTRICT                DEPALPUR TEHSIL                 821089\n",
       "                                                                         OKARA TEHSIL                    590040\n",
       "                                                                         RENALA KHURD TEHSIL             307455\n",
       "                                           PAKPATTAN DISTRICT            ARIF WALA TEHSIL                528922\n",
       "                                                                         PAKPATTAN TEHSIL                574551\n",
       "                                           SAHIWAL DISTRICT              CHICHAWATNI TEHSIL              714341\n",
       "                                                                         SAHIWAL TEHSIL                  826863\n",
       "             SARGODHA DIVISION             BHAKKAR DISTRICT              BHAKKAR TEHSIL                  355592\n",
       "                                                                         DARYA KHAN TEHSIL               178775\n",
       "                                                                         KALUR KOT TEHSIL                187751\n",
       "                                                                         MANKERA TEHSIL                  160664\n",
       "                                           KHUSHAB DISTRICT              KHUSHAB TEHSIL                  287146\n",
       "                                                                         NOORPUR TEHSIL                  159592\n",
       "                                                                         NOWSHERA TEHSIL                  78970\n",
       "                                                                         QUAIDABAD TEHSIL                151034\n",
       "                                           MIANWALI DISTRICT             ISAKHEL TEHSIL                  212529\n",
       "                                                                         MIANWALI TEHSIL                 429435\n",
       "                                                                         PIPLAN TEHSIL                   194646\n",
       "                                           SARGODHA DISTRICT             BHALWAL TEHSIL                  177095\n",
       "                                                                         BHERA TEHSIL                    181739\n",
       "                                                                         KOT MOMIN TEHSIL                294224\n",
       "                                                                         SARGODHA TEHSIL                 623019\n",
       "                                                                         SHAHPUR TEHSIL                  211557\n",
       "                                                                         SILLANWALI TEHSIL               231205\n",
       "SINDH        Badin Division                BADIN DISTRICT                BADIN TALUKA                    220598\n",
       "                                                                         GOLARCHI (S.F.RAHU) TALUKA      163664\n",
       "                                                                         MATLI TALUKA                    226306\n",
       "                                                                         TALHAR TALUKA                    84883\n",
       "                                                                         TANDO BAGO TALUKA               224333\n",
       "             Hyderabad Division            DADU DISTRICT                 DADU TALUKA                     218515\n",
       "                                                                         JOHI TALUKA                     189386\n",
       "                                                                         KHAIRPUR NATHAN SHAH TALUKA     203317\n",
       "                                                                         MEHAR TALUKA                    266365\n",
       "                                           HYDERABAD DISTRICT            HYDERABAD CITY TALUKA             7696\n",
       "                                                                         HYDERABAD TALUKA                263986\n",
       "                                                                         LATIFABAD TALUKA                 17717\n",
       "                                                                         QASIMABAD TALUKA                 12127\n",
       "                                           JAMSHORO DISTRICT             KOTRI TALUKA                    145489\n",
       "                                                                         MANJHAND TALUKA                  92426\n",
       "                                                                         SEHWAN TALUKA                   121425\n",
       "                                                                         THANO BULA KHAN TALUKA           91126\n",
       "                                           MATIARI DISTRICT              HALA TALUKA                     104921\n",
       "                                                                         MATIARI TALUKA                  188997\n",
       "                                                                         SAEEDABAD TALUKA                100466\n",
       "                                           SUJAWAL DISTRICT              CHAMBER TALUKA                  114871\n",
       "                                                                         JATI TALUKA                     116175\n",
       "                                                                         MIRPUR BATHORO TALUKA           135349\n",
       "                                                                         SHAH BUNDER TALUKA               87174\n",
       "                                                                         SUJAWAL TALUKA                  104013\n",
       "                                           TANDO ALLAHYAR DISTRICT       BULRI SHAH KARIM TALUKA         153434\n",
       "                                                                         JHANDO MARI TALUKA              141913\n",
       "                                                                         TANDO ALLAHYAR TALUKA           130486\n",
       "                                           TANDO MUHAMMAD KHAN DISTRICT  GHORABARI TALUKA                105482\n",
       "                                                                         TANDO GHULAM HYDER TALUKA       114751\n",
       "                                                                         TANDO MUHAMMAD KHAN TALUKA      100794\n",
       "                                           THATTA DISTRICT               GULBERG TEHSIL                       0\n",
       "                                                                         KETI BUNDER TALUKA               38897\n",
       "                                                                         MIRPUR SAKRO TALUKA             175176\n",
       "                                                                         THATTA TALUKA                   216233\n",
       "             Karachi Division              KARACHI CENTRAL DISTRICT      FEROZABAD TEHSIL                     0\n",
       "                                                                         LIAQUATABAD TEHSIL                   0\n",
       "                                                                         NAZIMABAD TEHSIL                     0\n",
       "                                                                         NEW KARACHI TEHSIL                   0\n",
       "                                                                         NORTH NAZIMABAD TEHSIL               0\n",
       "                                           KARACHI EAST DISTRICT         ARAM BAGH TEHSIL                     0\n",
       "                                                                         GULSHAN-E-IQBAL TEHSIL               0\n",
       "                                                                         GULZAR-E-HIJRI TEHSIL                0\n",
       "                                                                         JAMSHED QUARTERS TEHSIL              0\n",
       "                                           KARACHI SOUTH DISTRICT        BALDIA TEHSIL                       99\n",
       "                                                                         CIVIL LINES TEHSIL                   0\n",
       "                                                                         GARDEN TEHSIL                        0\n",
       "                                                                         LYARI TEHSIL                         0\n",
       "                                                                         SADDAR TEHSIL                        0\n",
       "                                           KARACHI WEST DISTRICT         HARBOUR TEHSIL                       0\n",
       "                                                                         KORANGI TEHSIL                       0\n",
       "                                                                         MANGHOPIR TEHSIL                121426\n",
       "                                                                         MAURIPUR TEHSIL                  38055\n",
       "                                                                         MOMINABAD TEHSIL                     0\n",
       "                                                                         ORANGI TEHSIL                    23514\n",
       "                                                                         SITE TEHSIL                          0\n",
       "                                           KORANGI DISTRICT              AIRPORT TEHSIL                       0\n",
       "                                                                         LANDHI TEHSIL                        0\n",
       "                                                                         MODEL COLONY TEHSIL                  0\n",
       "                                                                         SHAH FAISAL TEHSIL                   0\n",
       "                                           MALIR DISTRICT                BIN QASIM TEHSIL                108045\n",
       "                                                                         GADAP TEHSIL                     35883\n",
       "                                                                         IBRAHIM HYDRI TEHSIL            105192\n",
       "                                                                         MURAD MEMON TEHSIL               67647\n",
       "                                                                         SHAH MUREED TEHSIL               17434\n",
       "             Larkana Division              JACOBABAD DISTRICT            GARHI KHAIRO TALUKA             105642\n",
       "                                                                         JACOBABAD TALUKA                129218\n",
       "                                                                         THUL TALUKA                     312860\n",
       "                                           KAMBAR SHAHDAD KOT DISTRICT   KAMBAR ALI KHAN TALUKA          210565\n",
       "                                                                         MIRO KHAN TALUKA                 89891\n",
       "                                                                         NASIRABAD TALUKA                 90302\n",
       "                                                                         QUBO SAEED KHAN TALUKA           63706\n",
       "                                                                         SHAHDAD KOT TALUKA               66183\n",
       "                                                                         SUJAWAL JUNEJO TALUKA            83026\n",
       "                                                                         WARAH TALUKA                    153672\n",
       "                                           KASHMORE DISTRICT             KANDHKOT TALUKA                 124800\n",
       "                                                                         KASHMORE TALUKA                 208925\n",
       "                                                                         TANGWANI TALUKA                 175474\n",
       "                                           LARKANA DISTRICT              BAKRANI TALUKA                  166025\n",
       "                                                                         DOKRI TALUKA                    123408\n",
       "                                                                         LARKANA TALUKA                  164270\n",
       "                                                                         RATODERO TALUKA                 157842\n",
       "                                           SHIKARPUR DISTRICT            GARHI YASIN TALUKA              202962\n",
       "                                                                         KHANPUR TALUKA                  173075\n",
       "                                                                         LAKHI TALUKA                    154812\n",
       "                                                                         SHIKARPUR TALUKA                137610\n",
       "             Mirpurkhas Division           MIRPUR KHAS DISTRICT          DIGRI TALUKA                    106626\n",
       "                                                                         HUSSAIN BUX MARI TALUKA          83219\n",
       "                                                                         JHUDO TALUKA                    103811\n",
       "                                                                         KOT GHULAM MUHAMMAD TALUKA      161501\n",
       "                                                                         MIRPUR KHAS TALUKA               11735\n",
       "                                                                         SHUJAABAD TALUKA                 88634\n",
       "                                                                         SINDHRI TALUKA                  150628\n",
       "                                           THARPARKAR DISTRICT           CHACHRO TALUKA                  167235\n",
       "                                                                         DAHLI TALUKA                    165289\n",
       "                                                                         DIPLO TALUKA                     82344\n",
       "                                                                         ISLAMKOT TALUKA                 127399\n",
       "                                                                         KALOI TALUKA                     73651\n",
       "                                                                         MITHI TALUKA                    105440\n",
       "                                                                         NAGAR PARKAR TALUKA             153106\n",
       "                                           UMER KOT DISTRICT             KUNRI TALUKA                    130349\n",
       "                                                                         PITHORO TALUKA                   71204\n",
       "                                                                         SAMARO TALUKA                   105274\n",
       "                                                                         UMER KOT TALUKA                 246506\n",
       "             Shaheed Benazirabad Division  NAUSHAHRO FEROZE DISTRICT     BHIRIA TALUKA                   165747\n",
       "                                                                         KANDIARO TALUKA                 200572\n",
       "                                                                         MEHRABPUR TALUKA                124659\n",
       "                                                                         MORO TALUKA                     204218\n",
       "                                                                         NAUSHAHRO FEROZE TALUKA         199971\n",
       "                                           SANGHAR DISTRICT              JAM NAWAZ ALI TALUKA             77287\n",
       "                                                                         KHIPRO TALUKA                   199509\n",
       "                                                                         SANGHAR TALUKA                  203861\n",
       "                                                                         SHAHDADPUR TALUKA               219140\n",
       "                                                                         SINJHORO TALUKA                 163057\n",
       "                                                                         TANDO ADAM TALUKA               125711\n",
       "                                           SHAHEED BENAZIRABAD DISTRICT  DAUR TALUKA                     276514\n",
       "                                                                         KAZI AHMED TALUKA               208849\n",
       "                                                                         NAWABSHAH TALUKA                 92058\n",
       "                                                                         SAKRAND TALUKA                  242804\n",
       "             Sukkur Division               GHOTKI DISTRICT               DAHARKI TALUKA                  143539\n",
       "                                                                         GHOTKI TALUKA                   238468\n",
       "                                                                         KHANGARH TALUKA                  86173\n",
       "                                                                         MIRPUR MATHELO TALUKA           155999\n",
       "                                                                         UBAURO TALUKA                   186117\n",
       "                                           KHAIRPUR DISTRICT             FAIZ GANJ TALUKA                130530\n",
       "                                                                         GAMBAT TALUKA                   132370\n",
       "                                                                         KHAIRPUR TALUKA                 150316\n",
       "                                                                         KINGRI TALUKA                   184360\n",
       "                                                                         KOT DIJI TALUKA                 182369\n",
       "                                                                         MIRWAH TALUKA                   183203\n",
       "                                                                         NARA TALUKA                      92387\n",
       "                                                                         SOBHO DERO TALUKA               127000\n",
       "                                           SUKKUR DISTRICT               NEW SUKKUR TALUKA                29374\n",
       "                                                                         PANO AQIL TALUKA                205976\n",
       "                                                                         ROHRI TALUKA                    166453\n",
       "                                                                         SALEHPAT TALUKA                  64646\n",
       "                                                                         SUKKUR CITY TALUKA                2833\n",
       "Name: POPULATION 1998 (RURAL), dtype: int64"
      ]
     },
     "execution_count": 51,
     "metadata": {},
     "output_type": "execute_result"
    }
   ],
   "source": [
    "df.groupby(['PROVINCE','DIVISION','DISTRICT','SUB DIVISION'])['POPULATION 1998 (RURAL)'].max()"
   ]
  },
  {
   "cell_type": "code",
   "execution_count": null,
   "id": "91900558",
   "metadata": {},
   "outputs": [
    {
     "data": {
      "application/vnd.microsoft.datawrangler.viewer.v0+json": {
       "columns": [
        {
         "name": "('PROVINCE', 'DIVISION', 'DISTRICT', 'SUB DIVISION')",
         "rawType": "object",
         "type": "unknown"
        },
        {
         "name": "POPULATION 1998 (URBAN)",
         "rawType": "float64",
         "type": "float"
        }
       ],
       "ref": "b31485e9-605c-405e-ab7b-cc627530e4b8",
       "rows": [
        [
         "('BALOCHISTAN', 'Kalat Division', 'KALAT DISTRICT', 'GAZG SUB-TEHSIL')",
         "0.0"
        ],
        [
         "('BALOCHISTAN', 'Kalat Division', 'KALAT DISTRICT', 'JOHAN SUB-TEHSIL')",
         "0.0"
        ],
        [
         "('BALOCHISTAN', 'Kalat Division', 'KALAT DISTRICT', 'KALAT TEHSIL')",
         "22646.0"
        ],
        [
         "('BALOCHISTAN', 'Kalat Division', 'KALAT DISTRICT', 'MANGOCHAR TEHSIL')",
         "0.0"
        ],
        [
         "('BALOCHISTAN', 'Kalat Division', 'KALAT DISTRICT', 'SURAB TEHSIL')",
         "11148.0"
        ],
        [
         "('BALOCHISTAN', 'Kalat Division', 'KHUZDAR DISTRICT', 'ARANJI SUB-TEHSIL')",
         "0.0"
        ],
        [
         "('BALOCHISTAN', 'Kalat Division', 'KHUZDAR DISTRICT', 'KARAKH SUB-TEHSIL')",
         "0.0"
        ],
        [
         "('BALOCHISTAN', 'Kalat Division', 'KHUZDAR DISTRICT', 'KHUZDAR TEHSIL')",
         "91057.0"
        ],
        [
         "('BALOCHISTAN', 'Kalat Division', 'KHUZDAR DISTRICT', 'MOOLA SUB-TEHSIL')",
         "0.0"
        ],
        [
         "('BALOCHISTAN', 'Kalat Division', 'KHUZDAR DISTRICT', 'NAL SUB-TEHSIL')",
         "0.0"
        ],
        [
         "('BALOCHISTAN', 'Kalat Division', 'KHUZDAR DISTRICT', 'ORNACH SUB-TEHSIl')",
         "0.0"
        ],
        [
         "('BALOCHISTAN', 'Kalat Division', 'KHUZDAR DISTRICT', 'SAROONA SUB-TEHSIL')",
         "0.0"
        ],
        [
         "('BALOCHISTAN', 'Kalat Division', 'KHUZDAR DISTRICT', 'WADH TEHSIL')",
         "13794.0"
        ],
        [
         "('BALOCHISTAN', 'Kalat Division', 'KHUZDAR DISTRICT', 'ZEHRI TEHSIL')",
         "13397.0"
        ],
        [
         "('BALOCHISTAN', 'Kalat Division', 'MASTUNG DISTRICT', 'DASHT TEHSIL')",
         "0.0"
        ],
        [
         "('BALOCHISTAN', 'Kalat Division', 'MASTUNG DISTRICT', 'KHAD KOCHA SUB-TEHSIL')",
         "0.0"
        ],
        [
         "('BALOCHISTAN', 'Kalat Division', 'MASTUNG DISTRICT', 'KIRDGAP SUB-TEHSIL')",
         "0.0"
        ],
        [
         "('BALOCHISTAN', 'Kalat Division', 'MASTUNG DISTRICT', 'MASTUNG TEHSIL')",
         "24131.0"
        ],
        [
         "('BALOCHISTAN', 'Makran Division', 'AWARAN DISTRICT', 'AWARAN TEHSIL')",
         "0.0"
        ],
        [
         "('BALOCHISTAN', 'Makran Division', 'AWARAN DISTRICT', 'GISHKORE SUB-TEHSIL')",
         "0.0"
        ],
        [
         "('BALOCHISTAN', 'Makran Division', 'AWARAN DISTRICT', 'JHAL JAO SUB-TEHSIL')",
         "0.0"
        ],
        [
         "('BALOCHISTAN', 'Makran Division', 'AWARAN DISTRICT', 'MASHKAI TEHSIL')",
         "0.0"
        ],
        [
         "('BALOCHISTAN', 'Makran Division', 'GWADAR DISTRICT', 'GWADAR TEHSIL')",
         "45021.0"
        ],
        [
         "('BALOCHISTAN', 'Makran Division', 'GWADAR DISTRICT', 'JIWANI TEHSIL')",
         "14072.0"
        ],
        [
         "('BALOCHISTAN', 'Makran Division', 'GWADAR DISTRICT', 'ORMARA TEHSIL')",
         "11521.0"
        ],
        [
         "('BALOCHISTAN', 'Makran Division', 'GWADAR DISTRICT', 'PASNI TEHSIL')",
         "29538.0"
        ],
        [
         "('BALOCHISTAN', 'Makran Division', 'GWADAR DISTRICT', 'SUNTSER SUB-TEHSIL')",
         "0.0"
        ],
        [
         "('BALOCHISTAN', 'Makran Division', 'KECH DISTRICT', 'BALNIGORE SUB-TEHSIL')",
         "0.0"
        ],
        [
         "('BALOCHISTAN', 'Makran Division', 'KECH DISTRICT', 'BULAIDA SUB-TEHSIL')",
         "0.0"
        ],
        [
         "('BALOCHISTAN', 'Makran Division', 'KECH DISTRICT', 'DASHT SUB-TEHSIL')",
         "0.0"
        ],
        [
         "('BALOCHISTAN', 'Makran Division', 'KECH DISTRICT', 'HOSHAB SUB-TEHSIL')",
         "0.0"
        ],
        [
         "('BALOCHISTAN', 'Makran Division', 'KECH DISTRICT', 'KECH (TURBAT) TEHSIL')",
         "68603.0"
        ],
        [
         "('BALOCHISTAN', 'Makran Division', 'KECH DISTRICT', 'MAND SUB-TEHSIL')",
         "0.0"
        ],
        [
         "('BALOCHISTAN', 'Makran Division', 'KECH DISTRICT', 'TUMP SUB-TEHSIL')",
         "0.0"
        ],
        [
         "('BALOCHISTAN', 'Makran Division', 'KECH DISTRICT', 'ZAMORAN SUB-TEHSIL')",
         "0.0"
        ],
        [
         "('BALOCHISTAN', 'Makran Division', 'KHARAN DISTRICT', 'KHARAN TEHSIL')",
         "27806.0"
        ],
        [
         "('BALOCHISTAN', 'Makran Division', 'KHARAN DISTRICT', 'SAR KHARAN TEHSIL')",
         "0.0"
        ],
        [
         "('BALOCHISTAN', 'Makran Division', 'KHARAN DISTRICT', 'SUB TEHSIL TOHMULK')",
         "0.0"
        ],
        [
         "('BALOCHISTAN', 'Makran Division', 'LASBELA DISTRICT', 'BELA TEHSIL')",
         "16705.0"
        ],
        [
         "('BALOCHISTAN', 'Makran Division', 'LASBELA DISTRICT', 'DUREJI TEHSIL')",
         "0.0"
        ],
        [
         "('BALOCHISTAN', 'Makran Division', 'LASBELA DISTRICT', 'GADDANI TEHSIL')",
         "11068.0"
        ],
        [
         "('BALOCHISTAN', 'Makran Division', 'LASBELA DISTRICT', 'HUB TEHSIL')",
         "62763.0"
        ],
        [
         "('BALOCHISTAN', 'Makran Division', 'LASBELA DISTRICT', 'LAKHRA TEHSIL')",
         "0.0"
        ],
        [
         "('BALOCHISTAN', 'Makran Division', 'LASBELA DISTRICT', 'LIARI TEHSIL')",
         "0.0"
        ],
        [
         "('BALOCHISTAN', 'Makran Division', 'LASBELA DISTRICT', 'SONMIANI/WINDER TEHSIL')",
         "11569.0"
        ],
        [
         "('BALOCHISTAN', 'Makran Division', 'LASBELA DISTRICT', 'UTHAL TEHSIL')",
         "13319.0"
        ],
        [
         "('BALOCHISTAN', 'Makran Division', 'PANJGUR DISTRICT', 'GICHK SUB-TEHSIL')",
         "0.0"
        ],
        [
         "('BALOCHISTAN', 'Makran Division', 'PANJGUR DISTRICT', 'GOWARGO TEHSIL')",
         "0.0"
        ],
        [
         "('BALOCHISTAN', 'Makran Division', 'PANJGUR DISTRICT', 'PANJGUR TEHSIL')",
         "21297.0"
        ],
        [
         "('BALOCHISTAN', 'Makran Division', 'PANJGUR DISTRICT', 'PAROME TEHSIL')",
         "0.0"
        ]
       ],
       "shape": {
        "columns": 1,
        "rows": 528
       }
      },
      "text/plain": [
       "PROVINCE     DIVISION                      DISTRICT                      SUB DIVISION               \n",
       "BALOCHISTAN  Kalat Division                KALAT DISTRICT                GAZG SUB-TEHSIL                      0.0\n",
       "                                                                         JOHAN SUB-TEHSIL                     0.0\n",
       "                                                                         KALAT TEHSIL                     22646.0\n",
       "                                                                         MANGOCHAR TEHSIL                     0.0\n",
       "                                                                         SURAB TEHSIL                     11148.0\n",
       "                                           KHUZDAR DISTRICT              ARANJI SUB-TEHSIL                    0.0\n",
       "                                                                         KARAKH SUB-TEHSIL                    0.0\n",
       "                                                                         KHUZDAR TEHSIL                   91057.0\n",
       "                                                                         MOOLA SUB-TEHSIL                     0.0\n",
       "                                                                         NAL SUB-TEHSIL                       0.0\n",
       "                                                                         ORNACH SUB-TEHSIl                    0.0\n",
       "                                                                         SAROONA SUB-TEHSIL                   0.0\n",
       "                                                                         WADH TEHSIL                      13794.0\n",
       "                                                                         ZEHRI TEHSIL                     13397.0\n",
       "                                           MASTUNG DISTRICT              DASHT TEHSIL                         0.0\n",
       "                                                                         KHAD KOCHA SUB-TEHSIL                0.0\n",
       "                                                                         KIRDGAP SUB-TEHSIL                   0.0\n",
       "                                                                         MASTUNG TEHSIL                   24131.0\n",
       "             Makran Division               AWARAN DISTRICT               AWARAN TEHSIL                        0.0\n",
       "                                                                         GISHKORE SUB-TEHSIL                  0.0\n",
       "                                                                         JHAL JAO SUB-TEHSIL                  0.0\n",
       "                                                                         MASHKAI TEHSIL                       0.0\n",
       "                                           GWADAR DISTRICT               GWADAR TEHSIL                    45021.0\n",
       "                                                                         JIWANI TEHSIL                    14072.0\n",
       "                                                                         ORMARA TEHSIL                    11521.0\n",
       "                                                                         PASNI TEHSIL                     29538.0\n",
       "                                                                         SUNTSER SUB-TEHSIL                   0.0\n",
       "                                           KECH DISTRICT                 BALNIGORE SUB-TEHSIL                 0.0\n",
       "                                                                         BULAIDA SUB-TEHSIL                   0.0\n",
       "                                                                         DASHT SUB-TEHSIL                     0.0\n",
       "                                                                         HOSHAB SUB-TEHSIL                    0.0\n",
       "                                                                         KECH (TURBAT) TEHSIL             68603.0\n",
       "                                                                         MAND SUB-TEHSIL                      0.0\n",
       "                                                                         TUMP SUB-TEHSIL                      0.0\n",
       "                                                                         ZAMORAN SUB-TEHSIL                   0.0\n",
       "                                           KHARAN DISTRICT               KHARAN TEHSIL                    27806.0\n",
       "                                                                         SAR KHARAN TEHSIL                    0.0\n",
       "                                                                         SUB TEHSIL TOHMULK                   0.0\n",
       "                                           LASBELA DISTRICT              BELA TEHSIL                      16705.0\n",
       "                                                                         DUREJI TEHSIL                        0.0\n",
       "                                                                         GADDANI TEHSIL                   11068.0\n",
       "                                                                         HUB TEHSIL                       62763.0\n",
       "                                                                         LAKHRA TEHSIL                        0.0\n",
       "                                                                         LIARI TEHSIL                         0.0\n",
       "                                                                         SONMIANI/WINDER TEHSIL           11569.0\n",
       "                                                                         UTHAL TEHSIL                     13319.0\n",
       "                                           PANJGUR DISTRICT              GICHK SUB-TEHSIL                     0.0\n",
       "                                                                         GOWARGO TEHSIL                       0.0\n",
       "                                                                         PANJGUR TEHSIL                   21297.0\n",
       "                                                                         PAROME TEHSIL                        0.0\n",
       "                                           WASHUK DISTRICT               BESIMA SUB-TEHSIL                    0.0\n",
       "                                                                         MASHKHEL SUB-TEHSIL                  0.0\n",
       "                                                                         NAG SUB-TEHSIL                       0.0\n",
       "                                                                         SHAHGORI SUB-TEHSIL                  0.0\n",
       "                                                                         WASHUK SUB-TEHSIL                    0.0\n",
       "             Naseerabad Division           JAFFARABAD DISTRICT           GANDHAKA TEHSIL                      0.0\n",
       "                                                                         JHAT PAT TEHSIL                  38371.0\n",
       "                                                                         USTA MUHAMMAD TEHSIL             38946.0\n",
       "                                           JHAL MAGSI DISTRICT           GANDAWA TEHSIL                    8097.0\n",
       "                                                                         JHAL MAGSI TEHSIL                    0.0\n",
       "                                                                         MIRPUR SUB-TEHSIL                    0.0\n",
       "                                           KACHHI DISTRICT               BALANARI SUB-TEHSIL                  0.0\n",
       "                                                                         BHAG TEHSIL                      12181.0\n",
       "                                                                         DHADAR TEHSIL                    12818.0\n",
       "                                                                         KHATTAN SUB-TEHSIL                   0.0\n",
       "                                                                         MACH SUB-TEHSIL                  14488.0\n",
       "                                                                         SANNI SUB-TEHSIL                     0.0\n",
       "                                           NASIRABAD DISTRICT            BABA KOT TEHSIL                      0.0\n",
       "                                                                         CHATTAR SUB-TEHSIL                   0.0\n",
       "                                                                         DERA MURAD JAMALI TEHSIL         38431.0\n",
       "                                                                         TAMBOO TEHSIL                        0.0\n",
       "                                           SOHBATPUR DISTRICT            FARIDABAD TEHSIL                     0.0\n",
       "                                                                         SANHRI TEHSIL                        0.0\n",
       "                                                                         SOHBATPUR TEHSIL                  8206.0\n",
       "             Quetta Division               CHAGAI DISTRICT               CHAGAI SUB-TEHSIL                    0.0\n",
       "                                                                         DALBANDIN TEHSIL                 11948.0\n",
       "                                                                         NOKUNDI SUB-TEHSIL                   0.0\n",
       "                                                                         TAFTAN SUB-TEHSIL                    0.0\n",
       "                                           DERA BUGTI DISTRICT           BAIKER SUB-TEHSIL                    0.0\n",
       "                                                                         DERA BUGTI TEHSIL                15495.0\n",
       "                                                                         LOTI TEHSIL                          0.0\n",
       "                                                                         MALAM SUB-TEHSIL                     0.0\n",
       "                                                                         PHELAWAGH TEHSIL                     0.0\n",
       "                                                                         PIR KOH SUB-TEHSIL                   0.0\n",
       "                                                                         SANGSILLAH SUB-TEHSIL                0.0\n",
       "                                                                         SUI TEHSIL                           0.0\n",
       "                                           HARNAI DISTRICT               HARNAI TEHSIL                     9359.0\n",
       "                                                                         KHOAST SUB-TEHSIL                    0.0\n",
       "                                                                         SHAHRIG TEHSIL                       0.0\n",
       "                                           KILLA ABDULLAH DISTRICT       CHAMAN TEHSIL                    56792.0\n",
       "                                                                         DOBANDI SUB-TEHSIL                   0.0\n",
       "                                                                         GULISTAN TEHSIL                      0.0\n",
       "                                                                         KILLA ABDULLAH TEHSIL                0.0\n",
       "                                           KOHLU DISTRICT                GRISANI SUB-TEHSIL                   0.0\n",
       "                                                                         KAHAN TEHSIL                         0.0\n",
       "                                                                         KOHLU TEHSIL                      9665.0\n",
       "                                                                         MAWAND TEHSIL                        0.0\n",
       "                                           NUSHKI DISTRICT               NUSHKI TEHSIL                    23948.0\n",
       "                                           PISHIN DISTRICT               BARSHORE SUB-TEHSIL                  0.0\n",
       "                                                                         HURRAM ZAI SUB-TEHSIL                0.0\n",
       "                                                                         KAREZAT SUB-TEHSIL                   0.0\n",
       "                                                                         PISHIN TEHSIL                    22955.0\n",
       "                                                                         SARANAN TEHSIL                       0.0\n",
       "                                           QUETTA DISTRICT               PANJ PAI SUB-TEHSIL                  0.0\n",
       "                                                                         QUETTA CITY TEHSIL              565137.0\n",
       "                                                                         QUETTA SADDAR TEHSIL                 0.0\n",
       "                                           SIBI DISTRICT                 KOT MANDAI SUB-TEHSIL                0.0\n",
       "                                                                         LEHRI TEHSIL                         0.0\n",
       "                                                                         SANGAN SUB-TEHSIL                    0.0\n",
       "                                                                         SIBI TEHSIL                      48467.0\n",
       "                                           ZIARAT DISTRICT               SINJAWI SUB-TEHSIL                   0.0\n",
       "                                                                         ZIARAT TEHSIL                      636.0\n",
       "             Zhob Division                 BARKHAN DISTRICT              BARKHAN TEHSIL                    7670.0\n",
       "                                           KILLA SAIFULLAH DISTRICT      BADINI SUB-TEHSIL                    0.0\n",
       "                                                                         KAN MEHTARZAI SUB-TEHSIL             0.0\n",
       "                                                                         KILLA SAIFULLAH TEHSIL            8129.0\n",
       "                                                                         LOIBAND TEHSIL                       0.0\n",
       "                                                                         MUSLIM BAGH TEHSIL               17170.0\n",
       "                                                                         SHINKI SUB-TEHSIL                    0.0\n",
       "                                           LORALAI DISTRICT              DUKI TEHSIL                       5109.0\n",
       "                                                                         LORALAI\\BORI TEHSIL              29875.0\n",
       "                                                                         MEKHTAR SUB-TEHSIL                   0.0\n",
       "                                           MUSAKHEL DISTRICT             DRUG TEHSIL                          0.0\n",
       "                                                                         KINGRI TEHSIL                        0.0\n",
       "                                                                         MUSAKHEL TEHSIL                  11589.0\n",
       "                                           SHERANI DISTRICT              SHERANI TEHSIL                       0.0\n",
       "                                           ZHOB DISTRICT                 ASHWAT SUB-TEHSIL                    0.0\n",
       "                                                                         KASHATOO SUB-TEHSIL                  0.0\n",
       "                                                                         QAMAR DIN KAREZ TEHSIL               0.0\n",
       "                                                                         SAMBAZA SUB-TEHSIL                   0.0\n",
       "                                                                         ZHOB TEHSIL                      43843.0\n",
       "KPK          BANNU DIVISION                BANNU DISTRICT                BANNU TEHSIL                     47676.0\n",
       "                                                                         DOMEL TEHSIL                         0.0\n",
       "                                           LAKKI MARWAT DISTRICT         LAKKI MARWAT TEHSIL              30467.0\n",
       "                                                                         SARAI NAURANG TEHSIL             16411.0\n",
       "             DERA ISMAIL KHAN DIVISION     DERA ISMAIL KHAN DISTRICT     DARABAN TEHSIL                       0.0\n",
       "                                                                         DERA ISMAIL KHAN TEHSIL          92114.0\n",
       "                                                                         KULACHI TEHSIL                   19113.0\n",
       "                                                                         PAHARPUR TEHSIL                  14580.0\n",
       "                                                                         PAROA TEHSIL                         0.0\n",
       "                                           TANK DISTRICT                 TANK TEHSIL                      35741.0\n",
       "             HAZARA DIVISION               ABBOTTABAD DISTRICT           ABBOTTABAD TEHSIL               126279.0\n",
       "                                                                         ALLAI TEHSIL                         0.0\n",
       "                                                                         BATAGRAM TEHSIL                      0.0\n",
       "                                                                         HAVELIAN TEHSIL                  31625.0\n",
       "                                           HARIPUR DISTRICT              GHAZI TEHSIL                         0.0\n",
       "                                                                         HARIPUR TEHSIL                   82735.0\n",
       "                                           KOHISTAN DISTRICT             DASSU TEHSIL                         0.0\n",
       "                                                                         KANDIA TEHSIL                        0.0\n",
       "                                                                         PALAS TEHSIL                         0.0\n",
       "                                                                         PATTAN TEHSIL                        0.0\n",
       "                                           MANSEHRA DISTRICT             BALA KOT TEHSIL                      0.0\n",
       "                                                                         MANSEHRA TEHSIL                  61376.0\n",
       "                                                                         OGHI TEHSIL                          0.0\n",
       "                                           TORGHAR DISTRICT              JUDBA TEHSIL                         0.0\n",
       "                                                                         KHANDER TEHSIL                       0.0\n",
       "             KOHAT DIVISION                HANGU DISTRICT                HANGU TEHSIL                     31022.0\n",
       "                                                                         TALL TEHSIL                      33195.0\n",
       "                                           KARAK DISTRICT                BANDA DAUD SHAH TEHSIL               0.0\n",
       "                                                                         KARAK TEHSIL                     27893.0\n",
       "                                                                         TAKHT-E-NASRATI TEHSIL               0.0\n",
       "                                           KOHAT DISTRICT                KOHAT TEHSIL                    126627.0\n",
       "                                                                         LACHI TEHSIL                     25286.0\n",
       "             MALAKAND DIVISION             BUNER DISTRICT                DAGGAR TEHSIL                        0.0\n",
       "                                                                         GAGRA TEHSIL                         0.0\n",
       "                                                                         KHADO KHEL TEHSIL                    0.0\n",
       "                                                                         MANDANR TEHSIL                       0.0\n",
       "                                           CHITRAL DISTRICT              CHITRAL TEHSIL                   30622.0\n",
       "                                                                         MASTUJ TEHSIL                        0.0\n",
       "                                           LOWER DIR DISTRICT            ADENZAI TEHSIL                       0.0\n",
       "                                                                         LAL QILA TEHSIL                      0.0\n",
       "                                                                         SAMARBAGH TEHSIL                     0.0\n",
       "                                                                         TEMERGARA TEHSIL                 44335.0\n",
       "                                           SHANGLA DISTRICT              ALPURI TEHSIL                        0.0\n",
       "                                                                         BISHAM TEHSIL                        0.0\n",
       "                                                                         PURAN TEHSIL                         0.0\n",
       "                                           SWAT DISTRICT                 BABUZAI TEHSIL                  173868.0\n",
       "                                                                         BARIKOT TEHSIL                       0.0\n",
       "                                                                         BEHRAIN TEHSIL                       0.0\n",
       "                                                                         CHARBAGH TEHSIL                      0.0\n",
       "                                                                         KABAL TEHSIL                         0.0\n",
       "                                                                         KHAWAZAKHELA TEHSIL                  0.0\n",
       "                                                                         MATTA TEHSIL                         0.0\n",
       "                                           UPPER DIR DISTRICT            DIR TEHSIL                       22901.0\n",
       "                                                                         MALAKAND PROTECTED AREA          43179.0\n",
       "                                                                         SAM RANI ZAI TEHSIL                  0.0\n",
       "                                                                         SHARINGAL TEHSIL                     0.0\n",
       "                                                                         SWAT RANI ZAI TEHSIL             43179.0\n",
       "                                                                         WARI TEHSIL                          0.0\n",
       "             MARDAN DIVISION               MARDAN DISTRICT               KATLANG TEHSIL                       0.0\n",
       "                                                                         MARDAN TEHSIL                   245926.0\n",
       "                                                                         TAKHT BHAI TEHSIL                49202.0\n",
       "                                           SWABI DISTRICT                LAHOR TEHSIL                     27861.0\n",
       "                                                                         RAZAR TEHSIL                     18082.0\n",
       "                                                                         SWABI TEHSIL                    102813.0\n",
       "                                                                         TOPI TEHSIL                      30458.0\n",
       "             PESHAWAR DIVISION             CHARSADDA DISTRICT            CHARSADDA TEHSIL                112066.0\n",
       "                                                                         SHABQADAR TEHSIL                 55439.0\n",
       "                                                                         TANGI TEHSIL                     25346.0\n",
       "                                           NOWSHERA DISTRICT             JEHANGIRA TEHSIL                 50645.0\n",
       "                                                                         PABBI TEHSIL                     31153.0\n",
       "                                           PESHAWAR DISTRICT             PESHAWAR TEHSIL                 982816.0\n",
       "KPK/FATA     BANNU DIVISION                FR BANNU DISTRICT             FR BANNU                             0.0\n",
       "                                           FR LAKKI MARWAT DISTRICT      FR LAKKI MARWAT                      0.0\n",
       "                                           NORTH WAZIRISTAN DISTRICT     DATTA KHEL TEHSIL                    0.0\n",
       "                                                                         DOSSALI TEHSIL                       0.0\n",
       "                                                                         GHARYUM TEHSIL                       0.0\n",
       "                                                                         GHULAM KHAN TEHSIL                   0.0\n",
       "                                                                         MIR ALI TEHSIL                       0.0\n",
       "                                                                         MIRAN SHAH TEHSIL                 5965.0\n",
       "                                                                         RAZMAK TEHSIL                        0.0\n",
       "                                                                         SHEWA TEHSIL                         0.0\n",
       "                                                                         SPINWAM TEHSIL                       0.0\n",
       "             DERA ISMAIL KHAN DIVISION     FR D.I.KHAN DISTRICT          FR D.I.KHAN                          0.0\n",
       "                                           SOUTH WAZIRISTAN DISTRICT     BIRMIL TEHSIL                        0.0\n",
       "                                                                         LADHA TEHSIL                         0.0\n",
       "                                                                         MAKIN TEHSIL                         0.0\n",
       "                                                                         SARAROGHA TEHSIL                     0.0\n",
       "                                                                         SERWEKAI TEHSIL                      0.0\n",
       "                                                                         TIARZA TEHSIL                        0.0\n",
       "                                                                         TOI KHULLA TEHSIL                    0.0\n",
       "                                                                         WANA TEHSIL                          0.0\n",
       "             KOHAT DIVISION                FR KOHAT DISTRICT             FR KOHAT                             0.0\n",
       "                                           KURRAM DISTRICT               LOWER KURRAM TEHSIL              17103.0\n",
       "                                                                         UPPER KURRAM TEHSIL               8042.0\n",
       "                                           ORAKZAI DISTRICT              CENTRAL TEHSIL                       0.0\n",
       "                                                                         ISMAIL ZAI TEHSIL                    0.0\n",
       "                                                                         LOWER TEHSIL                         0.0\n",
       "                                                                         UPPER TEHSIL                         0.0\n",
       "             MALAKAND DIVISION             BAJAUR DISTRICT               BAR CHAMER KAND TEHSIL               0.0\n",
       "                                                                         BARANG TEHSIL                        0.0\n",
       "                                                                         KHAR BAJAUR TEHSIL                   0.0\n",
       "                                                                         MAMUND TEHSIL                        0.0\n",
       "                                                                         NAWAGAI TEHSIL                       0.0\n",
       "                                                                         SALARZAI TEHSIL                      0.0\n",
       "                                                                         UTMAN KHEL TEHSIL                    0.0\n",
       "             PESHAWAR DIVISION             FR PESHAWAR DISTRICT          FR PESHAWAR                          0.0\n",
       "                                           KHYBER DISTRICT               BARA TEHSIL                          0.0\n",
       "                                                                         JAMRUD TEHSIL                    32039.0\n",
       "                                                                         LANDI KOTAL TEHSIL               22324.0\n",
       "                                                                         MULLA GORI TEHSIL                    0.0\n",
       "                                           MOHMAND DISTRICT              AMBAR UTMAN KHEL TEHSIL              0.0\n",
       "                                                                         HALIM ZAI TEHSIL                     0.0\n",
       "                                                                         PINDIALI TEHSIL                      0.0\n",
       "                                                                         PRANG GHAR TEHSIL                    0.0\n",
       "                                                                         SAFI TEHSIL                          0.0\n",
       "                                                                         UPPER MOHMAND TEHSIL                 0.0\n",
       "                                                                         YAKE GHUND TEHSIL                    0.0\n",
       "PUNJAB       BAHAWALPUR DIVISION           BAHAWALNAGAR DISTRICT         BAHAWALNAGAR TEHSIL             133785.0\n",
       "                                                                         CHISHTIAN TEHSIL                102287.0\n",
       "                                                                         FORT ABBAS TEHSIL                34637.0\n",
       "                                                                         HAROONABAD TEHSIL                84424.0\n",
       "                                                                         MINCHINABAD TEHSIL               37668.0\n",
       "                                           BAHAWALPUR DISTRICT           AHMADPUR EAST TEHSIL            116891.0\n",
       "                                                                         BAHAWALPUR CITY TEHSIL          356626.0\n",
       "                                                                         BAHAWALPUR SADDAR TEHSIL         72610.0\n",
       "                                                                         HASILPUR TEHSIL                  71295.0\n",
       "                                                                         KHAIRPUR TAMEWALI TEHSIL         26854.0\n",
       "                                                                         YAZMAN TEHSIL                    21028.0\n",
       "                                           RAHIM YAR KHAN DISTRICT       KHANPUR TEHSIL                  149939.0\n",
       "                                                                         LIAQUATPUR TEHSIL                32858.0\n",
       "                                                                         RAHIM YAR KHAN TEHSIL           274666.0\n",
       "                                                                         SADIQABAD TEHSIL                159119.0\n",
       "             D.G.KHAN DIVISION             DERA GHAZI KHAN DISTRICT      DE-EXCLUDED AREA D.G KHAN            0.0\n",
       "                                                                         DERA GHAZI KHAN TEHSIL          190542.0\n",
       "                                                                         KOT CHHUTTA TEHSIL                   0.0\n",
       "                                                                         TAUNSA TEHSIL                    38297.0\n",
       "                                           LAYYAH DISTRICT               CHOUBARA TEHSIL                      0.0\n",
       "                                                                         LAYYAH TEHSIL                   105860.0\n",
       "                                           MUZAFFARGARH DISTRICT         ALIPUR TEHSIL                    28601.0\n",
       "                                                                         JATOI TEHSIL                     52774.0\n",
       "                                                                         KOT ADDU TEHSIL                 119667.0\n",
       "                                                                         MUZAFFARGARH TEHSIL             140303.0\n",
       "                                           RAJANPUR DISTRICT             DE-EXCLUDED AREA RAJANPUR            0.0\n",
       "                                                                         JAMPUR TEHSIL                    67713.0\n",
       "                                                                         RAJANPUR TEHSIL                  81312.0\n",
       "                                                                         ROJHAN TEHSIL                    11130.0\n",
       "             FAISALABAD DIVISION           CHINIOT DISTRICT              BHAWANA TEHSIL                   13997.0\n",
       "                                                                         CHINIOT TEHSIL                  172522.0\n",
       "                                                                         LALIAN TEHSIL                    72664.0\n",
       "                                           FAISALABAD DISTRICT           CHAK JHUMRA TEHSIL               32111.0\n",
       "                                                                         FAISALABAD CITY TEHSIL         2008861.0\n",
       "                                                                         FAISALABAD SADAR TEHSIL          23126.0\n",
       "                                                                         JARANWALA TEHSIL                136997.0\n",
       "                                                                         SAMMUNDRI TEHSIL                 54908.0\n",
       "                                                                         TANDLIAN WALA TEHSIL             62430.0\n",
       "                                           JHANG DISTRICT                18-HAZARI TEHSIL                     0.0\n",
       "                                                                         AHMADPUR SIAL TEHSIL             46348.0\n",
       "                                                                         JHANG TEHSIL                    304673.0\n",
       "                                                                         SHORKOT TEHSIL                   52786.0\n",
       "                                           TOBA TEK SINGH DISTRICT       GOJRA TEHSIL                    117892.0\n",
       "                                                                         KAMALIA TEHSIL                   97324.0\n",
       "                                                                         PIRMAHAL TEHSIL                  30257.0\n",
       "                                                                         TOBA TEK SINGH TEHSIL            59938.0\n",
       "             GUJRANWALA DIVISION           GUJRANWALA DISTRICT           GUJRANWALA CITY TEHSIL           94468.0\n",
       "                                                                         GUJRANWALA SADDAR TEHSIL       1225602.0\n",
       "                                                                         KAMOKE TEHSIL                   152288.0\n",
       "                                                                         NOWSHERA VIRKAN TEHSIL           33940.0\n",
       "                                                                         WAZIRABAD TEHSIL                212740.0\n",
       "                                           GUJRAT DISTRICT               GUJRAT TEHSIL                   363203.0\n",
       "                                                                         KHARIAN TEHSIL                  167803.0\n",
       "                                                                         SARAI ALAMGIR TEHSIL             37166.0\n",
       "                                           HAFIZABAD DISTRICT            HAFIZABAD TEHSIL                147705.0\n",
       "                                                                         PINDI BHATTIAN TEHSIL            79410.0\n",
       "                                           MANDI BAHAUDDIN DISTRICT      MALAKWAL TEHSIL                  31258.0\n",
       "                                                                         MANDI BAHAUDDIN TEHSIL          113502.0\n",
       "                                                                         PHALIA TEHSIL                    31661.0\n",
       "                                           NAROWAL DISTRICT              NAROWAL TEHSIL                   83815.0\n",
       "                                                                         SHAKARGARH TEHSIL                50747.0\n",
       "                                                                         ZAFARWAL TEHSIL                  19824.0\n",
       "                                           SIALKOT DISTRICT              DASKA TEHSIL                    123357.0\n",
       "                                                                         PASRUR TEHSIL                    77695.0\n",
       "                                                                         SAMBRIAL TEHSIL                  72401.0\n",
       "                                                                         SIALKOT TEHSIL                  439876.0\n",
       "             LAHORE DIVISION               KASUR DISTRICT                CHUNIAN TEHSIL                   60873.0\n",
       "                                                                         KASUR TEHSIL                    326889.0\n",
       "                                                                         KOT RADHA KISHAN TEHSIL          39555.0\n",
       "                                                                         PATTOKI TEHSIL                  115074.0\n",
       "                                           LAHORE DISTRICT               LAHORE CANTT TEHSIL             735997.0\n",
       "                                                                         LAHORE CITY TEHSIL             2075867.0\n",
       "                                                                         MODEL TOWN TEHSIL              1136192.0\n",
       "                                                                         RAIWIND TEHSIL                   27314.0\n",
       "                                                                         SHALIMAR TEHSIL                1233718.0\n",
       "                                           NANKANA SAHIB DISTRICT        NANKANA SAHIB TEHSIL             68520.0\n",
       "                                                                         SANGLA HILL TEHSIL               50368.0\n",
       "                                                                         SHAH KOT TEHSIL                  39263.0\n",
       "                                           SHEIKHUPURA DISTRICT          FEROZEWALA TEHSIL               118958.0\n",
       "                                                                         MURIDKE TEHSIL                  143296.0\n",
       "                                                                         SAFDARABAD TEHSIL                47058.0\n",
       "                                                                         SHARAK PUR TEHSIL                28186.0\n",
       "                                                                         SHEIKHUPURA TEHSIL              375167.0\n",
       "             MULTAN DIVISION               KHANEWAL DISTRICT             JAHANIAN TEHSIL                  24871.0\n",
       "                                                                         KABIRWALA TEHSIL                 98812.0\n",
       "                                                                         KHANEWAL TEHSIL                 151599.0\n",
       "                                                                         MIAN CHANNU TEHSIL               88979.0\n",
       "                                           LODHRAN DISTRICT              DUNYAPUR TEHSIL                  29513.0\n",
       "                                                                         KAHROR PACCA TEHSIL              75074.0\n",
       "                                                                         LODHRAN TEHSIL                   65501.0\n",
       "                                           MULTAN DISTRICT               JALALPUR PIRWALA TEHSIL          32219.0\n",
       "                                                                         MULTAN CITY TEHSIL             1078245.0\n",
       "                                                                         MULTAN SADDAR TEHSIL            146875.0\n",
       "                                                                         SHUJABAD TEHSIL                  57409.0\n",
       "                                           VEHARI DISTRICT               BUREWALA TEHSIL                 152097.0\n",
       "                                                                         MAILSI TEHSIL                    88992.0\n",
       "                                                                         VEHARI TEHSIL                    94343.0\n",
       "             RAWALPINDI DIVISION           ATTOCK DISTRICT               ATTOCK TEHSIL                   117840.0\n",
       "                                                                         FATEH JANG TEHSIL                25986.0\n",
       "                                                                         HASAN ABDAL TEHSIL               37976.0\n",
       "                                                                         HAZRO TEHSIL                     42156.0\n",
       "                                                                         JAND TEHSIL                      17284.0\n",
       "                                                                         PINDI GHEB TEHSIL                29850.0\n",
       "                                           CHAKWAL DISTRICT              CHAKWAL TEHSIL                   80508.0\n",
       "                                                                         CHOA SAIDAN SHAH TEHSIL          13418.0\n",
       "                                                                         KALLAR KAHAR TEHSIL                  0.0\n",
       "                                                                         LAWA TEHSIL                          0.0\n",
       "                                                                         TALA GANG TEHSIL                 37766.0\n",
       "                                           JHELUM DISTRICT               DINA TEHSIL                      52638.0\n",
       "                                                                         JHELUM TEHSIL                   147392.0\n",
       "                                                                         PIND DADAN KHAN TEHSIL           46592.0\n",
       "                                                                         SOHAWA TEHSIL                    12708.0\n",
       "                                           RAWALPINDI DISTRICT           GUJAR KHAN TEHSIL                67150.0\n",
       "                                                                         KAHUTA TEHSIL                    19207.0\n",
       "                                                                         KALLAR SAYADDAN TEHSIL               0.0\n",
       "                                                                         KOTLI SATTIAN TEHSIL                 0.0\n",
       "                                                                         MURREE TEHSIL                    21375.0\n",
       "                                                                         RAWALPINDI TEHSIL              1409768.0\n",
       "                                                                         TAXILA TEHSIL                   270773.0\n",
       "             SAHIWAL DIVISION              OKARA DISTRICT                DEPALPUR TEHSIL                 209747.0\n",
       "                                                                         OKARA TEHSIL                    272324.0\n",
       "                                                                         RENALA KHURD TEHSIL              32337.0\n",
       "                                           PAKPATTAN DISTRICT            ARIF WALA TEHSIL                 74174.0\n",
       "                                                                         PAKPATTAN TEHSIL                109033.0\n",
       "                                           SAHIWAL DISTRICT              CHICHAWATNI TEHSIL               72721.0\n",
       "                                                                         SAHIWAL TEHSIL                  229269.0\n",
       "             SARGODHA DIVISION             BHAKKAR DISTRICT              BHAKKAR TEHSIL                   68896.0\n",
       "                                                                         DARYA KHAN TEHSIL                54635.0\n",
       "                                                                         KALUR KOT TEHSIL                 35925.0\n",
       "                                                                         MANKERA TEHSIL                    9218.0\n",
       "                                           KHUSHAB DISTRICT              KHUSHAB TEHSIL                  192963.0\n",
       "                                                                         NOORPUR TEHSIL                   15091.0\n",
       "                                                                         NOWSHERA TEHSIL                   8952.0\n",
       "                                                                         QUAIDABAD TEHSIL                 11963.0\n",
       "                                           MIANWALI DISTRICT             ISAKHEL TEHSIL                   43968.0\n",
       "                                                                         MIANWALI TEHSIL                 102721.0\n",
       "                                                                         PIPLAN TEHSIL                    73321.0\n",
       "                                           SARGODHA DISTRICT             BHALWAL TEHSIL                   77637.0\n",
       "                                                                         BHERA TEHSIL                     44626.0\n",
       "                                                                         KOT MOMIN TEHSIL                 44566.0\n",
       "                                                                         SARGODHA TEHSIL                 458440.0\n",
       "                                                                         SHAHPUR TEHSIL                   51190.0\n",
       "                                                                         SILLANWALI TEHSIL                23076.0\n",
       "SINDH        Badin Division                BADIN DISTRICT                BADIN TALUKA                     68661.0\n",
       "                                                                         GOLARCHI (S.F.RAHU) TALUKA       19027.0\n",
       "                                                                         MATLI TALUKA                     56967.0\n",
       "                                                                         TALHAR TALUKA                    23019.0\n",
       "                                                                         TANDO BAGO TALUKA                18814.0\n",
       "             Hyderabad Division            DADU DISTRICT                 DADU TALUKA                     109457.0\n",
       "                                                                         JOHI TALUKA                      17997.0\n",
       "                                                                         KHAIRPUR NATHAN SHAH TALUKA      49992.0\n",
       "                                                                         MEHAR TALUKA                     51688.0\n",
       "                                           HYDERABAD DISTRICT            HYDERABAD CITY TALUKA           517603.0\n",
       "                                                                         HYDERABAD TALUKA                 26446.0\n",
       "                                                                         LATIFABAD TALUKA                546044.0\n",
       "                                                                         QASIMABAD TALUKA                103247.0\n",
       "                                           JAMSHORO DISTRICT             KOTRI TALUKA                     62085.0\n",
       "                                                                         MANJHAND TALUKA                   7679.0\n",
       "                                                                         SEHWAN TALUKA                    49164.0\n",
       "                                                                         THANO BULA KHAN TALUKA           12700.0\n",
       "                                           MATIARI DISTRICT              HALA TALUKA                      57060.0\n",
       "                                                                         MATIARI TALUKA                   29068.0\n",
       "                                                                         SAEEDABAD TALUKA                 13732.0\n",
       "                                           SUJAWAL DISTRICT              CHAMBER TALUKA                   23286.0\n",
       "                                                                         JATI TALUKA                       7782.0\n",
       "                                                                         MIRPUR BATHORO TALUKA                0.0\n",
       "                                                                         SHAH BUNDER TALUKA               16566.0\n",
       "                                                                         SUJAWAL TALUKA                   13401.0\n",
       "                                           TANDO ALLAHYAR DISTRICT       BULRI SHAH KARIM TALUKA          95569.0\n",
       "                                                                         JHANDO MARI TALUKA               10687.0\n",
       "                                                                         TANDO ALLAHYAR TALUKA                0.0\n",
       "                                           TANDO MUHAMMAD KHAN DISTRICT  GHORABARI TALUKA                 65396.0\n",
       "                                                                         TANDO GHULAM HYDER TALUKA         4249.0\n",
       "                                                                         TANDO MUHAMMAD KHAN TALUKA           0.0\n",
       "                                           THATTA DISTRICT               GULBERG TEHSIL                   37515.0\n",
       "                                                                         KETI BUNDER TALUKA                   0.0\n",
       "                                                                         MIRPUR SAKRO TALUKA               2513.0\n",
       "                                                                         THATTA TALUKA                    23676.0\n",
       "             Karachi Division              KARACHI CENTRAL DISTRICT      FEROZABAD TEHSIL                530923.0\n",
       "                                                                         LIAQUATABAD TEHSIL              423517.0\n",
       "                                                                         NAZIMABAD TEHSIL                388078.0\n",
       "                                                                         NEW KARACHI TEHSIL              366081.0\n",
       "                                                                         NORTH NAZIMABAD TEHSIL          580472.0\n",
       "                                           KARACHI EAST DISTRICT         ARAM BAGH TEHSIL                380714.0\n",
       "                                                                         GULSHAN-E-IQBAL TEHSIL          521369.0\n",
       "                                                                         GULZAR-E-HIJRI TEHSIL           415380.0\n",
       "                                                                         JAMSHED QUARTERS TEHSIL         130066.0\n",
       "                                           KARACHI SOUTH DISTRICT        BALDIA TEHSIL                   128565.0\n",
       "                                                                         CIVIL LINES TEHSIL              137742.0\n",
       "                                                                         GARDEN TEHSIL                   281590.0\n",
       "                                                                         LYARI TEHSIL                    325716.0\n",
       "                                                                         SADDAR TEHSIL                   594966.0\n",
       "                                           KARACHI WEST DISTRICT         HARBOUR TEHSIL                  402463.0\n",
       "                                                                         KORANGI TEHSIL                  327639.0\n",
       "                                                                         MANGHOPIR TEHSIL                222106.0\n",
       "                                                                         MAURIPUR TEHSIL                      0.0\n",
       "                                                                         MOMINABAD TEHSIL                 35879.0\n",
       "                                                                         ORANGI TEHSIL                   637407.0\n",
       "                                                                         SITE TEHSIL                     319177.0\n",
       "                                           KORANGI DISTRICT              AIRPORT TEHSIL                  387636.0\n",
       "                                                                         LANDHI TEHSIL                   529837.0\n",
       "                                                                         MODEL COLONY TEHSIL             428937.0\n",
       "                                                                         SHAH FAISAL TEHSIL              262199.0\n",
       "                                           MALIR DISTRICT                BIN QASIM TEHSIL                 73928.0\n",
       "                                                                         GADAP TEHSIL                         0.0\n",
       "                                                                         IBRAHIM HYDRI TEHSIL                 0.0\n",
       "                                                                         MURAD MEMON TEHSIL              371603.0\n",
       "                                                                         SHAH MUREED TEHSIL              135033.0\n",
       "             Larkana Division              JACOBABAD DISTRICT            GARHI KHAIRO TALUKA              11565.0\n",
       "                                                                         JACOBABAD TALUKA                138780.0\n",
       "                                                                         THUL TALUKA                      29125.0\n",
       "                                           KAMBAR SHAHDAD KOT DISTRICT   KAMBAR ALI KHAN TALUKA           58369.0\n",
       "                                                                         MIRO KHAN TALUKA                  8891.0\n",
       "                                                                         NASIRABAD TALUKA                 23477.0\n",
       "                                                                         QUBO SAEED KHAN TALUKA               0.0\n",
       "                                                                         SHAHDAD KOT TALUKA               60436.0\n",
       "                                                                         SUJAWAL JUNEJO TALUKA                0.0\n",
       "                                                                         WARAH TALUKA                     15776.0\n",
       "                                           KASHMORE DISTRICT             KANDHKOT TALUKA                  92647.0\n",
       "                                                                         KASHMORE TALUKA                  59974.0\n",
       "                                                                         TANGWANI TALUKA                  15300.0\n",
       "                                           LARKANA DISTRICT              BAKRANI TALUKA                    5788.0\n",
       "                                                                         DOKRI TALUKA                     45625.0\n",
       "                                                                         LARKANA TALUKA                  270283.0\n",
       "                                                                         RATODERO TALUKA                  68367.0\n",
       "                                           SHIKARPUR DISTRICT            GARHI YASIN TALUKA               25004.0\n",
       "                                                                         KHANPUR TALUKA                   18606.0\n",
       "                                                                         LAKHI TALUKA                     33486.0\n",
       "                                                                         SHIKARPUR TALUKA                134883.0\n",
       "             Mirpurkhas Division           MIRPUR KHAS DISTRICT          DIGRI TALUKA                     40646.0\n",
       "                                                                         HUSSAIN BUX MARI TALUKA              0.0\n",
       "                                                                         JHUDO TALUKA                     42202.0\n",
       "                                                                         KOT GHULAM MUHAMMAD TALUKA       17507.0\n",
       "                                                                         MIRPUR KHAS TALUKA              189671.0\n",
       "                                                                         SHUJAABAD TALUKA                 10149.0\n",
       "                                                                         SINDHRI TALUKA                       0.0\n",
       "                                           THARPARKAR DISTRICT           CHACHRO TALUKA                       0.0\n",
       "                                                                         DAHLI TALUKA                         0.0\n",
       "                                                                         DIPLO TALUKA                      9703.0\n",
       "                                                                         ISLAMKOT TALUKA                  10427.0\n",
       "                                                                         KALOI TALUKA                         0.0\n",
       "                                                                         MITHI TALUKA                     19697.0\n",
       "                                                                         NAGAR PARKAR TALUKA                  0.0\n",
       "                                           UMER KOT DISTRICT             KUNRI TALUKA                     27866.0\n",
       "                                                                         PITHORO TALUKA                    9978.0\n",
       "                                                                         SAMARO TALUKA                     7373.0\n",
       "                                                                         UMER KOT TALUKA                  66247.0\n",
       "             Shaheed Benazirabad Division  NAUSHAHRO FEROZE DISTRICT     BHIRIA TALUKA                    38373.0\n",
       "                                                                         KANDIARO TALUKA                  21957.0\n",
       "                                                                         MEHRABPUR TALUKA                 30686.0\n",
       "                                                                         MORO TALUKA                      61033.0\n",
       "                                                                         NAUSHAHRO FEROZE TALUKA          40355.0\n",
       "                                           SANGHAR DISTRICT              JAM NAWAZ ALI TALUKA             12804.0\n",
       "                                                                         KHIPRO TALUKA                    25580.0\n",
       "                                                                         SANGHAR TALUKA                   61021.0\n",
       "                                                                         SHAHDADPUR TALUKA                90587.0\n",
       "                                                                         SINJHORO TALUKA                  36417.0\n",
       "                                                                         TANDO ADAM TALUKA               104907.0\n",
       "                                           SHAHEED BENAZIRABAD DISTRICT  DAUR TALUKA                      28111.0\n",
       "                                                                         KAZI AHMED TALUKA                37948.0\n",
       "                                                                         NAWABSHAH TALUKA                189244.0\n",
       "                                                                         SAKRAND TALUKA                   27056.0\n",
       "             Sukkur Division               GHOTKI DISTRICT               DAHARKI TALUKA                   34615.0\n",
       "                                                                         GHOTKI TALUKA                    60166.0\n",
       "                                                                         KHANGARH TALUKA                      0.0\n",
       "                                                                         MIRPUR MATHELO TALUKA            42421.0\n",
       "                                                                         UBAURO TALUKA                    21299.0\n",
       "                                           KHAIRPUR DISTRICT             FAIZ GANJ TALUKA                 15906.0\n",
       "                                                                         GAMBAT TALUKA                    40882.0\n",
       "                                                                         KHAIRPUR TALUKA                 124939.0\n",
       "                                                                         KINGRI TALUKA                    44270.0\n",
       "                                                                         KOT DIJI TALUKA                  45599.0\n",
       "                                                                         MIRWAH TALUKA                    43170.0\n",
       "                                                                         NARA TALUKA                          0.0\n",
       "                                                                         SOBHO DERO TALUKA                50450.0\n",
       "                                           SUKKUR DISTRICT               NEW SUKKUR TALUKA               130101.0\n",
       "                                                                         PANO AQIL TALUKA                 62225.0\n",
       "                                                                         ROHRI TALUKA                     57537.0\n",
       "                                                                         SALEHPAT TALUKA                      0.0\n",
       "                                                                         SUKKUR CITY TALUKA              212242.0\n",
       "Name: POPULATION 1998 (URBAN), dtype: float64"
      ]
     },
     "execution_count": 53,
     "metadata": {},
     "output_type": "execute_result"
    }
   ],
   "source": [
    "df.groupby(['PROVINCE','DIVISION','DISTRICT','SUB DIVISION'])['POPULATION 1998 (URBAN)'].mean()"
   ]
  },
  {
   "cell_type": "code",
   "execution_count": 21,
   "id": "20369623",
   "metadata": {},
   "outputs": [
    {
     "data": {
      "application/vnd.microsoft.datawrangler.viewer.v0+json": {
       "columns": [
        {
         "name": "PROVINCE",
         "rawType": "object",
         "type": "string"
        },
        {
         "name": "POPULATION 1998 (RURAL)",
         "rawType": "float64",
         "type": "float"
        }
       ],
       "ref": "73b2fb4f-e1a9-4ae4-82a2-dcc443cf52c4",
       "rows": [
        [
         "BALOCHISTAN",
         "37944.45038167939"
        ],
        [
         "KPK",
         "209638.81690140846"
        ],
        [
         "KPK/FATA",
         "62657.086956521736"
        ],
        [
         "PUNJAB",
         "350172.034965035"
        ],
        [
         "SINDH",
         "113796.16788321167"
        ]
       ],
       "shape": {
        "columns": 1,
        "rows": 5
       }
      },
      "text/plain": [
       "PROVINCE\n",
       "BALOCHISTAN     37944.450382\n",
       "KPK            209638.816901\n",
       "KPK/FATA        62657.086957\n",
       "PUNJAB         350172.034965\n",
       "SINDH          113796.167883\n",
       "Name: POPULATION 1998 (RURAL), dtype: float64"
      ]
     },
     "execution_count": 21,
     "metadata": {},
     "output_type": "execute_result"
    }
   ],
   "source": [
    "df.groupby(['PROVINCE'])['POPULATION 1998 (RURAL)'].mean()"
   ]
  },
  {
   "cell_type": "code",
   "execution_count": null,
   "id": "257c330e",
   "metadata": {},
   "outputs": [
    {
     "data": {
      "application/vnd.microsoft.datawrangler.viewer.v0+json": {
       "columns": [
        {
         "name": "('PROVINCE', 'DIVISION')",
         "rawType": "object",
         "type": "unknown"
        },
        {
         "name": "POPULATION 1998 (RURAL)",
         "rawType": "int64",
         "type": "integer"
        }
       ],
       "ref": "ad0849ef-85d0-44ac-97c0-c2150604ed33",
       "rows": [
        [
         "('BALOCHISTAN', 'Kalat Division')",
         "82253"
        ],
        [
         "('BALOCHISTAN', 'Makran Division')",
         "146971"
        ],
        [
         "('BALOCHISTAN', 'Naseerabad Division')",
         "92689"
        ],
        [
         "('BALOCHISTAN', 'Quetta Division')",
         "120512"
        ],
        [
         "('BALOCHISTAN', 'Zhob Division')",
         "110867"
        ],
        [
         "('KPK', 'BANNU DIVISION')",
         "525281"
        ],
        [
         "('KPK', 'DERA ISMAIL KHAN DIVISION')",
         "270676"
        ],
        [
         "('KPK', 'HAZARA DIVISION')",
         "513599"
        ],
        [
         "('KPK', 'KOHAT DIVISION')",
         "344021"
        ],
        [
         "('KPK', 'MALAKAND DIVISION')",
         "409112"
        ],
        [
         "('KPK', 'MARDAN DIVISION')",
         "618091"
        ],
        [
         "('KPK', 'PESHAWAR DIVISION')",
         "1044035"
        ],
        [
         "('KPK/FATA', 'BANNU DIVISION')",
         "110006"
        ],
        [
         "('KPK/FATA', 'DERA ISMAIL KHAN DIVISION')",
         "90772"
        ],
        [
         "('KPK/FATA', 'KOHAT DIVISION')",
         "177529"
        ],
        [
         "('KPK/FATA', 'MALAKAND DIVISION')",
         "168283"
        ],
        [
         "('KPK/FATA', 'PESHAWAR DIVISION')",
         "286184"
        ],
        [
         "('PUNJAB', 'BAHAWALPUR DIVISION')",
         "710989"
        ],
        [
         "('PUNJAB', 'D.G.KHAN DIVISION')",
         "842563"
        ],
        [
         "('PUNJAB', 'FAISALABAD DIVISION')",
         "924849"
        ],
        [
         "('PUNJAB', 'GUJRANWALA DIVISION')",
         "767868"
        ],
        [
         "('PUNJAB', 'LAHORE DIVISION')",
         "674097"
        ],
        [
         "('PUNJAB', 'MULTAN DIVISION')",
         "803159"
        ],
        [
         "('PUNJAB', 'RAWALPINDI DIVISION')",
         "517844"
        ],
        [
         "('PUNJAB', 'SAHIWAL DIVISION')",
         "826863"
        ],
        [
         "('PUNJAB', 'SARGODHA DIVISION')",
         "623019"
        ],
        [
         "('SINDH', 'Badin Division')",
         "226306"
        ],
        [
         "('SINDH', 'Hyderabad Division')",
         "266365"
        ],
        [
         "('SINDH', 'Karachi Division')",
         "121426"
        ],
        [
         "('SINDH', 'Larkana Division')",
         "312860"
        ],
        [
         "('SINDH', 'Mirpurkhas Division')",
         "246506"
        ],
        [
         "('SINDH', 'Shaheed Benazirabad Division')",
         "276514"
        ],
        [
         "('SINDH', 'Sukkur Division')",
         "238468"
        ]
       ],
       "shape": {
        "columns": 1,
        "rows": 33
       }
      },
      "text/plain": [
       "PROVINCE     DIVISION                    \n",
       "BALOCHISTAN  Kalat Division                    82253\n",
       "             Makran Division                  146971\n",
       "             Naseerabad Division               92689\n",
       "             Quetta Division                  120512\n",
       "             Zhob Division                    110867\n",
       "KPK          BANNU DIVISION                   525281\n",
       "             DERA ISMAIL KHAN DIVISION        270676\n",
       "             HAZARA DIVISION                  513599\n",
       "             KOHAT DIVISION                   344021\n",
       "             MALAKAND DIVISION                409112\n",
       "             MARDAN DIVISION                  618091\n",
       "             PESHAWAR DIVISION               1044035\n",
       "KPK/FATA     BANNU DIVISION                   110006\n",
       "             DERA ISMAIL KHAN DIVISION         90772\n",
       "             KOHAT DIVISION                   177529\n",
       "             MALAKAND DIVISION                168283\n",
       "             PESHAWAR DIVISION                286184\n",
       "PUNJAB       BAHAWALPUR DIVISION              710989\n",
       "             D.G.KHAN DIVISION                842563\n",
       "             FAISALABAD DIVISION              924849\n",
       "             GUJRANWALA DIVISION              767868\n",
       "             LAHORE DIVISION                  674097\n",
       "             MULTAN DIVISION                  803159\n",
       "             RAWALPINDI DIVISION              517844\n",
       "             SAHIWAL DIVISION                 826863\n",
       "             SARGODHA DIVISION                623019\n",
       "SINDH        Badin Division                   226306\n",
       "             Hyderabad Division               266365\n",
       "             Karachi Division                 121426\n",
       "             Larkana Division                 312860\n",
       "             Mirpurkhas Division              246506\n",
       "             Shaheed Benazirabad Division     276514\n",
       "             Sukkur Division                  238468\n",
       "Name: POPULATION 1998 (RURAL), dtype: int64"
      ]
     },
     "execution_count": 56,
     "metadata": {},
     "output_type": "execute_result"
    }
   ],
   "source": [
    "df.groupby(['PROVINCE','DIVISION'])['POPULATION 1998 (RURAL)'].max()"
   ]
  },
  {
   "cell_type": "code",
   "execution_count": null,
   "id": "d69b7557",
   "metadata": {},
   "outputs": [
    {
     "data": {
      "application/vnd.microsoft.datawrangler.viewer.v0+json": {
       "columns": [
        {
         "name": "index",
         "rawType": "object",
         "type": "string"
        },
        {
         "name": "count",
         "rawType": "float64",
         "type": "float"
        },
        {
         "name": "mean",
         "rawType": "float64",
         "type": "float"
        },
        {
         "name": "std",
         "rawType": "float64",
         "type": "float"
        },
        {
         "name": "min",
         "rawType": "float64",
         "type": "float"
        },
        {
         "name": "25%",
         "rawType": "float64",
         "type": "float"
        },
        {
         "name": "50%",
         "rawType": "float64",
         "type": "float"
        },
        {
         "name": "75%",
         "rawType": "float64",
         "type": "float"
        },
        {
         "name": "max",
         "rawType": "float64",
         "type": "float"
        }
       ],
       "ref": "24cdc9ea-4b26-4282-ba3e-e4fa2d6f2868",
       "rows": [
        [
         "AREA (sq.km)",
         "528.0",
         "1492.005871212121",
         "2039.453778210461",
         "0.0",
         "425.0",
         "882.0",
         "1734.25",
         "18374.0"
        ],
        [
         "ALL SEXES (RURAL)",
         "528.0",
         "246278.01136363635",
         "271189.81655913533",
         "0.0",
         "50934.5",
         "165241.0",
         "312911.25",
         "2297375.0"
        ],
        [
         "MALE (RURAL)",
         "528.0",
         "125275.6875",
         "137563.02145832204",
         "0.0",
         "27127.25",
         "84134.5",
         "160502.25",
         "1172995.0"
        ],
        [
         "FEMALE (RURAL)",
         "528.0",
         "120984.14962121213",
         "133716.8982962157",
         "0.0",
         "23979.0",
         "82044.0",
         "152219.0",
         "1124167.0"
        ],
        [
         "TRANSGENDER (RURAL)",
         "528.0",
         "18.174242424242426",
         "25.52224797583435",
         "0.0",
         "1.0",
         "10.0",
         "25.0",
         "213.0"
        ],
        [
         "SEX RATIO (RURAL)",
         "528.0",
         "98.98261363636364",
         "26.812659963763632",
         "0.0",
         "101.105",
         "105.285",
         "108.3475",
         "139.38"
        ],
        [
         "AVG HOUSEHOLD SIZE (RURAL)",
         "528.0",
         "6.277064393939394",
         "2.0749468568721596",
         "0.0",
         "5.7",
         "6.31",
         "7.2",
         "12.43"
        ],
        [
         "POPULATION 1998 (RURAL)",
         "528.0",
         "167427.99431818182",
         "178388.97699251067",
         "0.0",
         "35273.5",
         "117206.5",
         "213054.25",
         "1044035.0"
        ],
        [
         "ANNUAL GROWTH RATE (RURAL)",
         "528.0",
         "3.1247916666666664",
         "9.57787173131309",
         "0.0",
         "1.44",
         "2.03",
         "2.8125",
         "100.0"
        ],
        [
         "ALL SEXES (URBAN)",
         "528.0",
         "140863.5284090909",
         "351246.2791356469",
         "0.0",
         "0.0",
         "43254.5",
         "117814.75",
         "3653616.0"
        ],
        [
         "MALE (URBAN)",
         "528.0",
         "72843.38636363637",
         "182349.2413790539",
         "0.0",
         "0.0",
         "21980.0",
         "60301.75",
         "1905921.0"
        ],
        [
         "FEMALE (URBAN)",
         "528.0",
         "67997.86553030302",
         "168872.52821213394",
         "0.0",
         "0.0",
         "20999.0",
         "57465.25",
         "1746900.0"
        ],
        [
         "TRANSGENDER (URBAN)",
         "528.0",
         "22.276515151515152",
         "66.06812694544523",
         "0.0",
         "0.0",
         "3.0",
         "19.0",
         "795.0"
        ],
        [
         "SEX RATIO (URBAN)",
         "528.0",
         "75.41126893939395",
         "49.687340945047495",
         "0.0",
         "0.0",
         "103.195",
         "107.04",
         "297.81"
        ],
        [
         "AVG HOUSEHOLD SIZE (URBAN)",
         "528.0",
         "4.406401515151515",
         "2.9483358323019533",
         "0.0",
         "0.0",
         "5.755",
         "6.34",
         "10.06"
        ],
        [
         "POPULATION 1998 (URBAN)",
         "528.0",
         "80144.56628787878",
         "202312.01922696535",
         "0.0",
         "0.0",
         "21298.0",
         "65422.25",
         "2075867.0"
        ],
        [
         "ANNUAL GROWTH RATE (URBAN)",
         "528.0",
         "1.920814393939394",
         "2.0989080696947195",
         "0.0",
         "0.0",
         "1.855",
         "2.985",
         "19.78"
        ]
       ],
       "shape": {
        "columns": 8,
        "rows": 17
       }
      },
      "text/html": [
       "<div>\n",
       "<style scoped>\n",
       "    .dataframe tbody tr th:only-of-type {\n",
       "        vertical-align: middle;\n",
       "    }\n",
       "\n",
       "    .dataframe tbody tr th {\n",
       "        vertical-align: top;\n",
       "    }\n",
       "\n",
       "    .dataframe thead th {\n",
       "        text-align: right;\n",
       "    }\n",
       "</style>\n",
       "<table border=\"1\" class=\"dataframe\">\n",
       "  <thead>\n",
       "    <tr style=\"text-align: right;\">\n",
       "      <th></th>\n",
       "      <th>count</th>\n",
       "      <th>mean</th>\n",
       "      <th>std</th>\n",
       "      <th>min</th>\n",
       "      <th>25%</th>\n",
       "      <th>50%</th>\n",
       "      <th>75%</th>\n",
       "      <th>max</th>\n",
       "    </tr>\n",
       "  </thead>\n",
       "  <tbody>\n",
       "    <tr>\n",
       "      <th>AREA (sq.km)</th>\n",
       "      <td>528.0</td>\n",
       "      <td>1492.005871</td>\n",
       "      <td>2039.453778</td>\n",
       "      <td>0.0</td>\n",
       "      <td>425.000</td>\n",
       "      <td>882.000</td>\n",
       "      <td>1734.2500</td>\n",
       "      <td>18374.00</td>\n",
       "    </tr>\n",
       "    <tr>\n",
       "      <th>ALL SEXES (RURAL)</th>\n",
       "      <td>528.0</td>\n",
       "      <td>246278.011364</td>\n",
       "      <td>271189.816559</td>\n",
       "      <td>0.0</td>\n",
       "      <td>50934.500</td>\n",
       "      <td>165241.000</td>\n",
       "      <td>312911.2500</td>\n",
       "      <td>2297375.00</td>\n",
       "    </tr>\n",
       "    <tr>\n",
       "      <th>MALE (RURAL)</th>\n",
       "      <td>528.0</td>\n",
       "      <td>125275.687500</td>\n",
       "      <td>137563.021458</td>\n",
       "      <td>0.0</td>\n",
       "      <td>27127.250</td>\n",
       "      <td>84134.500</td>\n",
       "      <td>160502.2500</td>\n",
       "      <td>1172995.00</td>\n",
       "    </tr>\n",
       "    <tr>\n",
       "      <th>FEMALE (RURAL)</th>\n",
       "      <td>528.0</td>\n",
       "      <td>120984.149621</td>\n",
       "      <td>133716.898296</td>\n",
       "      <td>0.0</td>\n",
       "      <td>23979.000</td>\n",
       "      <td>82044.000</td>\n",
       "      <td>152219.0000</td>\n",
       "      <td>1124167.00</td>\n",
       "    </tr>\n",
       "    <tr>\n",
       "      <th>TRANSGENDER (RURAL)</th>\n",
       "      <td>528.0</td>\n",
       "      <td>18.174242</td>\n",
       "      <td>25.522248</td>\n",
       "      <td>0.0</td>\n",
       "      <td>1.000</td>\n",
       "      <td>10.000</td>\n",
       "      <td>25.0000</td>\n",
       "      <td>213.00</td>\n",
       "    </tr>\n",
       "    <tr>\n",
       "      <th>SEX RATIO (RURAL)</th>\n",
       "      <td>528.0</td>\n",
       "      <td>98.982614</td>\n",
       "      <td>26.812660</td>\n",
       "      <td>0.0</td>\n",
       "      <td>101.105</td>\n",
       "      <td>105.285</td>\n",
       "      <td>108.3475</td>\n",
       "      <td>139.38</td>\n",
       "    </tr>\n",
       "    <tr>\n",
       "      <th>AVG HOUSEHOLD SIZE (RURAL)</th>\n",
       "      <td>528.0</td>\n",
       "      <td>6.277064</td>\n",
       "      <td>2.074947</td>\n",
       "      <td>0.0</td>\n",
       "      <td>5.700</td>\n",
       "      <td>6.310</td>\n",
       "      <td>7.2000</td>\n",
       "      <td>12.43</td>\n",
       "    </tr>\n",
       "    <tr>\n",
       "      <th>POPULATION 1998 (RURAL)</th>\n",
       "      <td>528.0</td>\n",
       "      <td>167427.994318</td>\n",
       "      <td>178388.976993</td>\n",
       "      <td>0.0</td>\n",
       "      <td>35273.500</td>\n",
       "      <td>117206.500</td>\n",
       "      <td>213054.2500</td>\n",
       "      <td>1044035.00</td>\n",
       "    </tr>\n",
       "    <tr>\n",
       "      <th>ANNUAL GROWTH RATE (RURAL)</th>\n",
       "      <td>528.0</td>\n",
       "      <td>3.124792</td>\n",
       "      <td>9.577872</td>\n",
       "      <td>0.0</td>\n",
       "      <td>1.440</td>\n",
       "      <td>2.030</td>\n",
       "      <td>2.8125</td>\n",
       "      <td>100.00</td>\n",
       "    </tr>\n",
       "    <tr>\n",
       "      <th>ALL SEXES (URBAN)</th>\n",
       "      <td>528.0</td>\n",
       "      <td>140863.528409</td>\n",
       "      <td>351246.279136</td>\n",
       "      <td>0.0</td>\n",
       "      <td>0.000</td>\n",
       "      <td>43254.500</td>\n",
       "      <td>117814.7500</td>\n",
       "      <td>3653616.00</td>\n",
       "    </tr>\n",
       "    <tr>\n",
       "      <th>MALE (URBAN)</th>\n",
       "      <td>528.0</td>\n",
       "      <td>72843.386364</td>\n",
       "      <td>182349.241379</td>\n",
       "      <td>0.0</td>\n",
       "      <td>0.000</td>\n",
       "      <td>21980.000</td>\n",
       "      <td>60301.7500</td>\n",
       "      <td>1905921.00</td>\n",
       "    </tr>\n",
       "    <tr>\n",
       "      <th>FEMALE (URBAN)</th>\n",
       "      <td>528.0</td>\n",
       "      <td>67997.865530</td>\n",
       "      <td>168872.528212</td>\n",
       "      <td>0.0</td>\n",
       "      <td>0.000</td>\n",
       "      <td>20999.000</td>\n",
       "      <td>57465.2500</td>\n",
       "      <td>1746900.00</td>\n",
       "    </tr>\n",
       "    <tr>\n",
       "      <th>TRANSGENDER (URBAN)</th>\n",
       "      <td>528.0</td>\n",
       "      <td>22.276515</td>\n",
       "      <td>66.068127</td>\n",
       "      <td>0.0</td>\n",
       "      <td>0.000</td>\n",
       "      <td>3.000</td>\n",
       "      <td>19.0000</td>\n",
       "      <td>795.00</td>\n",
       "    </tr>\n",
       "    <tr>\n",
       "      <th>SEX RATIO (URBAN)</th>\n",
       "      <td>528.0</td>\n",
       "      <td>75.411269</td>\n",
       "      <td>49.687341</td>\n",
       "      <td>0.0</td>\n",
       "      <td>0.000</td>\n",
       "      <td>103.195</td>\n",
       "      <td>107.0400</td>\n",
       "      <td>297.81</td>\n",
       "    </tr>\n",
       "    <tr>\n",
       "      <th>AVG HOUSEHOLD SIZE (URBAN)</th>\n",
       "      <td>528.0</td>\n",
       "      <td>4.406402</td>\n",
       "      <td>2.948336</td>\n",
       "      <td>0.0</td>\n",
       "      <td>0.000</td>\n",
       "      <td>5.755</td>\n",
       "      <td>6.3400</td>\n",
       "      <td>10.06</td>\n",
       "    </tr>\n",
       "    <tr>\n",
       "      <th>POPULATION 1998 (URBAN)</th>\n",
       "      <td>528.0</td>\n",
       "      <td>80144.566288</td>\n",
       "      <td>202312.019227</td>\n",
       "      <td>0.0</td>\n",
       "      <td>0.000</td>\n",
       "      <td>21298.000</td>\n",
       "      <td>65422.2500</td>\n",
       "      <td>2075867.00</td>\n",
       "    </tr>\n",
       "    <tr>\n",
       "      <th>ANNUAL GROWTH RATE (URBAN)</th>\n",
       "      <td>528.0</td>\n",
       "      <td>1.920814</td>\n",
       "      <td>2.098908</td>\n",
       "      <td>0.0</td>\n",
       "      <td>0.000</td>\n",
       "      <td>1.855</td>\n",
       "      <td>2.9850</td>\n",
       "      <td>19.78</td>\n",
       "    </tr>\n",
       "  </tbody>\n",
       "</table>\n",
       "</div>"
      ],
      "text/plain": [
       "                            count           mean            std  min  \\\n",
       "AREA (sq.km)                528.0    1492.005871    2039.453778  0.0   \n",
       "ALL SEXES (RURAL)           528.0  246278.011364  271189.816559  0.0   \n",
       "MALE (RURAL)                528.0  125275.687500  137563.021458  0.0   \n",
       "FEMALE (RURAL)              528.0  120984.149621  133716.898296  0.0   \n",
       "TRANSGENDER (RURAL)         528.0      18.174242      25.522248  0.0   \n",
       "SEX RATIO (RURAL)           528.0      98.982614      26.812660  0.0   \n",
       "AVG HOUSEHOLD SIZE (RURAL)  528.0       6.277064       2.074947  0.0   \n",
       "POPULATION 1998 (RURAL)     528.0  167427.994318  178388.976993  0.0   \n",
       "ANNUAL GROWTH RATE (RURAL)  528.0       3.124792       9.577872  0.0   \n",
       "ALL SEXES (URBAN)           528.0  140863.528409  351246.279136  0.0   \n",
       "MALE (URBAN)                528.0   72843.386364  182349.241379  0.0   \n",
       "FEMALE (URBAN)              528.0   67997.865530  168872.528212  0.0   \n",
       "TRANSGENDER (URBAN)         528.0      22.276515      66.068127  0.0   \n",
       "SEX RATIO (URBAN)           528.0      75.411269      49.687341  0.0   \n",
       "AVG HOUSEHOLD SIZE (URBAN)  528.0       4.406402       2.948336  0.0   \n",
       "POPULATION 1998 (URBAN)     528.0   80144.566288  202312.019227  0.0   \n",
       "ANNUAL GROWTH RATE (URBAN)  528.0       1.920814       2.098908  0.0   \n",
       "\n",
       "                                  25%         50%          75%         max  \n",
       "AREA (sq.km)                  425.000     882.000    1734.2500    18374.00  \n",
       "ALL SEXES (RURAL)           50934.500  165241.000  312911.2500  2297375.00  \n",
       "MALE (RURAL)                27127.250   84134.500  160502.2500  1172995.00  \n",
       "FEMALE (RURAL)              23979.000   82044.000  152219.0000  1124167.00  \n",
       "TRANSGENDER (RURAL)             1.000      10.000      25.0000      213.00  \n",
       "SEX RATIO (RURAL)             101.105     105.285     108.3475      139.38  \n",
       "AVG HOUSEHOLD SIZE (RURAL)      5.700       6.310       7.2000       12.43  \n",
       "POPULATION 1998 (RURAL)     35273.500  117206.500  213054.2500  1044035.00  \n",
       "ANNUAL GROWTH RATE (RURAL)      1.440       2.030       2.8125      100.00  \n",
       "ALL SEXES (URBAN)               0.000   43254.500  117814.7500  3653616.00  \n",
       "MALE (URBAN)                    0.000   21980.000   60301.7500  1905921.00  \n",
       "FEMALE (URBAN)                  0.000   20999.000   57465.2500  1746900.00  \n",
       "TRANSGENDER (URBAN)             0.000       3.000      19.0000      795.00  \n",
       "SEX RATIO (URBAN)               0.000     103.195     107.0400      297.81  \n",
       "AVG HOUSEHOLD SIZE (URBAN)      0.000       5.755       6.3400       10.06  \n",
       "POPULATION 1998 (URBAN)         0.000   21298.000   65422.2500  2075867.00  \n",
       "ANNUAL GROWTH RATE (URBAN)      0.000       1.855       2.9850       19.78  "
      ]
     },
     "execution_count": 58,
     "metadata": {},
     "output_type": "execute_result"
    }
   ],
   "source": [
    "df.describe().T # This is the record of all Pakistan of the year 1998 and 2019 only (just 2 years)"
   ]
  },
  {
   "cell_type": "code",
   "execution_count": null,
   "id": "6d8bcd2d",
   "metadata": {},
   "outputs": [
    {
     "data": {
      "application/vnd.microsoft.datawrangler.viewer.v0+json": {
       "columns": [
        {
         "name": "('PROVINCE', 'DIVISION')",
         "rawType": "object",
         "type": "unknown"
        },
        {
         "name": "POPULATION 1998 (RURAL)",
         "rawType": "int64",
         "type": "integer"
        }
       ],
       "ref": "79447d8b-c79a-4ae4-a73a-e03eb8043cd8",
       "rows": [
        [
         "('BALOCHISTAN', 'Kalat Division')",
         "3979"
        ],
        [
         "('BALOCHISTAN', 'Makran Division')",
         "5716"
        ],
        [
         "('BALOCHISTAN', 'Naseerabad Division')",
         "7202"
        ],
        [
         "('BALOCHISTAN', 'Quetta Division')",
         "3024"
        ],
        [
         "('BALOCHISTAN', 'Zhob Division')",
         "5165"
        ],
        [
         "('KPK', 'BANNU DIVISION')",
         "102710"
        ],
        [
         "('KPK', 'DERA ISMAIL KHAN DIVISION')",
         "48143"
        ],
        [
         "('KPK', 'HAZARA DIVISION')",
         "46437"
        ],
        [
         "('KPK', 'KOHAT DIVISION')",
         "66710"
        ],
        [
         "('KPK', 'MALAKAND DIVISION')",
         "57739"
        ],
        [
         "('KPK', 'MARDAN DIVISION')",
         "155193"
        ],
        [
         "('KPK', 'PESHAWAR DIVISION')",
         "158059"
        ],
        [
         "('KPK/FATA', 'BANNU DIVISION')",
         "3917"
        ],
        [
         "('KPK/FATA', 'DERA ISMAIL KHAN DIVISION')",
         "30528"
        ],
        [
         "('KPK/FATA', 'KOHAT DIVISION')",
         "28843"
        ],
        [
         "('KPK/FATA', 'MALAKAND DIVISION')",
         "3247"
        ],
        [
         "('KPK/FATA', 'PESHAWAR DIVISION')",
         "18620"
        ],
        [
         "('PUNJAB', 'BAHAWALPUR DIVISION')",
         "62916"
        ],
        [
         "('PUNJAB', 'D.G.KHAN DIVISION')",
         "14051"
        ],
        [
         "('PUNJAB', 'FAISALABAD DIVISION')",
         "131485"
        ],
        [
         "('PUNJAB', 'GUJRANWALA DIVISION')",
         "20654"
        ],
        [
         "('PUNJAB', 'LAHORE DIVISION')",
         "122561"
        ],
        [
         "('PUNJAB', 'MULTAN DIVISION')",
         "224703"
        ],
        [
         "('PUNJAB', 'RAWALPINDI DIVISION')",
         "82711"
        ],
        [
         "('PUNJAB', 'SAHIWAL DIVISION')",
         "307455"
        ],
        [
         "('PUNJAB', 'SARGODHA DIVISION')",
         "78970"
        ],
        [
         "('SINDH', 'Badin Division')",
         "84883"
        ],
        [
         "('SINDH', 'Hyderabad Division')",
         "0"
        ],
        [
         "('SINDH', 'Karachi Division')",
         "0"
        ],
        [
         "('SINDH', 'Larkana Division')",
         "63706"
        ],
        [
         "('SINDH', 'Mirpurkhas Division')",
         "11735"
        ],
        [
         "('SINDH', 'Shaheed Benazirabad Division')",
         "77287"
        ],
        [
         "('SINDH', 'Sukkur Division')",
         "2833"
        ]
       ],
       "shape": {
        "columns": 1,
        "rows": 33
       }
      },
      "text/plain": [
       "PROVINCE     DIVISION                    \n",
       "BALOCHISTAN  Kalat Division                    3979\n",
       "             Makran Division                   5716\n",
       "             Naseerabad Division               7202\n",
       "             Quetta Division                   3024\n",
       "             Zhob Division                     5165\n",
       "KPK          BANNU DIVISION                  102710\n",
       "             DERA ISMAIL KHAN DIVISION        48143\n",
       "             HAZARA DIVISION                  46437\n",
       "             KOHAT DIVISION                   66710\n",
       "             MALAKAND DIVISION                57739\n",
       "             MARDAN DIVISION                 155193\n",
       "             PESHAWAR DIVISION               158059\n",
       "KPK/FATA     BANNU DIVISION                    3917\n",
       "             DERA ISMAIL KHAN DIVISION        30528\n",
       "             KOHAT DIVISION                   28843\n",
       "             MALAKAND DIVISION                 3247\n",
       "             PESHAWAR DIVISION                18620\n",
       "PUNJAB       BAHAWALPUR DIVISION              62916\n",
       "             D.G.KHAN DIVISION                14051\n",
       "             FAISALABAD DIVISION             131485\n",
       "             GUJRANWALA DIVISION              20654\n",
       "             LAHORE DIVISION                 122561\n",
       "             MULTAN DIVISION                 224703\n",
       "             RAWALPINDI DIVISION              82711\n",
       "             SAHIWAL DIVISION                307455\n",
       "             SARGODHA DIVISION                78970\n",
       "SINDH        Badin Division                   84883\n",
       "             Hyderabad Division                   0\n",
       "             Karachi Division                     0\n",
       "             Larkana Division                 63706\n",
       "             Mirpurkhas Division              11735\n",
       "             Shaheed Benazirabad Division     77287\n",
       "             Sukkur Division                   2833\n",
       "Name: POPULATION 1998 (RURAL), dtype: int64"
      ]
     },
     "execution_count": 59,
     "metadata": {},
     "output_type": "execute_result"
    }
   ],
   "source": [
    "df.groupby(['PROVINCE','DIVISION'])['POPULATION 1998 (RURAL)'].min()"
   ]
  },
  {
   "cell_type": "code",
   "execution_count": null,
   "id": "c85ca8a2",
   "metadata": {},
   "outputs": [
    {
     "data": {
      "application/vnd.microsoft.datawrangler.viewer.v0+json": {
       "columns": [
        {
         "name": "('PROVINCE', 'DIVISION')",
         "rawType": "object",
         "type": "unknown"
        },
        {
         "name": "POPULATION 1998 (RURAL)",
         "rawType": "int64",
         "type": "integer"
        }
       ],
       "ref": "a16c8fef-80fc-46fc-86ef-9ff6efa984c2",
       "rows": [
        [
         "('BALOCHISTAN', 'Kalat Division')",
         "629166"
        ],
        [
         "('BALOCHISTAN', 'Makran Division')",
         "1129132"
        ],
        [
         "('BALOCHISTAN', 'Naseerabad Division')",
         "872594"
        ],
        [
         "('BALOCHISTAN', 'Quetta Division')",
         "1506773"
        ],
        [
         "('BALOCHISTAN', 'Zhob Division')",
         "833058"
        ],
        [
         "('KPK', 'BANNU DIVISION')",
         "1071138"
        ],
        [
         "('KPK', 'DERA ISMAIL KHAN DIVISION')",
         "929663"
        ],
        [
         "('KPK', 'HAZARA DIVISION')",
         "3203566"
        ],
        [
         "('KPK', 'KOHAT DIVISION')",
         "1063946"
        ],
        [
         "('KPK', 'MALAKAND DIVISION')",
         "4356907"
        ],
        [
         "('KPK', 'MARDAN DIVISION')",
         "2012562"
        ],
        [
         "('KPK', 'PESHAWAR DIVISION')",
         "2246574"
        ],
        [
         "('KPK/FATA', 'BANNU DIVISION')",
         "381861"
        ],
        [
         "('KPK/FATA', 'DERA ISMAIL KHAN DIVISION')",
         "468831"
        ],
        [
         "('KPK/FATA', 'KOHAT DIVISION')",
         "555646"
        ],
        [
         "('KPK/FATA', 'MALAKAND DIVISION')",
         "595227"
        ],
        [
         "('KPK/FATA', 'PESHAWAR DIVISION')",
         "880661"
        ],
        [
         "('PUNJAB', 'BAHAWALPUR DIVISION')",
         "5960904"
        ],
        [
         "('PUNJAB', 'D.G.KHAN DIVISION')",
         "5298492"
        ],
        [
         "('PUNJAB', 'FAISALABAD DIVISION')",
         "6598851"
        ],
        [
         "('PUNJAB', 'GUJRANWALA DIVISION')",
         "7872597"
        ],
        [
         "('PUNJAB', 'LAHORE DIVISION')",
         "5393354"
        ],
        [
         "('PUNJAB', 'MULTAN DIVISION')",
         "6263028"
        ],
        [
         "('PUNJAB', 'RAWALPINDI DIVISION')",
         "4209141"
        ],
        [
         "('PUNJAB', 'SAHIWAL DIVISION')",
         "4363261"
        ],
        [
         "('PUNJAB', 'SARGODHA DIVISION')",
         "4114973"
        ],
        [
         "('SINDH', 'Badin Division')",
         "919784"
        ],
        [
         "('SINDH', 'Hyderabad Division')",
         "3758707"
        ],
        [
         "('SINDH', 'Karachi Division')",
         "517295"
        ],
        [
         "('SINDH', 'Larkana Division')",
         "3094268"
        ],
        [
         "('SINDH', 'Mirpurkhas Division')",
         "2133951"
        ],
        [
         "('SINDH', 'Shaheed Benazirabad Division')",
         "2703957"
        ],
        [
         "('SINDH', 'Sukkur Division')",
         "2462113"
        ]
       ],
       "shape": {
        "columns": 1,
        "rows": 33
       }
      },
      "text/plain": [
       "PROVINCE     DIVISION                    \n",
       "BALOCHISTAN  Kalat Division                   629166\n",
       "             Makran Division                 1129132\n",
       "             Naseerabad Division              872594\n",
       "             Quetta Division                 1506773\n",
       "             Zhob Division                    833058\n",
       "KPK          BANNU DIVISION                  1071138\n",
       "             DERA ISMAIL KHAN DIVISION        929663\n",
       "             HAZARA DIVISION                 3203566\n",
       "             KOHAT DIVISION                  1063946\n",
       "             MALAKAND DIVISION               4356907\n",
       "             MARDAN DIVISION                 2012562\n",
       "             PESHAWAR DIVISION               2246574\n",
       "KPK/FATA     BANNU DIVISION                   381861\n",
       "             DERA ISMAIL KHAN DIVISION        468831\n",
       "             KOHAT DIVISION                   555646\n",
       "             MALAKAND DIVISION                595227\n",
       "             PESHAWAR DIVISION                880661\n",
       "PUNJAB       BAHAWALPUR DIVISION             5960904\n",
       "             D.G.KHAN DIVISION               5298492\n",
       "             FAISALABAD DIVISION             6598851\n",
       "             GUJRANWALA DIVISION             7872597\n",
       "             LAHORE DIVISION                 5393354\n",
       "             MULTAN DIVISION                 6263028\n",
       "             RAWALPINDI DIVISION             4209141\n",
       "             SAHIWAL DIVISION                4363261\n",
       "             SARGODHA DIVISION               4114973\n",
       "SINDH        Badin Division                   919784\n",
       "             Hyderabad Division              3758707\n",
       "             Karachi Division                 517295\n",
       "             Larkana Division                3094268\n",
       "             Mirpurkhas Division             2133951\n",
       "             Shaheed Benazirabad Division    2703957\n",
       "             Sukkur Division                 2462113\n",
       "Name: POPULATION 1998 (RURAL), dtype: int64"
      ]
     },
     "execution_count": 60,
     "metadata": {},
     "output_type": "execute_result"
    }
   ],
   "source": [
    "df.groupby(['PROVINCE','DIVISION'])['POPULATION 1998 (RURAL)'].sum()"
   ]
  },
  {
   "cell_type": "code",
   "execution_count": null,
   "id": "ba5cc896",
   "metadata": {},
   "outputs": [
    {
     "data": {
      "application/vnd.microsoft.datawrangler.viewer.v0+json": {
       "columns": [
        {
         "name": "('PROVINCE', 'DIVISION')",
         "rawType": "object",
         "type": "unknown"
        },
        {
         "name": "POPULATION 1998 (RURAL)",
         "rawType": "int64",
         "type": "integer"
        }
       ],
       "ref": "4b45acdd-3cc3-4beb-a9cd-c01d27a3d1c6",
       "rows": [
        [
         "('BALOCHISTAN', 'Kalat Division')",
         "18"
        ],
        [
         "('BALOCHISTAN', 'Makran Division')",
         "37"
        ],
        [
         "('BALOCHISTAN', 'Naseerabad Division')",
         "19"
        ],
        [
         "('BALOCHISTAN', 'Quetta Division')",
         "38"
        ],
        [
         "('BALOCHISTAN', 'Zhob Division')",
         "19"
        ],
        [
         "('KPK', 'BANNU DIVISION')",
         "4"
        ],
        [
         "('KPK', 'DERA ISMAIL KHAN DIVISION')",
         "6"
        ],
        [
         "('KPK', 'HAZARA DIVISION')",
         "15"
        ],
        [
         "('KPK', 'KOHAT DIVISION')",
         "7"
        ],
        [
         "('KPK', 'MALAKAND DIVISION')",
         "26"
        ],
        [
         "('KPK', 'MARDAN DIVISION')",
         "7"
        ],
        [
         "('KPK', 'PESHAWAR DIVISION')",
         "6"
        ],
        [
         "('KPK/FATA', 'BANNU DIVISION')",
         "11"
        ],
        [
         "('KPK/FATA', 'DERA ISMAIL KHAN DIVISION')",
         "9"
        ],
        [
         "('KPK/FATA', 'KOHAT DIVISION')",
         "7"
        ],
        [
         "('KPK/FATA', 'MALAKAND DIVISION')",
         "7"
        ],
        [
         "('KPK/FATA', 'PESHAWAR DIVISION')",
         "12"
        ],
        [
         "('PUNJAB', 'BAHAWALPUR DIVISION')",
         "15"
        ],
        [
         "('PUNJAB', 'D.G.KHAN DIVISION')",
         "14"
        ],
        [
         "('PUNJAB', 'FAISALABAD DIVISION')",
         "17"
        ],
        [
         "('PUNJAB', 'GUJRANWALA DIVISION')",
         "20"
        ],
        [
         "('PUNJAB', 'LAHORE DIVISION')",
         "17"
        ],
        [
         "('PUNJAB', 'MULTAN DIVISION')",
         "14"
        ],
        [
         "('PUNJAB', 'RAWALPINDI DIVISION')",
         "22"
        ],
        [
         "('PUNJAB', 'SAHIWAL DIVISION')",
         "7"
        ],
        [
         "('PUNJAB', 'SARGODHA DIVISION')",
         "17"
        ],
        [
         "('SINDH', 'Badin Division')",
         "5"
        ],
        [
         "('SINDH', 'Hyderabad Division')",
         "30"
        ],
        [
         "('SINDH', 'Karachi Division')",
         "30"
        ],
        [
         "('SINDH', 'Larkana Division')",
         "21"
        ],
        [
         "('SINDH', 'Mirpurkhas Division')",
         "18"
        ],
        [
         "('SINDH', 'Shaheed Benazirabad Division')",
         "15"
        ],
        [
         "('SINDH', 'Sukkur Division')",
         "18"
        ]
       ],
       "shape": {
        "columns": 1,
        "rows": 33
       }
      },
      "text/plain": [
       "PROVINCE     DIVISION                    \n",
       "BALOCHISTAN  Kalat Division                  18\n",
       "             Makran Division                 37\n",
       "             Naseerabad Division             19\n",
       "             Quetta Division                 38\n",
       "             Zhob Division                   19\n",
       "KPK          BANNU DIVISION                   4\n",
       "             DERA ISMAIL KHAN DIVISION        6\n",
       "             HAZARA DIVISION                 15\n",
       "             KOHAT DIVISION                   7\n",
       "             MALAKAND DIVISION               26\n",
       "             MARDAN DIVISION                  7\n",
       "             PESHAWAR DIVISION                6\n",
       "KPK/FATA     BANNU DIVISION                  11\n",
       "             DERA ISMAIL KHAN DIVISION        9\n",
       "             KOHAT DIVISION                   7\n",
       "             MALAKAND DIVISION                7\n",
       "             PESHAWAR DIVISION               12\n",
       "PUNJAB       BAHAWALPUR DIVISION             15\n",
       "             D.G.KHAN DIVISION               14\n",
       "             FAISALABAD DIVISION             17\n",
       "             GUJRANWALA DIVISION             20\n",
       "             LAHORE DIVISION                 17\n",
       "             MULTAN DIVISION                 14\n",
       "             RAWALPINDI DIVISION             22\n",
       "             SAHIWAL DIVISION                 7\n",
       "             SARGODHA DIVISION               17\n",
       "SINDH        Badin Division                   5\n",
       "             Hyderabad Division              30\n",
       "             Karachi Division                30\n",
       "             Larkana Division                21\n",
       "             Mirpurkhas Division             18\n",
       "             Shaheed Benazirabad Division    15\n",
       "             Sukkur Division                 18\n",
       "Name: POPULATION 1998 (RURAL), dtype: int64"
      ]
     },
     "execution_count": 61,
     "metadata": {},
     "output_type": "execute_result"
    }
   ],
   "source": [
    "df.groupby(['PROVINCE','DIVISION'])['POPULATION 1998 (RURAL)'].size()"
   ]
  },
  {
   "cell_type": "code",
   "execution_count": null,
   "id": "5f93b503",
   "metadata": {},
   "outputs": [],
   "source": [
    "# This line groups the DataFrame 'df' by the columns 'PROVINCE' and 'DIVISION'.\n",
    "# For each group, it calculates the number of rows (entries) where 'POPULATION 1998 (RURAL)' exists.\n",
    "# The result shows how many sub-divisions (or rows) are present for each province/division combination.\n",
    "\n",
    "df.groupby(['PROVINCE', 'DIVISION'])['POPULATION 1998 (RURAL)'].size()"
   ]
  },
  {
   "cell_type": "code",
   "execution_count": null,
   "id": "9ef41fa5",
   "metadata": {},
   "outputs": [
    {
     "data": {
      "text/plain": [
       "np.int64(130034790)"
      ]
     },
     "execution_count": 65,
     "metadata": {},
     "output_type": "execute_result"
    }
   ],
   "source": [
    "# Calculate the Sum of rural population of Pakistan in 2017\n",
    "\n",
    "df['ALL SEXES (RURAL)'].sum()"
   ]
  },
  {
   "cell_type": "code",
   "execution_count": null,
   "id": "213f7e9b",
   "metadata": {},
   "outputs": [
    {
     "name": "stdout",
     "output_type": "stream",
     "text": [
      "The Total Rural Population of Pakistan of 2017  130034790\n"
     ]
    }
   ],
   "source": [
    "print(f'The Total Rural Population of Pakistan of 2017  {df['ALL SEXES (RURAL)'].sum()}')"
   ]
  },
  {
   "cell_type": "code",
   "execution_count": 24,
   "id": "fdc99117",
   "metadata": {},
   "outputs": [
    {
     "data": {
      "text/plain": [
       "Index(['PROVINCE', 'DIVISION', 'DISTRICT', 'SUB DIVISION', 'AREA (sq.km)',\n",
       "       'ALL SEXES (RURAL)', 'MALE (RURAL)', 'FEMALE (RURAL)',\n",
       "       'TRANSGENDER (RURAL)', 'SEX RATIO (RURAL)',\n",
       "       'AVG HOUSEHOLD SIZE (RURAL)', 'POPULATION 1998 (RURAL)',\n",
       "       'ANNUAL GROWTH RATE (RURAL)', 'ALL SEXES (URBAN)', 'MALE (URBAN)',\n",
       "       'FEMALE (URBAN)', 'TRANSGENDER (URBAN)', 'SEX RATIO (URBAN)',\n",
       "       'AVG HOUSEHOLD SIZE (URBAN)', 'POPULATION 1998 (URBAN)',\n",
       "       'ANNUAL GROWTH RATE (URBAN)'],\n",
       "      dtype='object')"
      ]
     },
     "execution_count": 24,
     "metadata": {},
     "output_type": "execute_result"
    }
   ],
   "source": [
    "df.columns"
   ]
  },
  {
   "cell_type": "code",
   "execution_count": null,
   "id": "3ae28647",
   "metadata": {},
   "outputs": [
    {
     "name": "stdout",
     "output_type": "stream",
     "text": [
      "The Total Rural Population of Pakistan of 2017  88401981\n"
     ]
    }
   ],
   "source": [
    "print(f'The Total Rural Population of Pakistan of 2017  {df['POPULATION 1998 (RURAL)'].sum()}')\n"
   ]
  },
  {
   "cell_type": "code",
   "execution_count": 42,
   "id": "0a2c64b4",
   "metadata": {},
   "outputs": [
    {
     "name": "stdout",
     "output_type": "stream",
     "text": [
      "The Total Rural Population of Pakistan of 2017  130034790\n"
     ]
    }
   ],
   "source": [
    "print(f'The Total Rural Population of Pakistan of 2017  {df['ALL SEXES (RURAL)'].sum()}')"
   ]
  },
  {
   "cell_type": "code",
   "execution_count": 26,
   "id": "592249e8",
   "metadata": {},
   "outputs": [
    {
     "name": "stdout",
     "output_type": "stream",
     "text": [
      "Annual Growth rate of Urban of pakistan  1014.19\n"
     ]
    }
   ],
   "source": [
    "print(f'Annual Growth rate of Urban of pakistan  {df['ANNUAL GROWTH RATE (URBAN)'].sum()}')"
   ]
  },
  {
   "cell_type": "code",
   "execution_count": 47,
   "id": "ffb2ded2",
   "metadata": {},
   "outputs": [
    {
     "name": "stdout",
     "output_type": "stream",
     "text": [
      "The total RUral Population of Pakistan has been increesed by 2017 as compared to 1998, and is as follow :41632809\n"
     ]
    }
   ],
   "source": [
    "# How much rural Population increased from 1998 2017?\n",
    "\n",
    "pop_rural_1998 = df['POPULATION 1998 (RURAL)'].sum()\n",
    "\n",
    "pop_rural_2017 =df['ALL SEXES (RURAL)'].sum()\n",
    "\n",
    "\n",
    "pop_Delta= pop_rural_2017 - pop_rural_1998\n",
    "\n",
    "\n",
    "print(f'The total RUral Population of Pakistan has been increesed by 2017 as compared to 1998, and is as follow :{pop_Delta}')\n"
   ]
  },
  {
   "cell_type": "code",
   "execution_count": 48,
   "id": "eff0a6f1",
   "metadata": {},
   "outputs": [
    {
     "name": "stdout",
     "output_type": "stream",
     "text": [
      "The total Urban Population of Pakistan has been increesed by 2017 as compared to 1998, and is as follow :32059612\n"
     ]
    }
   ],
   "source": [
    "pop_urban_1998= df['POPULATION 1998 (URBAN)'].sum()\n",
    "\n",
    "pop_urban_2017= df['ALL SEXES (URBAN)'].sum()\n",
    "\n",
    "pop_urban_changed= pop_urban_2017 - pop_urban_1998\n",
    "\n",
    "print(f'The total Urban Population of Pakistan has been increesed by 2017 as compared to 1998, and is as follow :{pop_urban_changed}')"
   ]
  },
  {
   "cell_type": "code",
   "execution_count": null,
   "id": "06c1d0d3",
   "metadata": {},
   "outputs": [
    {
     "name": "stdout",
     "output_type": "stream",
     "text": [
      "The Total Rural Population of Pakistan of 2017  88401981\n",
      "The Total Rural Population of Pakistan of 2017  130034790\n"
     ]
    }
   ],
   "source": [
    "print(f'The Total Rural Population of Pakistan of 2017  {df['POPULATION 1998 (RURAL)'].sum()}')\n",
    "\n",
    "print(f'The Total Rural Population of Pakistan of 2017  {df['ALL SEXES (RURAL)'].sum()}') "
   ]
  },
  {
   "cell_type": "markdown",
   "id": "00231374",
   "metadata": {},
   "source": [
    "## Calculate the percentage of population increase "
   ]
  },
  {
   "cell_type": "code",
   "execution_count": 49,
   "id": "6dc38ec3",
   "metadata": {},
   "outputs": [
    {
     "name": "stdout",
     "output_type": "stream",
     "text": [
      "67.98333046102508 %\n"
     ]
    }
   ],
   "source": [
    "pop_Delta_Per =df['POPULATION 1998 (RURAL)'].sum() / df['ALL SEXES (RURAL)'].sum() * 100\n",
    "\n",
    "print(f\"{pop_Delta_Per} %\")"
   ]
  },
  {
   "cell_type": "markdown",
   "id": "cb61b8a3",
   "metadata": {},
   "source": [
    "## Assignment: How to combine 3 columns in 1 column? Make a separete data of everything based on sex (Male Female & Transgender?)"
   ]
  },
  {
   "cell_type": "code",
   "execution_count": null,
   "id": "c7f059f2",
   "metadata": {
    "vscode": {
     "languageId": "markdown"
    }
   },
   "outputs": [],
   "source": [
    "# To copy the dataframe 'df' without linking to the original data, use:\n",
    "df_copy = df.copy()"
   ]
  },
  {
   "cell_type": "code",
   "execution_count": 50,
   "id": "3cab7717",
   "metadata": {},
   "outputs": [],
   "source": [
    "df_copy= df.copy()"
   ]
  },
  {
   "cell_type": "code",
   "execution_count": 52,
   "id": "0bb7e70d",
   "metadata": {},
   "outputs": [
    {
     "name": "stdout",
     "output_type": "stream",
     "text": [
      "<class 'pandas.core.frame.DataFrame'>\n",
      "RangeIndex: 528 entries, 0 to 527\n",
      "Data columns (total 21 columns):\n",
      " #   Column                      Non-Null Count  Dtype  \n",
      "---  ------                      --------------  -----  \n",
      " 0   PROVINCE                    528 non-null    object \n",
      " 1   DIVISION                    528 non-null    object \n",
      " 2   DISTRICT                    528 non-null    object \n",
      " 3   SUB DIVISION                528 non-null    object \n",
      " 4   AREA (sq.km)                528 non-null    float64\n",
      " 5   ALL SEXES (RURAL)           528 non-null    int64  \n",
      " 6   MALE (RURAL)                528 non-null    int64  \n",
      " 7   FEMALE (RURAL)              528 non-null    int64  \n",
      " 8   TRANSGENDER (RURAL)         528 non-null    int64  \n",
      " 9   SEX RATIO (RURAL)           528 non-null    float64\n",
      " 10  AVG HOUSEHOLD SIZE (RURAL)  528 non-null    float64\n",
      " 11  POPULATION 1998 (RURAL)     528 non-null    int64  \n",
      " 12  ANNUAL GROWTH RATE (RURAL)  528 non-null    float64\n",
      " 13  ALL SEXES (URBAN)           528 non-null    int64  \n",
      " 14  MALE (URBAN)                528 non-null    int64  \n",
      " 15  FEMALE (URBAN)              528 non-null    int64  \n",
      " 16  TRANSGENDER (URBAN)         528 non-null    int64  \n",
      " 17  SEX RATIO (URBAN)           528 non-null    float64\n",
      " 18  AVG HOUSEHOLD SIZE (URBAN)  528 non-null    float64\n",
      " 19  POPULATION 1998 (URBAN)     528 non-null    int64  \n",
      " 20  ANNUAL GROWTH RATE (URBAN)  528 non-null    float64\n",
      "dtypes: float64(7), int64(10), object(4)\n",
      "memory usage: 86.8+ KB\n"
     ]
    }
   ],
   "source": [
    "df_copy.info()"
   ]
  },
  {
   "cell_type": "code",
   "execution_count": 67,
   "id": "fdaa8a4a",
   "metadata": {},
   "outputs": [],
   "source": [
    "df_copy['Sex_Urban'] = df_copy.apply(\n",
    "    lambda row: f\"{row['MALE (RURAL)']} {row['FEMALE (RURAL)']} {row['TRANSGENDER (RURAL)']}\", axis=1\n",
    ")"
   ]
  },
  {
   "cell_type": "code",
   "execution_count": 68,
   "id": "6c22fcef",
   "metadata": {},
   "outputs": [
    {
     "data": {
      "application/vnd.microsoft.datawrangler.viewer.v0+json": {
       "columns": [
        {
         "name": "index",
         "rawType": "int64",
         "type": "integer"
        },
        {
         "name": "PROVINCE",
         "rawType": "object",
         "type": "string"
        },
        {
         "name": "DIVISION",
         "rawType": "object",
         "type": "string"
        },
        {
         "name": "DISTRICT",
         "rawType": "object",
         "type": "string"
        },
        {
         "name": "SUB DIVISION",
         "rawType": "object",
         "type": "string"
        },
        {
         "name": "AREA (sq.km)",
         "rawType": "float64",
         "type": "float"
        },
        {
         "name": "ALL SEXES (RURAL)",
         "rawType": "int64",
         "type": "integer"
        },
        {
         "name": "MALE (RURAL)",
         "rawType": "int64",
         "type": "integer"
        },
        {
         "name": "FEMALE (RURAL)",
         "rawType": "int64",
         "type": "integer"
        },
        {
         "name": "TRANSGENDER (RURAL)",
         "rawType": "int64",
         "type": "integer"
        },
        {
         "name": "SEX RATIO (RURAL)",
         "rawType": "float64",
         "type": "float"
        },
        {
         "name": "AVG HOUSEHOLD SIZE (RURAL)",
         "rawType": "float64",
         "type": "float"
        },
        {
         "name": "POPULATION 1998 (RURAL)",
         "rawType": "int64",
         "type": "integer"
        },
        {
         "name": "ANNUAL GROWTH RATE (RURAL)",
         "rawType": "float64",
         "type": "float"
        },
        {
         "name": "ALL SEXES (URBAN)",
         "rawType": "int64",
         "type": "integer"
        },
        {
         "name": "MALE (URBAN)",
         "rawType": "int64",
         "type": "integer"
        },
        {
         "name": "FEMALE (URBAN)",
         "rawType": "int64",
         "type": "integer"
        },
        {
         "name": "TRANSGENDER (URBAN)",
         "rawType": "int64",
         "type": "integer"
        },
        {
         "name": "SEX RATIO (URBAN)",
         "rawType": "float64",
         "type": "float"
        },
        {
         "name": "AVG HOUSEHOLD SIZE (URBAN)",
         "rawType": "float64",
         "type": "float"
        },
        {
         "name": "POPULATION 1998 (URBAN)",
         "rawType": "int64",
         "type": "integer"
        },
        {
         "name": "ANNUAL GROWTH RATE (URBAN)",
         "rawType": "float64",
         "type": "float"
        },
        {
         "name": "Sex_Urban",
         "rawType": "object",
         "type": "string"
        }
       ],
       "ref": "1eec80f0-4dfb-481b-9901-78dd951021cd",
       "rows": [
        [
         "0",
         "PUNJAB",
         "BAHAWALPUR DIVISION",
         "BAHAWALNAGAR DISTRICT",
         "BAHAWALNAGAR TEHSIL",
         "1729.0",
         "619550",
         "316864",
         "302644",
         "42",
         "104.7",
         "6.1",
         "407768",
         "2.22",
         "193840",
         "98391",
         "95402",
         "47",
         "103.13",
         "6.02",
         "133785",
         "1.97",
         "316864 302644 42"
        ],
        [
         "1",
         "PUNJAB",
         "BAHAWALPUR DIVISION",
         "BAHAWALNAGAR DISTRICT",
         "CHISHTIAN TEHSIL",
         "1500.0",
         "540342",
         "273788",
         "266500",
         "54",
         "102.73",
         "6.15",
         "395983",
         "1.65",
         "149424",
         "75546",
         "73851",
         "27",
         "102.3",
         "6.01",
         "102287",
         "2.01",
         "273788 266500 54"
        ],
        [
         "2",
         "PUNJAB",
         "BAHAWALPUR DIVISION",
         "BAHAWALNAGAR DISTRICT",
         "FORT ABBAS TEHSIL",
         "2536.0",
         "361240",
         "182655",
         "178541",
         "44",
         "102.3",
         "6.32",
         "250959",
         "1.93",
         "61528",
         "31360",
         "30150",
         "18",
         "104.01",
         "6.0",
         "34637",
         "3.06",
         "182655 178541 44"
        ],
        [
         "3",
         "PUNJAB",
         "BAHAWALPUR DIVISION",
         "BAHAWALNAGAR DISTRICT",
         "HAROONABAD TEHSIL",
         "1295.0",
         "382115",
         "192278",
         "189808",
         "29",
         "101.3",
         "6.15",
         "297343",
         "1.33",
         "142600",
         "71345",
         "71236",
         "19",
         "100.15",
         "6.02",
         "84424",
         "2.79",
         "192278 189808 29"
        ],
        [
         "4",
         "PUNJAB",
         "BAHAWALPUR DIVISION",
         "BAHAWALNAGAR DISTRICT",
         "MINCHINABAD TEHSIL",
         "1818.0",
         "452723",
         "231506",
         "221178",
         "39",
         "104.67",
         "6.29",
         "316593",
         "1.9",
         "72294",
         "36694",
         "35590",
         "10",
         "103.1",
         "6.34",
         "37668",
         "3.48",
         "231506 221178 39"
        ]
       ],
       "shape": {
        "columns": 22,
        "rows": 5
       }
      },
      "text/html": [
       "<div>\n",
       "<style scoped>\n",
       "    .dataframe tbody tr th:only-of-type {\n",
       "        vertical-align: middle;\n",
       "    }\n",
       "\n",
       "    .dataframe tbody tr th {\n",
       "        vertical-align: top;\n",
       "    }\n",
       "\n",
       "    .dataframe thead th {\n",
       "        text-align: right;\n",
       "    }\n",
       "</style>\n",
       "<table border=\"1\" class=\"dataframe\">\n",
       "  <thead>\n",
       "    <tr style=\"text-align: right;\">\n",
       "      <th></th>\n",
       "      <th>PROVINCE</th>\n",
       "      <th>DIVISION</th>\n",
       "      <th>DISTRICT</th>\n",
       "      <th>SUB DIVISION</th>\n",
       "      <th>AREA (sq.km)</th>\n",
       "      <th>ALL SEXES (RURAL)</th>\n",
       "      <th>MALE (RURAL)</th>\n",
       "      <th>FEMALE (RURAL)</th>\n",
       "      <th>TRANSGENDER (RURAL)</th>\n",
       "      <th>SEX RATIO (RURAL)</th>\n",
       "      <th>AVG HOUSEHOLD SIZE (RURAL)</th>\n",
       "      <th>POPULATION 1998 (RURAL)</th>\n",
       "      <th>ANNUAL GROWTH RATE (RURAL)</th>\n",
       "      <th>ALL SEXES (URBAN)</th>\n",
       "      <th>MALE (URBAN)</th>\n",
       "      <th>FEMALE (URBAN)</th>\n",
       "      <th>TRANSGENDER (URBAN)</th>\n",
       "      <th>SEX RATIO (URBAN)</th>\n",
       "      <th>AVG HOUSEHOLD SIZE (URBAN)</th>\n",
       "      <th>POPULATION 1998 (URBAN)</th>\n",
       "      <th>ANNUAL GROWTH RATE (URBAN)</th>\n",
       "      <th>Sex_Urban</th>\n",
       "    </tr>\n",
       "  </thead>\n",
       "  <tbody>\n",
       "    <tr>\n",
       "      <th>0</th>\n",
       "      <td>PUNJAB</td>\n",
       "      <td>BAHAWALPUR DIVISION</td>\n",
       "      <td>BAHAWALNAGAR DISTRICT</td>\n",
       "      <td>BAHAWALNAGAR TEHSIL</td>\n",
       "      <td>1729.0</td>\n",
       "      <td>619550</td>\n",
       "      <td>316864</td>\n",
       "      <td>302644</td>\n",
       "      <td>42</td>\n",
       "      <td>104.70</td>\n",
       "      <td>6.10</td>\n",
       "      <td>407768</td>\n",
       "      <td>2.22</td>\n",
       "      <td>193840</td>\n",
       "      <td>98391</td>\n",
       "      <td>95402</td>\n",
       "      <td>47</td>\n",
       "      <td>103.13</td>\n",
       "      <td>6.02</td>\n",
       "      <td>133785</td>\n",
       "      <td>1.97</td>\n",
       "      <td>316864 302644 42</td>\n",
       "    </tr>\n",
       "    <tr>\n",
       "      <th>1</th>\n",
       "      <td>PUNJAB</td>\n",
       "      <td>BAHAWALPUR DIVISION</td>\n",
       "      <td>BAHAWALNAGAR DISTRICT</td>\n",
       "      <td>CHISHTIAN TEHSIL</td>\n",
       "      <td>1500.0</td>\n",
       "      <td>540342</td>\n",
       "      <td>273788</td>\n",
       "      <td>266500</td>\n",
       "      <td>54</td>\n",
       "      <td>102.73</td>\n",
       "      <td>6.15</td>\n",
       "      <td>395983</td>\n",
       "      <td>1.65</td>\n",
       "      <td>149424</td>\n",
       "      <td>75546</td>\n",
       "      <td>73851</td>\n",
       "      <td>27</td>\n",
       "      <td>102.30</td>\n",
       "      <td>6.01</td>\n",
       "      <td>102287</td>\n",
       "      <td>2.01</td>\n",
       "      <td>273788 266500 54</td>\n",
       "    </tr>\n",
       "    <tr>\n",
       "      <th>2</th>\n",
       "      <td>PUNJAB</td>\n",
       "      <td>BAHAWALPUR DIVISION</td>\n",
       "      <td>BAHAWALNAGAR DISTRICT</td>\n",
       "      <td>FORT ABBAS TEHSIL</td>\n",
       "      <td>2536.0</td>\n",
       "      <td>361240</td>\n",
       "      <td>182655</td>\n",
       "      <td>178541</td>\n",
       "      <td>44</td>\n",
       "      <td>102.30</td>\n",
       "      <td>6.32</td>\n",
       "      <td>250959</td>\n",
       "      <td>1.93</td>\n",
       "      <td>61528</td>\n",
       "      <td>31360</td>\n",
       "      <td>30150</td>\n",
       "      <td>18</td>\n",
       "      <td>104.01</td>\n",
       "      <td>6.00</td>\n",
       "      <td>34637</td>\n",
       "      <td>3.06</td>\n",
       "      <td>182655 178541 44</td>\n",
       "    </tr>\n",
       "    <tr>\n",
       "      <th>3</th>\n",
       "      <td>PUNJAB</td>\n",
       "      <td>BAHAWALPUR DIVISION</td>\n",
       "      <td>BAHAWALNAGAR DISTRICT</td>\n",
       "      <td>HAROONABAD TEHSIL</td>\n",
       "      <td>1295.0</td>\n",
       "      <td>382115</td>\n",
       "      <td>192278</td>\n",
       "      <td>189808</td>\n",
       "      <td>29</td>\n",
       "      <td>101.30</td>\n",
       "      <td>6.15</td>\n",
       "      <td>297343</td>\n",
       "      <td>1.33</td>\n",
       "      <td>142600</td>\n",
       "      <td>71345</td>\n",
       "      <td>71236</td>\n",
       "      <td>19</td>\n",
       "      <td>100.15</td>\n",
       "      <td>6.02</td>\n",
       "      <td>84424</td>\n",
       "      <td>2.79</td>\n",
       "      <td>192278 189808 29</td>\n",
       "    </tr>\n",
       "    <tr>\n",
       "      <th>4</th>\n",
       "      <td>PUNJAB</td>\n",
       "      <td>BAHAWALPUR DIVISION</td>\n",
       "      <td>BAHAWALNAGAR DISTRICT</td>\n",
       "      <td>MINCHINABAD TEHSIL</td>\n",
       "      <td>1818.0</td>\n",
       "      <td>452723</td>\n",
       "      <td>231506</td>\n",
       "      <td>221178</td>\n",
       "      <td>39</td>\n",
       "      <td>104.67</td>\n",
       "      <td>6.29</td>\n",
       "      <td>316593</td>\n",
       "      <td>1.90</td>\n",
       "      <td>72294</td>\n",
       "      <td>36694</td>\n",
       "      <td>35590</td>\n",
       "      <td>10</td>\n",
       "      <td>103.10</td>\n",
       "      <td>6.34</td>\n",
       "      <td>37668</td>\n",
       "      <td>3.48</td>\n",
       "      <td>231506 221178 39</td>\n",
       "    </tr>\n",
       "  </tbody>\n",
       "</table>\n",
       "</div>"
      ],
      "text/plain": [
       "  PROVINCE             DIVISION               DISTRICT         SUB DIVISION  \\\n",
       "0   PUNJAB  BAHAWALPUR DIVISION  BAHAWALNAGAR DISTRICT  BAHAWALNAGAR TEHSIL   \n",
       "1   PUNJAB  BAHAWALPUR DIVISION  BAHAWALNAGAR DISTRICT     CHISHTIAN TEHSIL   \n",
       "2   PUNJAB  BAHAWALPUR DIVISION  BAHAWALNAGAR DISTRICT    FORT ABBAS TEHSIL   \n",
       "3   PUNJAB  BAHAWALPUR DIVISION  BAHAWALNAGAR DISTRICT    HAROONABAD TEHSIL   \n",
       "4   PUNJAB  BAHAWALPUR DIVISION  BAHAWALNAGAR DISTRICT   MINCHINABAD TEHSIL   \n",
       "\n",
       "   AREA (sq.km)  ALL SEXES (RURAL)  MALE (RURAL)  FEMALE (RURAL)  \\\n",
       "0        1729.0             619550        316864          302644   \n",
       "1        1500.0             540342        273788          266500   \n",
       "2        2536.0             361240        182655          178541   \n",
       "3        1295.0             382115        192278          189808   \n",
       "4        1818.0             452723        231506          221178   \n",
       "\n",
       "   TRANSGENDER (RURAL)  SEX RATIO (RURAL)  AVG HOUSEHOLD SIZE (RURAL)  \\\n",
       "0                   42             104.70                        6.10   \n",
       "1                   54             102.73                        6.15   \n",
       "2                   44             102.30                        6.32   \n",
       "3                   29             101.30                        6.15   \n",
       "4                   39             104.67                        6.29   \n",
       "\n",
       "   POPULATION 1998 (RURAL)  ANNUAL GROWTH RATE (RURAL)  ALL SEXES (URBAN)  \\\n",
       "0                   407768                        2.22             193840   \n",
       "1                   395983                        1.65             149424   \n",
       "2                   250959                        1.93              61528   \n",
       "3                   297343                        1.33             142600   \n",
       "4                   316593                        1.90              72294   \n",
       "\n",
       "   MALE (URBAN)  FEMALE (URBAN)  TRANSGENDER (URBAN)  SEX RATIO (URBAN)  \\\n",
       "0         98391           95402                   47             103.13   \n",
       "1         75546           73851                   27             102.30   \n",
       "2         31360           30150                   18             104.01   \n",
       "3         71345           71236                   19             100.15   \n",
       "4         36694           35590                   10             103.10   \n",
       "\n",
       "   AVG HOUSEHOLD SIZE (URBAN)  POPULATION 1998 (URBAN)  \\\n",
       "0                        6.02                   133785   \n",
       "1                        6.01                   102287   \n",
       "2                        6.00                    34637   \n",
       "3                        6.02                    84424   \n",
       "4                        6.34                    37668   \n",
       "\n",
       "   ANNUAL GROWTH RATE (URBAN)         Sex_Urban  \n",
       "0                        1.97  316864 302644 42  \n",
       "1                        2.01  273788 266500 54  \n",
       "2                        3.06  182655 178541 44  \n",
       "3                        2.79  192278 189808 29  \n",
       "4                        3.48  231506 221178 39  "
      ]
     },
     "execution_count": 68,
     "metadata": {},
     "output_type": "execute_result"
    }
   ],
   "source": [
    "df_copy.head()"
   ]
  },
  {
   "cell_type": "markdown",
   "id": "d398b6dc",
   "metadata": {},
   "source": [
    "## This is how we can drop the colum"
   ]
  },
  {
   "cell_type": "code",
   "execution_count": 69,
   "id": "70ef7ec8",
   "metadata": {},
   "outputs": [],
   "source": [
    "df_copy.drop('Sex_urban', axis=1, inplace=True, errors='ignore')"
   ]
  },
  {
   "cell_type": "code",
   "execution_count": 70,
   "id": "f9d0d6ff",
   "metadata": {},
   "outputs": [
    {
     "data": {
      "application/vnd.microsoft.datawrangler.viewer.v0+json": {
       "columns": [
        {
         "name": "index",
         "rawType": "int64",
         "type": "integer"
        },
        {
         "name": "PROVINCE",
         "rawType": "object",
         "type": "string"
        },
        {
         "name": "DIVISION",
         "rawType": "object",
         "type": "string"
        },
        {
         "name": "DISTRICT",
         "rawType": "object",
         "type": "string"
        },
        {
         "name": "SUB DIVISION",
         "rawType": "object",
         "type": "string"
        },
        {
         "name": "AREA (sq.km)",
         "rawType": "float64",
         "type": "float"
        },
        {
         "name": "ALL SEXES (RURAL)",
         "rawType": "int64",
         "type": "integer"
        },
        {
         "name": "MALE (RURAL)",
         "rawType": "int64",
         "type": "integer"
        },
        {
         "name": "FEMALE (RURAL)",
         "rawType": "int64",
         "type": "integer"
        },
        {
         "name": "TRANSGENDER (RURAL)",
         "rawType": "int64",
         "type": "integer"
        },
        {
         "name": "SEX RATIO (RURAL)",
         "rawType": "float64",
         "type": "float"
        },
        {
         "name": "AVG HOUSEHOLD SIZE (RURAL)",
         "rawType": "float64",
         "type": "float"
        },
        {
         "name": "POPULATION 1998 (RURAL)",
         "rawType": "int64",
         "type": "integer"
        },
        {
         "name": "ANNUAL GROWTH RATE (RURAL)",
         "rawType": "float64",
         "type": "float"
        },
        {
         "name": "ALL SEXES (URBAN)",
         "rawType": "int64",
         "type": "integer"
        },
        {
         "name": "MALE (URBAN)",
         "rawType": "int64",
         "type": "integer"
        },
        {
         "name": "FEMALE (URBAN)",
         "rawType": "int64",
         "type": "integer"
        },
        {
         "name": "TRANSGENDER (URBAN)",
         "rawType": "int64",
         "type": "integer"
        },
        {
         "name": "SEX RATIO (URBAN)",
         "rawType": "float64",
         "type": "float"
        },
        {
         "name": "AVG HOUSEHOLD SIZE (URBAN)",
         "rawType": "float64",
         "type": "float"
        },
        {
         "name": "POPULATION 1998 (URBAN)",
         "rawType": "int64",
         "type": "integer"
        },
        {
         "name": "ANNUAL GROWTH RATE (URBAN)",
         "rawType": "float64",
         "type": "float"
        },
        {
         "name": "Sex_Urban",
         "rawType": "object",
         "type": "string"
        }
       ],
       "ref": "88a433ef-2596-48fb-93cf-2b5417947c99",
       "rows": [
        [
         "0",
         "PUNJAB",
         "BAHAWALPUR DIVISION",
         "BAHAWALNAGAR DISTRICT",
         "BAHAWALNAGAR TEHSIL",
         "1729.0",
         "619550",
         "316864",
         "302644",
         "42",
         "104.7",
         "6.1",
         "407768",
         "2.22",
         "193840",
         "98391",
         "95402",
         "47",
         "103.13",
         "6.02",
         "133785",
         "1.97",
         "316864 302644 42"
        ],
        [
         "1",
         "PUNJAB",
         "BAHAWALPUR DIVISION",
         "BAHAWALNAGAR DISTRICT",
         "CHISHTIAN TEHSIL",
         "1500.0",
         "540342",
         "273788",
         "266500",
         "54",
         "102.73",
         "6.15",
         "395983",
         "1.65",
         "149424",
         "75546",
         "73851",
         "27",
         "102.3",
         "6.01",
         "102287",
         "2.01",
         "273788 266500 54"
        ],
        [
         "2",
         "PUNJAB",
         "BAHAWALPUR DIVISION",
         "BAHAWALNAGAR DISTRICT",
         "FORT ABBAS TEHSIL",
         "2536.0",
         "361240",
         "182655",
         "178541",
         "44",
         "102.3",
         "6.32",
         "250959",
         "1.93",
         "61528",
         "31360",
         "30150",
         "18",
         "104.01",
         "6.0",
         "34637",
         "3.06",
         "182655 178541 44"
        ],
        [
         "3",
         "PUNJAB",
         "BAHAWALPUR DIVISION",
         "BAHAWALNAGAR DISTRICT",
         "HAROONABAD TEHSIL",
         "1295.0",
         "382115",
         "192278",
         "189808",
         "29",
         "101.3",
         "6.15",
         "297343",
         "1.33",
         "142600",
         "71345",
         "71236",
         "19",
         "100.15",
         "6.02",
         "84424",
         "2.79",
         "192278 189808 29"
        ],
        [
         "4",
         "PUNJAB",
         "BAHAWALPUR DIVISION",
         "BAHAWALNAGAR DISTRICT",
         "MINCHINABAD TEHSIL",
         "1818.0",
         "452723",
         "231506",
         "221178",
         "39",
         "104.67",
         "6.29",
         "316593",
         "1.9",
         "72294",
         "36694",
         "35590",
         "10",
         "103.1",
         "6.34",
         "37668",
         "3.48",
         "231506 221178 39"
        ]
       ],
       "shape": {
        "columns": 22,
        "rows": 5
       }
      },
      "text/html": [
       "<div>\n",
       "<style scoped>\n",
       "    .dataframe tbody tr th:only-of-type {\n",
       "        vertical-align: middle;\n",
       "    }\n",
       "\n",
       "    .dataframe tbody tr th {\n",
       "        vertical-align: top;\n",
       "    }\n",
       "\n",
       "    .dataframe thead th {\n",
       "        text-align: right;\n",
       "    }\n",
       "</style>\n",
       "<table border=\"1\" class=\"dataframe\">\n",
       "  <thead>\n",
       "    <tr style=\"text-align: right;\">\n",
       "      <th></th>\n",
       "      <th>PROVINCE</th>\n",
       "      <th>DIVISION</th>\n",
       "      <th>DISTRICT</th>\n",
       "      <th>SUB DIVISION</th>\n",
       "      <th>AREA (sq.km)</th>\n",
       "      <th>ALL SEXES (RURAL)</th>\n",
       "      <th>MALE (RURAL)</th>\n",
       "      <th>FEMALE (RURAL)</th>\n",
       "      <th>TRANSGENDER (RURAL)</th>\n",
       "      <th>SEX RATIO (RURAL)</th>\n",
       "      <th>AVG HOUSEHOLD SIZE (RURAL)</th>\n",
       "      <th>POPULATION 1998 (RURAL)</th>\n",
       "      <th>ANNUAL GROWTH RATE (RURAL)</th>\n",
       "      <th>ALL SEXES (URBAN)</th>\n",
       "      <th>MALE (URBAN)</th>\n",
       "      <th>FEMALE (URBAN)</th>\n",
       "      <th>TRANSGENDER (URBAN)</th>\n",
       "      <th>SEX RATIO (URBAN)</th>\n",
       "      <th>AVG HOUSEHOLD SIZE (URBAN)</th>\n",
       "      <th>POPULATION 1998 (URBAN)</th>\n",
       "      <th>ANNUAL GROWTH RATE (URBAN)</th>\n",
       "      <th>Sex_Urban</th>\n",
       "    </tr>\n",
       "  </thead>\n",
       "  <tbody>\n",
       "    <tr>\n",
       "      <th>0</th>\n",
       "      <td>PUNJAB</td>\n",
       "      <td>BAHAWALPUR DIVISION</td>\n",
       "      <td>BAHAWALNAGAR DISTRICT</td>\n",
       "      <td>BAHAWALNAGAR TEHSIL</td>\n",
       "      <td>1729.0</td>\n",
       "      <td>619550</td>\n",
       "      <td>316864</td>\n",
       "      <td>302644</td>\n",
       "      <td>42</td>\n",
       "      <td>104.70</td>\n",
       "      <td>6.10</td>\n",
       "      <td>407768</td>\n",
       "      <td>2.22</td>\n",
       "      <td>193840</td>\n",
       "      <td>98391</td>\n",
       "      <td>95402</td>\n",
       "      <td>47</td>\n",
       "      <td>103.13</td>\n",
       "      <td>6.02</td>\n",
       "      <td>133785</td>\n",
       "      <td>1.97</td>\n",
       "      <td>316864 302644 42</td>\n",
       "    </tr>\n",
       "    <tr>\n",
       "      <th>1</th>\n",
       "      <td>PUNJAB</td>\n",
       "      <td>BAHAWALPUR DIVISION</td>\n",
       "      <td>BAHAWALNAGAR DISTRICT</td>\n",
       "      <td>CHISHTIAN TEHSIL</td>\n",
       "      <td>1500.0</td>\n",
       "      <td>540342</td>\n",
       "      <td>273788</td>\n",
       "      <td>266500</td>\n",
       "      <td>54</td>\n",
       "      <td>102.73</td>\n",
       "      <td>6.15</td>\n",
       "      <td>395983</td>\n",
       "      <td>1.65</td>\n",
       "      <td>149424</td>\n",
       "      <td>75546</td>\n",
       "      <td>73851</td>\n",
       "      <td>27</td>\n",
       "      <td>102.30</td>\n",
       "      <td>6.01</td>\n",
       "      <td>102287</td>\n",
       "      <td>2.01</td>\n",
       "      <td>273788 266500 54</td>\n",
       "    </tr>\n",
       "    <tr>\n",
       "      <th>2</th>\n",
       "      <td>PUNJAB</td>\n",
       "      <td>BAHAWALPUR DIVISION</td>\n",
       "      <td>BAHAWALNAGAR DISTRICT</td>\n",
       "      <td>FORT ABBAS TEHSIL</td>\n",
       "      <td>2536.0</td>\n",
       "      <td>361240</td>\n",
       "      <td>182655</td>\n",
       "      <td>178541</td>\n",
       "      <td>44</td>\n",
       "      <td>102.30</td>\n",
       "      <td>6.32</td>\n",
       "      <td>250959</td>\n",
       "      <td>1.93</td>\n",
       "      <td>61528</td>\n",
       "      <td>31360</td>\n",
       "      <td>30150</td>\n",
       "      <td>18</td>\n",
       "      <td>104.01</td>\n",
       "      <td>6.00</td>\n",
       "      <td>34637</td>\n",
       "      <td>3.06</td>\n",
       "      <td>182655 178541 44</td>\n",
       "    </tr>\n",
       "    <tr>\n",
       "      <th>3</th>\n",
       "      <td>PUNJAB</td>\n",
       "      <td>BAHAWALPUR DIVISION</td>\n",
       "      <td>BAHAWALNAGAR DISTRICT</td>\n",
       "      <td>HAROONABAD TEHSIL</td>\n",
       "      <td>1295.0</td>\n",
       "      <td>382115</td>\n",
       "      <td>192278</td>\n",
       "      <td>189808</td>\n",
       "      <td>29</td>\n",
       "      <td>101.30</td>\n",
       "      <td>6.15</td>\n",
       "      <td>297343</td>\n",
       "      <td>1.33</td>\n",
       "      <td>142600</td>\n",
       "      <td>71345</td>\n",
       "      <td>71236</td>\n",
       "      <td>19</td>\n",
       "      <td>100.15</td>\n",
       "      <td>6.02</td>\n",
       "      <td>84424</td>\n",
       "      <td>2.79</td>\n",
       "      <td>192278 189808 29</td>\n",
       "    </tr>\n",
       "    <tr>\n",
       "      <th>4</th>\n",
       "      <td>PUNJAB</td>\n",
       "      <td>BAHAWALPUR DIVISION</td>\n",
       "      <td>BAHAWALNAGAR DISTRICT</td>\n",
       "      <td>MINCHINABAD TEHSIL</td>\n",
       "      <td>1818.0</td>\n",
       "      <td>452723</td>\n",
       "      <td>231506</td>\n",
       "      <td>221178</td>\n",
       "      <td>39</td>\n",
       "      <td>104.67</td>\n",
       "      <td>6.29</td>\n",
       "      <td>316593</td>\n",
       "      <td>1.90</td>\n",
       "      <td>72294</td>\n",
       "      <td>36694</td>\n",
       "      <td>35590</td>\n",
       "      <td>10</td>\n",
       "      <td>103.10</td>\n",
       "      <td>6.34</td>\n",
       "      <td>37668</td>\n",
       "      <td>3.48</td>\n",
       "      <td>231506 221178 39</td>\n",
       "    </tr>\n",
       "  </tbody>\n",
       "</table>\n",
       "</div>"
      ],
      "text/plain": [
       "  PROVINCE             DIVISION               DISTRICT         SUB DIVISION  \\\n",
       "0   PUNJAB  BAHAWALPUR DIVISION  BAHAWALNAGAR DISTRICT  BAHAWALNAGAR TEHSIL   \n",
       "1   PUNJAB  BAHAWALPUR DIVISION  BAHAWALNAGAR DISTRICT     CHISHTIAN TEHSIL   \n",
       "2   PUNJAB  BAHAWALPUR DIVISION  BAHAWALNAGAR DISTRICT    FORT ABBAS TEHSIL   \n",
       "3   PUNJAB  BAHAWALPUR DIVISION  BAHAWALNAGAR DISTRICT    HAROONABAD TEHSIL   \n",
       "4   PUNJAB  BAHAWALPUR DIVISION  BAHAWALNAGAR DISTRICT   MINCHINABAD TEHSIL   \n",
       "\n",
       "   AREA (sq.km)  ALL SEXES (RURAL)  MALE (RURAL)  FEMALE (RURAL)  \\\n",
       "0        1729.0             619550        316864          302644   \n",
       "1        1500.0             540342        273788          266500   \n",
       "2        2536.0             361240        182655          178541   \n",
       "3        1295.0             382115        192278          189808   \n",
       "4        1818.0             452723        231506          221178   \n",
       "\n",
       "   TRANSGENDER (RURAL)  SEX RATIO (RURAL)  AVG HOUSEHOLD SIZE (RURAL)  \\\n",
       "0                   42             104.70                        6.10   \n",
       "1                   54             102.73                        6.15   \n",
       "2                   44             102.30                        6.32   \n",
       "3                   29             101.30                        6.15   \n",
       "4                   39             104.67                        6.29   \n",
       "\n",
       "   POPULATION 1998 (RURAL)  ANNUAL GROWTH RATE (RURAL)  ALL SEXES (URBAN)  \\\n",
       "0                   407768                        2.22             193840   \n",
       "1                   395983                        1.65             149424   \n",
       "2                   250959                        1.93              61528   \n",
       "3                   297343                        1.33             142600   \n",
       "4                   316593                        1.90              72294   \n",
       "\n",
       "   MALE (URBAN)  FEMALE (URBAN)  TRANSGENDER (URBAN)  SEX RATIO (URBAN)  \\\n",
       "0         98391           95402                   47             103.13   \n",
       "1         75546           73851                   27             102.30   \n",
       "2         31360           30150                   18             104.01   \n",
       "3         71345           71236                   19             100.15   \n",
       "4         36694           35590                   10             103.10   \n",
       "\n",
       "   AVG HOUSEHOLD SIZE (URBAN)  POPULATION 1998 (URBAN)  \\\n",
       "0                        6.02                   133785   \n",
       "1                        6.01                   102287   \n",
       "2                        6.00                    34637   \n",
       "3                        6.02                    84424   \n",
       "4                        6.34                    37668   \n",
       "\n",
       "   ANNUAL GROWTH RATE (URBAN)         Sex_Urban  \n",
       "0                        1.97  316864 302644 42  \n",
       "1                        2.01  273788 266500 54  \n",
       "2                        3.06  182655 178541 44  \n",
       "3                        2.79  192278 189808 29  \n",
       "4                        3.48  231506 221178 39  "
      ]
     },
     "execution_count": 70,
     "metadata": {},
     "output_type": "execute_result"
    }
   ],
   "source": [
    "df_copy.head()"
   ]
  },
  {
   "cell_type": "code",
   "execution_count": 71,
   "id": "14043814",
   "metadata": {},
   "outputs": [],
   "source": [
    "df_copy.drop('Sex_Urban', axis=1, inplace=True, errors='ignore')"
   ]
  }
 ],
 "metadata": {
  "kernelspec": {
   "display_name": "pandas_tip_env",
   "language": "python",
   "name": "python3"
  },
  "language_info": {
   "codemirror_mode": {
    "name": "ipython",
    "version": 3
   },
   "file_extension": ".py",
   "mimetype": "text/x-python",
   "name": "python",
   "nbconvert_exporter": "python",
   "pygments_lexer": "ipython3",
   "version": "3.13.5"
  }
 },
 "nbformat": 4,
 "nbformat_minor": 5
}
