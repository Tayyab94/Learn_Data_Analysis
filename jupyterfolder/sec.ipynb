{
 "cells": [
  {
   "cell_type": "code",
   "execution_count": 3,
   "id": "25afa041",
   "metadata": {},
   "outputs": [
    {
     "name": "stdout",
     "output_type": "stream",
     "text": [
      "YOu have is -1\n"
     ]
    }
   ],
   "source": [
    "x=-1\n",
    "\n",
    "if x <=0:\n",
    "    print(f\"YOu have is {x}\")\n",
    "else:\n",
    "    print(f\"You have {x} items\")"
   ]
  },
  {
   "cell_type": "code",
   "execution_count": 9,
   "id": "2b3795a6",
   "metadata": {},
   "outputs": [
    {
     "name": "stdout",
     "output_type": "stream",
     "text": [
      "Encrypted message: _??_?\n",
      "Decrypted message: _??_?\n"
     ]
    }
   ],
   "source": [
    "\n",
    "\n",
    "def encrypt_fucntion(text, key):\n",
    "    encrypted_text = ''.join(chr(ord(char)| key) for char in text)\n",
    "    return encrypted_text\n",
    "\n",
    "\n",
    "message = \"Hello, World!\"\n",
    "key = 31\n",
    "\n",
    "encrypted_message = encrypt_fucntion(message, key)\n",
    "decrypted_message = encrypt_fucntion(encrypted_message, key)\n",
    "\n",
    "print(f\"Encrypted message: {encrypted_message}\")\n",
    "\n",
    "print(f\"Decrypted message: {decrypted_message}\")"
   ]
  },
  {
   "cell_type": "code",
   "execution_count": 15,
   "id": "1e5652c0",
   "metadata": {},
   "outputs": [
    {
     "name": "stdout",
     "output_type": "stream",
     "text": [
      " t is present in tayyab : True\n",
      " o is present  in hello: True\n"
     ]
    }
   ],
   "source": [
    "name=\"tayyab\"\n",
    "hello=\"hello\"\n",
    "print(f\" t is present in {name} : {'ab' in name}\")\n",
    "\n",
    "print(f\" o is present  in {hello}: {'o' in hello}\")"
   ]
  },
  {
   "cell_type": "code",
   "execution_count": 17,
   "id": "09eab8ec",
   "metadata": {},
   "outputs": [
    {
     "name": "stdout",
     "output_type": "stream",
     "text": [
      "Temperature in Fahrenheit: 54.14\n"
     ]
    }
   ],
   "source": [
    "calcius = float(input(\"Enter temperature in Celsius: \"))\n",
    "\n",
    "\n",
    "faherenheit = (calcius * 9/5) + 32\n",
    "print(f\"Temperature in Fahrenheit: {faherenheit:.2f}\")"
   ]
  },
  {
   "cell_type": "code",
   "execution_count": 7,
   "id": "8a17d6df",
   "metadata": {},
   "outputs": [
    {
     "name": "stdout",
     "output_type": "stream",
     "text": [
      "Hello, we! Welcome to the program.\n",
      "Your name has 2 characters.\n",
      "type of the name is <class 'str'>\n",
      "Your name is not a number\n"
     ]
    }
   ],
   "source": [
    "name : str = input(\"Enter your name: \")\n",
    "print(f\"Hello, {name}! Welcome to the program.\")\n",
    "print(f\"Your name has {len(name)} characters.\")\n",
    "print(f\"type of the name is {type(name)}\")\n",
    "\n",
    "if name.isdigit():\n",
    "    print(f\" Conver the type of Name in to Int : {type(int(name))}\")\n",
    "else:\n",
    "    print(\"Your name is not a number\")"
   ]
  },
  {
   "cell_type": "code",
   "execution_count": 12,
   "id": "e3ece411",
   "metadata": {},
   "outputs": [
    {
     "name": "stdout",
     "output_type": "stream",
     "text": [
      "{'Peshawar', 'Lahore', 'Multan', 'Islamabad ', 'Faisalabad', 'Iran', 'Karachi'}\n"
     ]
    }
   ],
   "source": [
    "cities_day1={\"Lahore\",\"Multan\",\"Karachi\",\"Islamabad \",\"Peshawar\"}\n",
    "\n",
    "cities_day2={\"Lahore\",\"Faisalabad\",\"Karachi\",\"Islamabad \",\"Iran\"}\n",
    "\n",
    "print(cities_day1.union(cities_day2))"
   ]
  },
  {
   "cell_type": "code",
   "execution_count": 15,
   "id": "ea29139b",
   "metadata": {},
   "outputs": [
    {
     "name": "stdout",
     "output_type": "stream",
     "text": [
      "No-show attendees: {'Alice', 'David'}\n",
      "{'Alice', 'David'}\n",
      "{'Bob', 'Charlie', 'Eve'}\n"
     ]
    }
   ],
   "source": [
    "registered = {\"Alice\", \"Bob\", \"Charlie\", \"David\", \"Eve\"}\n",
    "\n",
    "# People who actually attended\n",
    "attended = {\"Bob\", \"Charlie\", \"Eve\", \"Frank\"}\n",
    "\n",
    "# ✅ Who didn’t show up?\n",
    "no_show = registered - attended\n",
    "print(\"No-show attendees:\", no_show)\n",
    "print(registered.difference(attended))\n",
    "print(registered.intersection(attended))"
   ]
  },
  {
   "cell_type": "code",
   "execution_count": 17,
   "id": "2bd3b735",
   "metadata": {},
   "outputs": [
    {
     "name": "stdout",
     "output_type": "stream",
     "text": [
      "Unregistered attendees: {'Frank'}\n",
      "{'Frank'}\n",
      "{'Bob', 'Charlie', 'Eve'}\n"
     ]
    }
   ],
   "source": [
    "# ✅ Who came without registering?\n",
    "unregistered_attendees = attended - registered\n",
    "print(\"Unregistered attendees:\", unregistered_attendees)\n",
    "\n",
    "print(attended.difference(registered))\n",
    "print(attended.intersection(registered))"
   ]
  },
  {
   "cell_type": "code",
   "execution_count": 23,
   "id": "00d8ea27",
   "metadata": {},
   "outputs": [
    {
     "name": "stdout",
     "output_type": "stream",
     "text": [
      "Menu items:\n",
      " 0. Biryani\n",
      " 1. Karahi\n",
      " 2. Nihari\n",
      " 3. Kebab\n",
      " 4. Qorma\n",
      " 5. Pulao\n",
      " 6. Samosa\n",
      " 7. Pakora\n",
      " 8. Chaat\n",
      " 9. Halwa\n"
     ]
    }
   ],
   "source": [
    "menu=[\"Biryani\",\"Karahi\",\"Nihari\",\"Kebab\",\"Qorma\"\n",
    ",\"Pulao\",\"Samosa\",\"Pakora\",\"Chaat\",\"Halwa\"]\n",
    "\n",
    "\n",
    "\n",
    "# i =0\n",
    "# while i < len(menu):\n",
    "#     print(f\"{i+1}. {menu[i]}\")\n",
    "#     i += 1\n",
    "\n",
    "print(\"Menu items:\")\n",
    "\n",
    "# for index, item in enumerate(menu, start=0):\n",
    "#     print(f\"{index}. {item}\")\n",
    "\n",
    "\n",
    "for menuList in menu:\n",
    "    print(f\" {menu.index(menuList)}. {menuList}\")"
   ]
  },
  {
   "cell_type": "code",
   "execution_count": 4,
   "id": "ce3e474f",
   "metadata": {},
   "outputs": [
    {
     "name": "stdout",
     "output_type": "stream",
     "text": [
      "True\n"
     ]
    }
   ],
   "source": [
    "print(123> 100 and 34==34)"
   ]
  }
 ],
 "metadata": {
  "kernelspec": {
   "display_name": "Tayyab (python_eda)",
   "language": "python",
   "name": "python_eda"
  },
  "language_info": {
   "codemirror_mode": {
    "name": "ipython",
    "version": 3
   },
   "file_extension": ".py",
   "mimetype": "text/x-python",
   "name": "python",
   "nbconvert_exporter": "python",
   "pygments_lexer": "ipython3",
   "version": "3.13.5"
  }
 },
 "nbformat": 4,
 "nbformat_minor": 5
}
