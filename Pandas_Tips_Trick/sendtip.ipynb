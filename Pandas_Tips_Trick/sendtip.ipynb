{
 "cells": [
  {
   "cell_type": "markdown",
   "id": "b55623da",
   "metadata": {},
   "source": [
    "# split the string into multi columns"
   ]
  },
  {
   "cell_type": "code",
   "execution_count": 1,
   "id": "e1b1f4e4",
   "metadata": {},
   "outputs": [],
   "source": [
    "import pandas as pd"
   ]
  },
  {
   "cell_type": "markdown",
   "id": "acca7ec6",
   "metadata": {},
   "source": [
    "Make a dataframe"
   ]
  },
  {
   "cell_type": "code",
   "execution_count": 2,
   "id": "5559889d",
   "metadata": {},
   "outputs": [],
   "source": [
    "df= pd.DataFrame({\n",
    "    'Name':['Ali Raza','Ahmad Ali','Talha habib'],\n",
    "    'Address':['Pakistan Lahore','Karachi Pakistan','Pakistan Islamabad']\n",
    "})"
   ]
  },
  {
   "cell_type": "code",
   "execution_count": 3,
   "id": "71ce4e38",
   "metadata": {},
   "outputs": [
    {
     "data": {
      "application/vnd.microsoft.datawrangler.viewer.v0+json": {
       "columns": [
        {
         "name": "index",
         "rawType": "int64",
         "type": "integer"
        },
        {
         "name": "Name",
         "rawType": "object",
         "type": "string"
        },
        {
         "name": "Address",
         "rawType": "object",
         "type": "string"
        }
       ],
       "ref": "59270994-6efd-4186-8f0a-a68e4c62e809",
       "rows": [
        [
         "0",
         "Ali Raza",
         "Pakistan Lahore"
        ],
        [
         "1",
         "Ahmad Ali",
         "Karachi Pakistan"
        ],
        [
         "2",
         "Talha habib",
         "Pakistan Islamabad"
        ]
       ],
       "shape": {
        "columns": 2,
        "rows": 3
       }
      },
      "text/html": [
       "<div>\n",
       "<style scoped>\n",
       "    .dataframe tbody tr th:only-of-type {\n",
       "        vertical-align: middle;\n",
       "    }\n",
       "\n",
       "    .dataframe tbody tr th {\n",
       "        vertical-align: top;\n",
       "    }\n",
       "\n",
       "    .dataframe thead th {\n",
       "        text-align: right;\n",
       "    }\n",
       "</style>\n",
       "<table border=\"1\" class=\"dataframe\">\n",
       "  <thead>\n",
       "    <tr style=\"text-align: right;\">\n",
       "      <th></th>\n",
       "      <th>Name</th>\n",
       "      <th>Address</th>\n",
       "    </tr>\n",
       "  </thead>\n",
       "  <tbody>\n",
       "    <tr>\n",
       "      <th>0</th>\n",
       "      <td>Ali Raza</td>\n",
       "      <td>Pakistan Lahore</td>\n",
       "    </tr>\n",
       "    <tr>\n",
       "      <th>1</th>\n",
       "      <td>Ahmad Ali</td>\n",
       "      <td>Karachi Pakistan</td>\n",
       "    </tr>\n",
       "    <tr>\n",
       "      <th>2</th>\n",
       "      <td>Talha habib</td>\n",
       "      <td>Pakistan Islamabad</td>\n",
       "    </tr>\n",
       "  </tbody>\n",
       "</table>\n",
       "</div>"
      ],
      "text/plain": [
       "          Name             Address\n",
       "0     Ali Raza     Pakistan Lahore\n",
       "1    Ahmad Ali    Karachi Pakistan\n",
       "2  Talha habib  Pakistan Islamabad"
      ]
     },
     "execution_count": 3,
     "metadata": {},
     "output_type": "execute_result"
    }
   ],
   "source": [
    "df"
   ]
  },
  {
   "cell_type": "markdown",
   "id": "eb648868",
   "metadata": {},
   "source": [
    "this is how we can split the data of any column"
   ]
  },
  {
   "cell_type": "code",
   "execution_count": 4,
   "id": "76a345d3",
   "metadata": {},
   "outputs": [
    {
     "data": {
      "application/vnd.microsoft.datawrangler.viewer.v0+json": {
       "columns": [
        {
         "name": "index",
         "rawType": "int64",
         "type": "integer"
        },
        {
         "name": "0",
         "rawType": "object",
         "type": "string"
        },
        {
         "name": "1",
         "rawType": "object",
         "type": "string"
        }
       ],
       "ref": "fc9077fc-f8ba-4013-ac16-b2be47942915",
       "rows": [
        [
         "0",
         "Ali",
         "Raza"
        ],
        [
         "1",
         "Ahmad",
         "Ali"
        ],
        [
         "2",
         "Talha",
         "habib"
        ]
       ],
       "shape": {
        "columns": 2,
        "rows": 3
       }
      },
      "text/html": [
       "<div>\n",
       "<style scoped>\n",
       "    .dataframe tbody tr th:only-of-type {\n",
       "        vertical-align: middle;\n",
       "    }\n",
       "\n",
       "    .dataframe tbody tr th {\n",
       "        vertical-align: top;\n",
       "    }\n",
       "\n",
       "    .dataframe thead th {\n",
       "        text-align: right;\n",
       "    }\n",
       "</style>\n",
       "<table border=\"1\" class=\"dataframe\">\n",
       "  <thead>\n",
       "    <tr style=\"text-align: right;\">\n",
       "      <th></th>\n",
       "      <th>0</th>\n",
       "      <th>1</th>\n",
       "    </tr>\n",
       "  </thead>\n",
       "  <tbody>\n",
       "    <tr>\n",
       "      <th>0</th>\n",
       "      <td>Ali</td>\n",
       "      <td>Raza</td>\n",
       "    </tr>\n",
       "    <tr>\n",
       "      <th>1</th>\n",
       "      <td>Ahmad</td>\n",
       "      <td>Ali</td>\n",
       "    </tr>\n",
       "    <tr>\n",
       "      <th>2</th>\n",
       "      <td>Talha</td>\n",
       "      <td>habib</td>\n",
       "    </tr>\n",
       "  </tbody>\n",
       "</table>\n",
       "</div>"
      ],
      "text/plain": [
       "       0      1\n",
       "0    Ali   Raza\n",
       "1  Ahmad    Ali\n",
       "2  Talha  habib"
      ]
     },
     "execution_count": 4,
     "metadata": {},
     "output_type": "execute_result"
    }
   ],
   "source": [
    "df.Name.str.split(' ',expand=True)"
   ]
  },
  {
   "cell_type": "markdown",
   "id": "2f5f94bd",
   "metadata": {},
   "source": [
    "appending new column names into the existing dataframe"
   ]
  },
  {
   "cell_type": "code",
   "execution_count": 6,
   "id": "3564ef54",
   "metadata": {},
   "outputs": [],
   "source": [
    "df[['first_name','last_name']]= df['Name'].str.split(' ', expand=True)"
   ]
  },
  {
   "cell_type": "code",
   "execution_count": 7,
   "id": "d747a7bb",
   "metadata": {},
   "outputs": [
    {
     "data": {
      "application/vnd.microsoft.datawrangler.viewer.v0+json": {
       "columns": [
        {
         "name": "index",
         "rawType": "int64",
         "type": "integer"
        },
        {
         "name": "Name",
         "rawType": "object",
         "type": "string"
        },
        {
         "name": "Address",
         "rawType": "object",
         "type": "string"
        },
        {
         "name": "first_name",
         "rawType": "object",
         "type": "string"
        },
        {
         "name": "last_name",
         "rawType": "object",
         "type": "string"
        }
       ],
       "ref": "7891ab4d-b7e1-4c21-9d0e-46836c914aaa",
       "rows": [
        [
         "0",
         "Ali Raza",
         "Pakistan Lahore",
         "Ali",
         "Raza"
        ],
        [
         "1",
         "Ahmad Ali",
         "Karachi Pakistan",
         "Ahmad",
         "Ali"
        ],
        [
         "2",
         "Talha habib",
         "Pakistan Islamabad",
         "Talha",
         "habib"
        ]
       ],
       "shape": {
        "columns": 4,
        "rows": 3
       }
      },
      "text/html": [
       "<div>\n",
       "<style scoped>\n",
       "    .dataframe tbody tr th:only-of-type {\n",
       "        vertical-align: middle;\n",
       "    }\n",
       "\n",
       "    .dataframe tbody tr th {\n",
       "        vertical-align: top;\n",
       "    }\n",
       "\n",
       "    .dataframe thead th {\n",
       "        text-align: right;\n",
       "    }\n",
       "</style>\n",
       "<table border=\"1\" class=\"dataframe\">\n",
       "  <thead>\n",
       "    <tr style=\"text-align: right;\">\n",
       "      <th></th>\n",
       "      <th>Name</th>\n",
       "      <th>Address</th>\n",
       "      <th>first_name</th>\n",
       "      <th>last_name</th>\n",
       "    </tr>\n",
       "  </thead>\n",
       "  <tbody>\n",
       "    <tr>\n",
       "      <th>0</th>\n",
       "      <td>Ali Raza</td>\n",
       "      <td>Pakistan Lahore</td>\n",
       "      <td>Ali</td>\n",
       "      <td>Raza</td>\n",
       "    </tr>\n",
       "    <tr>\n",
       "      <th>1</th>\n",
       "      <td>Ahmad Ali</td>\n",
       "      <td>Karachi Pakistan</td>\n",
       "      <td>Ahmad</td>\n",
       "      <td>Ali</td>\n",
       "    </tr>\n",
       "    <tr>\n",
       "      <th>2</th>\n",
       "      <td>Talha habib</td>\n",
       "      <td>Pakistan Islamabad</td>\n",
       "      <td>Talha</td>\n",
       "      <td>habib</td>\n",
       "    </tr>\n",
       "  </tbody>\n",
       "</table>\n",
       "</div>"
      ],
      "text/plain": [
       "          Name             Address first_name last_name\n",
       "0     Ali Raza     Pakistan Lahore        Ali      Raza\n",
       "1    Ahmad Ali    Karachi Pakistan      Ahmad       Ali\n",
       "2  Talha habib  Pakistan Islamabad      Talha     habib"
      ]
     },
     "execution_count": 7,
     "metadata": {},
     "output_type": "execute_result"
    }
   ],
   "source": [
    "df"
   ]
  },
  {
   "cell_type": "markdown",
   "id": "7493981f",
   "metadata": {},
   "source": [
    "Adding the county & city "
   ]
  },
  {
   "cell_type": "code",
   "execution_count": 8,
   "id": "8421d735",
   "metadata": {},
   "outputs": [],
   "source": [
    "df[['country','city']]= df.Address.str.split(' ',expand=True)"
   ]
  },
  {
   "cell_type": "code",
   "execution_count": 9,
   "id": "fd054c41",
   "metadata": {},
   "outputs": [
    {
     "data": {
      "application/vnd.microsoft.datawrangler.viewer.v0+json": {
       "columns": [
        {
         "name": "index",
         "rawType": "int64",
         "type": "integer"
        },
        {
         "name": "Name",
         "rawType": "object",
         "type": "string"
        },
        {
         "name": "Address",
         "rawType": "object",
         "type": "string"
        },
        {
         "name": "first_name",
         "rawType": "object",
         "type": "string"
        },
        {
         "name": "last_name",
         "rawType": "object",
         "type": "string"
        },
        {
         "name": "country",
         "rawType": "object",
         "type": "string"
        },
        {
         "name": "city",
         "rawType": "object",
         "type": "string"
        }
       ],
       "ref": "b66539ce-10fa-4956-8d2e-f29fc9ceda52",
       "rows": [
        [
         "0",
         "Ali Raza",
         "Pakistan Lahore",
         "Ali",
         "Raza",
         "Pakistan",
         "Lahore"
        ],
        [
         "1",
         "Ahmad Ali",
         "Karachi Pakistan",
         "Ahmad",
         "Ali",
         "Karachi",
         "Pakistan"
        ],
        [
         "2",
         "Talha habib",
         "Pakistan Islamabad",
         "Talha",
         "habib",
         "Pakistan",
         "Islamabad"
        ]
       ],
       "shape": {
        "columns": 6,
        "rows": 3
       }
      },
      "text/html": [
       "<div>\n",
       "<style scoped>\n",
       "    .dataframe tbody tr th:only-of-type {\n",
       "        vertical-align: middle;\n",
       "    }\n",
       "\n",
       "    .dataframe tbody tr th {\n",
       "        vertical-align: top;\n",
       "    }\n",
       "\n",
       "    .dataframe thead th {\n",
       "        text-align: right;\n",
       "    }\n",
       "</style>\n",
       "<table border=\"1\" class=\"dataframe\">\n",
       "  <thead>\n",
       "    <tr style=\"text-align: right;\">\n",
       "      <th></th>\n",
       "      <th>Name</th>\n",
       "      <th>Address</th>\n",
       "      <th>first_name</th>\n",
       "      <th>last_name</th>\n",
       "      <th>country</th>\n",
       "      <th>city</th>\n",
       "    </tr>\n",
       "  </thead>\n",
       "  <tbody>\n",
       "    <tr>\n",
       "      <th>0</th>\n",
       "      <td>Ali Raza</td>\n",
       "      <td>Pakistan Lahore</td>\n",
       "      <td>Ali</td>\n",
       "      <td>Raza</td>\n",
       "      <td>Pakistan</td>\n",
       "      <td>Lahore</td>\n",
       "    </tr>\n",
       "    <tr>\n",
       "      <th>1</th>\n",
       "      <td>Ahmad Ali</td>\n",
       "      <td>Karachi Pakistan</td>\n",
       "      <td>Ahmad</td>\n",
       "      <td>Ali</td>\n",
       "      <td>Karachi</td>\n",
       "      <td>Pakistan</td>\n",
       "    </tr>\n",
       "    <tr>\n",
       "      <th>2</th>\n",
       "      <td>Talha habib</td>\n",
       "      <td>Pakistan Islamabad</td>\n",
       "      <td>Talha</td>\n",
       "      <td>habib</td>\n",
       "      <td>Pakistan</td>\n",
       "      <td>Islamabad</td>\n",
       "    </tr>\n",
       "  </tbody>\n",
       "</table>\n",
       "</div>"
      ],
      "text/plain": [
       "          Name             Address first_name last_name   country       city\n",
       "0     Ali Raza     Pakistan Lahore        Ali      Raza  Pakistan     Lahore\n",
       "1    Ahmad Ali    Karachi Pakistan      Ahmad       Ali   Karachi   Pakistan\n",
       "2  Talha habib  Pakistan Islamabad      Talha     habib  Pakistan  Islamabad"
      ]
     },
     "execution_count": 9,
     "metadata": {},
     "output_type": "execute_result"
    }
   ],
   "source": [
    "df"
   ]
  },
  {
   "cell_type": "markdown",
   "id": "15c03c3d",
   "metadata": {},
   "source": [
    "Now, we have filtered the data with a specific column names"
   ]
  },
  {
   "cell_type": "code",
   "execution_count": 10,
   "id": "8288794c",
   "metadata": {},
   "outputs": [
    {
     "data": {
      "application/vnd.microsoft.datawrangler.viewer.v0+json": {
       "columns": [
        {
         "name": "index",
         "rawType": "int64",
         "type": "integer"
        },
        {
         "name": "first_name",
         "rawType": "object",
         "type": "string"
        },
        {
         "name": "last_name",
         "rawType": "object",
         "type": "string"
        },
        {
         "name": "country",
         "rawType": "object",
         "type": "string"
        },
        {
         "name": "city",
         "rawType": "object",
         "type": "string"
        }
       ],
       "ref": "a70a2b88-d73b-41cc-95a7-a2596c522656",
       "rows": [
        [
         "0",
         "Ali",
         "Raza",
         "Pakistan",
         "Lahore"
        ],
        [
         "1",
         "Ahmad",
         "Ali",
         "Karachi",
         "Pakistan"
        ],
        [
         "2",
         "Talha",
         "habib",
         "Pakistan",
         "Islamabad"
        ]
       ],
       "shape": {
        "columns": 4,
        "rows": 3
       }
      },
      "text/html": [
       "<div>\n",
       "<style scoped>\n",
       "    .dataframe tbody tr th:only-of-type {\n",
       "        vertical-align: middle;\n",
       "    }\n",
       "\n",
       "    .dataframe tbody tr th {\n",
       "        vertical-align: top;\n",
       "    }\n",
       "\n",
       "    .dataframe thead th {\n",
       "        text-align: right;\n",
       "    }\n",
       "</style>\n",
       "<table border=\"1\" class=\"dataframe\">\n",
       "  <thead>\n",
       "    <tr style=\"text-align: right;\">\n",
       "      <th></th>\n",
       "      <th>first_name</th>\n",
       "      <th>last_name</th>\n",
       "      <th>country</th>\n",
       "      <th>city</th>\n",
       "    </tr>\n",
       "  </thead>\n",
       "  <tbody>\n",
       "    <tr>\n",
       "      <th>0</th>\n",
       "      <td>Ali</td>\n",
       "      <td>Raza</td>\n",
       "      <td>Pakistan</td>\n",
       "      <td>Lahore</td>\n",
       "    </tr>\n",
       "    <tr>\n",
       "      <th>1</th>\n",
       "      <td>Ahmad</td>\n",
       "      <td>Ali</td>\n",
       "      <td>Karachi</td>\n",
       "      <td>Pakistan</td>\n",
       "    </tr>\n",
       "    <tr>\n",
       "      <th>2</th>\n",
       "      <td>Talha</td>\n",
       "      <td>habib</td>\n",
       "      <td>Pakistan</td>\n",
       "      <td>Islamabad</td>\n",
       "    </tr>\n",
       "  </tbody>\n",
       "</table>\n",
       "</div>"
      ],
      "text/plain": [
       "  first_name last_name   country       city\n",
       "0        Ali      Raza  Pakistan     Lahore\n",
       "1      Ahmad       Ali   Karachi   Pakistan\n",
       "2      Talha     habib  Pakistan  Islamabad"
      ]
     },
     "execution_count": 10,
     "metadata": {},
     "output_type": "execute_result"
    }
   ],
   "source": [
    "df=df[['first_name','last_name','country','city']]\n",
    "\n",
    "df"
   ]
  },
  {
   "cell_type": "markdown",
   "id": "9b84be6f",
   "metadata": {},
   "source": [
    "type of Promp Engineer.. "
   ]
  }
 ],
 "metadata": {
  "kernelspec": {
   "display_name": "pandas_tip_env",
   "language": "python",
   "name": "python3"
  },
  "language_info": {
   "codemirror_mode": {
    "name": "ipython",
    "version": 3
   },
   "file_extension": ".py",
   "mimetype": "text/x-python",
   "name": "python",
   "nbconvert_exporter": "python",
   "pygments_lexer": "ipython3",
   "version": "3.13.5"
  }
 },
 "nbformat": 4,
 "nbformat_minor": 5
}
