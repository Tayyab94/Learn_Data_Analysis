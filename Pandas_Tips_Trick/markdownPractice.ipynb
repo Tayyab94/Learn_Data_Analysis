{
 "cells": [
  {
   "cell_type": "markdown",
   "id": "b2e08098",
   "metadata": {},
   "source": [
    "this is our first heading \n",
    "\n",
    "Now i am doing to write my second heading of my text\n"
   ]
  },
  {
   "cell_type": "markdown",
   "id": "0a74a54b",
   "metadata": {},
   "source": [
    "> # Hello this is first Heading"
   ]
  },
  {
   "cell_type": "markdown",
   "id": "f91c352a",
   "metadata": {},
   "source": [
    "**Bolt Text**  \n",
    "\n",
    "*Italic Heading*\n",
    "\n",
    "***Bold plus italic text***"
   ]
  },
  {
   "cell_type": "markdown",
   "id": "090e2eab",
   "metadata": {},
   "source": [
    "> Write how we can bold and italic the text"
   ]
  },
  {
   "cell_type": "markdown",
   "id": "9a05cc94",
   "metadata": {},
   "source": [
    "- Day 1\n",
    "- "
   ]
  },
  {
   "cell_type": "markdown",
   "id": "938e6160",
   "metadata": {},
   "source": [
    "- Day 1\n",
    "    - hald of the day 1"
   ]
  },
  {
   "cell_type": "markdown",
   "id": "738503c5",
   "metadata": {},
   "source": [
    "The first code is shouwing how i can draw the line in my markdown.. there are 3 ways\n",
    "\n",
    "---\n",
    "\n",
    "___\n",
    "\n",
    "***"
   ]
  },
  {
   "cell_type": "markdown",
   "id": "4c32c225",
   "metadata": {},
   "source": []
  },
  {
   "cell_type": "markdown",
   "id": "4fa99f03",
   "metadata": {},
   "source": [
    "## How we can add the hyper link in the mark down\n",
    "\n",
    "\n",
    "[Please visit my linkedin profile to get more insights](https://linkedin.com/in/mtayyab94)"
   ]
  },
  {
   "cell_type": "markdown",
   "id": "9c24a3a8",
   "metadata": {},
   "source": []
  },
  {
   "cell_type": "markdown",
   "id": "8581ee1d",
   "metadata": {},
   "source": [
    "![Our Logi](https://encrypted-tbn0.gstatic.com/images?q=tbn:ANd9GcQDo_6FFVvngtMCN0Yc9PVTfp4fkUx7GQo7wrb3kufoJ8miceukFySN929VYDLDJtCXESA&usqp=CAU)"
   ]
  },
  {
   "cell_type": "markdown",
   "id": "3eb1f85d",
   "metadata": {},
   "source": []
  },
  {
   "cell_type": "markdown",
   "id": "e252d953",
   "metadata": {},
   "source": [
    "`print(\"Hello world\")`"
   ]
  },
  {
   "cell_type": "markdown",
   "id": "cae46ae7",
   "metadata": {},
   "source": [
    "\n",
    "This code will show the code snipt of c# language"
   ]
  },
  {
   "cell_type": "markdown",
   "id": "fcfa8cb0",
   "metadata": {},
   "source": [
    "```c#\n",
    "\n",
    "int a=23\n",
    "consile.writeLine(a)\n",
    "\n",
    "```"
   ]
  },
  {
   "cell_type": "markdown",
   "id": "df208df5",
   "metadata": {},
   "source": []
  },
  {
   "cell_type": "markdown",
   "id": "8d224c7f",
   "metadata": {},
   "source": [
    "This is how we can show the code in python"
   ]
  },
  {
   "cell_type": "markdown",
   "id": "6b531051",
   "metadata": {},
   "source": [
    "```python\n",
    "\n",
    "def SumOfTwoNumbers(a,b):\n",
    "    print(a+b)\n",
    "\n",
    "```"
   ]
  },
  {
   "cell_type": "markdown",
   "id": "d6f7dad1",
   "metadata": {},
   "source": [
    "# Draw the table \n",
    "\n",
    "\n",
    "| Role No | Student Name | Address |\n",
    "| ----- | :------: | --------|\n",
    "| 1 | Tayyab | Pakista |\n",
    "| 1 | Tayyab | Pakista |\n",
    "| 1 | Tayyab | Pakista |"
   ]
  },
  {
   "cell_type": "markdown",
   "id": "5158774c",
   "metadata": {},
   "source": []
  },
  {
   "cell_type": "markdown",
   "id": "18b5616f",
   "metadata": {},
   "source": [
    "```c#\n",
    "int age =230;\n",
    "\n",
    "public class Student {\n",
    "    public int Age {get;set;}\n",
    "\n",
    "    GetUserAge()=> Age;\n",
    "}\n",
    "\n",
    "var studentObject= new Student();\n",
    "\n",
    "studentObject.Age=12;\n",
    "\n",
    "Console.WriteLine(studentObject.GetUserAge())\n",
    "```\n",
    "\n",
    "[secod last heading](#How we can add the hyper link in the mark down)\n",
    "\n",
    "\n",
    "[Table](#draw-the-table)"
   ]
  },
  {
   "cell_type": "markdown",
   "id": "25c39937",
   "metadata": {},
   "source": []
  }
 ],
 "metadata": {
  "language_info": {
   "name": "python"
  }
 },
 "nbformat": 4,
 "nbformat_minor": 5
}
